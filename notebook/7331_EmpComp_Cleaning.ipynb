{
 "cells": [
  {
   "cell_type": "markdown",
   "metadata": {},
   "source": [
    "### Load the Libraries and import the data"
   ]
  },
  {
   "cell_type": "code",
   "execution_count": 1,
   "metadata": {},
   "outputs": [],
   "source": [
    "import pandas as pd\n",
    "import numpy as np\n",
    "import sqlite3\n",
    "import pandas_profiling\n",
    "import rpy2\n",
    "import rpy2.rinterface\n",
    "import matplotlib.pyplot as plt\n",
    "get_ipython().run_line_magic('matplotlib', 'inline')\n",
    "import warnings # current version of seaborn generates a bunch of warnings that we'll ignore\n",
    "warnings.filterwarnings(\"ignore\")\n",
    "import seaborn as sns"
   ]
  },
  {
   "cell_type": "code",
   "execution_count": 2,
   "metadata": {},
   "outputs": [
    {
     "name": "stdout",
     "output_type": "stream",
     "text": [
      "Finished Loading Data.\n"
     ]
    }
   ],
   "source": [
    "#Read in the data from the file\n",
    "df = pd.read_csv('C:/githubrepo/7331_Project/data/Employee_Compensation.csv')\n",
    "print(\"Finished Loading Data.\")"
   ]
  },
  {
   "cell_type": "markdown",
   "metadata": {},
   "source": [
    "### Removal of 'Calendar' from 'Year Type' column\n",
    "The data was duplicated due to there being two 'Year Type': Fiscal and Calendar. Removing 'Calendar' (correctly) cut the number of rows in the dataset in half and also fixed the 'Department Code' column from having incorrect values. Those values corresponded to a different column that is not in this dataset. See 'Department Code' and 'Department Group Code' columns at the following website to see the difference:\n",
    "\n",
    "https://data.sfgov.org/City-Management-and-Ethics/Reference-Department-Code-List/j2hz-23ps/data"
   ]
  },
  {
   "cell_type": "code",
   "execution_count": 3,
   "metadata": {},
   "outputs": [
    {
     "name": "stdout",
     "output_type": "stream",
     "text": [
      "<class 'pandas.core.frame.DataFrame'>\n",
      "Int64Index: 334535 entries, 2 to 831991\n",
      "Data columns (total 22 columns):\n",
      "Year Type                  334535 non-null object\n",
      "Year                       334535 non-null int64\n",
      "Organization Group Code    334535 non-null int64\n",
      "Organization Group         334535 non-null object\n",
      "Department Code            305591 non-null object\n",
      "Department                 213202 non-null object\n",
      "Union Code                 334320 non-null float64\n",
      "Union                      334320 non-null object\n",
      "Job Family Code            334535 non-null object\n",
      "Job Family                 334535 non-null object\n",
      "Job Code                   334535 non-null object\n",
      "Job                        334534 non-null object\n",
      "Employee Identifier        334535 non-null int64\n",
      "Salaries                   334535 non-null float64\n",
      "Overtime                   334535 non-null float64\n",
      "Other Salaries             334535 non-null float64\n",
      "Total Salary               334535 non-null float64\n",
      "Retirement                 334535 non-null float64\n",
      "Health and Dental          334535 non-null float64\n",
      "Other Benefits             334535 non-null float64\n",
      "Total Benefits             334535 non-null float64\n",
      "Total Compensation         334535 non-null float64\n",
      "dtypes: float64(10), int64(3), object(9)\n",
      "memory usage: 58.7+ MB\n",
      "None\n"
     ]
    }
   ],
   "source": [
    "#Save the dataframe into a new dataframe to clean\n",
    "df_clean = df\n",
    "#Keeps all of the Fiscal Year entries\n",
    "df_clean = df_clean[df_clean['Year Type'] == 'Fiscal']\n",
    "print(df_clean.info())"
   ]
  },
  {
   "cell_type": "markdown",
   "metadata": {},
   "source": [
    "### Fixing 'Year' and 'Job'\n",
    "Year had one row that had an incorrect year entered (2028). Although the actual value is most likely supposed to be '2018', because this only occurred once and there are more than 300k rows we simply removed it.\n",
    "\n",
    "There is one value in 'Job' which was null. Because there was no way to determine the true value, and because this only occurred once and there are more than 300k rows we simply removed it."
   ]
  },
  {
   "cell_type": "code",
   "execution_count": 5,
   "metadata": {},
   "outputs": [],
   "source": [
    "#Get names of indexes for which column Year has value 2028\n",
    "indexNames = df_clean.loc[df_clean['Year'] == 2028, 'Year'].index\n",
    "# Delete these row indexes from dataFrame\n",
    "df_clean.drop(indexNames, inplace = True)"
   ]
  },
  {
   "cell_type": "code",
   "execution_count": 11,
   "metadata": {},
   "outputs": [],
   "source": [
    "#Resets the indices for df_clean (just in case)\n",
    "df_clean = df_clean.reset_index(drop=True)\n",
    "#Deletes the 1 row missing the Job\n",
    "indexNames = df_clean.loc[df_clean['Job'].isnull()].index\n",
    "df_clean.drop(indexNames, inplace = True)"
   ]
  },
  {
   "cell_type": "markdown",
   "metadata": {},
   "source": [
    "### Removal of rows with negative values\n",
    "For the continuous columns we have an issue of there being negative value. Having something like a negative salary makes no logical sense and was not explained as being correct in the descriptions of the data. Because of this we removed these values (SEE THE OTHER .IPYNB FOR THE GRAPHS)."
   ]
  },
  {
   "cell_type": "code",
   "execution_count": 12,
   "metadata": {},
   "outputs": [],
   "source": [
    "#Delete Salaries values with negatives\n",
    "indexNames = df_clean.loc[df_clean['Salaries'] < 0, 'Salaries'].index\n",
    "df_clean.drop(indexNames, inplace = True)"
   ]
  },
  {
   "cell_type": "code",
   "execution_count": 13,
   "metadata": {},
   "outputs": [],
   "source": [
    "#Delete Overtime values with negatives\n",
    "indexNames = df_clean.loc[df_clean['Overtime'] < 0, 'Overtime'].index\n",
    "df_clean.drop(indexNames, inplace = True)"
   ]
  },
  {
   "cell_type": "code",
   "execution_count": 14,
   "metadata": {},
   "outputs": [],
   "source": [
    "#Delete Other Salaries values with negatives\n",
    "indexNames = df_clean.loc[df_clean['Other Salaries'] < 0, 'Other Salaries'].index\n",
    "df_clean.drop(indexNames, inplace = True)"
   ]
  },
  {
   "cell_type": "code",
   "execution_count": 15,
   "metadata": {},
   "outputs": [],
   "source": [
    "#Delete Total Salary values with negatives\n",
    "indexNames = df_clean.loc[df_clean['Total Salary'] < 0, 'Total Salary'].index\n",
    "df_clean.drop(indexNames, inplace = True)"
   ]
  },
  {
   "cell_type": "code",
   "execution_count": 16,
   "metadata": {},
   "outputs": [],
   "source": [
    "#Delete Retirement values with negatives\n",
    "indexNames = df_clean.loc[df_clean['Retirement'] < 0, 'Retirement'].index\n",
    "df_clean.drop(indexNames, inplace = True)"
   ]
  },
  {
   "cell_type": "code",
   "execution_count": 17,
   "metadata": {},
   "outputs": [],
   "source": [
    "#Delete Health and Dental values with negatives\n",
    "indexNames = df_clean.loc[df_clean['Health and Dental'] < 0, 'Health and Dental'].index\n",
    "df_clean.drop(indexNames, inplace = True)"
   ]
  },
  {
   "cell_type": "code",
   "execution_count": 18,
   "metadata": {},
   "outputs": [],
   "source": [
    "#Delete Other Benefits values with negatives\n",
    "indexNames = df_clean.loc[df_clean['Other Benefits'] < 0, 'Other Benefits'].index\n",
    "df_clean.drop(indexNames, inplace = True)"
   ]
  },
  {
   "cell_type": "code",
   "execution_count": 19,
   "metadata": {},
   "outputs": [],
   "source": [
    "#Delete Total Benefits values with negatives\n",
    "indexNames = df_clean.loc[df_clean['Total Benefits'] < 0, 'Total Benefits'].index\n",
    "df_clean.drop(indexNames, inplace = True)"
   ]
  },
  {
   "cell_type": "code",
   "execution_count": 20,
   "metadata": {},
   "outputs": [],
   "source": [
    "#Delete Total Compensation values with negatives\n",
    "indexNames = df_clean.loc[df_clean['Total Compensation'] < 0, 'Total Compensation'].index\n",
    "df_clean.drop(indexNames, inplace = True)"
   ]
  },
  {
   "cell_type": "markdown",
   "metadata": {},
   "source": [
    "### Showing that there are no more negatives"
   ]
  },
  {
   "cell_type": "code",
   "execution_count": 21,
   "metadata": {},
   "outputs": [
    {
     "data": {
      "text/html": [
       "<div>\n",
       "<style scoped>\n",
       "    .dataframe tbody tr th:only-of-type {\n",
       "        vertical-align: middle;\n",
       "    }\n",
       "\n",
       "    .dataframe tbody tr th {\n",
       "        vertical-align: top;\n",
       "    }\n",
       "\n",
       "    .dataframe thead th {\n",
       "        text-align: right;\n",
       "    }\n",
       "</style>\n",
       "<table border=\"1\" class=\"dataframe\">\n",
       "  <thead>\n",
       "    <tr style=\"text-align: right;\">\n",
       "      <th></th>\n",
       "      <th>Year</th>\n",
       "      <th>Organization Group Code</th>\n",
       "      <th>Union Code</th>\n",
       "      <th>Employee Identifier</th>\n",
       "      <th>Salaries</th>\n",
       "      <th>Overtime</th>\n",
       "      <th>Other Salaries</th>\n",
       "      <th>Total Salary</th>\n",
       "      <th>Retirement</th>\n",
       "      <th>Health and Dental</th>\n",
       "      <th>Other Benefits</th>\n",
       "      <th>Total Benefits</th>\n",
       "      <th>Total Compensation</th>\n",
       "    </tr>\n",
       "  </thead>\n",
       "  <tbody>\n",
       "    <tr>\n",
       "      <th>count</th>\n",
       "      <td>333594.000000</td>\n",
       "      <td>333594.000000</td>\n",
       "      <td>333379.000000</td>\n",
       "      <td>3.335940e+05</td>\n",
       "      <td>333594.000000</td>\n",
       "      <td>333594.000000</td>\n",
       "      <td>333594.00000</td>\n",
       "      <td>333594.000000</td>\n",
       "      <td>333594.000000</td>\n",
       "      <td>333594.000000</td>\n",
       "      <td>333594.000000</td>\n",
       "      <td>333594.000000</td>\n",
       "      <td>333594.000000</td>\n",
       "    </tr>\n",
       "    <tr>\n",
       "      <th>mean</th>\n",
       "      <td>2016.278533</td>\n",
       "      <td>3.326253</td>\n",
       "      <td>489.103987</td>\n",
       "      <td>3.135046e+06</td>\n",
       "      <td>58551.935150</td>\n",
       "      <td>4465.978568</td>\n",
       "      <td>3184.66733</td>\n",
       "      <td>66202.581048</td>\n",
       "      <td>11465.227851</td>\n",
       "      <td>8199.214953</td>\n",
       "      <td>4364.253009</td>\n",
       "      <td>24028.695813</td>\n",
       "      <td>90231.276861</td>\n",
       "    </tr>\n",
       "    <tr>\n",
       "      <th>std</th>\n",
       "      <td>1.971718</td>\n",
       "      <td>1.890964</td>\n",
       "      <td>332.339140</td>\n",
       "      <td>4.112551e+06</td>\n",
       "      <td>46890.418363</td>\n",
       "      <td>11514.751974</td>\n",
       "      <td>6864.34306</td>\n",
       "      <td>54437.160996</td>\n",
       "      <td>9816.015221</td>\n",
       "      <td>5577.656978</td>\n",
       "      <td>4061.664248</td>\n",
       "      <td>17784.555424</td>\n",
       "      <td>71108.386635</td>\n",
       "    </tr>\n",
       "    <tr>\n",
       "      <th>min</th>\n",
       "      <td>2013.000000</td>\n",
       "      <td>1.000000</td>\n",
       "      <td>1.000000</td>\n",
       "      <td>1.000000e+00</td>\n",
       "      <td>0.000000</td>\n",
       "      <td>0.000000</td>\n",
       "      <td>0.00000</td>\n",
       "      <td>0.000000</td>\n",
       "      <td>0.000000</td>\n",
       "      <td>0.000000</td>\n",
       "      <td>0.000000</td>\n",
       "      <td>0.000000</td>\n",
       "      <td>0.000000</td>\n",
       "    </tr>\n",
       "    <tr>\n",
       "      <th>25%</th>\n",
       "      <td>2015.000000</td>\n",
       "      <td>2.000000</td>\n",
       "      <td>236.000000</td>\n",
       "      <td>2.232800e+04</td>\n",
       "      <td>12491.620000</td>\n",
       "      <td>0.000000</td>\n",
       "      <td>0.00000</td>\n",
       "      <td>13834.705000</td>\n",
       "      <td>347.620000</td>\n",
       "      <td>1663.670000</td>\n",
       "      <td>906.397500</td>\n",
       "      <td>4248.077500</td>\n",
       "      <td>18735.662500</td>\n",
       "    </tr>\n",
       "    <tr>\n",
       "      <th>50%</th>\n",
       "      <td>2017.000000</td>\n",
       "      <td>3.000000</td>\n",
       "      <td>535.000000</td>\n",
       "      <td>4.485350e+04</td>\n",
       "      <td>58749.380000</td>\n",
       "      <td>0.000000</td>\n",
       "      <td>455.70000</td>\n",
       "      <td>63487.825000</td>\n",
       "      <td>11776.875000</td>\n",
       "      <td>11258.665000</td>\n",
       "      <td>3812.365000</td>\n",
       "      <td>28709.615000</td>\n",
       "      <td>92064.485000</td>\n",
       "    </tr>\n",
       "    <tr>\n",
       "      <th>75%</th>\n",
       "      <td>2018.000000</td>\n",
       "      <td>5.000000</td>\n",
       "      <td>790.000000</td>\n",
       "      <td>8.526791e+06</td>\n",
       "      <td>89696.372500</td>\n",
       "      <td>2632.737500</td>\n",
       "      <td>3421.11250</td>\n",
       "      <td>100250.495000</td>\n",
       "      <td>18141.842500</td>\n",
       "      <td>12801.790000</td>\n",
       "      <td>6712.492500</td>\n",
       "      <td>37510.747500</td>\n",
       "      <td>137930.022500</td>\n",
       "    </tr>\n",
       "    <tr>\n",
       "      <th>max</th>\n",
       "      <td>2019.000000</td>\n",
       "      <td>7.000000</td>\n",
       "      <td>990.000000</td>\n",
       "      <td>1.071014e+07</td>\n",
       "      <td>631952.710000</td>\n",
       "      <td>309897.200000</td>\n",
       "      <td>336726.34000</td>\n",
       "      <td>637457.580000</td>\n",
       "      <td>118296.720000</td>\n",
       "      <td>22270.120000</td>\n",
       "      <td>37198.600000</td>\n",
       "      <td>141920.270000</td>\n",
       "      <td>779377.850000</td>\n",
       "    </tr>\n",
       "  </tbody>\n",
       "</table>\n",
       "</div>"
      ],
      "text/plain": [
       "                Year  Organization Group Code     Union Code  \\\n",
       "count  333594.000000            333594.000000  333379.000000   \n",
       "mean     2016.278533                 3.326253     489.103987   \n",
       "std         1.971718                 1.890964     332.339140   \n",
       "min      2013.000000                 1.000000       1.000000   \n",
       "25%      2015.000000                 2.000000     236.000000   \n",
       "50%      2017.000000                 3.000000     535.000000   \n",
       "75%      2018.000000                 5.000000     790.000000   \n",
       "max      2019.000000                 7.000000     990.000000   \n",
       "\n",
       "       Employee Identifier       Salaries       Overtime  Other Salaries  \\\n",
       "count         3.335940e+05  333594.000000  333594.000000    333594.00000   \n",
       "mean          3.135046e+06   58551.935150    4465.978568      3184.66733   \n",
       "std           4.112551e+06   46890.418363   11514.751974      6864.34306   \n",
       "min           1.000000e+00       0.000000       0.000000         0.00000   \n",
       "25%           2.232800e+04   12491.620000       0.000000         0.00000   \n",
       "50%           4.485350e+04   58749.380000       0.000000       455.70000   \n",
       "75%           8.526791e+06   89696.372500    2632.737500      3421.11250   \n",
       "max           1.071014e+07  631952.710000  309897.200000    336726.34000   \n",
       "\n",
       "        Total Salary     Retirement  Health and Dental  Other Benefits  \\\n",
       "count  333594.000000  333594.000000      333594.000000   333594.000000   \n",
       "mean    66202.581048   11465.227851        8199.214953     4364.253009   \n",
       "std     54437.160996    9816.015221        5577.656978     4061.664248   \n",
       "min         0.000000       0.000000           0.000000        0.000000   \n",
       "25%     13834.705000     347.620000        1663.670000      906.397500   \n",
       "50%     63487.825000   11776.875000       11258.665000     3812.365000   \n",
       "75%    100250.495000   18141.842500       12801.790000     6712.492500   \n",
       "max    637457.580000  118296.720000       22270.120000    37198.600000   \n",
       "\n",
       "       Total Benefits  Total Compensation  \n",
       "count   333594.000000       333594.000000  \n",
       "mean     24028.695813        90231.276861  \n",
       "std      17784.555424        71108.386635  \n",
       "min          0.000000            0.000000  \n",
       "25%       4248.077500        18735.662500  \n",
       "50%      28709.615000        92064.485000  \n",
       "75%      37510.747500       137930.022500  \n",
       "max     141920.270000       779377.850000  "
      ]
     },
     "execution_count": 21,
     "metadata": {},
     "output_type": "execute_result"
    }
   ],
   "source": [
    "df_clean.describe()"
   ]
  },
  {
   "cell_type": "markdown",
   "metadata": {},
   "source": [
    "### Fixes Union Code\n",
    "In the 'Union Code' columns there were four categories of values that were null. By manually examining the data we found columns that already had the correct values so the code below inserts that correct information."
   ]
  },
  {
   "cell_type": "code",
   "execution_count": 23,
   "metadata": {},
   "outputs": [],
   "source": [
    "#=========Union Code is by Job=========\n",
    "#Information Systems Trainee - 21, \"Prof & Tech Eng, Local 21\"\n",
    "#Recreation Facility Assistant - 790, \"SEIU, Local 1021, Misc\"\n",
    "#Technology Expert II - 351, \"Municipal Exec Assoc, Misc\"\n",
    "#Transportation Controller Trainee - NONE, \"NONE\"\n",
    "df_clean.loc[(df_clean['Job'] == \"Information Systems Trainee\") & (df_clean['Union Code'].isnull()), 'Union Code'] = 21\n",
    "df_clean.loc[(df_clean['Job'] == \"Information Systems Trainee\") & (df_clean['Union'].isnull()), 'Union'] = \"Prof & Tech Eng, Local 21\"\n",
    "#===================================================================================================================================================\n",
    "df_clean.loc[(df_clean['Job'] == \"Recreation Facility Assistant\") & (df_clean['Union Code'].isnull()), 'Union Code'] = 790\n",
    "df_clean.loc[(df_clean['Job'] == \"Recreation Facility Assistant\") & (df_clean['Union'].isnull()), 'Union'] = \"SEIU, Local 1021, Misc\"\n",
    "#===================================================================================================================================================\n",
    "df_clean.loc[(df_clean['Job'] == \"Technology Expert II\") & (df_clean['Union Code'].isnull()), 'Union Code'] = 351\n",
    "df_clean.loc[(df_clean['Job'] == \"Technology Expert II\") & (df_clean['Union'].isnull()), 'Union'] = \"Municipal Exec Assoc, Misc\"\n",
    "#===================================================================================================================================================\n",
    "df_clean.loc[(df_clean['Job'] == \"Transportation Controller Trainee\") & (df_clean['Union Code'].isnull()), 'Union Code'] = 0\n",
    "df_clean.loc[(df_clean['Job'] == \"Transportation Controller Trainee\") & (df_clean['Union'].isnull()), 'Union'] = \"None\"\n"
   ]
  },
  {
   "cell_type": "markdown",
   "metadata": {},
   "source": [
    "### Missing Value Count\n",
    "At this point most of the missing data has been dealt with. There is a little data that still needs to be cleaned."
   ]
  },
  {
   "cell_type": "code",
   "execution_count": 24,
   "metadata": {},
   "outputs": [
    {
     "data": {
      "text/html": [
       "<div>\n",
       "<style scoped>\n",
       "    .dataframe tbody tr th:only-of-type {\n",
       "        vertical-align: middle;\n",
       "    }\n",
       "\n",
       "    .dataframe tbody tr th {\n",
       "        vertical-align: top;\n",
       "    }\n",
       "\n",
       "    .dataframe thead th {\n",
       "        text-align: right;\n",
       "    }\n",
       "</style>\n",
       "<table border=\"1\" class=\"dataframe\">\n",
       "  <thead>\n",
       "    <tr style=\"text-align: right;\">\n",
       "      <th></th>\n",
       "      <th>Department</th>\n",
       "      <th>Department Code</th>\n",
       "      <th>Total Compensation</th>\n",
       "      <th>Total Benefits</th>\n",
       "      <th>Year</th>\n",
       "      <th>Organization Group Code</th>\n",
       "      <th>Organization Group</th>\n",
       "      <th>Union Code</th>\n",
       "      <th>Union</th>\n",
       "      <th>Job Family Code</th>\n",
       "      <th>...</th>\n",
       "      <th>Job</th>\n",
       "      <th>Employee Identifier</th>\n",
       "      <th>Salaries</th>\n",
       "      <th>Overtime</th>\n",
       "      <th>Other Salaries</th>\n",
       "      <th>Total Salary</th>\n",
       "      <th>Retirement</th>\n",
       "      <th>Health and Dental</th>\n",
       "      <th>Other Benefits</th>\n",
       "      <th>Year Type</th>\n",
       "    </tr>\n",
       "  </thead>\n",
       "  <tbody>\n",
       "    <tr>\n",
       "      <th>Total</th>\n",
       "      <td>121254.000000</td>\n",
       "      <td>28940.000000</td>\n",
       "      <td>0.0</td>\n",
       "      <td>0.0</td>\n",
       "      <td>0.0</td>\n",
       "      <td>0.0</td>\n",
       "      <td>0.0</td>\n",
       "      <td>0.0</td>\n",
       "      <td>0.0</td>\n",
       "      <td>0.0</td>\n",
       "      <td>...</td>\n",
       "      <td>0.0</td>\n",
       "      <td>0.0</td>\n",
       "      <td>0.0</td>\n",
       "      <td>0.0</td>\n",
       "      <td>0.0</td>\n",
       "      <td>0.0</td>\n",
       "      <td>0.0</td>\n",
       "      <td>0.0</td>\n",
       "      <td>0.0</td>\n",
       "      <td>0.0</td>\n",
       "    </tr>\n",
       "    <tr>\n",
       "      <th>Percent</th>\n",
       "      <td>36.347776</td>\n",
       "      <td>8.675216</td>\n",
       "      <td>0.0</td>\n",
       "      <td>0.0</td>\n",
       "      <td>0.0</td>\n",
       "      <td>0.0</td>\n",
       "      <td>0.0</td>\n",
       "      <td>0.0</td>\n",
       "      <td>0.0</td>\n",
       "      <td>0.0</td>\n",
       "      <td>...</td>\n",
       "      <td>0.0</td>\n",
       "      <td>0.0</td>\n",
       "      <td>0.0</td>\n",
       "      <td>0.0</td>\n",
       "      <td>0.0</td>\n",
       "      <td>0.0</td>\n",
       "      <td>0.0</td>\n",
       "      <td>0.0</td>\n",
       "      <td>0.0</td>\n",
       "      <td>0.0</td>\n",
       "    </tr>\n",
       "  </tbody>\n",
       "</table>\n",
       "<p>2 rows × 22 columns</p>\n",
       "</div>"
      ],
      "text/plain": [
       "            Department  Department Code  Total Compensation  Total Benefits  \\\n",
       "Total    121254.000000     28940.000000                 0.0             0.0   \n",
       "Percent      36.347776         8.675216                 0.0             0.0   \n",
       "\n",
       "         Year  Organization Group Code  Organization Group  Union Code  Union  \\\n",
       "Total     0.0                      0.0                 0.0         0.0    0.0   \n",
       "Percent   0.0                      0.0                 0.0         0.0    0.0   \n",
       "\n",
       "         Job Family Code  ...  Job  Employee Identifier  Salaries  Overtime  \\\n",
       "Total                0.0  ...  0.0                  0.0       0.0       0.0   \n",
       "Percent              0.0  ...  0.0                  0.0       0.0       0.0   \n",
       "\n",
       "         Other Salaries  Total Salary  Retirement  Health and Dental  \\\n",
       "Total               0.0           0.0         0.0                0.0   \n",
       "Percent             0.0           0.0         0.0                0.0   \n",
       "\n",
       "         Other Benefits  Year Type  \n",
       "Total               0.0        0.0  \n",
       "Percent             0.0        0.0  \n",
       "\n",
       "[2 rows x 22 columns]"
      ]
     },
     "execution_count": 24,
     "metadata": {},
     "output_type": "execute_result"
    }
   ],
   "source": [
    "# Check Missing Data\n",
    "total = df_clean.isnull().sum().sort_values(ascending = False)\n",
    "percent = (df_clean.isnull().sum() / df_clean.isnull().count() * 100).sort_values(ascending = False)\n",
    "pd.concat([total, percent], axis = 1, keys = ['Total', 'Percent']).transpose()"
   ]
  },
  {
   "cell_type": "markdown",
   "metadata": {},
   "source": [
    "### Fixing Job Family Code and Job Family using Job \n",
    "The two columns had null values \"Unassigned\" and \"Untitled\". Because the values of these columns is determined by the Job, the code below creates a dataframe containing every 'Job' category with its corresponding 'Job Family Code' and 'Job Family'. The block of code below this uses that dataframe to fix the 'Job Family Code' and 'Job Family' values that are null."
   ]
  },
  {
   "cell_type": "markdown",
   "metadata": {},
   "source": [
    "##### WARNING! RUNS FOR 7+ MINUTES"
   ]
  },
  {
   "cell_type": "code",
   "execution_count": 18,
   "metadata": {},
   "outputs": [
    {
     "name": "stdout",
     "output_type": "stream",
     "text": [
      "Done\n"
     ]
    }
   ],
   "source": [
    "#Job Family Code = Job Family. They are determined by Job Code\n",
    "\n",
    "#All the jobs\n",
    "jobs = df_clean['Job Code'].unique()\n",
    "dfj = pd.DataFrame(data=jobs)\n",
    "dfj.columns = ['Job Code']\n",
    "\n",
    "#Gets all unique groupings of Job Family/Code and Job Code\n",
    "df_jobstuff = pd.DataFrame(columns=['Job Code','Job Family','Job Family Code'])\n",
    "for index, row in dfj.iterrows():\n",
    "    t = df_clean[ (df_clean['Job Code'] == row['Job Code']) & ((df_clean['Job Family'] != \"Unassigned\") & (df_clean['Job Family'] != \"Untitled\"))]\n",
    "    arg = t.groupby(['Job Code', 'Job Family', 'Job Family Code']).size().reset_index(name = 'Freq')\n",
    "    if arg['Job Code'].count() > 1:\n",
    "        arg.head()\n",
    "    arg = arg[['Job Code', 'Job Family', 'Job Family Code']]\n",
    "    df_jobstuff = df_jobstuff.append(arg)\n",
    "    \n",
    "print(\"Done\")"
   ]
  },
  {
   "cell_type": "markdown",
   "metadata": {},
   "source": [
    "##### Does the actual fixing of the unassigned and unknown values\n",
    "##### WARNING! RUNS FOR 7+ MINUTES"
   ]
  },
  {
   "cell_type": "code",
   "execution_count": 19,
   "metadata": {},
   "outputs": [
    {
     "name": "stdout",
     "output_type": "stream",
     "text": [
      "Done!\n"
     ]
    }
   ],
   "source": [
    "df_clean = df_clean.reset_index(drop=True)\n",
    "\n",
    "#Get a list of row ID's of ones missing stuff\n",
    "errRowNums = df_clean.index[(df_clean['Job Family'] == \"Unassigned\") | (df_clean['Job Family'] == \"Untitled\")].tolist()\n",
    "length = len(errRowNums)\n",
    "for i in range(length): \n",
    "    jobname = df_clean.iloc[errRowNums[i]][10]\n",
    "    r = df_jobstuff[df_jobstuff['Job Code'] == jobname]\n",
    "    if r.empty:\n",
    "        continue\n",
    "    df_clean.loc[errRowNums[i], 'Job Family'] = r.iloc[0]['Job Family']\n",
    "    df_clean.loc[errRowNums[i], 'Job Family Code'] = r.iloc[0]['Job Family Code']\n",
    "\n",
    "print(\"Done!\")\n"
   ]
  },
  {
   "cell_type": "markdown",
   "metadata": {},
   "source": [
    "##### Saving currently done work 'df_clean' to a .csv file"
   ]
  },
  {
   "cell_type": "code",
   "execution_count": 24,
   "metadata": {},
   "outputs": [
    {
     "name": "stdout",
     "output_type": "stream",
     "text": [
      "Done Saving File\n"
     ]
    }
   ],
   "source": [
    "df_clean.to_csv(\"EmpComp_Cleaned.csv\", index = False, sep=',')\n",
    "print(\"Done Saving File\")"
   ]
  },
  {
   "cell_type": "markdown",
   "metadata": {},
   "source": [
    "##### Reading in the dataset that has been cleaned this far"
   ]
  },
  {
   "cell_type": "code",
   "execution_count": 2,
   "metadata": {},
   "outputs": [
    {
     "name": "stdout",
     "output_type": "stream",
     "text": [
      "Finished Loading Data.\n"
     ]
    }
   ],
   "source": [
    "#Read in the data from the file\n",
    "df = pd.read_csv('C:/githubrepo/7331_Project/data/EmpComp_Cleaned.csv')\n",
    "print(\"Finished Loading Data.\")\n",
    "df_clean = df"
   ]
  },
  {
   "cell_type": "markdown",
   "metadata": {},
   "source": [
    "### Fixing the NULL 'Department' entries\n",
    "The Department column is equivelent to the 'Department Code' column. The code below creates a dataframe containing every 'Department' category with its corresponding 'Department Code'. It then uses that dataframe to fix the majority of the null 'Department' values. "
   ]
  },
  {
   "cell_type": "markdown",
   "metadata": {},
   "source": [
    "### WARNING, TAKES ~15 MINUTES"
   ]
  },
  {
   "cell_type": "code",
   "execution_count": 10,
   "metadata": {},
   "outputs": [],
   "source": [
    "dptcode = df_clean['Department Code'].unique()\n",
    "df_dc = pd.DataFrame(data=dptcode)\n",
    "df_dc.columns = ['Department Code']\n",
    "df_dc = df_dc[df_dc['Department Code'].notnull()]"
   ]
  },
  {
   "cell_type": "code",
   "execution_count": 12,
   "metadata": {},
   "outputs": [
    {
     "name": "stdout",
     "output_type": "stream",
     "text": [
      "Done\n"
     ]
    }
   ],
   "source": [
    "#Gets all unique groupings of Job Family/Code and Job Code\n",
    "df_dptstuff = pd.DataFrame(columns=['Department Code','Department'])\n",
    "for index, row in df_dc.iterrows():\n",
    "    t = df_clean[ (df_clean['Department Code'] == row['Department Code']) & (df_clean['Department'].notnull())]\n",
    "    arg = t.groupby(['Department Code', 'Department']).size().reset_index(name = 'Freq')\n",
    "    if arg['Department Code'].count() > 1:\n",
    "        break\n",
    "    arg = arg[['Department Code', 'Department']]\n",
    "    df_dptstuff = df_dptstuff.append(arg)\n",
    "    \n",
    "print(\"Done\")"
   ]
  },
  {
   "cell_type": "code",
   "execution_count": 16,
   "metadata": {},
   "outputs": [
    {
     "data": {
      "text/html": [
       "<div>\n",
       "<style scoped>\n",
       "    .dataframe tbody tr th:only-of-type {\n",
       "        vertical-align: middle;\n",
       "    }\n",
       "\n",
       "    .dataframe tbody tr th {\n",
       "        vertical-align: top;\n",
       "    }\n",
       "\n",
       "    .dataframe thead th {\n",
       "        text-align: right;\n",
       "    }\n",
       "</style>\n",
       "<table border=\"1\" class=\"dataframe\">\n",
       "  <thead>\n",
       "    <tr style=\"text-align: right;\">\n",
       "      <th></th>\n",
       "      <th>Department Code</th>\n",
       "      <th>Department</th>\n",
       "    </tr>\n",
       "  </thead>\n",
       "  <tbody>\n",
       "    <tr>\n",
       "      <th>0</th>\n",
       "      <td>DPH</td>\n",
       "      <td>DPH Public Health</td>\n",
       "    </tr>\n",
       "    <tr>\n",
       "      <th>0</th>\n",
       "      <td>DPW</td>\n",
       "      <td>DPW GSA - Public Works</td>\n",
       "    </tr>\n",
       "    <tr>\n",
       "      <th>0</th>\n",
       "      <td>PUC</td>\n",
       "      <td>PUB Public Utilities Bureaus</td>\n",
       "    </tr>\n",
       "    <tr>\n",
       "      <th>0</th>\n",
       "      <td>ADM</td>\n",
       "      <td>ADM Gen Svcs Agency-City Admin</td>\n",
       "    </tr>\n",
       "    <tr>\n",
       "      <th>0</th>\n",
       "      <td>FIR</td>\n",
       "      <td>FIR Fire Department</td>\n",
       "    </tr>\n",
       "  </tbody>\n",
       "</table>\n",
       "</div>"
      ],
      "text/plain": [
       "  Department Code                      Department\n",
       "0             DPH               DPH Public Health\n",
       "0             DPW          DPW GSA - Public Works\n",
       "0             PUC    PUB Public Utilities Bureaus\n",
       "0             ADM  ADM Gen Svcs Agency-City Admin\n",
       "0             FIR             FIR Fire Department"
      ]
     },
     "execution_count": 16,
     "metadata": {},
     "output_type": "execute_result"
    }
   ],
   "source": [
    "#Making sure that it was saved\n",
    "df_dptstuff.head()"
   ]
  },
  {
   "cell_type": "code",
   "execution_count": 21,
   "metadata": {},
   "outputs": [
    {
     "name": "stdout",
     "output_type": "stream",
     "text": [
      "Done!\n"
     ]
    }
   ],
   "source": [
    "df_clean = df_clean.reset_index(drop=True)\n",
    "\n",
    "#Fixes the NULL Department values\n",
    "errRowNums = df_clean.index[df_clean['Department'].isnull()].tolist()\n",
    "length = len(errRowNums)\n",
    "for i in range(length): \n",
    "    dptcode = df_clean.iloc[errRowNums[i]][4]\n",
    "    r = df_dptstuff[df_dptstuff['Department Code'] == dptcode]\n",
    "    if r.empty:\n",
    "        continue\n",
    "    df_clean.loc[errRowNums[i], 'Department'] = r.iloc[0]['Department']\n",
    "\n",
    "print(\"Done!\")"
   ]
  },
  {
   "cell_type": "markdown",
   "metadata": {},
   "source": [
    "### Checking NULL's again\n",
    "Most of the Department column is fixed, however 11% of them are still NULL."
   ]
  },
  {
   "cell_type": "code",
   "execution_count": 22,
   "metadata": {},
   "outputs": [
    {
     "data": {
      "text/html": [
       "<div>\n",
       "<style scoped>\n",
       "    .dataframe tbody tr th:only-of-type {\n",
       "        vertical-align: middle;\n",
       "    }\n",
       "\n",
       "    .dataframe tbody tr th {\n",
       "        vertical-align: top;\n",
       "    }\n",
       "\n",
       "    .dataframe thead th {\n",
       "        text-align: right;\n",
       "    }\n",
       "</style>\n",
       "<table border=\"1\" class=\"dataframe\">\n",
       "  <thead>\n",
       "    <tr style=\"text-align: right;\">\n",
       "      <th></th>\n",
       "      <th>Department</th>\n",
       "      <th>Department Code</th>\n",
       "      <th>Total Compensation</th>\n",
       "      <th>Total Benefits</th>\n",
       "      <th>Year</th>\n",
       "      <th>Organization Group Code</th>\n",
       "      <th>Organization Group</th>\n",
       "      <th>Union Code</th>\n",
       "      <th>Union</th>\n",
       "      <th>Job Family Code</th>\n",
       "      <th>...</th>\n",
       "      <th>Job</th>\n",
       "      <th>Employee Identifier</th>\n",
       "      <th>Salaries</th>\n",
       "      <th>Overtime</th>\n",
       "      <th>Other Salaries</th>\n",
       "      <th>Total Salary</th>\n",
       "      <th>Retirement</th>\n",
       "      <th>Health and Dental</th>\n",
       "      <th>Other Benefits</th>\n",
       "      <th>Year Type</th>\n",
       "    </tr>\n",
       "  </thead>\n",
       "  <tbody>\n",
       "    <tr>\n",
       "      <th>Total</th>\n",
       "      <td>36936.000000</td>\n",
       "      <td>28940.000000</td>\n",
       "      <td>0.0</td>\n",
       "      <td>0.0</td>\n",
       "      <td>0.0</td>\n",
       "      <td>0.0</td>\n",
       "      <td>0.0</td>\n",
       "      <td>0.0</td>\n",
       "      <td>0.0</td>\n",
       "      <td>0.0</td>\n",
       "      <td>...</td>\n",
       "      <td>0.0</td>\n",
       "      <td>0.0</td>\n",
       "      <td>0.0</td>\n",
       "      <td>0.0</td>\n",
       "      <td>0.0</td>\n",
       "      <td>0.0</td>\n",
       "      <td>0.0</td>\n",
       "      <td>0.0</td>\n",
       "      <td>0.0</td>\n",
       "      <td>0.0</td>\n",
       "    </tr>\n",
       "    <tr>\n",
       "      <th>Percent</th>\n",
       "      <td>11.072142</td>\n",
       "      <td>8.675216</td>\n",
       "      <td>0.0</td>\n",
       "      <td>0.0</td>\n",
       "      <td>0.0</td>\n",
       "      <td>0.0</td>\n",
       "      <td>0.0</td>\n",
       "      <td>0.0</td>\n",
       "      <td>0.0</td>\n",
       "      <td>0.0</td>\n",
       "      <td>...</td>\n",
       "      <td>0.0</td>\n",
       "      <td>0.0</td>\n",
       "      <td>0.0</td>\n",
       "      <td>0.0</td>\n",
       "      <td>0.0</td>\n",
       "      <td>0.0</td>\n",
       "      <td>0.0</td>\n",
       "      <td>0.0</td>\n",
       "      <td>0.0</td>\n",
       "      <td>0.0</td>\n",
       "    </tr>\n",
       "  </tbody>\n",
       "</table>\n",
       "<p>2 rows × 22 columns</p>\n",
       "</div>"
      ],
      "text/plain": [
       "           Department  Department Code  Total Compensation  Total Benefits  \\\n",
       "Total    36936.000000     28940.000000                 0.0             0.0   \n",
       "Percent     11.072142         8.675216                 0.0             0.0   \n",
       "\n",
       "         Year  Organization Group Code  Organization Group  Union Code  Union  \\\n",
       "Total     0.0                      0.0                 0.0         0.0    0.0   \n",
       "Percent   0.0                      0.0                 0.0         0.0    0.0   \n",
       "\n",
       "         Job Family Code  ...  Job  Employee Identifier  Salaries  Overtime  \\\n",
       "Total                0.0  ...  0.0                  0.0       0.0       0.0   \n",
       "Percent              0.0  ...  0.0                  0.0       0.0       0.0   \n",
       "\n",
       "         Other Salaries  Total Salary  Retirement  Health and Dental  \\\n",
       "Total               0.0           0.0         0.0                0.0   \n",
       "Percent             0.0           0.0         0.0                0.0   \n",
       "\n",
       "         Other Benefits  Year Type  \n",
       "Total               0.0        0.0  \n",
       "Percent             0.0        0.0  \n",
       "\n",
       "[2 rows x 22 columns]"
      ]
     },
     "execution_count": 22,
     "metadata": {},
     "output_type": "execute_result"
    }
   ],
   "source": [
    "# Check Missing Data\n",
    "total = df_clean.isnull().sum().sort_values(ascending = False)\n",
    "percent = (df_clean.isnull().sum() / df_clean.isnull().count() * 100).sort_values(ascending = False)\n",
    "pd.concat([total, percent], axis = 1, keys = ['Total', 'Percent']).transpose()"
   ]
  },
  {
   "cell_type": "markdown",
   "metadata": {},
   "source": [
    "##### Saving currently done work 'df_clean' to a .csv file"
   ]
  },
  {
   "cell_type": "code",
   "execution_count": 25,
   "metadata": {},
   "outputs": [
    {
     "name": "stdout",
     "output_type": "stream",
     "text": [
      "Done Saving File\n"
     ]
    }
   ],
   "source": [
    "df_clean.to_csv(\"EmpComp_Cleaned.csv\", index = False, sep=',')\n",
    "print(\"Done Saving File\")"
   ]
  },
  {
   "cell_type": "markdown",
   "metadata": {},
   "source": [
    "##### Reading in the dataset that has been cleaned this far"
   ]
  },
  {
   "cell_type": "code",
   "execution_count": 9,
   "metadata": {},
   "outputs": [
    {
     "name": "stdout",
     "output_type": "stream",
     "text": [
      "Finished Loading Data.\n"
     ]
    }
   ],
   "source": [
    "df = pd.read_csv('C:/githubrepo/7331_Project/data/EmpComp_Cleaned.csv')\n",
    "df_clean = df\n",
    "print(\"Finished Loading Data.\")"
   ]
  },
  {
   "cell_type": "markdown",
   "metadata": {},
   "source": [
    "### Fixing the remaining 'Job Family' and 'Job Family Code' columns\n",
    "After fixing these columns above there were still a four values that could not be automatically determined. By manually examinaning the data we figured out what these values should be. "
   ]
  },
  {
   "cell_type": "code",
   "execution_count": 10,
   "metadata": {},
   "outputs": [],
   "source": [
    "df_clean.loc[df_clean['Job Code'] == \"0886\", 'Job Family'] = \"Management\"\n",
    "df_clean.loc[df_clean['Job Code'] == \"0886\", 'Job Family Code'] = \"0900\"\n",
    "#======================================================================================================================================================\n",
    "df_clean.loc[df_clean['Job Code'] == \"381C\", 'Job Family'] = \"Legal and Count\"\n",
    "df_clean.loc[df_clean['Job Code'] == \"381C\", 'Job Family Code'] = \"8100\"\n",
    "#======================================================================================================================================================\n",
    "df_clean.loc[df_clean['Job Code'] == \"274C\", 'Job Family'] = \"SF Superior Court\"\n",
    "df_clean.loc[df_clean['Job Code'] == \"274C\", 'Job Family Code'] = \"SCRT\"\n",
    "#======================================================================================================================================================\n",
    "df_clean.loc[df_clean['Job Code'] == \"255C\", 'Job Family'] = \"SF Superior Court\"\n",
    "df_clean.loc[df_clean['Job Code'] == \"255C\", 'Job Family Code'] = \"SCRT\""
   ]
  },
  {
   "cell_type": "markdown",
   "metadata": {},
   "source": [
    "##### Saving currently done work 'df_clean' to a .csv file"
   ]
  },
  {
   "cell_type": "code",
   "execution_count": 11,
   "metadata": {},
   "outputs": [
    {
     "name": "stdout",
     "output_type": "stream",
     "text": [
      "Done Saving File\n"
     ]
    }
   ],
   "source": [
    "df_clean.to_csv(\"EmpComp_Cleaned.csv\", index = False, sep=',')\n",
    "print(\"Done Saving File\")"
   ]
  },
  {
   "cell_type": "markdown",
   "metadata": {},
   "source": [
    "##### Reading in the dataset that has been cleaned this far"
   ]
  },
  {
   "cell_type": "code",
   "execution_count": 13,
   "metadata": {},
   "outputs": [
    {
     "name": "stdout",
     "output_type": "stream",
     "text": [
      "Finished Loading Data.\n"
     ]
    }
   ],
   "source": [
    "df = pd.read_csv('C:/githubrepo/7331_Project/data/EmpComp_Cleaned.csv')\n",
    "df_clean = df\n",
    "print(\"Finished Loading Data.\")"
   ]
  },
  {
   "cell_type": "markdown",
   "metadata": {},
   "source": [
    "### Fixing Department Code blanks\n",
    "In the 'Department Code' column there were some NULL values. These all had the same 'Organization Group' (which is a superset of the 'Department Code'). Because of this we created a new department code 'GCR'."
   ]
  },
  {
   "cell_type": "code",
   "execution_count": 14,
   "metadata": {},
   "outputs": [],
   "source": [
    "#Final remaining missing Department Codes, using abbrevation of Organization Group\n",
    "df_clean.loc[df_clean['Department Code'].isnull(), 'Department Code'] = \"GCR\""
   ]
  },
  {
   "cell_type": "markdown",
   "metadata": {},
   "source": [
    "### Final Cleaned Dataset"
   ]
  },
  {
   "cell_type": "code",
   "execution_count": 17,
   "metadata": {},
   "outputs": [
    {
     "name": "stdout",
     "output_type": "stream",
     "text": [
      "Done Saving File\n"
     ]
    }
   ],
   "source": [
    "df_clean.to_csv(\"EmpComp_Cleaned.csv\", index = False, sep=',')\n",
    "print(\"Done Saving File\")"
   ]
  }
 ],
 "metadata": {
  "kernelspec": {
   "display_name": "Python 3",
   "language": "python",
   "name": "python3"
  },
  "language_info": {
   "codemirror_mode": {
    "name": "ipython",
    "version": 3
   },
   "file_extension": ".py",
   "mimetype": "text/x-python",
   "name": "python",
   "nbconvert_exporter": "python",
   "pygments_lexer": "ipython3",
   "version": "3.7.3"
  }
 },
 "nbformat": 4,
 "nbformat_minor": 2
}
