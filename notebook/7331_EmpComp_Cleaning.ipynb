{
 "cells": [
  {
   "cell_type": "markdown",
   "metadata": {},
   "source": [
    "### Load the Libraries and import the data"
   ]
  },
  {
   "cell_type": "code",
   "execution_count": null,
   "metadata": {},
   "outputs": [],
   "source": [
    "import pandas as pd\n",
    "import numpy as np\n",
    "import sqlite3\n",
    "import pandas_profiling\n",
    "import rpy2\n",
    "import rpy2.rinterface\n",
    "import matplotlib.pyplot as plt\n",
    "get_ipython().run_line_magic('matplotlib', 'inline')\n",
    "import warnings # current version of seaborn generates a bunch of warnings that we'll ignore\n",
    "warnings.filterwarnings(\"ignore\")\n",
    "import seaborn as sns\n",
    "#import rpy2.ipython"
   ]
  },
  {
   "cell_type": "code",
   "execution_count": null,
   "metadata": {},
   "outputs": [],
   "source": [
    "#Read in the data from the file\n",
    "df = pd.read_csv('C:/githubrepo/7331_Project/data/Employee_Compensation.csv')\n",
    "print(\"Finished Loading Data.\")"
   ]
  },
  {
   "cell_type": "markdown",
   "metadata": {},
   "source": [
    "## Data Quality\n",
    "Visualize the negatives as percentage (from Orig Data)\n",
    "Job Family Code: 36 Unassigned\n",
    "Job Family Code: 2451 with code of 0\n",
    "Job Family: 2451 Untitled\n",
    "Job Family: 36 Unassigned\n",
    "\n",
    "Dept is 50% blank but can be fixed using reference https://data.sfgov.org/City-Management-and-Ethics/Reference-Department-Code-List/j2hz-23ps/data"
   ]
  },
  {
   "cell_type": "code",
   "execution_count": null,
   "metadata": {},
   "outputs": [],
   "source": [
    "#Save the dataframe into a new dataframe to clean\n",
    "df_clean = df\n",
    "#Keeps all of the Fiscal Year entries\n",
    "df_clean = df_clean[df_clean['Year Type'] == 'Fiscal']\n",
    "print(df_clean.info())"
   ]
  },
  {
   "cell_type": "code",
   "execution_count": null,
   "metadata": {},
   "outputs": [],
   "source": [
    "#Get names of indexes for which column Year has value 2028\n",
    "indexNames = df_clean.loc[df_clean['Year'] == 2028, 'Year'].index\n",
    "# Delete these row indexes from dataFrame\n",
    "df_clean.drop(indexNames, inplace = True)"
   ]
  },
  {
   "cell_type": "code",
   "execution_count": null,
   "metadata": {},
   "outputs": [],
   "source": [
    "#Get names of indexes for which column Job is Null\n",
    "indexNames = df_clean.loc[df_clean['Job'] == np.NaN, 'Year'].index\n",
    "# Delete these row indexes from dataFrame\n",
    "df_clean.drop(indexNames, inplace = True)"
   ]
  },
  {
   "cell_type": "code",
   "execution_count": null,
   "metadata": {},
   "outputs": [],
   "source": [
    "#Deletes the 1 row missing the Job\n",
    "indexNames = df_clean.loc[df_clean['Job'].isnull()].index\n",
    "df_clean.drop(indexNames, inplace = True)\n",
    "df_clean.describe()"
   ]
  },
  {
   "cell_type": "code",
   "execution_count": null,
   "metadata": {},
   "outputs": [],
   "source": [
    "#Delete Salaries values with negatives\n",
    "indexNames = df_clean.loc[df_clean['Salaries'] < 0, 'Salaries'].index\n",
    "df_clean.drop(indexNames, inplace = True)"
   ]
  },
  {
   "cell_type": "code",
   "execution_count": null,
   "metadata": {},
   "outputs": [],
   "source": [
    "#Delete Overtime values with negatives\n",
    "indexNames = df_clean.loc[df_clean['Overtime'] < 0, 'Overtime'].index\n",
    "df_clean.drop(indexNames, inplace = True)"
   ]
  },
  {
   "cell_type": "code",
   "execution_count": null,
   "metadata": {},
   "outputs": [],
   "source": [
    "#Delete Other Salaries values with negatives\n",
    "indexNames = df_clean.loc[df_clean['Other Salaries'] < 0, 'Other Salaries'].index\n",
    "df_clean.drop(indexNames, inplace = True)"
   ]
  },
  {
   "cell_type": "code",
   "execution_count": null,
   "metadata": {},
   "outputs": [],
   "source": [
    "#Delete Total Salary values with negatives\n",
    "indexNames = df_clean.loc[df_clean['Total Salary'] < 0, 'Total Salary'].index\n",
    "df_clean.drop(indexNames, inplace = True)"
   ]
  },
  {
   "cell_type": "code",
   "execution_count": null,
   "metadata": {},
   "outputs": [],
   "source": [
    "#Delete Retirement values with negatives\n",
    "indexNames = df_clean.loc[df_clean['Retirement'] < 0, 'Retirement'].index\n",
    "df_clean.drop(indexNames, inplace = True)"
   ]
  },
  {
   "cell_type": "code",
   "execution_count": null,
   "metadata": {},
   "outputs": [],
   "source": [
    "#Delete Health and Dental values with negatives\n",
    "indexNames = df_clean.loc[df_clean['Health and Dental'] < 0, 'Health and Dental'].index\n",
    "df_clean.drop(indexNames, inplace = True)"
   ]
  },
  {
   "cell_type": "code",
   "execution_count": null,
   "metadata": {},
   "outputs": [],
   "source": [
    "#Delete Other Benefits values with negatives\n",
    "indexNames = df_clean.loc[df_clean['Other Benefits'] < 0, 'Other Benefits'].index\n",
    "df_clean.drop(indexNames, inplace = True)"
   ]
  },
  {
   "cell_type": "code",
   "execution_count": null,
   "metadata": {},
   "outputs": [],
   "source": [
    "#Delete Total Benefits values with negatives\n",
    "indexNames = df_clean.loc[df_clean['Total Benefits'] < 0, 'Total Benefits'].index\n",
    "df_clean.drop(indexNames, inplace = True)"
   ]
  },
  {
   "cell_type": "code",
   "execution_count": null,
   "metadata": {},
   "outputs": [],
   "source": [
    "#Delete Total Compensation values with negatives\n",
    "indexNames = df_clean.loc[df_clean['Total Compensation'] < 0, 'Total Compensation'].index\n",
    "df_clean.drop(indexNames, inplace = True)"
   ]
  },
  {
   "cell_type": "code",
   "execution_count": null,
   "metadata": {},
   "outputs": [],
   "source": [
    "df_clean.describe()"
   ]
  },
  {
   "cell_type": "code",
   "execution_count": null,
   "metadata": {},
   "outputs": [],
   "source": []
  },
  {
   "cell_type": "code",
   "execution_count": 58,
   "metadata": {},
   "outputs": [
    {
     "data": {
      "text/html": [
       "<div>\n",
       "<style scoped>\n",
       "    .dataframe tbody tr th:only-of-type {\n",
       "        vertical-align: middle;\n",
       "    }\n",
       "\n",
       "    .dataframe tbody tr th {\n",
       "        vertical-align: top;\n",
       "    }\n",
       "\n",
       "    .dataframe thead th {\n",
       "        text-align: right;\n",
       "    }\n",
       "</style>\n",
       "<table border=\"1\" class=\"dataframe\">\n",
       "  <thead>\n",
       "    <tr style=\"text-align: right;\">\n",
       "      <th></th>\n",
       "      <th>Department</th>\n",
       "      <th>Department Code</th>\n",
       "      <th>Union Code</th>\n",
       "      <th>Union</th>\n",
       "      <th>Total Compensation</th>\n",
       "      <th>Total Benefits</th>\n",
       "      <th>Year</th>\n",
       "      <th>Organization Group Code</th>\n",
       "      <th>Organization Group</th>\n",
       "      <th>Job Family Code</th>\n",
       "      <th>...</th>\n",
       "      <th>Job</th>\n",
       "      <th>Employee Identifier</th>\n",
       "      <th>Salaries</th>\n",
       "      <th>Overtime</th>\n",
       "      <th>Other Salaries</th>\n",
       "      <th>Total Salary</th>\n",
       "      <th>Retirement</th>\n",
       "      <th>Health and Dental</th>\n",
       "      <th>Other Benefits</th>\n",
       "      <th>Year Type</th>\n",
       "    </tr>\n",
       "  </thead>\n",
       "  <tbody>\n",
       "    <tr>\n",
       "      <th>Total</th>\n",
       "      <td>121254.000000</td>\n",
       "      <td>28940.000000</td>\n",
       "      <td>215.00000</td>\n",
       "      <td>215.00000</td>\n",
       "      <td>0.0</td>\n",
       "      <td>0.0</td>\n",
       "      <td>0.0</td>\n",
       "      <td>0.0</td>\n",
       "      <td>0.0</td>\n",
       "      <td>0.0</td>\n",
       "      <td>...</td>\n",
       "      <td>0.0</td>\n",
       "      <td>0.0</td>\n",
       "      <td>0.0</td>\n",
       "      <td>0.0</td>\n",
       "      <td>0.0</td>\n",
       "      <td>0.0</td>\n",
       "      <td>0.0</td>\n",
       "      <td>0.0</td>\n",
       "      <td>0.0</td>\n",
       "      <td>0.0</td>\n",
       "    </tr>\n",
       "    <tr>\n",
       "      <th>Percent</th>\n",
       "      <td>36.347776</td>\n",
       "      <td>8.675216</td>\n",
       "      <td>0.06445</td>\n",
       "      <td>0.06445</td>\n",
       "      <td>0.0</td>\n",
       "      <td>0.0</td>\n",
       "      <td>0.0</td>\n",
       "      <td>0.0</td>\n",
       "      <td>0.0</td>\n",
       "      <td>0.0</td>\n",
       "      <td>...</td>\n",
       "      <td>0.0</td>\n",
       "      <td>0.0</td>\n",
       "      <td>0.0</td>\n",
       "      <td>0.0</td>\n",
       "      <td>0.0</td>\n",
       "      <td>0.0</td>\n",
       "      <td>0.0</td>\n",
       "      <td>0.0</td>\n",
       "      <td>0.0</td>\n",
       "      <td>0.0</td>\n",
       "    </tr>\n",
       "  </tbody>\n",
       "</table>\n",
       "<p>2 rows × 22 columns</p>\n",
       "</div>"
      ],
      "text/plain": [
       "            Department  Department Code  Union Code      Union  \\\n",
       "Total    121254.000000     28940.000000   215.00000  215.00000   \n",
       "Percent      36.347776         8.675216     0.06445    0.06445   \n",
       "\n",
       "         Total Compensation  Total Benefits  Year  Organization Group Code  \\\n",
       "Total                   0.0             0.0   0.0                      0.0   \n",
       "Percent                 0.0             0.0   0.0                      0.0   \n",
       "\n",
       "         Organization Group  Job Family Code  ...  Job  Employee Identifier  \\\n",
       "Total                   0.0              0.0  ...  0.0                  0.0   \n",
       "Percent                 0.0              0.0  ...  0.0                  0.0   \n",
       "\n",
       "         Salaries  Overtime  Other Salaries  Total Salary  Retirement  \\\n",
       "Total         0.0       0.0             0.0           0.0         0.0   \n",
       "Percent       0.0       0.0             0.0           0.0         0.0   \n",
       "\n",
       "         Health and Dental  Other Benefits  Year Type  \n",
       "Total                  0.0             0.0        0.0  \n",
       "Percent                0.0             0.0        0.0  \n",
       "\n",
       "[2 rows x 22 columns]"
      ]
     },
     "execution_count": 58,
     "metadata": {},
     "output_type": "execute_result"
    }
   ],
   "source": [
    "# Check Missing Data\n",
    "total = df_clean.isnull().sum().sort_values(ascending = False)\n",
    "percent = (df_clean.isnull().sum() / df_clean.isnull().count() * 100).sort_values(ascending = False)\n",
    "pd.concat([total, percent], axis = 1, keys = ['Total', 'Percent']).transpose()"
   ]
  },
  {
   "cell_type": "code",
   "execution_count": null,
   "metadata": {},
   "outputs": [],
   "source": []
  },
  {
   "cell_type": "code",
   "execution_count": null,
   "metadata": {},
   "outputs": [],
   "source": []
  },
  {
   "cell_type": "code",
   "execution_count": 59,
   "metadata": {},
   "outputs": [],
   "source": [
    "df_clean.to_csv(\"EmpComp_Cleaned.csv\", sep='\\t')"
   ]
  }
 ],
 "metadata": {
  "kernelspec": {
   "display_name": "Python 3",
   "language": "python",
   "name": "python3"
  },
  "language_info": {
   "codemirror_mode": {
    "name": "ipython",
    "version": 3
   },
   "file_extension": ".py",
   "mimetype": "text/x-python",
   "name": "python",
   "nbconvert_exporter": "python",
   "pygments_lexer": "ipython3",
   "version": "3.7.3"
  }
 },
 "nbformat": 4,
 "nbformat_minor": 2
}
