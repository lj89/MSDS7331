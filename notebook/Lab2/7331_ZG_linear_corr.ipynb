{
 "cells": [
  {
   "cell_type": "code",
   "execution_count": 1,
   "metadata": {},
   "outputs": [],
   "source": [
    "import pandas as pd\n",
    "import numpy as np\n",
    "import pandas_profiling\n",
    "import matplotlib.pyplot as plt\n",
    "get_ipython().run_line_magic('matplotlib', 'inline')\n",
    "import warnings\n",
    "warnings.filterwarnings(\"ignore\")\n",
    "import seaborn as sns\n",
    "from sklearn.linear_model import LogisticRegression\n",
    "from sklearn.model_selection import train_test_split\n",
    "from sklearn.metrics import accuracy_score\n",
    "from sklearn.metrics import f1_score\n",
    "from sklearn.metrics import roc_auc_score\n",
    "from sklearn.linear_model import SGDClassifier\n",
    "from sklearn.preprocessing import StandardScaler\n",
    "from sklearn.model_selection import StratifiedShuffleSplit \n",
    "from sklearn import metrics as mt\n",
    "from sklearn.metrics import roc_curve, auc\n",
    "import operator\n",
    "import sklearn.metrics as metrics\n",
    "from sklearn.neighbors import KNeighborsClassifier\n",
    "from sklearn.model_selection import StratifiedKFold\n",
    "from sklearn.decomposition import PCA \n",
    "from sklearn.pipeline import Pipeline\n",
    "from sklearn.model_selection import cross_val_score\n",
    "from sklearn.neighbors import KDTree\n",
    "from sklearn.neighbors import KNeighborsRegressor\n",
    "from sklearn.metrics import mean_squared_error "
   ]
  },
  {
   "cell_type": "markdown",
   "metadata": {},
   "source": [
    "### Import the data"
   ]
  },
  {
   "cell_type": "code",
   "execution_count": 2,
   "metadata": {},
   "outputs": [
    {
     "name": "stdout",
     "output_type": "stream",
     "text": [
      "Done reading data.\n"
     ]
    }
   ],
   "source": [
    "directory = 'C:/githubrepo/7331_Project/data/'\n",
    "df_zg = pd.read_csv(directory + 'Diabetic_Cleaned.csv')\n",
    "print(\"Done reading data.\")"
   ]
  },
  {
   "cell_type": "markdown",
   "metadata": {},
   "source": [
    "### Makes lists of the different types"
   ]
  },
  {
   "cell_type": "code",
   "execution_count": 3,
   "metadata": {},
   "outputs": [],
   "source": [
    "ordinal = [\"age\"]\n",
    "categorical = [\"race\", \"gender\", \"admission_type_id\", \"discharge_disposition_id\",\n",
    "               \"admission_source_id\", \"medical_specialty\", \"max_glu_serum\",\n",
    "               \"A1Cresult\", \"change\", \"diabetesMed\", \"diag_1_val\", \"diag_2_val\",\n",
    "               \"diag_3_val\", \"meds_increased\", \"readmitted_tf\"]\n",
    "continuous = [\"num_lab_procedures\", \"num_procedures\", \"num_medications\",\n",
    "              \"number_outpatient\", \"number_emergency\", \"number_inpatient\",\n",
    "              \"number_diagnoses\", \"medication_count\"]\n",
    "lcontinuous = [\"lnum_lab_procedures\", \"lnum_procedures\", \"lnum_medications\",\n",
    "              \"lnumber_outpatient\", \"lnumber_emergency\", \"lnumber_inpatient\",\n",
    "              \"lnumber_diagnoses\", \"lmedication_count\"]\n",
    "medicines = [\"metformin\", \"repaglinide\", \"nateglinide\", \"chlorpropamide\",\n",
    "             \"glimepiride\", \"acetohexamide\", \"glipizide\", \"glyburide\", \"tolbutamide\",\n",
    "             \"pioglitazone\", \"rosiglitazone\", \"acarbose\", \"miglitol\", \"troglitazone\",\n",
    "             \"tolazamide\", \"insulin\", \"glyburide-metformin\", \"glipizide-metformin\",\n",
    "             \"metformin-rosiglitazone\", \"metformin-pioglitazone\"]\n",
    "response = [\"time_in_hospital\"]"
   ]
  },
  {
   "cell_type": "markdown",
   "metadata": {},
   "source": [
    "### Dataframes of each type of data"
   ]
  },
  {
   "cell_type": "code",
   "execution_count": 4,
   "metadata": {},
   "outputs": [],
   "source": [
    "df_zg_ordinal = df_zg[ordinal]\n",
    "df_zg_categorical = df_zg[categorical]\n",
    "df_zg_continuous = df_zg[continuous]\n",
    "df_zg_lcontinuous = np.log(df_zg_continuous)\n",
    "df_zg_lcontinuous.columns = lcontinuous\n",
    "df_zg_medicines = df_zg[medicines]\n",
    "df_zg_response = df_zg[response]"
   ]
  },
  {
   "cell_type": "markdown",
   "metadata": {},
   "source": [
    "### Make Age ordinal"
   ]
  },
  {
   "cell_type": "code",
   "execution_count": 5,
   "metadata": {},
   "outputs": [],
   "source": [
    "for i in range(0, 10):\n",
    "    val = \"[\" + str(i*10) + \"-\" + str((i+1)*10) + \")\"\n",
    "    df_zg_ordinal.loc[df_zg_ordinal['age'] == val, 'age'] = i"
   ]
  },
  {
   "cell_type": "markdown",
   "metadata": {},
   "source": [
    "### Making all categorical columns categorical"
   ]
  },
  {
   "cell_type": "code",
   "execution_count": 6,
   "metadata": {},
   "outputs": [
    {
     "name": "stdout",
     "output_type": "stream",
     "text": [
      "Done\n"
     ]
    }
   ],
   "source": [
    "df_zg_categorical['admission_type_id'] = df_zg_categorical['admission_type_id'].astype(object)\n",
    "df_zg_categorical['discharge_disposition_id'] = df_zg_categorical['discharge_disposition_id'].astype(object)\n",
    "df_zg_categorical['admission_source_id'] = df_zg_categorical['admission_source_id'].astype(object)\n",
    "df_zg_categorical['admission_type_id'] = df_zg_categorical['admission_type_id'].astype(object)\n",
    "df_zg_categorical['meds_increased'] = df_zg_categorical['meds_increased'].astype(int)\n",
    "#df_zg_response['readmitted_tf'] = df_zg_response['readmitted_tf'].astype(object)\n",
    "print(\"Done\")"
   ]
  },
  {
   "cell_type": "code",
   "execution_count": 7,
   "metadata": {},
   "outputs": [
    {
     "name": "stdout",
     "output_type": "stream",
     "text": [
      "Done\n"
     ]
    }
   ],
   "source": [
    "df_zg_x = pd.concat([df_zg_ordinal, df_zg_categorical, df_zg_continuous], axis = 1)\n",
    "df_zg_num_x = pd.concat([df_zg_ordinal, df_zg_continuous], axis = 1)\n",
    "df_zg_med_x = pd.concat([df_zg_ordinal, df_zg_categorical, df_zg_continuous, df_zg_medicines], axis = 1)\n",
    "df_zg_hot_x = pd.concat([df_zg_ordinal, pd.get_dummies(df_zg_categorical), df_zg_continuous], axis = 1)\n",
    "df_zg_hot_med_x = pd.concat([df_zg_ordinal, pd.get_dummies(df_zg_categorical), df_zg_continuous, pd.get_dummies(df_zg_medicines)], axis = 1)\n",
    "df_zg_y = df_zg_response\n",
    "print(\"Done\")"
   ]
  },
  {
   "cell_type": "markdown",
   "metadata": {},
   "source": [
    "### Function for setting up the training, validation, and test sets"
   ]
  },
  {
   "cell_type": "code",
   "execution_count": 8,
   "metadata": {},
   "outputs": [],
   "source": [
    "def tvt_split(df_x, df_y, valid_size, t_size, seed):\n",
    "    #doing the math because we have to split 2 seperate times\n",
    "    valid_size = 100*valid_size/(100*(1-t_size))\n",
    "    #First splitting out the test set\n",
    "    x_train, x_test, y_train, y_test = train_test_split(df_x, df_y, test_size = t_size, random_state=seed)\n",
    "    #Splitting the training set into train/validate\n",
    "    x_train, x_valid, y_train, y_valid = train_test_split(x_train, y_train, test_size = valid_size, random_state=seed)\n",
    "\n",
    "    #Reseting allof the indices\n",
    "    x_train.reset_index()\n",
    "    y_train.reset_index()\n",
    "    x_test.reset_index()\n",
    "    y_test.reset_index()\n",
    "    x_valid.reset_index()\n",
    "    y_valid.reset_index()\n",
    "\n",
    "    return x_train, x_valid, x_test, y_train, y_valid, y_test"
   ]
  },
  {
   "cell_type": "markdown",
   "metadata": {},
   "source": [
    "### Amount of correlation, after doing hot encoding, sorted"
   ]
  },
  {
   "cell_type": "code",
   "execution_count": 9,
   "metadata": {
    "scrolled": true
   },
   "outputs": [
    {
     "data": {
      "text/plain": [
       "discharge_disposition_id_1                            -0.315089\n",
       "change_No                                             -0.107939\n",
       "diabetesMed_No                                        -0.092798\n",
       "diag_2_val_Diabeties                                  -0.085539\n",
       "admission_source_id_1                                 -0.073100\n",
       "diag_3_val_Diabeties                                  -0.069658\n",
       "medical_specialty_Cardiology                          -0.069329\n",
       "admission_source_id_2                                 -0.067309\n",
       "diag_3_val_None                                       -0.065543\n",
       "admission_type_id_4                                   -0.065036\n",
       "admission_type_id_3                                   -0.063714\n",
       "A1Cresult_None                                        -0.053838\n",
       "admission_type_id_5                                   -0.037537\n",
       "discharge_disposition_id_2                            -0.036202\n",
       "diag_1_val_Musculoskeletal                            -0.035738\n",
       "medical_specialty_ObstetricsandGynecology             -0.034834\n",
       "admission_source_id_17                                -0.034448\n",
       "diag_1_val_Circulatory                                -0.032778\n",
       "medical_specialty_Radiologist                         -0.030615\n",
       "max_glu_serum_Norm                                    -0.028816\n",
       "diag_2_val_None                                       -0.028312\n",
       "diag_3_val_Other                                      -0.027586\n",
       "gender_Male                                           -0.027403\n",
       "medical_specialty_Pediatrics-Endocrinology            -0.026511\n",
       "diag_1_val_Respiratory                                -0.025998\n",
       "medical_specialty_Urology                             -0.024145\n",
       "diag_2_val_Circulatory                                -0.023189\n",
       "admission_type_id_8                                   -0.022876\n",
       "diag_3_val_Circulatory                                -0.021665\n",
       "diag_2_val_Other                                      -0.021034\n",
       "                                                         ...   \n",
       "discharge_disposition_id_22                            0.048168\n",
       "diag_3_val_Injury                                      0.048255\n",
       "diag_2_val_Respiratory                                 0.050828\n",
       "diag_3_val_Genitourinary                               0.051387\n",
       "medical_specialty_Psychiatry                           0.054789\n",
       "diag_3_val_Respiratory                                 0.056691\n",
       "admission_source_id_6                                  0.064507\n",
       "admission_type_id_7                                    0.066393\n",
       "medication_count                                       0.073259\n",
       "diag_1_val_Other                                       0.083195\n",
       "medical_specialty_PhysicalMedicineandRehabilitation    0.086518\n",
       "admission_type_id_2                                    0.089003\n",
       "diabetesMed_Yes                                        0.092798\n",
       "number_inpatient                                       0.095305\n",
       "discharge_disposition_id_6                             0.096999\n",
       "age                                                    0.102467\n",
       "change_Ch                                              0.107939\n",
       "readmitted_tf                                          0.114739\n",
       "admission_source_id_25                                 0.118273\n",
       "admission_source_id_10                                 0.120785\n",
       "admission_source_id_4                                  0.127367\n",
       "discharge_disposition_id_3                             0.137963\n",
       "meds_increased                                         0.139819\n",
       "discharge_disposition_id_7                             0.158353\n",
       "num_lab_procedures                                     0.192700\n",
       "discharge_disposition_id_23                            0.192989\n",
       "number_diagnoses                                       0.214656\n",
       "num_procedures                                         0.225414\n",
       "num_medications                                        0.372413\n",
       "time_in_hospital                                       1.000000\n",
       "Name: time_in_hospital, Length: 184, dtype: float64"
      ]
     },
     "execution_count": 9,
     "metadata": {},
     "output_type": "execute_result"
    }
   ],
   "source": [
    "df_zg_corr = pd.concat([df_zg_ordinal, pd.get_dummies(df_zg_categorical), df_zg_continuous, df_zg_response], axis = 1)\n",
    "cors = df_zg_corr.corr()\n",
    "cors = cors.sort_values(by=['time_in_hospital'])\n",
    "cors.time_in_hospital"
   ]
  },
  {
   "cell_type": "markdown",
   "metadata": {},
   "source": [
    "### Make dataframe of columns that had correlation >= |0.1|"
   ]
  },
  {
   "cell_type": "code",
   "execution_count": 55,
   "metadata": {},
   "outputs": [],
   "source": [
    "nm = [\"num_medications\", \"discharge_disposition_id\", \"num_procedures\", \"number_diagnoses\",\n",
    "     \"num_lab_procedures\", \"meds_increased\", \"admission_source_id\", \"readmitted_tf\",\n",
    "     \"change\", \"age\"]\n",
    "df_zg_minPCA = df_zg[nm]\n",
    "df_zg_minPCA['discharge_disposition_id'] = df_zg_minPCA['discharge_disposition_id'].astype(object)\n",
    "df_zg_minPCA['admission_source_id'] = df_zg_minPCA['admission_source_id'].astype(object)\n",
    "df_zg_minPCA['meds_increased'] = df_zg_minPCA['meds_increased'].astype(object)\n",
    "df_zg_minPCA['readmitted_tf'] = df_zg_minPCA['readmitted_tf'].astype(object)\n",
    "df_zg_minPCA = pd.get_dummies(df_zg_minPCA)"
   ]
  },
  {
   "cell_type": "markdown",
   "metadata": {},
   "source": [
    "### Correlation of just the ones that are most highly correlated (with hot encoding)"
   ]
  },
  {
   "cell_type": "code",
   "execution_count": 56,
   "metadata": {
    "scrolled": true
   },
   "outputs": [
    {
     "data": {
      "text/plain": [
       "num_medications                0.372413\n",
       "num_procedures                 0.225414\n",
       "number_diagnoses               0.214656\n",
       "num_lab_procedures             0.192700\n",
       "discharge_disposition_id_1    -0.315089\n",
       "discharge_disposition_id_2    -0.036202\n",
       "discharge_disposition_id_3     0.137963\n",
       "discharge_disposition_id_4     0.016493\n",
       "discharge_disposition_id_5     0.032898\n",
       "discharge_disposition_id_6     0.096999\n",
       "discharge_disposition_id_7     0.158353\n",
       "discharge_disposition_id_8     0.007743\n",
       "discharge_disposition_id_9    -0.003179\n",
       "discharge_disposition_id_10    0.003832\n",
       "discharge_disposition_id_11    0.008310\n",
       "discharge_disposition_id_12   -0.001586\n",
       "discharge_disposition_id_13    0.027952\n",
       "discharge_disposition_id_14    0.016902\n",
       "discharge_disposition_id_15    0.009787\n",
       "discharge_disposition_id_16   -0.001940\n",
       "discharge_disposition_id_17    0.004969\n",
       "discharge_disposition_id_18    0.039871\n",
       "discharge_disposition_id_19   -0.007616\n",
       "discharge_disposition_id_20   -0.000126\n",
       "discharge_disposition_id_22    0.048168\n",
       "discharge_disposition_id_23    0.192989\n",
       "discharge_disposition_id_24   -0.004366\n",
       "discharge_disposition_id_25   -0.009096\n",
       "discharge_disposition_id_27    0.007121\n",
       "discharge_disposition_id_28   -0.009086\n",
       "                                 ...   \n",
       "admission_source_id_1         -0.073100\n",
       "admission_source_id_2         -0.067309\n",
       "admission_source_id_3          0.002551\n",
       "admission_source_id_4          0.127367\n",
       "admission_source_id_5          0.031920\n",
       "admission_source_id_6          0.064507\n",
       "admission_source_id_7          0.023772\n",
       "admission_source_id_8          0.001502\n",
       "admission_source_id_9         -0.014320\n",
       "admission_source_id_10         0.120785\n",
       "admission_source_id_14        -0.001577\n",
       "admission_source_id_17        -0.034448\n",
       "admission_source_id_20        -0.000263\n",
       "admission_source_id_22         0.008992\n",
       "admission_source_id_25         0.118273\n",
       "readmitted_tf_0               -0.114739\n",
       "readmitted_tf_1                0.114739\n",
       "change_Ch                      0.107939\n",
       "change_No                     -0.107939\n",
       "age_[0-10)                    -0.025735\n",
       "age_[10-20)                   -0.033602\n",
       "age_[20-30)                   -0.031598\n",
       "age_[30-40)                   -0.035209\n",
       "age_[40-50)                   -0.036378\n",
       "age_[50-60)                   -0.042141\n",
       "age_[60-70)                   -0.000421\n",
       "age_[70-80)                    0.034874\n",
       "age_[80-90)                    0.060222\n",
       "age_[90-100)                   0.020249\n",
       "time_in_hospital               1.000000\n",
       "Name: time_in_hospital, Length: 62, dtype: float64"
      ]
     },
     "execution_count": 56,
     "metadata": {},
     "output_type": "execute_result"
    }
   ],
   "source": [
    "pd.concat([df_zg_minPCA, df_zg_y], axis = 1).corr()[\"time_in_hospital\"]"
   ]
  },
  {
   "cell_type": "markdown",
   "metadata": {},
   "source": [
    "# Linear Regression with variables based on correlation >= |0.1|"
   ]
  },
  {
   "cell_type": "code",
   "execution_count": 57,
   "metadata": {},
   "outputs": [
    {
     "name": "stdout",
     "output_type": "stream",
     "text": [
      "Wall time: 246 ms\n"
     ]
    },
    {
     "name": "stderr",
     "output_type": "stream",
     "text": [
      "C:\\ProgramData\\Anaconda3\\envs\\DS7331_35r\\lib\\site-packages\\sklearn\\preprocessing\\data.py:645: DataConversionWarning: Data with input dtype uint8, int64 were all converted to float64 by StandardScaler.\n",
      "  return self.partial_fit(X, y)\n",
      "C:\\ProgramData\\Anaconda3\\envs\\DS7331_35r\\lib\\site-packages\\sklearn\\base.py:464: DataConversionWarning: Data with input dtype uint8, int64 were all converted to float64 by StandardScaler.\n",
      "  return self.fit(X, **fit_params).transform(X)\n",
      "C:\\ProgramData\\Anaconda3\\envs\\DS7331_35r\\lib\\site-packages\\ipykernel_launcher.py:15: DataConversionWarning: Data with input dtype uint8, int64 were all converted to float64 by StandardScaler.\n",
      "  from ipykernel import kernelapp as app\n",
      "C:\\ProgramData\\Anaconda3\\envs\\DS7331_35r\\lib\\site-packages\\ipykernel_launcher.py:16: DataConversionWarning: Data with input dtype uint8, int64 were all converted to float64 by StandardScaler.\n",
      "  app.launch_new_instance()\n"
     ]
    }
   ],
   "source": [
    "%%time\n",
    "x_train, x_valid, x_test, y_train, y_valid, y_test = tvt_split(df_zg_minPCA, df_zg_y, 0.2, 0.2, 7)\n",
    "\n",
    "#Print out the shapes of the train/valid/test sets\n",
    "x_train.shape, x_valid.shape, x_test.shape\n",
    "\n",
    "#Create variables for just this operation\n",
    "x_t = x_train\n",
    "x_v = x_valid\n",
    "y_t = y_train\n",
    "y_v = y_valid\n",
    "y_tst = y_test\n",
    "\n",
    "scl = StandardScaler()\n",
    "x_t = scl.fit_transform(x_train)\n",
    "x_v = scl.transform(x_valid)\n",
    "x_tst = scl.transform(x_test)"
   ]
  },
  {
   "cell_type": "markdown",
   "metadata": {},
   "source": [
    "### Linear Regression"
   ]
  },
  {
   "cell_type": "code",
   "execution_count": 58,
   "metadata": {},
   "outputs": [
    {
     "name": "stdout",
     "output_type": "stream",
     "text": [
      "Wall time: 105 ms\n"
     ]
    }
   ],
   "source": [
    "%%time\n",
    "from sklearn.linear_model import LinearRegression\n",
    "linearRegressor = LinearRegression()\n",
    "linearRegressor.fit(x_t , y_t)"
   ]
  },
  {
   "cell_type": "code",
   "execution_count": 59,
   "metadata": {},
   "outputs": [
    {
     "name": "stdout",
     "output_type": "stream",
     "text": [
      "MSE: 9.308022017195026e+21\n",
      "Wall time: 3.97 ms\n"
     ]
    }
   ],
   "source": [
    "%%time\n",
    "#Find the optimal cutoff point\n",
    "y_pred = linearRegressor.predict(x_tst)\n",
    "\n",
    "#Calculate the MSE\n",
    "error = mean_squared_error(y_tst, y_pred)\n",
    "\n",
    "#Printing the results\n",
    "print(\"MSE:\", error)"
   ]
  },
  {
   "cell_type": "code",
   "execution_count": 60,
   "metadata": {},
   "outputs": [
    {
     "data": {
      "image/png": "[encoded data removed]",
      "text/plain": [
       "<Figure size 1080x288 with 1 Axes>"
      ]
     },
     "metadata": {
      "needs_background": "light"
     },
     "output_type": "display_data"
    }
   ],
   "source": [
    "pd.Series(linearRegressor.coef_[0].T, index = x_train.columns).plot(kind = 'bar', figsize=(15,4))\n",
    "plt.show()"
   ]
  }
 ],
 "metadata": {
  "kernelspec": {
   "display_name": "Python 3",
   "language": "python",
   "name": "python3"
  },
  "language_info": {
   "codemirror_mode": {
    "name": "ipython",
    "version": 3
   },
   "file_extension": ".py",
   "mimetype": "text/x-python",
   "name": "python",
   "nbconvert_exporter": "python",
   "pygments_lexer": "ipython3",
   "version": "3.7.3"
  }
 },
 "nbformat": 4,
 "nbformat_minor": 2
}
