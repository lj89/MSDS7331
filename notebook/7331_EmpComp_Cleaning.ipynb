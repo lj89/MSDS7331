{
 "cells": [
  {
   "cell_type": "markdown",
   "metadata": {},
   "source": [
    "### Load the Libraries and import the data"
   ]
  },
  {
   "cell_type": "code",
   "execution_count": 2,
   "metadata": {},
   "outputs": [],
   "source": [
    "import pandas as pd\n",
    "import numpy as np\n",
    "import sqlite3\n",
    "import pandas_profiling\n",
    "import rpy2\n",
    "import rpy2.rinterface\n",
    "import matplotlib.pyplot as plt\n",
    "get_ipython().run_line_magic('matplotlib', 'inline')\n",
    "import warnings # current version of seaborn generates a bunch of warnings that we'll ignore\n",
    "warnings.filterwarnings(\"ignore\")\n",
    "import seaborn as sns\n",
    "#import rpy2.ipython"
   ]
  },
  {
   "cell_type": "code",
   "execution_count": 2,
   "metadata": {},
   "outputs": [
    {
     "name": "stdout",
     "output_type": "stream",
     "text": [
      "Finished Loading Data.\n"
     ]
    }
   ],
   "source": [
    "#Read in the data from the file\n",
    "df = pd.read_csv('C:/githubrepo/7331_Project/data/Employee_Compensation.csv')\n",
    "print(\"Finished Loading Data.\")"
   ]
  },
  {
   "cell_type": "markdown",
   "metadata": {},
   "source": [
    "## Data Quality\n",
    "Visualize the negatives as percentage (from Orig Data)\n",
    "Job Family Code: 36 Unassigned\n",
    "Job Family Code: 2451 with code of 0\n",
    "Job Family: 2451 Untitled\n",
    "Job Family: 36 Unassigned\n",
    "\n",
    "Dept is 50% blank but can be fixed using reference https://data.sfgov.org/City-Management-and-Ethics/Reference-Department-Code-List/j2hz-23ps/data"
   ]
  },
  {
   "cell_type": "code",
   "execution_count": 3,
   "metadata": {},
   "outputs": [
    {
     "name": "stdout",
     "output_type": "stream",
     "text": [
      "<class 'pandas.core.frame.DataFrame'>\n",
      "Int64Index: 334535 entries, 2 to 831991\n",
      "Data columns (total 22 columns):\n",
      "Year Type                  334535 non-null object\n",
      "Year                       334535 non-null int64\n",
      "Organization Group Code    334535 non-null int64\n",
      "Organization Group         334535 non-null object\n",
      "Department Code            305591 non-null object\n",
      "Department                 213202 non-null object\n",
      "Union Code                 334320 non-null float64\n",
      "Union                      334320 non-null object\n",
      "Job Family Code            334535 non-null object\n",
      "Job Family                 334535 non-null object\n",
      "Job Code                   334535 non-null object\n",
      "Job                        334534 non-null object\n",
      "Employee Identifier        334535 non-null int64\n",
      "Salaries                   334535 non-null float64\n",
      "Overtime                   334535 non-null float64\n",
      "Other Salaries             334535 non-null float64\n",
      "Total Salary               334535 non-null float64\n",
      "Retirement                 334535 non-null float64\n",
      "Health and Dental          334535 non-null float64\n",
      "Other Benefits             334535 non-null float64\n",
      "Total Benefits             334535 non-null float64\n",
      "Total Compensation         334535 non-null float64\n",
      "dtypes: float64(10), int64(3), object(9)\n",
      "memory usage: 58.7+ MB\n",
      "None\n"
     ]
    }
   ],
   "source": [
    "#Save the dataframe into a new dataframe to clean\n",
    "df_clean = df\n",
    "#Keeps all of the Fiscal Year entries\n",
    "df_clean = df_clean[df_clean['Year Type'] == 'Fiscal']\n",
    "print(df_clean.info())"
   ]
  },
  {
   "cell_type": "markdown",
   "metadata": {},
   "source": [
    "### Cleaning"
   ]
  },
  {
   "cell_type": "code",
   "execution_count": 4,
   "metadata": {},
   "outputs": [],
   "source": [
    "#Get names of indexes for which column Year has value 2028\n",
    "indexNames = df_clean.loc[df_clean['Year'] == 2028, 'Year'].index\n",
    "# Delete these row indexes from dataFrame\n",
    "df_clean.drop(indexNames, inplace = True)"
   ]
  },
  {
   "cell_type": "code",
   "execution_count": 5,
   "metadata": {},
   "outputs": [],
   "source": [
    "#Get names of indexes for which column Job is Null\n",
    "indexNames = df_clean.loc[df_clean['Job'] == np.NaN, 'Year'].index\n",
    "# Delete these row indexes from dataFrame\n",
    "df_clean.drop(indexNames, inplace = True)"
   ]
  },
  {
   "cell_type": "code",
   "execution_count": null,
   "metadata": {},
   "outputs": [],
   "source": [
    "#Deletes the 1 row missing the Job\n",
    "indexNames = df_clean.loc[df_clean['Job'].isnull()].index\n",
    "df_clean.drop(indexNames, inplace = True)\n",
    "df_clean.describe()"
   ]
  },
  {
   "cell_type": "markdown",
   "metadata": {},
   "source": [
    "### Removes rows with negative values"
   ]
  },
  {
   "cell_type": "code",
   "execution_count": 7,
   "metadata": {},
   "outputs": [],
   "source": [
    "#Delete Salaries values with negatives\n",
    "indexNames = df_clean.loc[df_clean['Salaries'] < 0, 'Salaries'].index\n",
    "df_clean.drop(indexNames, inplace = True)"
   ]
  },
  {
   "cell_type": "code",
   "execution_count": 8,
   "metadata": {},
   "outputs": [],
   "source": [
    "#Delete Overtime values with negatives\n",
    "indexNames = df_clean.loc[df_clean['Overtime'] < 0, 'Overtime'].index\n",
    "df_clean.drop(indexNames, inplace = True)"
   ]
  },
  {
   "cell_type": "code",
   "execution_count": 9,
   "metadata": {},
   "outputs": [],
   "source": [
    "#Delete Other Salaries values with negatives\n",
    "indexNames = df_clean.loc[df_clean['Other Salaries'] < 0, 'Other Salaries'].index\n",
    "df_clean.drop(indexNames, inplace = True)"
   ]
  },
  {
   "cell_type": "code",
   "execution_count": 10,
   "metadata": {},
   "outputs": [],
   "source": [
    "#Delete Total Salary values with negatives\n",
    "indexNames = df_clean.loc[df_clean['Total Salary'] < 0, 'Total Salary'].index\n",
    "df_clean.drop(indexNames, inplace = True)"
   ]
  },
  {
   "cell_type": "code",
   "execution_count": 11,
   "metadata": {},
   "outputs": [],
   "source": [
    "#Delete Retirement values with negatives\n",
    "indexNames = df_clean.loc[df_clean['Retirement'] < 0, 'Retirement'].index\n",
    "df_clean.drop(indexNames, inplace = True)"
   ]
  },
  {
   "cell_type": "code",
   "execution_count": 12,
   "metadata": {},
   "outputs": [],
   "source": [
    "#Delete Health and Dental values with negatives\n",
    "indexNames = df_clean.loc[df_clean['Health and Dental'] < 0, 'Health and Dental'].index\n",
    "df_clean.drop(indexNames, inplace = True)"
   ]
  },
  {
   "cell_type": "code",
   "execution_count": 13,
   "metadata": {},
   "outputs": [],
   "source": [
    "#Delete Other Benefits values with negatives\n",
    "indexNames = df_clean.loc[df_clean['Other Benefits'] < 0, 'Other Benefits'].index\n",
    "df_clean.drop(indexNames, inplace = True)"
   ]
  },
  {
   "cell_type": "code",
   "execution_count": 14,
   "metadata": {},
   "outputs": [],
   "source": [
    "#Delete Total Benefits values with negatives\n",
    "indexNames = df_clean.loc[df_clean['Total Benefits'] < 0, 'Total Benefits'].index\n",
    "df_clean.drop(indexNames, inplace = True)"
   ]
  },
  {
   "cell_type": "code",
   "execution_count": 15,
   "metadata": {},
   "outputs": [],
   "source": [
    "#Delete Total Compensation values with negatives\n",
    "indexNames = df_clean.loc[df_clean['Total Compensation'] < 0, 'Total Compensation'].index\n",
    "df_clean.drop(indexNames, inplace = True)"
   ]
  },
  {
   "cell_type": "markdown",
   "metadata": {},
   "source": [
    "### Shows that there are no more negatives"
   ]
  },
  {
   "cell_type": "code",
   "execution_count": null,
   "metadata": {},
   "outputs": [],
   "source": [
    "df_clean.describe()"
   ]
  },
  {
   "cell_type": "markdown",
   "metadata": {},
   "source": [
    "### Fixes Union Code"
   ]
  },
  {
   "cell_type": "code",
   "execution_count": 16,
   "metadata": {},
   "outputs": [],
   "source": [
    "#=========Union Code is by Job=========\n",
    "#Information Systems Trainee - 21, \"Prof & Tech Eng, Local 21\"\n",
    "#Recreation Facility Assistant - 790, \"SEIU, Local 1021, Misc\"\n",
    "#Technology Expert II - 351, \"Municipal Exec Assoc, Misc\"\n",
    "#Transportation Controller Trainee - NONE, \"NONE\"\n",
    "df_clean.loc[(df_clean['Job'] == \"Information Systems Trainee\") & (df_clean['Union Code'].isnull()), 'Union Code'] = 21\n",
    "df_clean.loc[(df_clean['Job'] == \"Information Systems Trainee\") & (df_clean['Union'].isnull()), 'Union'] = \"Prof & Tech Eng, Local 21\"\n",
    "#===================================================================================================================================================\n",
    "df_clean.loc[(df_clean['Job'] == \"Recreation Facility Assistant\") & (df_clean['Union Code'].isnull()), 'Union Code'] = 790\n",
    "df_clean.loc[(df_clean['Job'] == \"Recreation Facility Assistant\") & (df_clean['Union'].isnull()), 'Union'] = \"SEIU, Local 1021, Misc\"\n",
    "#===================================================================================================================================================\n",
    "df_clean.loc[(df_clean['Job'] == \"Technology Expert II\") & (df_clean['Union Code'].isnull()), 'Union Code'] = 351\n",
    "df_clean.loc[(df_clean['Job'] == \"Technology Expert II\") & (df_clean['Union'].isnull()), 'Union'] = \"Municipal Exec Assoc, Misc\"\n",
    "#===================================================================================================================================================\n",
    "df_clean.loc[(df_clean['Job'] == \"Transportation Controller Trainee\") & (df_clean['Union Code'].isnull()), 'Union Code'] = 0\n",
    "df_clean.loc[(df_clean['Job'] == \"Transportation Controller Trainee\") & (df_clean['Union'].isnull()), 'Union'] = \"None\"\n"
   ]
  },
  {
   "cell_type": "markdown",
   "metadata": {},
   "source": [
    "### Now see that there is very little missing data"
   ]
  },
  {
   "cell_type": "code",
   "execution_count": 5,
   "metadata": {},
   "outputs": [
    {
     "data": {
      "text/html": [
       "<div>\n",
       "<style scoped>\n",
       "    .dataframe tbody tr th:only-of-type {\n",
       "        vertical-align: middle;\n",
       "    }\n",
       "\n",
       "    .dataframe tbody tr th {\n",
       "        vertical-align: top;\n",
       "    }\n",
       "\n",
       "    .dataframe thead th {\n",
       "        text-align: right;\n",
       "    }\n",
       "</style>\n",
       "<table border=\"1\" class=\"dataframe\">\n",
       "  <thead>\n",
       "    <tr style=\"text-align: right;\">\n",
       "      <th></th>\n",
       "      <th>Department</th>\n",
       "      <th>Department Code</th>\n",
       "      <th>Total Compensation</th>\n",
       "      <th>Total Benefits</th>\n",
       "      <th>Year</th>\n",
       "      <th>Organization Group Code</th>\n",
       "      <th>Organization Group</th>\n",
       "      <th>Union Code</th>\n",
       "      <th>Union</th>\n",
       "      <th>Job Family Code</th>\n",
       "      <th>...</th>\n",
       "      <th>Job</th>\n",
       "      <th>Employee Identifier</th>\n",
       "      <th>Salaries</th>\n",
       "      <th>Overtime</th>\n",
       "      <th>Other Salaries</th>\n",
       "      <th>Total Salary</th>\n",
       "      <th>Retirement</th>\n",
       "      <th>Health and Dental</th>\n",
       "      <th>Other Benefits</th>\n",
       "      <th>Year Type</th>\n",
       "    </tr>\n",
       "  </thead>\n",
       "  <tbody>\n",
       "    <tr>\n",
       "      <th>Total</th>\n",
       "      <td>121254.000000</td>\n",
       "      <td>28940.000000</td>\n",
       "      <td>0.0</td>\n",
       "      <td>0.0</td>\n",
       "      <td>0.0</td>\n",
       "      <td>0.0</td>\n",
       "      <td>0.0</td>\n",
       "      <td>0.0</td>\n",
       "      <td>0.0</td>\n",
       "      <td>0.0</td>\n",
       "      <td>...</td>\n",
       "      <td>0.0</td>\n",
       "      <td>0.0</td>\n",
       "      <td>0.0</td>\n",
       "      <td>0.0</td>\n",
       "      <td>0.0</td>\n",
       "      <td>0.0</td>\n",
       "      <td>0.0</td>\n",
       "      <td>0.0</td>\n",
       "      <td>0.0</td>\n",
       "      <td>0.0</td>\n",
       "    </tr>\n",
       "    <tr>\n",
       "      <th>Percent</th>\n",
       "      <td>36.347776</td>\n",
       "      <td>8.675216</td>\n",
       "      <td>0.0</td>\n",
       "      <td>0.0</td>\n",
       "      <td>0.0</td>\n",
       "      <td>0.0</td>\n",
       "      <td>0.0</td>\n",
       "      <td>0.0</td>\n",
       "      <td>0.0</td>\n",
       "      <td>0.0</td>\n",
       "      <td>...</td>\n",
       "      <td>0.0</td>\n",
       "      <td>0.0</td>\n",
       "      <td>0.0</td>\n",
       "      <td>0.0</td>\n",
       "      <td>0.0</td>\n",
       "      <td>0.0</td>\n",
       "      <td>0.0</td>\n",
       "      <td>0.0</td>\n",
       "      <td>0.0</td>\n",
       "      <td>0.0</td>\n",
       "    </tr>\n",
       "  </tbody>\n",
       "</table>\n",
       "<p>2 rows × 22 columns</p>\n",
       "</div>"
      ],
      "text/plain": [
       "            Department  Department Code  Total Compensation  Total Benefits  \\\n",
       "Total    121254.000000     28940.000000                 0.0             0.0   \n",
       "Percent      36.347776         8.675216                 0.0             0.0   \n",
       "\n",
       "         Year  Organization Group Code  Organization Group  Union Code  Union  \\\n",
       "Total     0.0                      0.0                 0.0         0.0    0.0   \n",
       "Percent   0.0                      0.0                 0.0         0.0    0.0   \n",
       "\n",
       "         Job Family Code  ...  Job  Employee Identifier  Salaries  Overtime  \\\n",
       "Total                0.0  ...  0.0                  0.0       0.0       0.0   \n",
       "Percent              0.0  ...  0.0                  0.0       0.0       0.0   \n",
       "\n",
       "         Other Salaries  Total Salary  Retirement  Health and Dental  \\\n",
       "Total               0.0           0.0         0.0                0.0   \n",
       "Percent             0.0           0.0         0.0                0.0   \n",
       "\n",
       "         Other Benefits  Year Type  \n",
       "Total               0.0        0.0  \n",
       "Percent             0.0        0.0  \n",
       "\n",
       "[2 rows x 22 columns]"
      ]
     },
     "execution_count": 5,
     "metadata": {},
     "output_type": "execute_result"
    }
   ],
   "source": [
    "# Check Missing Data\n",
    "total = df_clean.isnull().sum().sort_values(ascending = False)\n",
    "percent = (df_clean.isnull().sum() / df_clean.isnull().count() * 100).sort_values(ascending = False)\n",
    "pd.concat([total, percent], axis = 1, keys = ['Total', 'Percent']).transpose()"
   ]
  },
  {
   "cell_type": "markdown",
   "metadata": {},
   "source": [
    "### Fix Job Family Code and Job Family "
   ]
  },
  {
   "cell_type": "markdown",
   "metadata": {},
   "source": [
    "# WARNING! RUNS FOR A LONG TIME"
   ]
  },
  {
   "cell_type": "code",
   "execution_count": 18,
   "metadata": {},
   "outputs": [
    {
     "name": "stdout",
     "output_type": "stream",
     "text": [
      "Done\n"
     ]
    }
   ],
   "source": [
    "#Job Family Code = Job Family. They are determined by Job Code\n",
    "\n",
    "#All the jobs\n",
    "jobs = df_clean['Job Code'].unique()\n",
    "dfj = pd.DataFrame(data=jobs)\n",
    "dfj.columns = ['Job Code']\n",
    "\n",
    "#Gets all unique groupings of Job Family/Code and Job Code\n",
    "df_jobstuff = pd.DataFrame(columns=['Job Code','Job Family','Job Family Code'])\n",
    "for index, row in dfj.iterrows():\n",
    "    t = df_clean[ (df_clean['Job Code'] == row['Job Code']) & ((df_clean['Job Family'] != \"Unassigned\") & (df_clean['Job Family'] != \"Untitled\"))]\n",
    "    arg = t.groupby(['Job Code', 'Job Family', 'Job Family Code']).size().reset_index(name = 'Freq')\n",
    "    if arg['Job Code'].count() > 1:\n",
    "        arg.head()\n",
    "    arg = arg[['Job Code', 'Job Family', 'Job Family Code']]\n",
    "    df_jobstuff = df_jobstuff.append(arg)\n",
    "    \n",
    "print(\"Done\")"
   ]
  },
  {
   "cell_type": "markdown",
   "metadata": {},
   "source": [
    "##### Does the actual fixing of the unassigned and unknown values"
   ]
  },
  {
   "cell_type": "markdown",
   "metadata": {},
   "source": [
    "### WARNING! RUNS FOR A LONG TIME"
   ]
  },
  {
   "cell_type": "code",
   "execution_count": 19,
   "metadata": {},
   "outputs": [
    {
     "name": "stdout",
     "output_type": "stream",
     "text": [
      "Done!\n"
     ]
    }
   ],
   "source": [
    "df_clean = df_clean.reset_index(drop=True)\n",
    "\n",
    "#Get a list of row ID's of ones missing stuff\n",
    "errRowNums = df_clean.index[(df_clean['Job Family'] == \"Unassigned\") | (df_clean['Job Family'] == \"Untitled\")].tolist()\n",
    "length = len(errRowNums)\n",
    "for i in range(length): \n",
    "    jobname = df_clean.iloc[errRowNums[i]][10]\n",
    "    r = df_jobstuff[df_jobstuff['Job Code'] == jobname]\n",
    "    if r.empty:\n",
    "        continue\n",
    "    df_clean.loc[errRowNums[i], 'Job Family'] = r.iloc[0]['Job Family']\n",
    "    df_clean.loc[errRowNums[i], 'Job Family Code'] = r.iloc[0]['Job Family Code']\n",
    "\n",
    "print(\"Done!\")\n"
   ]
  },
  {
   "cell_type": "markdown",
   "metadata": {},
   "source": [
    "### Save the cleaned dataset 'df_clean' to a .csv file"
   ]
  },
  {
   "cell_type": "code",
   "execution_count": 24,
   "metadata": {},
   "outputs": [
    {
     "name": "stdout",
     "output_type": "stream",
     "text": [
      "Done Saving File\n"
     ]
    }
   ],
   "source": [
    "df_clean.to_csv(\"EmpComp_Cleaned.csv\", index = False, sep=',')\n",
    "print(\"Done Saving File\")"
   ]
  },
  {
   "cell_type": "markdown",
   "metadata": {},
   "source": [
    "# Still need to fix Department and Department Code columns"
   ]
  },
  {
   "cell_type": "code",
   "execution_count": 2,
   "metadata": {},
   "outputs": [
    {
     "name": "stdout",
     "output_type": "stream",
     "text": [
      "Finished Loading Data.\n"
     ]
    }
   ],
   "source": [
    "#Read in the data from the file\n",
    "df = pd.read_csv('C:/githubrepo/7331_Project/data/EmpComp_Cleaned.csv')\n",
    "print(\"Finished Loading Data.\")\n",
    "df_clean = df"
   ]
  },
  {
   "cell_type": "markdown",
   "metadata": {},
   "source": [
    "### Fixing the empty Department values"
   ]
  },
  {
   "cell_type": "markdown",
   "metadata": {},
   "source": [
    "# WARNING, TAKES A LONNNNNG TIME TO RUN"
   ]
  },
  {
   "cell_type": "code",
   "execution_count": 10,
   "metadata": {},
   "outputs": [],
   "source": [
    "dptcode = df_clean['Department Code'].unique()\n",
    "df_dc = pd.DataFrame(data=dptcode)\n",
    "df_dc.columns = ['Department Code']\n",
    "df_dc = df_dc[df_dc['Department Code'].notnull()]"
   ]
  },
  {
   "cell_type": "code",
   "execution_count": 12,
   "metadata": {},
   "outputs": [
    {
     "name": "stdout",
     "output_type": "stream",
     "text": [
      "Done\n"
     ]
    }
   ],
   "source": [
    "#Gets all unique groupings of Job Family/Code and Job Code\n",
    "df_dptstuff = pd.DataFrame(columns=['Department Code','Department'])\n",
    "for index, row in df_dc.iterrows():\n",
    "    t = df_clean[ (df_clean['Department Code'] == row['Department Code']) & (df_clean['Department'].notnull())]\n",
    "    arg = t.groupby(['Department Code', 'Department']).size().reset_index(name = 'Freq')\n",
    "    if arg['Department Code'].count() > 1:\n",
    "        break\n",
    "    arg = arg[['Department Code', 'Department']]\n",
    "    df_dptstuff = df_dptstuff.append(arg)\n",
    "    \n",
    "print(\"Done\")"
   ]
  },
  {
   "cell_type": "code",
   "execution_count": 16,
   "metadata": {},
   "outputs": [
    {
     "data": {
      "text/html": [
       "<div>\n",
       "<style scoped>\n",
       "    .dataframe tbody tr th:only-of-type {\n",
       "        vertical-align: middle;\n",
       "    }\n",
       "\n",
       "    .dataframe tbody tr th {\n",
       "        vertical-align: top;\n",
       "    }\n",
       "\n",
       "    .dataframe thead th {\n",
       "        text-align: right;\n",
       "    }\n",
       "</style>\n",
       "<table border=\"1\" class=\"dataframe\">\n",
       "  <thead>\n",
       "    <tr style=\"text-align: right;\">\n",
       "      <th></th>\n",
       "      <th>Department Code</th>\n",
       "      <th>Department</th>\n",
       "    </tr>\n",
       "  </thead>\n",
       "  <tbody>\n",
       "    <tr>\n",
       "      <th>0</th>\n",
       "      <td>DPH</td>\n",
       "      <td>DPH Public Health</td>\n",
       "    </tr>\n",
       "    <tr>\n",
       "      <th>0</th>\n",
       "      <td>DPW</td>\n",
       "      <td>DPW GSA - Public Works</td>\n",
       "    </tr>\n",
       "    <tr>\n",
       "      <th>0</th>\n",
       "      <td>PUC</td>\n",
       "      <td>PUB Public Utilities Bureaus</td>\n",
       "    </tr>\n",
       "    <tr>\n",
       "      <th>0</th>\n",
       "      <td>ADM</td>\n",
       "      <td>ADM Gen Svcs Agency-City Admin</td>\n",
       "    </tr>\n",
       "    <tr>\n",
       "      <th>0</th>\n",
       "      <td>FIR</td>\n",
       "      <td>FIR Fire Department</td>\n",
       "    </tr>\n",
       "  </tbody>\n",
       "</table>\n",
       "</div>"
      ],
      "text/plain": [
       "  Department Code                      Department\n",
       "0             DPH               DPH Public Health\n",
       "0             DPW          DPW GSA - Public Works\n",
       "0             PUC    PUB Public Utilities Bureaus\n",
       "0             ADM  ADM Gen Svcs Agency-City Admin\n",
       "0             FIR             FIR Fire Department"
      ]
     },
     "execution_count": 16,
     "metadata": {},
     "output_type": "execute_result"
    }
   ],
   "source": [
    "df_dptstuff.head()"
   ]
  },
  {
   "cell_type": "code",
   "execution_count": 21,
   "metadata": {},
   "outputs": [
    {
     "name": "stdout",
     "output_type": "stream",
     "text": [
      "Done!\n"
     ]
    }
   ],
   "source": [
    "df_clean = df_clean.reset_index(drop=True)\n",
    "\n",
    "#Get a list of row ID's of ones missing stuff\n",
    "errRowNums = df_clean.index[df_clean['Department'].isnull()].tolist()\n",
    "length = len(errRowNums)\n",
    "for i in range(length): \n",
    "    dptcode = df_clean.iloc[errRowNums[i]][4]\n",
    "    r = df_dptstuff[df_dptstuff['Department Code'] == dptcode]\n",
    "    if r.empty:\n",
    "        continue\n",
    "    df_clean.loc[errRowNums[i], 'Department'] = r.iloc[0]['Department']\n",
    "\n",
    "print(\"Done!\")"
   ]
  },
  {
   "cell_type": "code",
   "execution_count": 23,
   "metadata": {},
   "outputs": [],
   "source": [
    "#Just backing it up for personal use\n",
    "df_clean1 = df_clean"
   ]
  },
  {
   "cell_type": "code",
   "execution_count": 22,
   "metadata": {},
   "outputs": [
    {
     "data": {
      "text/html": [
       "<div>\n",
       "<style scoped>\n",
       "    .dataframe tbody tr th:only-of-type {\n",
       "        vertical-align: middle;\n",
       "    }\n",
       "\n",
       "    .dataframe tbody tr th {\n",
       "        vertical-align: top;\n",
       "    }\n",
       "\n",
       "    .dataframe thead th {\n",
       "        text-align: right;\n",
       "    }\n",
       "</style>\n",
       "<table border=\"1\" class=\"dataframe\">\n",
       "  <thead>\n",
       "    <tr style=\"text-align: right;\">\n",
       "      <th></th>\n",
       "      <th>Department</th>\n",
       "      <th>Department Code</th>\n",
       "      <th>Total Compensation</th>\n",
       "      <th>Total Benefits</th>\n",
       "      <th>Year</th>\n",
       "      <th>Organization Group Code</th>\n",
       "      <th>Organization Group</th>\n",
       "      <th>Union Code</th>\n",
       "      <th>Union</th>\n",
       "      <th>Job Family Code</th>\n",
       "      <th>...</th>\n",
       "      <th>Job</th>\n",
       "      <th>Employee Identifier</th>\n",
       "      <th>Salaries</th>\n",
       "      <th>Overtime</th>\n",
       "      <th>Other Salaries</th>\n",
       "      <th>Total Salary</th>\n",
       "      <th>Retirement</th>\n",
       "      <th>Health and Dental</th>\n",
       "      <th>Other Benefits</th>\n",
       "      <th>Year Type</th>\n",
       "    </tr>\n",
       "  </thead>\n",
       "  <tbody>\n",
       "    <tr>\n",
       "      <th>Total</th>\n",
       "      <td>36936.000000</td>\n",
       "      <td>28940.000000</td>\n",
       "      <td>0.0</td>\n",
       "      <td>0.0</td>\n",
       "      <td>0.0</td>\n",
       "      <td>0.0</td>\n",
       "      <td>0.0</td>\n",
       "      <td>0.0</td>\n",
       "      <td>0.0</td>\n",
       "      <td>0.0</td>\n",
       "      <td>...</td>\n",
       "      <td>0.0</td>\n",
       "      <td>0.0</td>\n",
       "      <td>0.0</td>\n",
       "      <td>0.0</td>\n",
       "      <td>0.0</td>\n",
       "      <td>0.0</td>\n",
       "      <td>0.0</td>\n",
       "      <td>0.0</td>\n",
       "      <td>0.0</td>\n",
       "      <td>0.0</td>\n",
       "    </tr>\n",
       "    <tr>\n",
       "      <th>Percent</th>\n",
       "      <td>11.072142</td>\n",
       "      <td>8.675216</td>\n",
       "      <td>0.0</td>\n",
       "      <td>0.0</td>\n",
       "      <td>0.0</td>\n",
       "      <td>0.0</td>\n",
       "      <td>0.0</td>\n",
       "      <td>0.0</td>\n",
       "      <td>0.0</td>\n",
       "      <td>0.0</td>\n",
       "      <td>...</td>\n",
       "      <td>0.0</td>\n",
       "      <td>0.0</td>\n",
       "      <td>0.0</td>\n",
       "      <td>0.0</td>\n",
       "      <td>0.0</td>\n",
       "      <td>0.0</td>\n",
       "      <td>0.0</td>\n",
       "      <td>0.0</td>\n",
       "      <td>0.0</td>\n",
       "      <td>0.0</td>\n",
       "    </tr>\n",
       "  </tbody>\n",
       "</table>\n",
       "<p>2 rows × 22 columns</p>\n",
       "</div>"
      ],
      "text/plain": [
       "           Department  Department Code  Total Compensation  Total Benefits  \\\n",
       "Total    36936.000000     28940.000000                 0.0             0.0   \n",
       "Percent     11.072142         8.675216                 0.0             0.0   \n",
       "\n",
       "         Year  Organization Group Code  Organization Group  Union Code  Union  \\\n",
       "Total     0.0                      0.0                 0.0         0.0    0.0   \n",
       "Percent   0.0                      0.0                 0.0         0.0    0.0   \n",
       "\n",
       "         Job Family Code  ...  Job  Employee Identifier  Salaries  Overtime  \\\n",
       "Total                0.0  ...  0.0                  0.0       0.0       0.0   \n",
       "Percent              0.0  ...  0.0                  0.0       0.0       0.0   \n",
       "\n",
       "         Other Salaries  Total Salary  Retirement  Health and Dental  \\\n",
       "Total               0.0           0.0         0.0                0.0   \n",
       "Percent             0.0           0.0         0.0                0.0   \n",
       "\n",
       "         Other Benefits  Year Type  \n",
       "Total               0.0        0.0  \n",
       "Percent             0.0        0.0  \n",
       "\n",
       "[2 rows x 22 columns]"
      ]
     },
     "execution_count": 22,
     "metadata": {},
     "output_type": "execute_result"
    }
   ],
   "source": [
    "# Check Missing Data\n",
    "total = df_clean.isnull().sum().sort_values(ascending = False)\n",
    "percent = (df_clean.isnull().sum() / df_clean.isnull().count() * 100).sort_values(ascending = False)\n",
    "pd.concat([total, percent], axis = 1, keys = ['Total', 'Percent']).transpose()"
   ]
  },
  {
   "cell_type": "code",
   "execution_count": 25,
   "metadata": {},
   "outputs": [
    {
     "name": "stdout",
     "output_type": "stream",
     "text": [
      "Done Saving File\n"
     ]
    }
   ],
   "source": [
    "df_clean.to_csv(\"EmpComp_Cleaned.csv\", index = False, sep=',')\n",
    "print(\"Done Saving File\")"
   ]
  },
  {
   "cell_type": "markdown",
   "metadata": {},
   "source": [
    "### Fixing the remaining Job Family and Job Family Code columns"
   ]
  },
  {
   "cell_type": "code",
   "execution_count": 9,
   "metadata": {},
   "outputs": [
    {
     "name": "stdout",
     "output_type": "stream",
     "text": [
      "Finished Loading Data.\n"
     ]
    }
   ],
   "source": [
    "df = pd.read_csv('C:/githubrepo/7331_Project/data/EmpComp_Cleaned.csv')\n",
    "df_clean = df\n",
    "print(\"Finished Loading Data.\")"
   ]
  },
  {
   "cell_type": "code",
   "execution_count": 10,
   "metadata": {},
   "outputs": [],
   "source": [
    "df_clean.loc[df_clean['Job Code'] == \"0886\", 'Job Family'] = \"Management\"\n",
    "df_clean.loc[df_clean['Job Code'] == \"0886\", 'Job Family Code'] = \"0900\"\n",
    "#======================================================================================================================================================\n",
    "df_clean.loc[df_clean['Job Code'] == \"381C\", 'Job Family'] = \"Legal and Count\"\n",
    "df_clean.loc[df_clean['Job Code'] == \"381C\", 'Job Family Code'] = \"8100\"\n",
    "#======================================================================================================================================================\n",
    "df_clean.loc[df_clean['Job Code'] == \"274C\", 'Job Family'] = \"SF Superior Court\"\n",
    "df_clean.loc[df_clean['Job Code'] == \"274C\", 'Job Family Code'] = \"SCRT\"\n",
    "#======================================================================================================================================================\n",
    "df_clean.loc[df_clean['Job Code'] == \"255C\", 'Job Family'] = \"SF Superior Court\"\n",
    "df_clean.loc[df_clean['Job Code'] == \"255C\", 'Job Family Code'] = \"SCRT\""
   ]
  },
  {
   "cell_type": "code",
   "execution_count": 11,
   "metadata": {},
   "outputs": [
    {
     "name": "stdout",
     "output_type": "stream",
     "text": [
      "Done Saving File\n"
     ]
    }
   ],
   "source": [
    "df_clean.to_csv(\"EmpComp_Cleaned.csv\", index = False, sep=',')\n",
    "print(\"Done Saving File\")"
   ]
  },
  {
   "cell_type": "code",
   "execution_count": null,
   "metadata": {},
   "outputs": [],
   "source": []
  }
 ],
 "metadata": {
  "kernelspec": {
   "display_name": "Python 3",
   "language": "python",
   "name": "python3"
  },
  "language_info": {
   "codemirror_mode": {
    "name": "ipython",
    "version": 3
   },
   "file_extension": ".py",
   "mimetype": "text/x-python",
   "name": "python",
   "nbconvert_exporter": "python",
   "pygments_lexer": "ipython3",
   "version": "3.7.3"
  }
 },
 "nbformat": 4,
 "nbformat_minor": 2
}
