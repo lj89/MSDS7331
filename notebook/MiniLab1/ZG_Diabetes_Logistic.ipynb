{
 "cells": [
  {
   "cell_type": "code",
   "execution_count": 215,
   "metadata": {},
   "outputs": [],
   "source": [
    "import pandas as pd\n",
    "import numpy as np\n",
    "import pandas_profiling\n",
    "import matplotlib.pyplot as plt\n",
    "get_ipython().run_line_magic('matplotlib', 'inline')\n",
    "import warnings\n",
    "warnings.filterwarnings(\"ignore\")\n",
    "import seaborn as sns\n",
    "from sklearn.linear_model import LogisticRegression\n",
    "from sklearn.model_selection import train_test_split\n",
    "from sklearn.metrics import accuracy_score\n",
    "from sklearn.metrics import f1_score\n",
    "from sklearn.metrics import roc_auc_score\n",
    "from sklearn.linear_model import SGDClassifier\n",
    "from sklearn.preprocessing import StandardScaler\n",
    "from sklearn.model_selection import StratifiedShuffleSplit \n",
    "from sklearn import metrics as mt\n",
    "from sklearn.metrics import roc_curve, auc\n",
    "import operator"
   ]
  },
  {
   "cell_type": "code",
   "execution_count": 7,
   "metadata": {},
   "outputs": [
    {
     "name": "stdout",
     "output_type": "stream",
     "text": [
      "Done reading data.\n"
     ]
    }
   ],
   "source": [
    "directory = 'C:/githubrepo/7331_Project/data/'\n",
    "df_zg = pd.read_csv(directory + 'Diabetic_Cleaned.csv')\n",
    "print(\"Done reading data.\")"
   ]
  },
  {
   "cell_type": "markdown",
   "metadata": {},
   "source": [
    "### Getting the column names of each type and making a dataframe of each"
   ]
  },
  {
   "cell_type": "code",
   "execution_count": 14,
   "metadata": {},
   "outputs": [],
   "source": [
    "ordinal = [\"age\", \"time_in_hospital\"]\n",
    "categorical = [\"race\", \"gender\", \"admission_type_id\", \"discharge_disposition_id\",\n",
    "               \"admission_source_id\", \"medical_specialty\", \"max_glu_serum\",\n",
    "               \"A1Cresult\", \"change\", \"diabetesMed\", \"diag_1_val\", \"diag_2_val\",\n",
    "               \"diag_3_val\", \"meds_increased\"]\n",
    "continuous = [\"num_lab_procedures\", \"num_procedures\", \"num_medications\",\n",
    "              \"number_outpatient\", \"number_emergency\", \"number_inpatient\",\n",
    "              \"number_diagnoses\", \"medication_count\"]\n",
    "medicines = [\"metformin\", \"repaglinide\", \"nateglinide\", \"chlorpropamide\",\n",
    "             \"glimepiride\", \"acetohexamide\", \"glipizide\", \"glyburide\", \"tolbutamide\",\n",
    "             \"pioglitazone\", \"rosiglitazone\", \"acarbose\", \"miglitol\", \"troglitazone\",\n",
    "             \"tolazamide\", \"insulin\", \"glyburide-metformin\", \"glipizide-metformin\",\n",
    "             \"metformin-rosiglitazone\", \"metformin-pioglitazone\"]\n",
    "response = [\"readmitted_tf\"]"
   ]
  },
  {
   "cell_type": "code",
   "execution_count": 50,
   "metadata": {},
   "outputs": [],
   "source": [
    "df_zg_ordinal = df_zg[ordinal]\n",
    "df_zg_categorical = df_zg[categorical]\n",
    "df_zg_continuous = df_zg[continuous]\n",
    "df_zg_medicines = df_zg[medicines]\n",
    "df_zg_response = df_zg[response]"
   ]
  },
  {
   "cell_type": "markdown",
   "metadata": {},
   "source": [
    "### Make Age Ordinal"
   ]
  },
  {
   "cell_type": "code",
   "execution_count": 51,
   "metadata": {},
   "outputs": [],
   "source": [
    "for i in range(0, 10):\n",
    "    val = \"[\" + str(i*10) + \"-\" + str((i+1)*10) + \")\"\n",
    "    df_zg_ordinal.loc[df_zg_ordinal['age'] == val, 'age'] = i"
   ]
  },
  {
   "cell_type": "markdown",
   "metadata": {},
   "source": [
    "### Making all categorical columns categorical"
   ]
  },
  {
   "cell_type": "code",
   "execution_count": 52,
   "metadata": {},
   "outputs": [
    {
     "name": "stdout",
     "output_type": "stream",
     "text": [
      "Done\n"
     ]
    }
   ],
   "source": [
    "df_zg_categorical['admission_type_id'] = df_zg_categorical['admission_type_id'].astype(object)\n",
    "df_zg_categorical['discharge_disposition_id'] = df_zg_categorical['discharge_disposition_id'].astype(object)\n",
    "df_zg_categorical['admission_source_id'] = df_zg_categorical['admission_source_id'].astype(object)\n",
    "df_zg_categorical['admission_type_id'] = df_zg_categorical['admission_type_id'].astype(object)\n",
    "df_zg_categorical['meds_increased'] = df_zg_categorical['meds_increased'].astype(object)\n",
    "#df_zg_response['readmitted_tf'] = df_zg_response['readmitted_tf'].astype(object)\n",
    "print(\"Done\")"
   ]
  },
  {
   "cell_type": "markdown",
   "metadata": {},
   "source": [
    "### Creating X and Y dataframes"
   ]
  },
  {
   "cell_type": "code",
   "execution_count": 190,
   "metadata": {},
   "outputs": [
    {
     "name": "stdout",
     "output_type": "stream",
     "text": [
      "Done\n"
     ]
    }
   ],
   "source": [
    "df_zg_x = pd.concat([df_zg_ordinal, df_zg_categorical, df_zg_continuous], axis = 1)\n",
    "df_zg_num_x = pd.concat([df_zg_ordinal, df_zg_continuous], axis = 1)\n",
    "df_zg_med_x = pd.concat([df_zg_ordinal, df_zg_categorical, df_zg_continuous, df_zg_medicines], axis = 1)\n",
    "df_zg_hot_x = pd.concat([df_zg_ordinal, pd.get_dummies(df_zg_categorical), df_zg_continuous], axis = 1)\n",
    "df_zg_hot_med_x = pd.concat([df_zg_ordinal, pd.get_dummies(df_zg_categorical), df_zg_continuous, pd.get_dummies(df_zg_medicines)], axis = 1)\n",
    "df_zg_y = df_zg_response\n",
    "print(\"Done\")"
   ]
  },
  {
   "cell_type": "code",
   "execution_count": null,
   "metadata": {},
   "outputs": [],
   "source": []
  },
  {
   "cell_type": "code",
   "execution_count": null,
   "metadata": {},
   "outputs": [],
   "source": []
  },
  {
   "cell_type": "markdown",
   "metadata": {},
   "source": [
    "### Regular Logistic"
   ]
  },
  {
   "cell_type": "code",
   "execution_count": 200,
   "metadata": {},
   "outputs": [
    {
     "data": {
      "text/plain": [
       "((81412, 184), (20354, 184))"
      ]
     },
     "execution_count": 200,
     "metadata": {},
     "output_type": "execute_result"
    }
   ],
   "source": [
    "#Setting up the training and test sets\n",
    "x_train, x_test, y_train, y_test = train_test_split(df_zg_hot_x, df_zg_y, test_size = 0.2, random_state=7)\n",
    "#x_train, x_test, y_train, y_test = train_test_split(df_zg_num_x, df_zg_y, test_size = 0.2, random_state=7)\n",
    "x_train.reset_index()\n",
    "y_train.reset_index()\n",
    "x_test.reset_index()\n",
    "y_test.reset_index()\n",
    "x_train.shape, x_test.shape"
   ]
  },
  {
   "cell_type": "code",
   "execution_count": 201,
   "metadata": {},
   "outputs": [
    {
     "name": "stdout",
     "output_type": "stream",
     "text": [
      "Wall time: 6.83 s\n"
     ]
    }
   ],
   "source": [
    "%%time\n",
    "#Logistic Regression\n",
    "model = LogisticRegression()\n",
    "model.fit(x_train, y_train)"
   ]
  },
  {
   "cell_type": "code",
   "execution_count": 208,
   "metadata": {},
   "outputs": [
    {
     "name": "stdout",
     "output_type": "stream",
     "text": [
      "discharge_disposition_id_11 has weight of -5.700398464737854\n",
      "discharge_disposition_id_14 has weight of -2.7000546082994052\n",
      "discharge_disposition_id_13 has weight of -1.7986746586318714\n",
      "admission_source_id_9 has weight of -1.431682743833108\n",
      "discharge_disposition_id_19 has weight of -0.9633735028897917\n",
      "medical_specialty_Surgery-Cardiovascular/Thoracic has weight of -0.9382425372076224\n",
      "admission_source_id_5 has weight of -0.8500552352710444\n",
      "admission_type_id_4 has weight of -0.8038643570011736\n",
      "admission_type_id_3 has weight of -0.7472474240946957\n",
      "admission_source_id_4 has weight of -0.7453730803599892\n",
      "admission_source_id_6 has weight of -0.7411382097057954\n",
      "medical_specialty_Pediatrics-Endocrinology has weight of -0.6821686862786978\n",
      "admission_type_id_5 has weight of -0.6786096911541909\n",
      "admission_type_id_8 has weight of -0.6785492613645505\n",
      "medical_specialty_DCPTEAM has weight of -0.6650250050178715\n",
      "admission_source_id_2 has weight of -0.6530459305418624\n",
      "admission_type_id_1 has weight of -0.6474363634097229\n",
      "admission_source_id_17 has weight of -0.6211570727860526\n",
      "medical_specialty_Surgery-Neuro has weight of -0.5988599167853725\n",
      "medical_specialty_ObstetricsandGynecology has weight of -0.5716037990931082\n",
      "admission_source_id_1 has weight of -0.5612243271862611\n",
      "admission_source_id_8 has weight of -0.5573708549909385\n",
      "medical_specialty_Surgeon has weight of -0.5563616734249396\n",
      "medical_specialty_Orthopedics-Reconstructive has weight of -0.5280829219624117\n",
      "medical_specialty_Surgery-Cardiovascular has weight of -0.5082989944061169\n",
      "medical_specialty_Endocrinology has weight of -0.4703373613677452\n",
      "medical_specialty_Obstetrics has weight of -0.4541484455379945\n",
      "medical_specialty_Pediatrics-Hematology-Oncology has weight of -0.4200130914384428\n",
      "medical_specialty_Speech has weight of -0.3990547426809686\n",
      "medical_specialty_Anesthesiology has weight of -0.39604334685696774\n",
      "medical_specialty_Gynecology has weight of -0.3952758050681445\n",
      "admission_type_id_2 has weight of -0.3696022725178842\n",
      "medical_specialty_Surgery-Maxillofacial has weight of -0.34378122618224927\n",
      "medical_specialty_Neurology has weight of -0.3378370661049805\n",
      "medical_specialty_Endocrinology-Metabolism has weight of -0.3356949757931349\n",
      "medical_specialty_Surgery-Thoracic has weight of -0.32396513218365103\n",
      "diag_1_val_None has weight of -0.31043808998502803\n",
      "discharge_disposition_id_20 has weight of -0.3083592860593473\n",
      "medical_specialty_Proctology has weight of -0.2854888934112176\n",
      "medical_specialty_Neurophysiology has weight of -0.28536820644710514\n",
      "admission_source_id_14 has weight of -0.2702913729525061\n",
      "admission_source_id_7 has weight of -0.2576185214378447\n",
      "meds_increased_0 has weight of -0.24490877156609786\n",
      "medical_specialty_PhysicalMedicineandRehabilitation has weight of -0.23919494537935188\n",
      "medical_specialty_Otolaryngology has weight of -0.23221581626795554\n",
      "medical_specialty_Perinatology has weight of -0.2239023302234765\n",
      "diabetesMed_No has weight of -0.22026685371771867\n",
      "admission_source_id_3 has weight of -0.21923449036901121\n",
      "diag_2_val_Injury has weight of -0.21327449553553027\n",
      "race_Asian has weight of -0.21302157841958153\n",
      "medical_specialty_Anesthesiology-Pediatric has weight of -0.20259096295217124\n",
      "medical_specialty_InternalMedicine has weight of -0.1986127817249169\n",
      "race_Unspecified has weight of -0.19815207785886185\n",
      "max_glu_serum_Norm has weight of -0.19164419950073494\n",
      "medical_specialty_Obsterics&Gynecology-GynecologicOnco has weight of -0.1859467255722731\n",
      "diag_3_val_Injury has weight of -0.18461858793820027\n",
      "gender_Male has weight of -0.17268735977378769\n",
      "medical_specialty_Radiology has weight of -0.1724798020987144\n",
      "discharge_disposition_id_25 has weight of -0.15649386913817578\n",
      "discharge_disposition_id_17 has weight of -0.15192266829654894\n",
      "medical_specialty_Pediatrics-Neurology has weight of -0.15068423826431512\n",
      "change_Ch has weight of -0.14831939100101468\n",
      "discharge_disposition_id_24 has weight of -0.14280186658551086\n",
      "medical_specialty_Oncology has weight of -0.13885443310429016\n",
      "diag_2_val_None has weight of -0.13791494914006336\n",
      "A1Cresult_Norm has weight of -0.13776477498851777\n",
      "medical_specialty_Pediatrics has weight of -0.1371237620673136\n",
      "change_No has weight of -0.1333597389192198\n",
      "max_glu_serum_None has weight of -0.12927788629127815\n",
      "diag_3_val_Neoplasms has weight of -0.11615829463500565\n",
      "medical_specialty_Cardiology has weight of -0.11445931321829164\n",
      "max_glu_serum_>200 has weight of -0.11397626653465943\n",
      "gender_Female has weight of -0.10899177011478808\n",
      "A1Cresult_>7 has weight of -0.10633862177179876\n",
      "diag_1_val_Genitourinary has weight of -0.10024201831369398\n",
      "diag_2_val_Other has weight of -0.08803606870554287\n",
      "diag_1_val_Neoplasms has weight of -0.08576581534924616\n",
      "medical_specialty_Orthopedics has weight of -0.08499852941509525\n",
      "diag_1_val_Injury has weight of -0.08150600498777866\n",
      "discharge_disposition_id_18 has weight of -0.0800153684239181\n",
      "diag_3_val_Musculoskeletal has weight of -0.0750946689022317\n",
      "diag_2_val_Digestive has weight of -0.06396144230899345\n",
      "diabetesMed_Yes has weight of -0.06141227622926049\n",
      "race_Other has weight of -0.06085666933046513\n",
      "A1Cresult_>8 has weight of -0.0509359031458156\n",
      "diag_3_val_None has weight of -0.05006839623608853\n",
      "medical_specialty_Urology has weight of -0.048125909121786714\n",
      "medical_specialty_Pulmonology has weight of -0.044847956689271266\n",
      "medical_specialty_Rheumatology has weight of -0.0422297598907915\n",
      "diag_3_val_Other has weight of -0.0375083462288142\n",
      "meds_increased_1 has weight of -0.036770358434197424\n",
      "race_Hispanic has weight of -0.028646369883787277\n",
      "num_procedures has weight of -0.026252568176729624\n",
      "discharge_disposition_id_22 has weight of -0.02260247941532961\n",
      "medical_specialty_Psychiatry has weight of -0.011848513760942005\n",
      "admission_type_id_6 has weight of -0.00787838011960169\n",
      "diag_2_val_Musculoskeletal has weight of -0.00565757800369314\n",
      "time_in_hospital has weight of -0.001174026612290111\n",
      "diag_1_val_Digestive has weight of -0.0008905197435532734\n",
      "diag_3_val_Circulatory has weight of -0.00023119855596823844\n",
      "medical_specialty_Pediatrics-EmergencyMedicine has weight of 0.0\n",
      "medical_specialty_Psychiatry-Addictive has weight of 0.0\n",
      "medical_specialty_Psychology has weight of 0.003031122037929156\n",
      "num_lab_procedures has weight of 0.0049214605529396445\n",
      "diag_2_val_Genitourinary has weight of 0.005156818045328562\n",
      "diag_3_val_Respiratory has weight of 0.00714402367245031\n",
      "diag_1_val_Other has weight of 0.008107676558876993\n",
      "admission_source_id_20 has weight of 0.010396633384512624\n",
      "num_medications has weight of 0.010780660293631637\n",
      "A1Cresult_None has weight of 0.013360169908379172\n",
      "admission_source_id_22 has weight of 0.01674066389281261\n",
      "medication_count has weight of 0.016860753256551345\n",
      "diag_1_val_Musculoskeletal has weight of 0.017068158460201377\n",
      "diag_2_val_Respiratory has weight of 0.02075825999272717\n",
      "diag_2_val_Neoplasms has weight of 0.022650776866487084\n",
      "diag_3_val_Digestive has weight of 0.03722804101646285\n",
      "diag_1_val_Respiratory has weight of 0.03729606496969919\n",
      "diag_1_val_Circulatory has weight of 0.044368856336033914\n",
      "age has weight of 0.044905737001567934\n",
      "discharge_disposition_id_3 has weight of 0.046907831726134476\n",
      "discharge_disposition_id_27 has weight of 0.04744371939163609\n",
      "diag_3_val_Diabeties has weight of 0.049249007362531134\n",
      "medical_specialty_Family/GeneralPractice has weight of 0.05877890310675473\n",
      "diag_2_val_Circulatory has weight of 0.059493798705837035\n",
      "medical_specialty_Ophthalmology has weight of 0.05951057825665076\n",
      "medical_specialty_Surgery-General has weight of 0.06468233347675437\n",
      "medical_specialty_Surgery-Plastic has weight of 0.07555921954895084\n",
      "race_AfricanAmerican has weight of 0.07963500273906922\n",
      "diag_3_val_Genitourinary has weight of 0.08837929049050759\n",
      "number_diagnoses has weight of 0.09052704355953724\n",
      "number_outpatient has weight of 0.09910511876432164\n",
      "diag_2_val_Diabeties has weight of 0.11910575013126726\n",
      "discharge_disposition_id_2 has weight of 0.12330735898065295\n",
      "medical_specialty_Surgery-Pediatric has weight of 0.12419870413602285\n",
      "race_Caucasian has weight of 0.13936256284053988\n",
      "medical_specialty_SurgicalSpecialty has weight of 0.14673183155763572\n",
      "max_glu_serum_>300 has weight of 0.15321922227156554\n",
      "medical_specialty_Unspecified has weight of 0.16132051555469307\n",
      "medical_specialty_OutreachServices has weight of 0.16546210290343055\n",
      "medical_specialty_Radiologist has weight of 0.16928553645137429\n",
      "discharge_disposition_id_1 has weight of 0.17265478396824807\n",
      "discharge_disposition_id_10 has weight of 0.18474991602026775\n",
      "diag_1_val_Diabeties has weight of 0.19032256208654624\n",
      "medical_specialty_Surgery-Colon&Rectal has weight of 0.19388503535589846\n",
      "medical_specialty_Emergency/Trauma has weight of 0.19759190696382495\n",
      "medical_specialty_Hematology has weight of 0.21660142853695327\n",
      "medical_specialty_Surgery-Vascular has weight of 0.22323920774763623\n",
      "discharge_disposition_id_15 has weight of 0.22721612726790477\n",
      "medical_specialty_Gastroenterology has weight of 0.23482811881785315\n",
      "discharge_disposition_id_28 has weight of 0.24158381384821045\n",
      "medical_specialty_InfectiousDiseases has weight of 0.24582783744422979\n",
      "number_emergency has weight of 0.26367449705772106\n",
      "medical_specialty_Hematology/Oncology has weight of 0.2794317886824802\n",
      "medical_specialty_Nephrology has weight of 0.3029701149787512\n",
      "discharge_disposition_id_6 has weight of 0.3116146365127532\n",
      "medical_specialty_Pediatrics-CriticalCare has weight of 0.3219215282810578\n",
      "number_inpatient has weight of 0.3599438530380252\n",
      "discharge_disposition_id_4 has weight of 0.36062547359161445\n",
      "medical_specialty_Hospitalist has weight of 0.3869216833990844\n",
      "medical_specialty_SportsMedicine has weight of 0.40337461629921223\n",
      "medical_specialty_Osteopath has weight of 0.4178785436051298\n",
      "medical_specialty_Podiatry has weight of 0.43904222882750726\n",
      "medical_specialty_Psychiatry-Child/Adolescent has weight of 0.4398184253495396\n",
      "medical_specialty_Dentistry has weight of 0.4404829060945142\n",
      "medical_specialty_AllergyandImmunology has weight of 0.4472663211320687\n",
      "medical_specialty_Dermatology has weight of 0.45555354821419597\n",
      "medical_specialty_Surgery-PlasticwithinHeadandNeck has weight of 0.483437257609042\n",
      "medical_specialty_Pathology has weight of 0.4880213775518852\n",
      "medical_specialty_Resident has weight of 0.502464178427456\n",
      "medical_specialty_Pediatrics-InfectiousDiseases has weight of 0.5296798154304654\n",
      "discharge_disposition_id_5 has weight of 0.5340384111218335\n",
      "discharge_disposition_id_12 has weight of 0.5749661116624559\n",
      "medical_specialty_PhysicianNotFound has weight of 0.629238261520959\n",
      "medical_specialty_Pediatrics-Pulmonology has weight of 0.6678582468124672\n",
      "discharge_disposition_id_16 has weight of 0.6758723209127293\n",
      "medical_specialty_Cardiology-Pediatric has weight of 0.6779519227267117\n",
      "medical_specialty_Pediatrics-AllergyandImmunology has weight of 0.7882413302234131\n",
      "discharge_disposition_id_8 has weight of 1.5054793949293013\n",
      "discharge_disposition_id_7 has weight of 2.067808146086313\n",
      "discharge_disposition_id_23 has weight of 2.2136179957005853\n",
      "discharge_disposition_id_9 has weight of 2.4551316008485697\n",
      "admission_source_id_25 has weight of 3.282516967577789\n",
      "admission_source_id_10 has weight of 3.3168584446481297\n",
      "admission_type_id_7 has weight of 3.651508619698234\n"
     ]
    }
   ],
   "source": [
    "# interpret the weights\n",
    "# iterate over the coefficients\n",
    "weights = model.coef_.T # take transpose to make a column vector\n",
    "variable_names = x_train.columns\n",
    "allWeight = zip(weights, variable_names)\n",
    "allWeight = sorted(allWeight, key=lambda x: x[0])\n",
    "for coef, name in allWeight:\n",
    "    print(name, 'has weight of', coef[0])"
   ]
  },
  {
   "cell_type": "code",
   "execution_count": 232,
   "metadata": {},
   "outputs": [
    {
     "data": {
      "image/png": "[encoded data removed]",
      "text/plain": [
       "<Figure size 432x288 with 1 Axes>"
      ]
     },
     "metadata": {
      "needs_background": "light"
     },
     "output_type": "display_data"
    }
   ],
   "source": [
    "pd.Series(model.coef_[0].T,index=x_train.columns).plot(kind = 'bar')\n",
    "plt.show()"
   ]
  },
  {
   "cell_type": "code",
   "execution_count": 193,
   "metadata": {},
   "outputs": [
    {
     "name": "stdout",
     "output_type": "stream",
     "text": [
      "0.6252256186423744 0.6362877075759065 0.6714583788778887\n"
     ]
    }
   ],
   "source": [
    "#Prediction\n",
    "y_pred = model.predict(x_test)\n",
    "\n",
    "#Accuracy metrics\n",
    "f1 = f1_score(y_test, y_pred, average = 'weighted')\n",
    "acc = accuracy_score(y_test, y_pred)\n",
    "roc = roc_auc_score(y_test, model.predict_proba(x_test)[:,1])\n",
    "print(f1, acc, roc)"
   ]
  },
  {
   "cell_type": "markdown",
   "metadata": {},
   "source": [
    "### CUSTOM THING"
   ]
  },
  {
   "cell_type": "code",
   "execution_count": 235,
   "metadata": {},
   "outputs": [
    {
     "ename": "ValueError",
     "evalue": "Found input variables with inconsistent numbers of samples: [203532, 101766]",
     "output_type": "error",
     "traceback": [
      "\u001b[1;31m---------------------------------------------------------------------------\u001b[0m",
      "\u001b[1;31mValueError\u001b[0m                                Traceback (most recent call last)",
      "\u001b[1;32m<ipython-input-235-7dd6bb9e0541>\u001b[0m in \u001b[0;36m<module>\u001b[1;34m\u001b[0m\n\u001b[0;32m      4\u001b[0m \u001b[1;33m\u001b[0m\u001b[0m\n\u001b[0;32m      5\u001b[0m \u001b[1;31m#Setting up the training and test sets\u001b[0m\u001b[1;33m\u001b[0m\u001b[1;33m\u001b[0m\u001b[1;33m\u001b[0m\u001b[0m\n\u001b[1;32m----> 6\u001b[1;33m \u001b[0mx_train\u001b[0m\u001b[1;33m,\u001b[0m \u001b[0mx_test\u001b[0m\u001b[1;33m,\u001b[0m \u001b[0my_train\u001b[0m\u001b[1;33m,\u001b[0m \u001b[0my_test\u001b[0m \u001b[1;33m=\u001b[0m \u001b[0mtrain_test_split\u001b[0m\u001b[1;33m(\u001b[0m\u001b[0mdf_zg_cust_x\u001b[0m\u001b[1;33m,\u001b[0m \u001b[0mdf_zg_y\u001b[0m\u001b[1;33m,\u001b[0m \u001b[0mtest_size\u001b[0m \u001b[1;33m=\u001b[0m \u001b[1;36m0.2\u001b[0m\u001b[1;33m,\u001b[0m \u001b[0mrandom_state\u001b[0m\u001b[1;33m=\u001b[0m\u001b[1;36m7\u001b[0m\u001b[1;33m)\u001b[0m\u001b[1;33m\u001b[0m\u001b[1;33m\u001b[0m\u001b[0m\n\u001b[0m\u001b[0;32m      7\u001b[0m \u001b[1;31m#x_train, x_test, y_train, y_test = train_test_split(df_zg_num_x, df_zg_y, test_size = 0.2, random_state=7)\u001b[0m\u001b[1;33m\u001b[0m\u001b[1;33m\u001b[0m\u001b[1;33m\u001b[0m\u001b[0m\n\u001b[0;32m      8\u001b[0m \u001b[0mx_train\u001b[0m\u001b[1;33m.\u001b[0m\u001b[0mreset_index\u001b[0m\u001b[1;33m(\u001b[0m\u001b[1;33m)\u001b[0m\u001b[1;33m\u001b[0m\u001b[1;33m\u001b[0m\u001b[0m\n",
      "\u001b[1;32mC:\\ProgramData\\Anaconda3\\envs\\DS7331_35r\\lib\\site-packages\\sklearn\\model_selection\\_split.py\u001b[0m in \u001b[0;36mtrain_test_split\u001b[1;34m(*arrays, **options)\u001b[0m\n\u001b[0;32m   2182\u001b[0m         \u001b[0mtest_size\u001b[0m \u001b[1;33m=\u001b[0m \u001b[1;36m0.25\u001b[0m\u001b[1;33m\u001b[0m\u001b[1;33m\u001b[0m\u001b[0m\n\u001b[0;32m   2183\u001b[0m \u001b[1;33m\u001b[0m\u001b[0m\n\u001b[1;32m-> 2184\u001b[1;33m     \u001b[0marrays\u001b[0m \u001b[1;33m=\u001b[0m \u001b[0mindexable\u001b[0m\u001b[1;33m(\u001b[0m\u001b[1;33m*\u001b[0m\u001b[0marrays\u001b[0m\u001b[1;33m)\u001b[0m\u001b[1;33m\u001b[0m\u001b[1;33m\u001b[0m\u001b[0m\n\u001b[0m\u001b[0;32m   2185\u001b[0m \u001b[1;33m\u001b[0m\u001b[0m\n\u001b[0;32m   2186\u001b[0m     \u001b[1;32mif\u001b[0m \u001b[0mshuffle\u001b[0m \u001b[1;32mis\u001b[0m \u001b[1;32mFalse\u001b[0m\u001b[1;33m:\u001b[0m\u001b[1;33m\u001b[0m\u001b[1;33m\u001b[0m\u001b[0m\n",
      "\u001b[1;32mC:\\ProgramData\\Anaconda3\\envs\\DS7331_35r\\lib\\site-packages\\sklearn\\utils\\validation.py\u001b[0m in \u001b[0;36mindexable\u001b[1;34m(*iterables)\u001b[0m\n\u001b[0;32m    258\u001b[0m         \u001b[1;32melse\u001b[0m\u001b[1;33m:\u001b[0m\u001b[1;33m\u001b[0m\u001b[1;33m\u001b[0m\u001b[0m\n\u001b[0;32m    259\u001b[0m             \u001b[0mresult\u001b[0m\u001b[1;33m.\u001b[0m\u001b[0mappend\u001b[0m\u001b[1;33m(\u001b[0m\u001b[0mnp\u001b[0m\u001b[1;33m.\u001b[0m\u001b[0marray\u001b[0m\u001b[1;33m(\u001b[0m\u001b[0mX\u001b[0m\u001b[1;33m)\u001b[0m\u001b[1;33m)\u001b[0m\u001b[1;33m\u001b[0m\u001b[1;33m\u001b[0m\u001b[0m\n\u001b[1;32m--> 260\u001b[1;33m     \u001b[0mcheck_consistent_length\u001b[0m\u001b[1;33m(\u001b[0m\u001b[1;33m*\u001b[0m\u001b[0mresult\u001b[0m\u001b[1;33m)\u001b[0m\u001b[1;33m\u001b[0m\u001b[1;33m\u001b[0m\u001b[0m\n\u001b[0m\u001b[0;32m    261\u001b[0m     \u001b[1;32mreturn\u001b[0m \u001b[0mresult\u001b[0m\u001b[1;33m\u001b[0m\u001b[1;33m\u001b[0m\u001b[0m\n\u001b[0;32m    262\u001b[0m \u001b[1;33m\u001b[0m\u001b[0m\n",
      "\u001b[1;32mC:\\ProgramData\\Anaconda3\\envs\\DS7331_35r\\lib\\site-packages\\sklearn\\utils\\validation.py\u001b[0m in \u001b[0;36mcheck_consistent_length\u001b[1;34m(*arrays)\u001b[0m\n\u001b[0;32m    233\u001b[0m     \u001b[1;32mif\u001b[0m \u001b[0mlen\u001b[0m\u001b[1;33m(\u001b[0m\u001b[0muniques\u001b[0m\u001b[1;33m)\u001b[0m \u001b[1;33m>\u001b[0m \u001b[1;36m1\u001b[0m\u001b[1;33m:\u001b[0m\u001b[1;33m\u001b[0m\u001b[1;33m\u001b[0m\u001b[0m\n\u001b[0;32m    234\u001b[0m         raise ValueError(\"Found input variables with inconsistent numbers of\"\n\u001b[1;32m--> 235\u001b[1;33m                          \" samples: %r\" % [int(l) for l in lengths])\n\u001b[0m\u001b[0;32m    236\u001b[0m \u001b[1;33m\u001b[0m\u001b[0m\n\u001b[0;32m    237\u001b[0m \u001b[1;33m\u001b[0m\u001b[0m\n",
      "\u001b[1;31mValueError\u001b[0m: Found input variables with inconsistent numbers of samples: [203532, 101766]"
     ]
    }
   ],
   "source": [
    "cat1 = ['discharge_disposition_id', 'admission_source_id', 'medical_specialty',\n",
    "        'admission_type_id', 'diag_1_val']\n",
    "df_zg_cust_x = pd.concat([pd.get_dummies(df_zg_categorical[cat1]), df_zg_continuous['number_inpatient'] ])\n",
    "\n",
    "#Setting up the training and test sets\n",
    "x_train, x_test, y_train, y_test = train_test_split(df_zg_cust_x, df_zg_y, test_size = 0.2, random_state=7)\n",
    "#x_train, x_test, y_train, y_test = train_test_split(df_zg_num_x, df_zg_y, test_size = 0.2, random_state=7)\n",
    "x_train.reset_index()\n",
    "y_train.reset_index()\n",
    "x_test.reset_index()\n",
    "y_test.reset_index()\n",
    "x_train.shape, x_test.shape"
   ]
  },
  {
   "cell_type": "code",
   "execution_count": null,
   "metadata": {},
   "outputs": [],
   "source": [
    "%%time\n",
    "#Logistic Regression\n",
    "model = LogisticRegression()\n",
    "model.fit(x_train, y_train)"
   ]
  },
  {
   "cell_type": "code",
   "execution_count": null,
   "metadata": {},
   "outputs": [],
   "source": [
    "# interpret the weights\n",
    "# iterate over the coefficients\n",
    "weights = model.coef_.T # take transpose to make a column vector\n",
    "variable_names = x_train.columns\n",
    "allWeight = zip(weights, variable_names)\n",
    "allWeight = sorted(allWeight, key=lambda x: x[0])\n",
    "for coef, name in allWeight:\n",
    "    print(name, 'has weight of', coef[0])"
   ]
  },
  {
   "cell_type": "code",
   "execution_count": null,
   "metadata": {},
   "outputs": [],
   "source": [
    "#Prediction\n",
    "y_pred = model.predict(x_test)\n",
    "\n",
    "#Accuracy metrics\n",
    "f1 = f1_score(y_test, y_pred, average = 'weighted')\n",
    "acc = accuracy_score(y_test, y_pred)\n",
    "roc = roc_auc_score(y_test, model.predict_proba(x_test)[:,1])\n",
    "print(f1, acc, roc)"
   ]
  },
  {
   "cell_type": "markdown",
   "metadata": {},
   "source": [
    "### SGD Logistic"
   ]
  },
  {
   "cell_type": "code",
   "execution_count": null,
   "metadata": {},
   "outputs": [],
   "source": [
    "#https://scikit-learn.org/stable/modules/generated/sklearn.linear_model.SGDClassifier.html#sklearn.linear_model.SGDClassifier\n",
    "#https://scikit-learn.org/stable/modules/generated/sklearn.linear_model.LogisticRegression.html"
   ]
  },
  {
   "cell_type": "code",
   "execution_count": 194,
   "metadata": {},
   "outputs": [
    {
     "name": "stdout",
     "output_type": "stream",
     "text": [
      "Acc: 0.6293111919033114 F1: 0.6132571568146293 \n",
      "Confusion Matrix\n",
      " [[8892 2077]\n",
      " [5468 3917]]\n"
     ]
    }
   ],
   "source": [
    "regularize_const = 0.1\n",
    "iterations = 5\n",
    "# use some compact notation for creating a logistic regression classifier with stochastic descent\n",
    "log_sgd = SGDClassifier(alpha = regularize_const,\n",
    "        fit_intercept = True, l1_ratio = 0.0, learning_rate = 'optimal',\n",
    "        loss = 'log', n_iter = iterations, n_jobs = -1, penalty = 'l2')\n",
    "\n",
    "scl = StandardScaler()\n",
    "log_sgd.fit(scl.fit_transform(x_train), y_train)\n",
    "y_pred = log_sgd.predict(scl.transform(x_test))\n",
    "conf = mt.confusion_matrix(y_test, y_pred)\n",
    "acc = mt.accuracy_score(y_test, y_pred)\n",
    "f1 = f1_score(y_test, y_pred, average = 'weighted')\n",
    "\n",
    "print('Acc:', acc, \"F1:\", f1, '\\nConfusion Matrix\\n', conf)"
   ]
  },
  {
   "cell_type": "markdown",
   "metadata": {},
   "source": [
    "### Prediction using the Logistic SGD with CV... its bad"
   ]
  },
  {
   "cell_type": "code",
   "execution_count": 195,
   "metadata": {},
   "outputs": [],
   "source": [
    "cv = StratifiedShuffleSplit( n_splits = 1, test_size = 0.5 )\n",
    "scl = StandardScaler()\n",
    "for train_idx, test_idx in cv.split(x_train, y_train):\n",
    "    log_sgd.fit(scl.fit_transform(x_train.iloc[train_idx]), y_train.iloc[train_idx])\n",
    "    yhat = log_sgd.predict(scl.transform(x_train.iloc[test_idx]))\n",
    "    \n",
    "    conf = mt.confusion_matrix(y_train.iloc[test_idx], yhat)\n",
    "    acc = mt.accuracy_score(y_train.iloc[test_idx], yhat)"
   ]
  },
  {
   "cell_type": "code",
   "execution_count": 196,
   "metadata": {},
   "outputs": [
    {
     "name": "stdout",
     "output_type": "stream",
     "text": [
      "Accuracy: 0.4610887294880613 \n",
      "Confusion Matrix\n",
      " [[    0 10969]\n",
      " [    0  9385]]\n"
     ]
    }
   ],
   "source": [
    "y_pred = log_sgd.predict(x_test)\n",
    "\n",
    "#Accuracy metrics\n",
    "f1 = f1_score(y_test, y_pred, average = 'weighted')\n",
    "acc = accuracy_score(y_test, y_pred)\n",
    "roc = roc_auc_score(y_test, model.predict_proba(x_test)[:,1])\n",
    "conf = mt.confusion_matrix(y_test, y_pred)\n",
    "#print(f1, acc, roc)\n",
    "print('Accuracy:', acc, '\\nConfusion Matrix\\n', conf)"
   ]
  },
  {
   "cell_type": "code",
   "execution_count": null,
   "metadata": {},
   "outputs": [],
   "source": []
  },
  {
   "cell_type": "code",
   "execution_count": null,
   "metadata": {},
   "outputs": [],
   "source": []
  },
  {
   "cell_type": "code",
   "execution_count": null,
   "metadata": {},
   "outputs": [],
   "source": []
  },
  {
   "cell_type": "code",
   "execution_count": null,
   "metadata": {},
   "outputs": [],
   "source": []
  },
  {
   "cell_type": "code",
   "execution_count": null,
   "metadata": {},
   "outputs": [],
   "source": []
  },
  {
   "cell_type": "code",
   "execution_count": 156,
   "metadata": {},
   "outputs": [],
   "source": [
    "def Find_Optimal_Cutoff(target, predicted):\n",
    "    \"\"\"Parameters:\n",
    "    target : Matrix with dependent or target data, where rows are observations\n",
    "    predicted : Matrix with predicted data, where rows are observations\n",
    "    ----------\n",
    "    Return: list type, with optimal cutoff value\n",
    "    \"\"\"\n",
    "    fpr, tpr, threshold = roc_curve(target, predicted)\n",
    "    i = np.arange(len(tpr)) \n",
    "    roc = pd.DataFrame({'tf' : pd.Series(tpr-(1-fpr), index=i), 'threshold' : pd.Series(threshold, index=i)})\n",
    "    roc_t = roc.ix[(roc.tf-0).abs().argsort()[:1]]\n",
    "\n",
    "    return list(roc_t['threshold']) "
   ]
  },
  {
   "cell_type": "code",
   "execution_count": 198,
   "metadata": {},
   "outputs": [
    {
     "data": {
      "text/html": [
       "<div>\n",
       "<style scoped>\n",
       "    .dataframe tbody tr th:only-of-type {\n",
       "        vertical-align: middle;\n",
       "    }\n",
       "\n",
       "    .dataframe tbody tr th {\n",
       "        vertical-align: top;\n",
       "    }\n",
       "\n",
       "    .dataframe thead th {\n",
       "        text-align: right;\n",
       "    }\n",
       "</style>\n",
       "<table border=\"1\" class=\"dataframe\">\n",
       "  <thead>\n",
       "    <tr style=\"text-align: right;\">\n",
       "      <th></th>\n",
       "      <th>tf</th>\n",
       "      <th>threshold</th>\n",
       "    </tr>\n",
       "  </thead>\n",
       "  <tbody>\n",
       "    <tr>\n",
       "      <th>0</th>\n",
       "      <td>-1.0</td>\n",
       "      <td>2</td>\n",
       "    </tr>\n",
       "    <tr>\n",
       "      <th>1</th>\n",
       "      <td>1.0</td>\n",
       "      <td>1</td>\n",
       "    </tr>\n",
       "  </tbody>\n",
       "</table>\n",
       "</div>"
      ],
      "text/plain": [
       "    tf  threshold\n",
       "0 -1.0          2\n",
       "1  1.0          1"
      ]
     },
     "execution_count": 198,
     "metadata": {},
     "output_type": "execute_result"
    }
   ],
   "source": [
    "#print(Find_Optimal_Cutoff(y_test, y_pred))\n",
    "\n",
    "fpr, tpr, threshold = roc_curve(y_test, y_pred)\n",
    "i = np.arange(len(tpr))\n",
    "roc = pd.DataFrame({'tf' : pd.Series(tpr-(1-fpr), index=i), 'threshold' : pd.Series(threshold, index=i)})\n",
    "roc"
   ]
  },
  {
   "cell_type": "code",
   "execution_count": 197,
   "metadata": {},
   "outputs": [
    {
     "name": "stdout",
     "output_type": "stream",
     "text": [
      "Area under the ROC curve : 0.500000\n"
     ]
    }
   ],
   "source": [
    "fpr, tpr, thresholds = roc_curve(y_test, y_pred)\n",
    "roc_auc = auc(fpr, tpr)\n",
    "print(\"Area under the ROC curve : %f\" % roc_auc)"
   ]
  }
 ],
 "metadata": {
  "kernelspec": {
   "display_name": "Python 3",
   "language": "python",
   "name": "python3"
  },
  "language_info": {
   "codemirror_mode": {
    "name": "ipython",
    "version": 3
   },
   "file_extension": ".py",
   "mimetype": "text/x-python",
   "name": "python",
   "nbconvert_exporter": "python",
   "pygments_lexer": "ipython3",
   "version": "3.7.3"
  }
 },
 "nbformat": 4,
 "nbformat_minor": 2
}
