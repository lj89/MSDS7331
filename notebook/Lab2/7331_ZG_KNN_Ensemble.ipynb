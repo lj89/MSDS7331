{
 "cells": [
  {
   "cell_type": "code",
   "execution_count": 1,
   "metadata": {},
   "outputs": [],
   "source": [
    "import pandas as pd\n",
    "import numpy as np\n",
    "import pandas_profiling\n",
    "import matplotlib.pyplot as plt\n",
    "get_ipython().run_line_magic('matplotlib', 'inline')\n",
    "import warnings\n",
    "warnings.filterwarnings(\"ignore\")\n",
    "import seaborn as sns\n",
    "from sklearn.linear_model import LogisticRegression\n",
    "from sklearn.model_selection import train_test_split\n",
    "from sklearn.metrics import accuracy_score\n",
    "from sklearn.metrics import f1_score\n",
    "from sklearn.metrics import roc_auc_score\n",
    "from sklearn.linear_model import SGDClassifier\n",
    "from sklearn.preprocessing import StandardScaler\n",
    "from sklearn.model_selection import StratifiedShuffleSplit \n",
    "from sklearn import metrics as mt\n",
    "from sklearn.metrics import roc_curve, auc\n",
    "import operator\n",
    "import sklearn.metrics as metrics\n",
    "from sklearn.neighbors import KNeighborsClassifier\n",
    "from sklearn.model_selection import StratifiedKFold\n",
    "from sklearn.decomposition import PCA \n",
    "from sklearn.pipeline import Pipeline\n",
    "from sklearn.model_selection import cross_val_score\n",
    "from sklearn.neighbors import KDTree"
   ]
  },
  {
   "cell_type": "markdown",
   "metadata": {},
   "source": [
    "### Functions for ROC stuff"
   ]
  },
  {
   "cell_type": "code",
   "execution_count": 2,
   "metadata": {},
   "outputs": [],
   "source": [
    "#https://stackoverflow.com/questions/25009284/how-to-plot-roc-curve-in-python\n",
    "#probs is the result of a model.predict_proba(x_test) call\n",
    "\n",
    "#This function plots an ROC curve\n",
    "def rocCurvePlot(probs, y_test1):\n",
    "    # calculate the fpr and tpr for all thresholds of the classification\n",
    "    preds = probs[:,1]\n",
    "    fpr, tpr, threshold = metrics.roc_curve(y_test1, preds)\n",
    "    roc_auc = metrics.auc(fpr, tpr)\n",
    "\n",
    "    # method I: plt\n",
    "    import matplotlib.pyplot as plt\n",
    "    plt.title('Receiver Operating Characteristic')\n",
    "    plt.plot(fpr, tpr, 'b', label = 'AUC = %0.2f' % roc_auc)\n",
    "    plt.legend(loc = 'lower right')\n",
    "    plt.plot([0, 1], [0, 1],'r--')\n",
    "    plt.xlim([0, 1])\n",
    "    plt.ylim([0, 1])\n",
    "    plt.ylabel('True Positive Rate')\n",
    "    plt.xlabel('False Positive Rate')\n",
    "    plt.show()\n",
    "# A function to find the optimal cutoff point from ROC curve\n",
    "\n",
    "#https://stackoverflow.com/questions/28719067/roc-curve-and-cut-off-point-python\n",
    "def Find_Optimal_Cutoff(target, predicted):\n",
    "    \"\"\"Parameters:\n",
    "    target : Matrix with dependent or target data, where rows are observations\n",
    "    predicted : Matrix with predicted data, where rows are observations\n",
    "    ----------\n",
    "    Return: list type, with optimal cutoff value\n",
    "    \"\"\"\n",
    "    predicted = predicted[:,1]\n",
    "    fpr, tpr, threshold = metrics.roc_curve(target, predicted)\n",
    "    i = np.arange(len(tpr)) \n",
    "    roc = pd.DataFrame({'tf' : pd.Series(tpr-(1-fpr), index=i), 'threshold' : pd.Series(threshold, index=i)})\n",
    "    roc_t = roc.ix[(roc.tf-0).abs().argsort()[:1]]\n",
    "\n",
    "    return list(roc_t['threshold']) "
   ]
  },
  {
   "cell_type": "markdown",
   "metadata": {},
   "source": [
    "### Import the data"
   ]
  },
  {
   "cell_type": "code",
   "execution_count": 3,
   "metadata": {},
   "outputs": [
    {
     "name": "stdout",
     "output_type": "stream",
     "text": [
      "Done reading data.\n"
     ]
    }
   ],
   "source": [
    "directory = 'C:/githubrepo/7331_Project/data/'\n",
    "df_zg = pd.read_csv(directory + 'Diabetic_Cleaned.csv')\n",
    "print(\"Done reading data.\")"
   ]
  },
  {
   "cell_type": "markdown",
   "metadata": {},
   "source": [
    "### Make diabetesMed binary instead of yes/no"
   ]
  },
  {
   "cell_type": "code",
   "execution_count": 4,
   "metadata": {},
   "outputs": [],
   "source": [
    "#can also use binary encoder to achieve this\n",
    "df_zg.diabetesMed[df_zg.diabetesMed == 'No'] = 0\n",
    "df_zg.diabetesMed[df_zg.diabetesMed == 'Yes'] = 1\n",
    "\n",
    "df_zg[\"diabetesMed\"] = df_zg[\"diabetesMed\"].astype(int)"
   ]
  },
  {
   "cell_type": "markdown",
   "metadata": {},
   "source": [
    "### Makes lists of the different types"
   ]
  },
  {
   "cell_type": "code",
   "execution_count": 5,
   "metadata": {},
   "outputs": [],
   "source": [
    "ordinal = [\"age\", \"time_in_hospital\"]\n",
    "categorical = [\"race\", \"gender\", \"admission_type_id\", \"discharge_disposition_id\",\n",
    "               \"admission_source_id\", \"medical_specialty\", \"max_glu_serum\",\n",
    "               \"A1Cresult\", \"change\", \"diabetesMed\", \"diag_1_val\", \"diag_2_val\",\n",
    "               \"diag_3_val\", \"meds_increased\"]\n",
    "continuous = [\"num_lab_procedures\", \"num_procedures\", \"num_medications\",\n",
    "              \"number_outpatient\", \"number_emergency\", \"number_inpatient\",\n",
    "              \"number_diagnoses\", \"medication_count\"]\n",
    "lcontinuous = [\"lnum_lab_procedures\", \"lnum_procedures\", \"lnum_medications\",\n",
    "              \"lnumber_outpatient\", \"lnumber_emergency\", \"lnumber_inpatient\",\n",
    "              \"lnumber_diagnoses\", \"lmedication_count\"]\n",
    "medicines = [\"metformin\", \"repaglinide\", \"nateglinide\", \"chlorpropamide\",\n",
    "             \"glimepiride\", \"acetohexamide\", \"glipizide\", \"glyburide\", \"tolbutamide\",\n",
    "             \"pioglitazone\", \"rosiglitazone\", \"acarbose\", \"miglitol\", \"troglitazone\",\n",
    "             \"tolazamide\", \"insulin\", \"glyburide-metformin\", \"glipizide-metformin\",\n",
    "             \"metformin-rosiglitazone\", \"metformin-pioglitazone\"]\n",
    "response = [\"readmitted_tf\"]"
   ]
  },
  {
   "cell_type": "markdown",
   "metadata": {},
   "source": [
    "### Dataframes of each type of data"
   ]
  },
  {
   "cell_type": "code",
   "execution_count": 6,
   "metadata": {},
   "outputs": [],
   "source": [
    "df_zg_ordinal = df_zg[ordinal]\n",
    "df_zg_categorical = df_zg[categorical]\n",
    "df_zg_continuous = df_zg[continuous]\n",
    "df_zg_lcontinuous = np.log(df_zg_continuous)\n",
    "df_zg_lcontinuous.columns = lcontinuous\n",
    "df_zg_medicines = df_zg[medicines]\n",
    "df_zg_response = df_zg[response]"
   ]
  },
  {
   "cell_type": "markdown",
   "metadata": {},
   "source": [
    "### Make Age ordinal"
   ]
  },
  {
   "cell_type": "code",
   "execution_count": 7,
   "metadata": {},
   "outputs": [],
   "source": [
    "for i in range(0, 10):\n",
    "    val = \"[\" + str(i*10) + \"-\" + str((i+1)*10) + \")\"\n",
    "    df_zg_ordinal.loc[df_zg_ordinal['age'] == val, 'age'] = i"
   ]
  },
  {
   "cell_type": "markdown",
   "metadata": {},
   "source": [
    "### Making all categorical columns categorical"
   ]
  },
  {
   "cell_type": "code",
   "execution_count": 8,
   "metadata": {},
   "outputs": [
    {
     "name": "stdout",
     "output_type": "stream",
     "text": [
      "Done\n"
     ]
    }
   ],
   "source": [
    "df_zg_categorical['admission_type_id'] = df_zg_categorical['admission_type_id'].astype(object)\n",
    "df_zg_categorical['discharge_disposition_id'] = df_zg_categorical['discharge_disposition_id'].astype(object)\n",
    "df_zg_categorical['admission_source_id'] = df_zg_categorical['admission_source_id'].astype(object)\n",
    "df_zg_categorical['admission_type_id'] = df_zg_categorical['admission_type_id'].astype(object)\n",
    "df_zg_categorical['meds_increased'] = df_zg_categorical['meds_increased'].astype(int)\n",
    "#df_zg_response['readmitted_tf'] = df_zg_response['readmitted_tf'].astype(object)\n",
    "print(\"Done\")"
   ]
  },
  {
   "cell_type": "code",
   "execution_count": 9,
   "metadata": {},
   "outputs": [
    {
     "name": "stdout",
     "output_type": "stream",
     "text": [
      "Done\n"
     ]
    }
   ],
   "source": [
    "df_zg_x = pd.concat([df_zg_ordinal, df_zg_categorical, df_zg_continuous], axis = 1)\n",
    "df_zg_num_x = pd.concat([df_zg_ordinal, df_zg_continuous], axis = 1)\n",
    "df_zg_med_x = pd.concat([df_zg_ordinal, df_zg_categorical, df_zg_continuous, df_zg_medicines], axis = 1)\n",
    "df_zg_hot_x = pd.concat([df_zg_ordinal, pd.get_dummies(df_zg_categorical), df_zg_continuous], axis = 1)\n",
    "df_zg_hot_med_x = pd.concat([df_zg_ordinal, pd.get_dummies(df_zg_categorical), df_zg_continuous, pd.get_dummies(df_zg_medicines)], axis = 1)\n",
    "df_zg_y = df_zg_response\n",
    "print(\"Done\")"
   ]
  },
  {
   "cell_type": "markdown",
   "metadata": {},
   "source": [
    "### Function for setting up the training, validation, and test sets"
   ]
  },
  {
   "cell_type": "code",
   "execution_count": 10,
   "metadata": {},
   "outputs": [],
   "source": [
    "def tvt_split(df_x, df_y, valid_size, t_size, seed):\n",
    "    #doing the math because we have to split 2 seperate times\n",
    "    valid_size = 100*valid_size/(100*(1-t_size))\n",
    "    #First splitting out the test set\n",
    "    x_train, x_test, y_train, y_test = train_test_split(df_x, df_y, test_size = t_size, random_state=seed)\n",
    "    #Splitting the training set into train/validate\n",
    "    x_train, x_valid, y_train, y_valid = train_test_split(x_train, y_train, test_size = valid_size, random_state=seed)\n",
    "\n",
    "    #Reseting allof the indices\n",
    "    x_train.reset_index()\n",
    "    y_train.reset_index()\n",
    "    x_test.reset_index()\n",
    "    y_test.reset_index()\n",
    "    x_valid.reset_index()\n",
    "    y_valid.reset_index()\n",
    "\n",
    "    return x_train, x_valid, x_test, y_train, y_valid, y_test"
   ]
  },
  {
   "cell_type": "markdown",
   "metadata": {},
   "source": [
    "# KNN with variables based on T-scores"
   ]
  },
  {
   "cell_type": "markdown",
   "metadata": {},
   "source": [
    "### Make dataframe of columns that had 10 highest T-scores"
   ]
  },
  {
   "cell_type": "code",
   "execution_count": 46,
   "metadata": {},
   "outputs": [
    {
     "name": "stderr",
     "output_type": "stream",
     "text": [
      "C:\\ProgramData\\Anaconda3\\envs\\DS7331_35r\\lib\\site-packages\\sklearn\\preprocessing\\data.py:645: DataConversionWarning: Data with input dtype uint8, int64 were all converted to float64 by StandardScaler.\n",
      "  return self.partial_fit(X, y)\n",
      "C:\\ProgramData\\Anaconda3\\envs\\DS7331_35r\\lib\\site-packages\\sklearn\\base.py:464: DataConversionWarning: Data with input dtype uint8, int64 were all converted to float64 by StandardScaler.\n",
      "  return self.fit(X, **fit_params).transform(X)\n"
     ]
    }
   ],
   "source": [
    "nm = [\"admission_source_id\", \"medical_specialty\", \"admission_type_id\",\n",
    "      \"discharge_disposition_id\", \"number_inpatient\", \"number_emergency\",\n",
    "      \"meds_increased\", \"number_outpatient\", \"num_lab_procedures\", \"time_in_hospital\"]\n",
    "df_zg_minPCA = df_zg[nm]\n",
    "df_zg_minPCA = pd.get_dummies(df_zg_minPCA)\n",
    "\n",
    "scl = StandardScaler()\n",
    "df_zg_PCA_scl = scl.fit_transform(df_zg_minPCA)"
   ]
  },
  {
   "cell_type": "markdown",
   "metadata": {},
   "source": [
    "### Do the split again, just for safety"
   ]
  },
  {
   "cell_type": "code",
   "execution_count": 47,
   "metadata": {},
   "outputs": [
    {
     "name": "stderr",
     "output_type": "stream",
     "text": [
      "C:\\ProgramData\\Anaconda3\\envs\\DS7331_35r\\lib\\site-packages\\sklearn\\preprocessing\\data.py:645: DataConversionWarning: Data with input dtype uint8, int64 were all converted to float64 by StandardScaler.\n",
      "  return self.partial_fit(X, y)\n"
     ]
    },
    {
     "name": "stdout",
     "output_type": "stream",
     "text": [
      "Wall time: 518 ms\n"
     ]
    },
    {
     "name": "stderr",
     "output_type": "stream",
     "text": [
      "C:\\ProgramData\\Anaconda3\\envs\\DS7331_35r\\lib\\site-packages\\sklearn\\base.py:464: DataConversionWarning: Data with input dtype uint8, int64 were all converted to float64 by StandardScaler.\n",
      "  return self.fit(X, **fit_params).transform(X)\n",
      "C:\\ProgramData\\Anaconda3\\envs\\DS7331_35r\\lib\\site-packages\\ipykernel_launcher.py:18: DataConversionWarning: Data with input dtype uint8, int64 were all converted to float64 by StandardScaler.\n",
      "C:\\ProgramData\\Anaconda3\\envs\\DS7331_35r\\lib\\site-packages\\ipykernel_launcher.py:19: DataConversionWarning: Data with input dtype uint8, int64 were all converted to float64 by StandardScaler.\n"
     ]
    }
   ],
   "source": [
    "%%time\n",
    "x_train, x_valid, x_test, y_train, y_valid, y_test = tvt_split(df_zg_minPCA, df_zg_y, 0.2, 0.2, 7)\n",
    "\n",
    "#Print out the shapes of the train/valid/test sets\n",
    "x_train.shape, x_valid.shape, x_test.shape\n",
    "\n",
    "#Create variables for just this operation\n",
    "x_t = x_train\n",
    "x_v = x_valid\n",
    "y_t = y_train\n",
    "y_v = y_valid\n",
    "y_tst = y_test\n",
    "\n",
    "# We will fill this with predictions\n",
    "yhat = np.zeros(y_v.shape)\n",
    "\n",
    "scl = StandardScaler()\n",
    "x_t = scl.fit_transform(x_train)\n",
    "x_v = scl.transform(x_valid)\n",
    "x_tst = scl.transform(x_test)"
   ]
  },
  {
   "cell_type": "markdown",
   "metadata": {},
   "source": [
    "### KNN with t-statistic variables\n",
    "Now that we have tuned the values for K, we do the prediction on the test set. Below shows the ROC curve with all of the accuracy metrics and confusion matrix."
   ]
  },
  {
   "cell_type": "code",
   "execution_count": 49,
   "metadata": {},
   "outputs": [
    {
     "name": "stderr",
     "output_type": "stream",
     "text": [
      "C:\\ProgramData\\Anaconda3\\envs\\DS7331_35r\\lib\\site-packages\\ipykernel_launcher.py:2: DataConversionWarning: A column-vector y was passed when a 1d array was expected. Please change the shape of y to (n_samples, ), for example using ravel().\n",
      "  \n"
     ]
    },
    {
     "data": {
      "image/png": "[encoded data removed]",
      "text/plain": [
       "<Figure size 432x288 with 1 Axes>"
      ]
     },
     "metadata": {
      "needs_background": "light"
     },
     "output_type": "display_data"
    },
    {
     "name": "stdout",
     "output_type": "stream",
     "text": [
      "F1: 0.6287 ACC: 0.6323 AUC: 0.6677\n",
      "Specificity: 0.5298 Sensitivity: 0.72\n",
      "\n",
      "Confusion Matrix\n",
      " [[7898 3071]\n",
      " [4413 4972]]\n",
      "Wall time: 6min 6s\n"
     ]
    }
   ],
   "source": [
    "%%time\n",
    "clf = KNeighborsClassifier(n_neighbors = 7)\n",
    "clf.fit(x_t, y_t)\n",
    "\n",
    "#Find the optimal cutoff point\n",
    "y_pred_cut = clf.predict_proba(x_v)\n",
    "cutoff = Find_Optimal_Cutoff(y_v, y_pred_cut)\n",
    "\n",
    "#Prediction\n",
    "y_pred_probs = clf.predict_proba(x_tst)\n",
    "y_pred = np.where(y_pred_probs >= cutoff, 1, 0)\n",
    "y_pred = y_pred[:,1]\n",
    "\n",
    "rocCurvePlot(y_pred_probs, y_tst)\n",
    "\n",
    "#Accuracy metrics\n",
    "f1 = f1_score(y_tst, y_pred, average = 'weighted')\n",
    "acc = accuracy_score(y_tst, y_pred)\n",
    "auc = roc_auc_score(y_tst, y_pred_probs[:,1])\n",
    "conf = mt.confusion_matrix(y_tst, y_pred)\n",
    "sens = conf[0,0]/(conf[0,0] + conf[0,1])\n",
    "spec = conf[1,1]/(conf[1,0] + conf[1,1])\n",
    "print(\"F1:\", round(f1,4), \"ACC:\", round(acc,4), \"AUC:\", round(auc,4))\n",
    "print(\"Specificity:\", round(spec, 4), \"Sensitivity:\", round(sens, 4))\n",
    "print(\"\\nConfusion Matrix\\n\", conf)\n",
    "y_pred_tstat = y_pred"
   ]
  },
  {
   "cell_type": "markdown",
   "metadata": {},
   "source": [
    "# KNN with variables based on Correlation"
   ]
  },
  {
   "cell_type": "code",
   "execution_count": 51,
   "metadata": {},
   "outputs": [],
   "source": [
    "nm = [\"num_medications\", \"number_diagnoses\", \"admission_source_id\", \"time_in_hospital\",\n",
    "      \"admission_source_id\", \"number_emergency\", \"num_lab_procedures\", \"admission_type_id\",\n",
    "      \"number_inpatient\", \"discharge_disposition_id\"]\n",
    "df_zg_minPCA = df_zg[nm]\n",
    "df_zg_minPCA = pd.get_dummies(df_zg_minPCA)"
   ]
  },
  {
   "cell_type": "code",
   "execution_count": 52,
   "metadata": {},
   "outputs": [
    {
     "name": "stdout",
     "output_type": "stream",
     "text": [
      "Wall time: 87.7 ms\n"
     ]
    },
    {
     "name": "stderr",
     "output_type": "stream",
     "text": [
      "C:\\ProgramData\\Anaconda3\\envs\\DS7331_35r\\lib\\site-packages\\sklearn\\preprocessing\\data.py:645: DataConversionWarning: Data with input dtype int64 were all converted to float64 by StandardScaler.\n",
      "  return self.partial_fit(X, y)\n",
      "C:\\ProgramData\\Anaconda3\\envs\\DS7331_35r\\lib\\site-packages\\sklearn\\base.py:464: DataConversionWarning: Data with input dtype int64 were all converted to float64 by StandardScaler.\n",
      "  return self.fit(X, **fit_params).transform(X)\n",
      "C:\\ProgramData\\Anaconda3\\envs\\DS7331_35r\\lib\\site-packages\\ipykernel_launcher.py:15: DataConversionWarning: Data with input dtype int64 were all converted to float64 by StandardScaler.\n",
      "  from ipykernel import kernelapp as app\n",
      "C:\\ProgramData\\Anaconda3\\envs\\DS7331_35r\\lib\\site-packages\\ipykernel_launcher.py:16: DataConversionWarning: Data with input dtype int64 were all converted to float64 by StandardScaler.\n",
      "  app.launch_new_instance()\n"
     ]
    }
   ],
   "source": [
    "%%time\n",
    "x_train, x_valid, x_test, y_train, y_valid, y_test = tvt_split(df_zg_minPCA, df_zg_y, 0.2, 0.2, 7)\n",
    "\n",
    "#Create variables for just this operation\n",
    "x_t = x_train\n",
    "x_v = x_valid\n",
    "y_t = y_train\n",
    "y_v = y_valid\n",
    "y_tst = y_test\n",
    "\n",
    "# We will fill this with predictions\n",
    "yhat = np.zeros(y_v.shape)\n",
    "\n",
    "scl = StandardScaler()\n",
    "x_t = scl.fit_transform(x_train)\n",
    "x_v = scl.transform(x_valid)\n",
    "x_tst = scl.transform(x_test)\n",
    "\n",
    "#Print out the shapes of the train/valid/test sets\n",
    "x_train.shape, x_valid.shape, x_test.shape"
   ]
  },
  {
   "cell_type": "code",
   "execution_count": 53,
   "metadata": {},
   "outputs": [
    {
     "data": {
      "text/plain": [
       "((61059, 10), (20353, 10), (20354, 10))"
      ]
     },
     "execution_count": 53,
     "metadata": {},
     "output_type": "execute_result"
    }
   ],
   "source": [
    "x_train.shape, x_valid.shape, x_test.shape"
   ]
  },
  {
   "cell_type": "code",
   "execution_count": 54,
   "metadata": {},
   "outputs": [
    {
     "name": "stderr",
     "output_type": "stream",
     "text": [
      "C:\\ProgramData\\Anaconda3\\envs\\DS7331_35r\\lib\\site-packages\\ipykernel_launcher.py:3: DataConversionWarning: A column-vector y was passed when a 1d array was expected. Please change the shape of y to (n_samples, ), for example using ravel().\n",
      "  This is separate from the ipykernel package so we can avoid doing imports until\n"
     ]
    },
    {
     "data": {
      "image/png": "[encoded data removed]",
      "text/plain": [
       "<Figure size 432x288 with 1 Axes>"
      ]
     },
     "metadata": {
      "needs_background": "light"
     },
     "output_type": "display_data"
    },
    {
     "name": "stdout",
     "output_type": "stream",
     "text": [
      "F1: 0.6418684651822801 ACC: 0.6413481379581409 AUC: 0.7042891885025135 \n",
      "Confusion Matrix\n",
      " [[7006 3963]\n",
      " [3337 6048]]\n",
      "Wall time: 16.2 s\n"
     ]
    }
   ],
   "source": [
    "%%time\n",
    "# get a handle to the classifier object, which defines the type\n",
    "clf = KNeighborsClassifier(n_neighbors = 27)\n",
    "clf.fit(x_t, y_t)\n",
    "\n",
    "#Find the optimal cutoff point\n",
    "y_pred_cut = clf.predict_proba(x_v)\n",
    "cutoff = Find_Optimal_Cutoff(y_v, y_pred_cut)\n",
    "\n",
    "#Prediction\n",
    "#y_pred = model.predict(x_test_scaled)\n",
    "y_pred_probs = clf.predict_proba(x_tst)\n",
    "y_pred = np.where(y_pred_probs >= cutoff, 1, 0)\n",
    "y_pred = y_pred[:,1]\n",
    "\n",
    "rocCurvePlot(y_pred_probs, y_tst)\n",
    "\n",
    "#Accuracy metrics\n",
    "f1 = f1_score(y_tst, y_pred, average = 'weighted')\n",
    "acc = accuracy_score(y_tst, y_pred)\n",
    "roc = roc_auc_score(y_tst, y_pred_probs[:,1])\n",
    "#roc = roc_auc_score(y_v, clf.predict_proba(x_v)[:,1])\n",
    "conf = mt.confusion_matrix(y_tst, y_pred)\n",
    "print(\"F1:\", f1, \"ACC:\", acc, \"AUC:\", roc, \"\\nConfusion Matrix\\n\", conf)\n",
    "y_pred_corr = y_pred"
   ]
  },
  {
   "cell_type": "markdown",
   "metadata": {},
   "source": [
    "# KNN with variables based on Full Model"
   ]
  },
  {
   "cell_type": "code",
   "execution_count": 55,
   "metadata": {},
   "outputs": [
    {
     "name": "stderr",
     "output_type": "stream",
     "text": [
      "C:\\ProgramData\\Anaconda3\\envs\\DS7331_35r\\lib\\site-packages\\sklearn\\preprocessing\\data.py:645: DataConversionWarning: Data with input dtype uint8, int32, int64 were all converted to float64 by StandardScaler.\n",
      "  return self.partial_fit(X, y)\n",
      "C:\\ProgramData\\Anaconda3\\envs\\DS7331_35r\\lib\\site-packages\\sklearn\\base.py:464: DataConversionWarning: Data with input dtype uint8, int32, int64 were all converted to float64 by StandardScaler.\n",
      "  return self.fit(X, **fit_params).transform(X)\n",
      "C:\\ProgramData\\Anaconda3\\envs\\DS7331_35r\\lib\\site-packages\\ipykernel_launcher.py:18: DataConversionWarning: Data with input dtype uint8, int32, int64 were all converted to float64 by StandardScaler.\n"
     ]
    },
    {
     "name": "stdout",
     "output_type": "stream",
     "text": [
      "Wall time: 1.27 s\n"
     ]
    },
    {
     "name": "stderr",
     "output_type": "stream",
     "text": [
      "C:\\ProgramData\\Anaconda3\\envs\\DS7331_35r\\lib\\site-packages\\ipykernel_launcher.py:19: DataConversionWarning: Data with input dtype uint8, int32, int64 were all converted to float64 by StandardScaler.\n"
     ]
    }
   ],
   "source": [
    "%%time\n",
    "x_train, x_valid, x_test, y_train, y_valid, y_test = tvt_split(df_zg_hot_x, df_zg_y, 0.2, 0.2, 7)\n",
    "\n",
    "#Print out the shapes of the train/valid/test sets\n",
    "x_train.shape, x_valid.shape, x_test.shape\n",
    "\n",
    "#Create variables for just this operation\n",
    "x_t = x_train\n",
    "x_v = x_valid\n",
    "y_t = y_train\n",
    "y_v = y_valid\n",
    "y_tst = y_test\n",
    "\n",
    "# We will fill this with predictions\n",
    "yhat = np.zeros(y_v.shape)\n",
    "\n",
    "scl = StandardScaler()\n",
    "x_t = scl.fit_transform(x_train)\n",
    "x_v = scl.transform(x_valid)\n",
    "x_tst = scl.transform(x_test)"
   ]
  },
  {
   "cell_type": "code",
   "execution_count": 20,
   "metadata": {},
   "outputs": [
    {
     "name": "stderr",
     "output_type": "stream",
     "text": [
      "C:\\ProgramData\\Anaconda3\\envs\\DS7331_35r\\lib\\site-packages\\ipykernel_launcher.py:2: DataConversionWarning: A column-vector y was passed when a 1d array was expected. Please change the shape of y to (n_samples, ), for example using ravel().\n",
      "  \n"
     ]
    },
    {
     "data": {
      "image/png": "[encoded data removed]",
      "text/plain": [
       "<Figure size 432x288 with 1 Axes>"
      ]
     },
     "metadata": {
      "needs_background": "light"
     },
     "output_type": "display_data"
    },
    {
     "name": "stdout",
     "output_type": "stream",
     "text": [
      "F1: 0.621 ACC: 0.6265 AUC: 0.6706\n",
      "Specificity: 0.5009 Sensitivity: 0.734\n",
      "\n",
      "Confusion Matrix\n",
      " [[8051 2918]\n",
      " [4684 4701]]\n",
      "Wall time: 15min 23s\n"
     ]
    }
   ],
   "source": [
    "%%time\n",
    "clf = KNeighborsClassifier(n_neighbors = 7)\n",
    "clf.fit(x_t, y_t)\n",
    "\n",
    "#Find the optimal cutoff point\n",
    "y_pred_cut = clf.predict_proba(x_v)\n",
    "cutoff = Find_Optimal_Cutoff(y_v, y_pred_cut)\n",
    "\n",
    "#Prediction\n",
    "y_pred_probs = clf.predict_proba(x_tst)\n",
    "y_pred = np.where(y_pred_probs >= cutoff, 1, 0)\n",
    "y_pred = y_pred[:,1]\n",
    "\n",
    "rocCurvePlot(y_pred_probs, y_tst)\n",
    "\n",
    "#Accuracy metrics\n",
    "f1 = f1_score(y_tst, y_pred, average = 'weighted')\n",
    "acc = accuracy_score(y_tst, y_pred)\n",
    "auc = roc_auc_score(y_tst, y_pred_probs[:,1])\n",
    "conf = mt.confusion_matrix(y_tst, y_pred)\n",
    "sens = conf[0,0]/(conf[0,0] + conf[0,1])\n",
    "spec = conf[1,1]/(conf[1,0] + conf[1,1])\n",
    "print(\"F1:\", round(f1,4), \"ACC:\", round(acc,4), \"AUC:\", round(auc,4))\n",
    "print(\"Specificity:\", round(spec, 4), \"Sensitivity:\", round(sens, 4))\n",
    "print(\"\\nConfusion Matrix\\n\", conf)\n",
    "y_pred_full = y_pred"
   ]
  },
  {
   "cell_type": "markdown",
   "metadata": {},
   "source": [
    "# Ensemble Model from the three KNN's"
   ]
  },
  {
   "cell_type": "code",
   "execution_count": 56,
   "metadata": {},
   "outputs": [
    {
     "name": "stdout",
     "output_type": "stream",
     "text": [
      "F1: 0.6553 ACC: 0.658 AUC: 0.6514\n",
      "Specificity: 0.5661 Sensitivity: 0.7366\n",
      "\n",
      "Confusion Matrix\n",
      " [[8080 2889]\n",
      " [4072 5313]]\n"
     ]
    }
   ],
   "source": [
    "from operator import add\n",
    "vals = list( map(add, y_pred_full, y_pred_tstat) )\n",
    "vals = np.asarray(list( map(add, vals, y_pred_corr) ))\n",
    "y_pred_all = np.where(vals >= 2, 1, 0)\n",
    "\n",
    "#Accuracy metrics\n",
    "f1 = f1_score(y_tst, y_pred_all, average = 'weighted')\n",
    "acc = accuracy_score(y_tst, y_pred_all)\n",
    "auc = roc_auc_score(y_tst, y_pred_all)\n",
    "conf = mt.confusion_matrix(y_tst, y_pred_all)\n",
    "sens = conf[0,0]/(conf[0,0] + conf[0,1])\n",
    "spec = conf[1,1]/(conf[1,0] + conf[1,1])\n",
    "print(\"F1:\", round(f1,4), \"ACC:\", round(acc,4), \"AUC:\", round(auc,4))\n",
    "print(\"Specificity:\", round(spec, 4), \"Sensitivity:\", round(sens, 4))\n",
    "print(\"\\nConfusion Matrix\\n\", conf)"
   ]
  },
  {
   "cell_type": "code",
   "execution_count": null,
   "metadata": {},
   "outputs": [],
   "source": []
  }
 ],
 "metadata": {
  "kernelspec": {
   "display_name": "Python 3",
   "language": "python",
   "name": "python3"
  },
  "language_info": {
   "codemirror_mode": {
    "name": "ipython",
    "version": 3
   },
   "file_extension": ".py",
   "mimetype": "text/x-python",
   "name": "python",
   "nbconvert_exporter": "python",
   "pygments_lexer": "ipython3",
   "version": "3.7.3"
  }
 },
 "nbformat": 4,
 "nbformat_minor": 2
}
