{
 "cells": [
  {
   "cell_type": "markdown",
   "metadata": {},
   "source": [
    "## Task 2 Regression \n",
    "new target: time_in_hospital\n",
    "\n",
    "great improvment on MSE after parameters tuning"
   ]
  },
  {
   "cell_type": "code",
   "execution_count": 43,
   "metadata": {},
   "outputs": [],
   "source": [
    "import pandas as pd\n",
    "import numpy as np\n",
    "import pandas_profiling\n",
    "import matplotlib.pyplot as plt\n",
    "get_ipython().run_line_magic('matplotlib', 'inline')\n",
    "import warnings # current version of seaborn generates a bunch of warnings that we'll ignore\n",
    "warnings.filterwarnings(\"ignore\")\n",
    "import seaborn as sns\n",
    "\n",
    "from sklearn.model_selection import train_test_split\n",
    "from sklearn.svm import SVC\n",
    "from sklearn.metrics import roc_auc_score\n",
    "from sklearn.metrics import mean_squared_error\n",
    "\n",
    "#this code below is to make %%time magic work\n",
    "import glob\n",
    "import os\n",
    "from __future__ import print_function\n",
    "#this code above is to make %%time magic work\n",
    "\n",
    "from sklearn.ensemble import RandomForestRegressor\n",
    "from xgboost import XGBRegressor\n",
    "from sklearn.linear_model import LinearRegression\n"
   ]
  },
  {
   "cell_type": "code",
   "execution_count": 44,
   "metadata": {},
   "outputs": [
    {
     "name": "stdout",
     "output_type": "stream",
     "text": [
      "<class 'pandas.core.frame.DataFrame'>\n",
      "RangeIndex: 101766 entries, 0 to 101765\n",
      "Data columns (total 51 columns):\n",
      "encounter_id                101766 non-null int64\n",
      "patient_nbr                 101766 non-null int64\n",
      "race                        101766 non-null object\n",
      "gender                      101766 non-null object\n",
      "age                         101766 non-null object\n",
      "admission_type_id           101766 non-null int64\n",
      "discharge_disposition_id    101766 non-null int64\n",
      "admission_source_id         101766 non-null int64\n",
      "time_in_hospital            101766 non-null int64\n",
      "medical_specialty           101766 non-null object\n",
      "num_lab_procedures          101766 non-null int64\n",
      "num_procedures              101766 non-null int64\n",
      "num_medications             101766 non-null int64\n",
      "number_outpatient           101766 non-null int64\n",
      "number_emergency            101766 non-null int64\n",
      "number_inpatient            101766 non-null int64\n",
      "number_diagnoses            101766 non-null int64\n",
      "max_glu_serum               101766 non-null object\n",
      "A1Cresult                   101766 non-null object\n",
      "metformin                   101766 non-null object\n",
      "repaglinide                 101766 non-null object\n",
      "nateglinide                 101766 non-null object\n",
      "chlorpropamide              101766 non-null object\n",
      "glimepiride                 101766 non-null object\n",
      "acetohexamide               101766 non-null object\n",
      "glipizide                   101766 non-null object\n",
      "glyburide                   101766 non-null object\n",
      "tolbutamide                 101766 non-null object\n",
      "pioglitazone                101766 non-null object\n",
      "rosiglitazone               101766 non-null object\n",
      "acarbose                    101766 non-null object\n",
      "miglitol                    101766 non-null object\n",
      "troglitazone                101766 non-null object\n",
      "tolazamide                  101766 non-null object\n",
      "insulin                     101766 non-null object\n",
      "glyburide-metformin         101766 non-null object\n",
      "glipizide-metformin         101766 non-null object\n",
      "metformin-rosiglitazone     101766 non-null object\n",
      "metformin-pioglitazone      101766 non-null object\n",
      "change                      101766 non-null object\n",
      "diabetesMed                 101766 non-null object\n",
      "readmitted                  101766 non-null object\n",
      "diag_1_val                  101766 non-null object\n",
      "diag_2_val                  101766 non-null object\n",
      "diag_3_val                  101766 non-null object\n",
      "readmitted_tf               101766 non-null int64\n",
      "medication_count            101766 non-null int64\n",
      "admission_source            95783 non-null object\n",
      "discharge_disposition       98086 non-null object\n",
      "admission_type              97684 non-null object\n",
      "meds_increased              101766 non-null int64\n",
      "dtypes: int64(16), object(35)\n",
      "memory usage: 39.6+ MB\n"
     ]
    }
   ],
   "source": [
    "#import the data\n",
    "directory = 'C:/Users/N1110/Desktop/7331_Project/data/'\n",
    "df = pd.read_csv(directory + 'Diabetes_tmp_Cleaned.csv')\n",
    "df_clean = df\n",
    "df_clean.info()\n",
    "\n",
    "#target: time_in_hospital            101766 non-null int64"
   ]
  },
  {
   "cell_type": "code",
   "execution_count": 45,
   "metadata": {},
   "outputs": [
    {
     "data": {
      "text/html": [
       "<div>\n",
       "<style scoped>\n",
       "    .dataframe tbody tr th:only-of-type {\n",
       "        vertical-align: middle;\n",
       "    }\n",
       "\n",
       "    .dataframe tbody tr th {\n",
       "        vertical-align: top;\n",
       "    }\n",
       "\n",
       "    .dataframe thead th {\n",
       "        text-align: right;\n",
       "    }\n",
       "</style>\n",
       "<table border=\"1\" class=\"dataframe\">\n",
       "  <thead>\n",
       "    <tr style=\"text-align: right;\">\n",
       "      <th></th>\n",
       "      <th>encounter_id</th>\n",
       "      <th>patient_nbr</th>\n",
       "      <th>race</th>\n",
       "      <th>gender</th>\n",
       "      <th>age</th>\n",
       "      <th>admission_type_id</th>\n",
       "      <th>discharge_disposition_id</th>\n",
       "      <th>admission_source_id</th>\n",
       "      <th>time_in_hospital</th>\n",
       "      <th>medical_specialty</th>\n",
       "      <th>...</th>\n",
       "      <th>readmitted</th>\n",
       "      <th>diag_1_val</th>\n",
       "      <th>diag_2_val</th>\n",
       "      <th>diag_3_val</th>\n",
       "      <th>readmitted_tf</th>\n",
       "      <th>medication_count</th>\n",
       "      <th>admission_source</th>\n",
       "      <th>discharge_disposition</th>\n",
       "      <th>admission_type</th>\n",
       "      <th>meds_increased</th>\n",
       "    </tr>\n",
       "  </thead>\n",
       "  <tbody>\n",
       "    <tr>\n",
       "      <th>0</th>\n",
       "      <td>2278392</td>\n",
       "      <td>8222157</td>\n",
       "      <td>Caucasian</td>\n",
       "      <td>Female</td>\n",
       "      <td>[0-10)</td>\n",
       "      <td>6</td>\n",
       "      <td>25</td>\n",
       "      <td>1</td>\n",
       "      <td>1</td>\n",
       "      <td>Pediatrics-Endocrinology</td>\n",
       "      <td>...</td>\n",
       "      <td>NO</td>\n",
       "      <td>Diabeties</td>\n",
       "      <td>None</td>\n",
       "      <td>None</td>\n",
       "      <td>0</td>\n",
       "      <td>0</td>\n",
       "      <td>Physician Referral</td>\n",
       "      <td>Not Mapped</td>\n",
       "      <td>NaN</td>\n",
       "      <td>0</td>\n",
       "    </tr>\n",
       "    <tr>\n",
       "      <th>1</th>\n",
       "      <td>149190</td>\n",
       "      <td>55629189</td>\n",
       "      <td>Caucasian</td>\n",
       "      <td>Female</td>\n",
       "      <td>[10-20)</td>\n",
       "      <td>1</td>\n",
       "      <td>1</td>\n",
       "      <td>7</td>\n",
       "      <td>3</td>\n",
       "      <td>Unspecified</td>\n",
       "      <td>...</td>\n",
       "      <td>&gt;30</td>\n",
       "      <td>Neoplasms</td>\n",
       "      <td>Diabeties</td>\n",
       "      <td>Neoplasms</td>\n",
       "      <td>1</td>\n",
       "      <td>1</td>\n",
       "      <td>Emergency Room</td>\n",
       "      <td>Discharged to home</td>\n",
       "      <td>Emergency</td>\n",
       "      <td>1</td>\n",
       "    </tr>\n",
       "    <tr>\n",
       "      <th>2</th>\n",
       "      <td>64410</td>\n",
       "      <td>86047875</td>\n",
       "      <td>AfricanAmerican</td>\n",
       "      <td>Female</td>\n",
       "      <td>[20-30)</td>\n",
       "      <td>1</td>\n",
       "      <td>1</td>\n",
       "      <td>7</td>\n",
       "      <td>2</td>\n",
       "      <td>Unspecified</td>\n",
       "      <td>...</td>\n",
       "      <td>NO</td>\n",
       "      <td>Other</td>\n",
       "      <td>Diabeties</td>\n",
       "      <td>Other</td>\n",
       "      <td>0</td>\n",
       "      <td>1</td>\n",
       "      <td>Emergency Room</td>\n",
       "      <td>Discharged to home</td>\n",
       "      <td>Emergency</td>\n",
       "      <td>0</td>\n",
       "    </tr>\n",
       "    <tr>\n",
       "      <th>3</th>\n",
       "      <td>500364</td>\n",
       "      <td>82442376</td>\n",
       "      <td>Caucasian</td>\n",
       "      <td>Male</td>\n",
       "      <td>[30-40)</td>\n",
       "      <td>1</td>\n",
       "      <td>1</td>\n",
       "      <td>7</td>\n",
       "      <td>2</td>\n",
       "      <td>Unspecified</td>\n",
       "      <td>...</td>\n",
       "      <td>NO</td>\n",
       "      <td>Neoplasms</td>\n",
       "      <td>Diabeties</td>\n",
       "      <td>Circulatory</td>\n",
       "      <td>0</td>\n",
       "      <td>1</td>\n",
       "      <td>Emergency Room</td>\n",
       "      <td>Discharged to home</td>\n",
       "      <td>Emergency</td>\n",
       "      <td>1</td>\n",
       "    </tr>\n",
       "    <tr>\n",
       "      <th>4</th>\n",
       "      <td>16680</td>\n",
       "      <td>42519267</td>\n",
       "      <td>Caucasian</td>\n",
       "      <td>Male</td>\n",
       "      <td>[40-50)</td>\n",
       "      <td>1</td>\n",
       "      <td>1</td>\n",
       "      <td>7</td>\n",
       "      <td>1</td>\n",
       "      <td>Unspecified</td>\n",
       "      <td>...</td>\n",
       "      <td>NO</td>\n",
       "      <td>Neoplasms</td>\n",
       "      <td>Neoplasms</td>\n",
       "      <td>Diabeties</td>\n",
       "      <td>0</td>\n",
       "      <td>2</td>\n",
       "      <td>Emergency Room</td>\n",
       "      <td>Discharged to home</td>\n",
       "      <td>Emergency</td>\n",
       "      <td>0</td>\n",
       "    </tr>\n",
       "  </tbody>\n",
       "</table>\n",
       "<p>5 rows × 51 columns</p>\n",
       "</div>"
      ],
      "text/plain": [
       "   encounter_id  patient_nbr             race  gender      age  \\\n",
       "0       2278392      8222157        Caucasian  Female   [0-10)   \n",
       "1        149190     55629189        Caucasian  Female  [10-20)   \n",
       "2         64410     86047875  AfricanAmerican  Female  [20-30)   \n",
       "3        500364     82442376        Caucasian    Male  [30-40)   \n",
       "4         16680     42519267        Caucasian    Male  [40-50)   \n",
       "\n",
       "   admission_type_id  discharge_disposition_id  admission_source_id  \\\n",
       "0                  6                        25                    1   \n",
       "1                  1                         1                    7   \n",
       "2                  1                         1                    7   \n",
       "3                  1                         1                    7   \n",
       "4                  1                         1                    7   \n",
       "\n",
       "   time_in_hospital         medical_specialty      ...        readmitted  \\\n",
       "0                 1  Pediatrics-Endocrinology      ...                NO   \n",
       "1                 3               Unspecified      ...               >30   \n",
       "2                 2               Unspecified      ...                NO   \n",
       "3                 2               Unspecified      ...                NO   \n",
       "4                 1               Unspecified      ...                NO   \n",
       "\n",
       "   diag_1_val  diag_2_val   diag_3_val  readmitted_tf  medication_count  \\\n",
       "0   Diabeties        None         None              0                 0   \n",
       "1   Neoplasms   Diabeties    Neoplasms              1                 1   \n",
       "2       Other   Diabeties        Other              0                 1   \n",
       "3   Neoplasms   Diabeties  Circulatory              0                 1   \n",
       "4   Neoplasms   Neoplasms    Diabeties              0                 2   \n",
       "\n",
       "     admission_source discharge_disposition admission_type meds_increased  \n",
       "0  Physician Referral            Not Mapped            NaN              0  \n",
       "1      Emergency Room    Discharged to home      Emergency              1  \n",
       "2      Emergency Room    Discharged to home      Emergency              0  \n",
       "3      Emergency Room    Discharged to home      Emergency              1  \n",
       "4      Emergency Room    Discharged to home      Emergency              0  \n",
       "\n",
       "[5 rows x 51 columns]"
      ]
     },
     "execution_count": 45,
     "metadata": {},
     "output_type": "execute_result"
    }
   ],
   "source": [
    "df_clean.head()"
   ]
  },
  {
   "cell_type": "code",
   "execution_count": 46,
   "metadata": {},
   "outputs": [],
   "source": [
    "#can also use binary encoder to achieve this\n",
    "df_clean.gender[df_clean.gender == 'Male'] = 0\n",
    "df_clean.gender[df_clean.gender == 'Female'] = 1\n",
    "\n",
    "df_clean[\"gender\"] = df_clean[\"gender\"].astype(int)"
   ]
  },
  {
   "cell_type": "code",
   "execution_count": 47,
   "metadata": {},
   "outputs": [],
   "source": [
    "#10 age groups; Ordinal encoding\n",
    "#feature density plot of age can help with answering the question like: does people older age tend to be readmitted?\n",
    "#can use map/apply function to achieve this\n",
    "\n",
    "df_clean.age[df_clean.age== '[0-10)'] = 1\n",
    "df_clean.age[df_clean.age== '[10-20)'] = 2\n",
    "df_clean.age[df_clean.age== '[20-30)'] = 3\n",
    "df_clean.age[df_clean.age== '[30-40)'] = 4\n",
    "df_clean.age[df_clean.age== '[40-50)'] = 5\n",
    "df_clean.age[df_clean.age== '[50-60)'] = 6\n",
    "df_clean.age[df_clean.age== '[60-70)'] = 7\n",
    "df_clean.age[df_clean.age== '[70-80)'] = 8\n",
    "df_clean.age[df_clean.age== '[80-90)'] = 9\n",
    "df_clean.age[df_clean.age== '[90-100)'] = 10\n",
    "\n",
    "df_clean[\"age\"] = df_clean[\"age\"].astype(int)"
   ]
  },
  {
   "cell_type": "code",
   "execution_count": 48,
   "metadata": {},
   "outputs": [],
   "source": [
    "#one hot encoding categorical variables\n",
    "\n",
    "#FE based on Feature Importance plot from LR model\n",
    "\n",
    "#add more important features: discharge_disposition_id, admission_source_id. I think they should be categorical, so I put them in dummy list\n",
    "#also include all medications\n",
    "\n",
    "dummiesList=[\"diag_1_val\",\"diag_2_val\",\"diag_3_val\",\"race\",\"A1Cresult\",\"admission_type\",\"admission_source\",\"discharge_disposition\",\n",
    "             \"diabetesMed\",\"medical_specialty\", \"max_glu_serum\", \"meds_increased\", \"insulin\",\n",
    "            \"metformin\", \"repaglinide\", \"nateglinide\", \"chlorpropamide\",\n",
    "             \"glimepiride\", \"acetohexamide\", \"glipizide\", \"glyburide\", \"tolbutamide\",\n",
    "             \"pioglitazone\", \"rosiglitazone\", \"acarbose\", \"miglitol\", \"troglitazone\",\n",
    "             \"tolazamide\", \"glyburide-metformin\", \"glipizide-metformin\",\n",
    "             \"metformin-rosiglitazone\", \"metformin-pioglitazone\"]\n",
    "df_clean_wDummies = pd.get_dummies(df_clean[dummiesList])"
   ]
  },
  {
   "cell_type": "code",
   "execution_count": 49,
   "metadata": {},
   "outputs": [],
   "source": [
    "#combine with numerical features we decide to use and target time_in_hospital\n",
    "NumFeatures=[\"num_lab_procedures\",\"num_procedures\",\"number_outpatient\",\"number_emergency\", \"number_inpatient\",\"num_medications\",\n",
    "             \"medication_count\",\"number_diagnoses\", \"gender\",\"age\",\"time_in_hospital\"]\n",
    "df_clean_wDummies= pd.concat((df_clean_wDummies, df_clean[NumFeatures]), axis=1)"
   ]
  },
  {
   "cell_type": "code",
   "execution_count": 50,
   "metadata": {},
   "outputs": [
    {
     "name": "stdout",
     "output_type": "stream",
     "text": [
      "<class 'pandas.core.frame.DataFrame'>\n",
      "RangeIndex: 101766 entries, 0 to 101765\n",
      "Columns: 244 entries, meds_increased to time_in_hospital\n",
      "dtypes: int32(2), int64(10), uint8(232)\n",
      "memory usage: 31.1 MB\n"
     ]
    }
   ],
   "source": [
    "df_clean_wDummies.info()"
   ]
  },
  {
   "cell_type": "code",
   "execution_count": 51,
   "metadata": {},
   "outputs": [
    {
     "data": {
      "text/html": [
       "<div>\n",
       "<style scoped>\n",
       "    .dataframe tbody tr th:only-of-type {\n",
       "        vertical-align: middle;\n",
       "    }\n",
       "\n",
       "    .dataframe tbody tr th {\n",
       "        vertical-align: top;\n",
       "    }\n",
       "\n",
       "    .dataframe thead th {\n",
       "        text-align: right;\n",
       "    }\n",
       "</style>\n",
       "<table border=\"1\" class=\"dataframe\">\n",
       "  <thead>\n",
       "    <tr style=\"text-align: right;\">\n",
       "      <th></th>\n",
       "      <th>meds_increased</th>\n",
       "      <th>diag_1_val_Circulatory</th>\n",
       "      <th>diag_1_val_Diabeties</th>\n",
       "      <th>diag_1_val_Digestive</th>\n",
       "      <th>diag_1_val_Genitourinary</th>\n",
       "      <th>diag_1_val_Injury</th>\n",
       "      <th>diag_1_val_Musculoskeletal</th>\n",
       "      <th>diag_1_val_Neoplasms</th>\n",
       "      <th>diag_1_val_None</th>\n",
       "      <th>diag_1_val_Other</th>\n",
       "      <th>...</th>\n",
       "      <th>num_procedures</th>\n",
       "      <th>number_outpatient</th>\n",
       "      <th>number_emergency</th>\n",
       "      <th>number_inpatient</th>\n",
       "      <th>num_medications</th>\n",
       "      <th>medication_count</th>\n",
       "      <th>number_diagnoses</th>\n",
       "      <th>gender</th>\n",
       "      <th>age</th>\n",
       "      <th>time_in_hospital</th>\n",
       "    </tr>\n",
       "  </thead>\n",
       "  <tbody>\n",
       "    <tr>\n",
       "      <th>0</th>\n",
       "      <td>0</td>\n",
       "      <td>0</td>\n",
       "      <td>1</td>\n",
       "      <td>0</td>\n",
       "      <td>0</td>\n",
       "      <td>0</td>\n",
       "      <td>0</td>\n",
       "      <td>0</td>\n",
       "      <td>0</td>\n",
       "      <td>0</td>\n",
       "      <td>...</td>\n",
       "      <td>0</td>\n",
       "      <td>0</td>\n",
       "      <td>0</td>\n",
       "      <td>0</td>\n",
       "      <td>1</td>\n",
       "      <td>0</td>\n",
       "      <td>1</td>\n",
       "      <td>1</td>\n",
       "      <td>1</td>\n",
       "      <td>1</td>\n",
       "    </tr>\n",
       "    <tr>\n",
       "      <th>1</th>\n",
       "      <td>1</td>\n",
       "      <td>0</td>\n",
       "      <td>0</td>\n",
       "      <td>0</td>\n",
       "      <td>0</td>\n",
       "      <td>0</td>\n",
       "      <td>0</td>\n",
       "      <td>1</td>\n",
       "      <td>0</td>\n",
       "      <td>0</td>\n",
       "      <td>...</td>\n",
       "      <td>0</td>\n",
       "      <td>0</td>\n",
       "      <td>0</td>\n",
       "      <td>0</td>\n",
       "      <td>18</td>\n",
       "      <td>1</td>\n",
       "      <td>9</td>\n",
       "      <td>1</td>\n",
       "      <td>2</td>\n",
       "      <td>3</td>\n",
       "    </tr>\n",
       "    <tr>\n",
       "      <th>2</th>\n",
       "      <td>0</td>\n",
       "      <td>0</td>\n",
       "      <td>0</td>\n",
       "      <td>0</td>\n",
       "      <td>0</td>\n",
       "      <td>0</td>\n",
       "      <td>0</td>\n",
       "      <td>0</td>\n",
       "      <td>0</td>\n",
       "      <td>1</td>\n",
       "      <td>...</td>\n",
       "      <td>5</td>\n",
       "      <td>2</td>\n",
       "      <td>0</td>\n",
       "      <td>1</td>\n",
       "      <td>13</td>\n",
       "      <td>1</td>\n",
       "      <td>6</td>\n",
       "      <td>1</td>\n",
       "      <td>3</td>\n",
       "      <td>2</td>\n",
       "    </tr>\n",
       "    <tr>\n",
       "      <th>3</th>\n",
       "      <td>1</td>\n",
       "      <td>0</td>\n",
       "      <td>0</td>\n",
       "      <td>0</td>\n",
       "      <td>0</td>\n",
       "      <td>0</td>\n",
       "      <td>0</td>\n",
       "      <td>1</td>\n",
       "      <td>0</td>\n",
       "      <td>0</td>\n",
       "      <td>...</td>\n",
       "      <td>1</td>\n",
       "      <td>0</td>\n",
       "      <td>0</td>\n",
       "      <td>0</td>\n",
       "      <td>16</td>\n",
       "      <td>1</td>\n",
       "      <td>7</td>\n",
       "      <td>0</td>\n",
       "      <td>4</td>\n",
       "      <td>2</td>\n",
       "    </tr>\n",
       "    <tr>\n",
       "      <th>4</th>\n",
       "      <td>0</td>\n",
       "      <td>0</td>\n",
       "      <td>0</td>\n",
       "      <td>0</td>\n",
       "      <td>0</td>\n",
       "      <td>0</td>\n",
       "      <td>0</td>\n",
       "      <td>1</td>\n",
       "      <td>0</td>\n",
       "      <td>0</td>\n",
       "      <td>...</td>\n",
       "      <td>0</td>\n",
       "      <td>0</td>\n",
       "      <td>0</td>\n",
       "      <td>0</td>\n",
       "      <td>8</td>\n",
       "      <td>2</td>\n",
       "      <td>5</td>\n",
       "      <td>0</td>\n",
       "      <td>5</td>\n",
       "      <td>1</td>\n",
       "    </tr>\n",
       "  </tbody>\n",
       "</table>\n",
       "<p>5 rows × 244 columns</p>\n",
       "</div>"
      ],
      "text/plain": [
       "   meds_increased  diag_1_val_Circulatory  diag_1_val_Diabeties  \\\n",
       "0               0                       0                     1   \n",
       "1               1                       0                     0   \n",
       "2               0                       0                     0   \n",
       "3               1                       0                     0   \n",
       "4               0                       0                     0   \n",
       "\n",
       "   diag_1_val_Digestive  diag_1_val_Genitourinary  diag_1_val_Injury  \\\n",
       "0                     0                         0                  0   \n",
       "1                     0                         0                  0   \n",
       "2                     0                         0                  0   \n",
       "3                     0                         0                  0   \n",
       "4                     0                         0                  0   \n",
       "\n",
       "   diag_1_val_Musculoskeletal  diag_1_val_Neoplasms  diag_1_val_None  \\\n",
       "0                           0                     0                0   \n",
       "1                           0                     1                0   \n",
       "2                           0                     0                0   \n",
       "3                           0                     1                0   \n",
       "4                           0                     1                0   \n",
       "\n",
       "   diag_1_val_Other        ...         num_procedures  number_outpatient  \\\n",
       "0                 0        ...                      0                  0   \n",
       "1                 0        ...                      0                  0   \n",
       "2                 1        ...                      5                  2   \n",
       "3                 0        ...                      1                  0   \n",
       "4                 0        ...                      0                  0   \n",
       "\n",
       "   number_emergency  number_inpatient  num_medications  medication_count  \\\n",
       "0                 0                 0                1                 0   \n",
       "1                 0                 0               18                 1   \n",
       "2                 0                 1               13                 1   \n",
       "3                 0                 0               16                 1   \n",
       "4                 0                 0                8                 2   \n",
       "\n",
       "   number_diagnoses  gender  age  time_in_hospital  \n",
       "0                 1       1    1                 1  \n",
       "1                 9       1    2                 3  \n",
       "2                 6       1    3                 2  \n",
       "3                 7       0    4                 2  \n",
       "4                 5       0    5                 1  \n",
       "\n",
       "[5 rows x 244 columns]"
      ]
     },
     "execution_count": 51,
     "metadata": {},
     "output_type": "execute_result"
    }
   ],
   "source": [
    "df=df_clean_wDummies\n",
    "df.head()"
   ]
  },
  {
   "cell_type": "code",
   "execution_count": 52,
   "metadata": {},
   "outputs": [
    {
     "data": {
      "text/plain": [
       "Index(['meds_increased', 'diag_1_val_Circulatory', 'diag_1_val_Diabeties',\n",
       "       'diag_1_val_Digestive', 'diag_1_val_Genitourinary', 'diag_1_val_Injury',\n",
       "       'diag_1_val_Musculoskeletal', 'diag_1_val_Neoplasms', 'diag_1_val_None',\n",
       "       'diag_1_val_Other',\n",
       "       ...\n",
       "       'num_procedures', 'number_outpatient', 'number_emergency',\n",
       "       'number_inpatient', 'num_medications', 'medication_count',\n",
       "       'number_diagnoses', 'gender', 'age', 'time_in_hospital'],\n",
       "      dtype='object', length=244)"
      ]
     },
     "execution_count": 52,
     "metadata": {},
     "output_type": "execute_result"
    }
   ],
   "source": [
    "df.columns"
   ]
  },
  {
   "cell_type": "code",
   "execution_count": 53,
   "metadata": {},
   "outputs": [],
   "source": [
    "## Code to train a model and calc the R-sq \n",
    "## This iece of code trains a RandomForest Regressor \n",
    "if \"time_in_hospital\" in df.columns:\n",
    "    yData = df.time_in_hospital\n",
    "    del df[\"time_in_hospital\"]\n",
    "xData = df\n",
    "X_train, X_test, y_train, y_test = train_test_split(xData,yData)\n"
   ]
  },
  {
   "cell_type": "code",
   "execution_count": 54,
   "metadata": {},
   "outputs": [],
   "source": [
    "    # we want to normalize the features based upon the mean and standard deviation of each column. \n",
    "# However, we do not want to accidentally use the testing data to find out the mean and std (this would be snooping)\n",
    "# to Make things easier, let's start by just using whatever was last stored in the variables:\n",
    "##    X_train , y_train , X_test, y_test (they were set in a for loop above)\n",
    "from sklearn.preprocessing import StandardScaler\n",
    "scl_obj = StandardScaler()\n",
    "\n",
    "scl_obj.fit(X_train)\n",
    "X_test_scaled = scl_obj.transform(X_test)\n",
    "\n",
    "X_train_scaled = scl_obj.transform(X_train) # apply to training\n",
    "X_test_scaled = scl_obj.transform(X_test) "
   ]
  },
  {
   "cell_type": "markdown",
   "metadata": {},
   "source": [
    "## RF Regressor"
   ]
  },
  {
   "cell_type": "code",
   "execution_count": 55,
   "metadata": {},
   "outputs": [
    {
     "data": {
      "text/plain": [
       "RandomForestRegressor(bootstrap=True, criterion='mse', max_depth=None,\n",
       "           max_features='auto', max_leaf_nodes=None,\n",
       "           min_impurity_decrease=0.0, min_impurity_split=None,\n",
       "           min_samples_leaf=1, min_samples_split=2,\n",
       "           min_weight_fraction_leaf=0.0, n_estimators=10, n_jobs=1,\n",
       "           oob_score=False, random_state=None, verbose=0, warm_start=False)"
      ]
     },
     "execution_count": 55,
     "metadata": {},
     "output_type": "execute_result"
    }
   ],
   "source": [
    "#RF Regressor baseline model\n",
    "rf=RandomForestRegressor()\n",
    "rf.fit(X_train_scaled,y_train)"
   ]
  },
  {
   "cell_type": "code",
   "execution_count": 56,
   "metadata": {},
   "outputs": [],
   "source": [
    "predicted_time_in_hospital = rf.predict(X_test)"
   ]
  },
  {
   "cell_type": "code",
   "execution_count": 57,
   "metadata": {},
   "outputs": [
    {
     "data": {
      "text/plain": [
       "array([ 9.9,  8.2,  9.5,  9.7, 10.5,  7.5, 10.1, 10. ,  8.5,  9. ])"
      ]
     },
     "execution_count": 57,
     "metadata": {},
     "output_type": "execute_result"
    }
   ],
   "source": [
    "predicted_time_in_hospital[:10]"
   ]
  },
  {
   "cell_type": "code",
   "execution_count": 58,
   "metadata": {},
   "outputs": [
    {
     "data": {
      "text/plain": [
       "34.646721955821086"
      ]
     },
     "execution_count": 58,
     "metadata": {},
     "output_type": "execute_result"
    }
   ],
   "source": [
    "#metrics.mean_squared_error\n",
    "mean_squared_error(y_test, predicted_time_in_hospital)\n"
   ]
  },
  {
   "cell_type": "code",
   "execution_count": 59,
   "metadata": {},
   "outputs": [
    {
     "name": "stdout",
     "output_type": "stream",
     "text": [
      "[5.23163669e-03 8.30975910e-03 4.32001849e-03 4.18619865e-03\n",
      " 3.22657941e-03 4.82031156e-03 9.49405002e-03 6.46264908e-03\n",
      " 5.50902058e-05 1.64040946e-02 5.42868639e-03 7.22299376e-03\n",
      " 4.35942996e-03 3.79358701e-03 5.28409374e-03 2.55444125e-03\n",
      " 1.85873076e-03 7.86128828e-03 1.11839189e-04 5.58990906e-03\n",
      " 6.06542236e-03 8.05540083e-03 5.60834316e-03 3.57314583e-03\n",
      " 4.87972551e-03 2.75007584e-03 2.21586611e-03 7.56123175e-03\n",
      " 4.58455511e-04 5.77050483e-03 5.25128914e-03 5.45303948e-03\n",
      " 8.58199432e-04 5.72690754e-03 1.83667962e-03 1.49652404e-03\n",
      " 2.56839151e-03 3.10977884e-03 3.85340370e-03 5.87467420e-03\n",
      " 3.56197382e-03 6.26973131e-03 7.47517502e-03 3.92153037e-03\n",
      " 1.64668448e-03 1.33752400e-04 1.88543671e-03 7.52776047e-03\n",
      " 7.87280263e-03 4.68200587e-05 9.36573371e-03 0.00000000e+00\n",
      " 3.07129864e-04 8.50644026e-05 1.75279856e-04 1.21683745e-02\n",
      " 1.51345429e-03 1.51159698e-03 4.80751884e-03 2.42900679e-03\n",
      " 1.67861579e-03 3.78926411e-05 6.24192022e-04 6.53494339e-02\n",
      " 1.35935435e-03 4.25213309e-03 8.40385438e-05 1.62496629e-02\n",
      " 4.95432217e-05 1.55689120e-03 5.89701039e-03 1.35181027e-03\n",
      " 7.36431189e-04 3.62153140e-03 5.53338818e-05 4.49731442e-06\n",
      " 7.54860699e-05 6.18065423e-07 4.16020255e-03 9.18495475e-06\n",
      " 0.00000000e+00 9.33390290e-04 8.53808884e-04 1.24202045e-02\n",
      " 2.70215271e-05 6.63965524e-04 0.00000000e+00 6.83077239e-03\n",
      " 6.11010531e-03 2.26052565e-06 7.20842105e-05 4.35936308e-06\n",
      " 4.91705387e-03 3.31898410e-06 1.99628931e-05 2.33743416e-06\n",
      " 0.00000000e+00 4.30399700e-03 2.77810336e-04 0.00000000e+00\n",
      " 4.49598851e-03 1.03607445e-03 3.77506565e-05 1.00498282e-04\n",
      " 3.07219175e-04 4.94891630e-05 1.25811999e-04 8.31618590e-03\n",
      " 1.93863228e-03 1.09572312e-04 0.00000000e+00 3.45486422e-05\n",
      " 1.15581215e-06 5.23824128e-04 7.56345876e-04 1.05779159e-05\n",
      " 7.75620063e-04 8.65977129e-04 1.36533027e-04 2.88298949e-04\n",
      " 5.98072090e-05 1.16568238e-05 2.53488412e-04 2.92177650e-04\n",
      " 9.86391066e-06 0.00000000e+00 4.44330589e-05 3.55176195e-06\n",
      " 0.00000000e+00 6.40207886e-06 1.09617046e-03 0.00000000e+00\n",
      " 4.15003887e-03 1.19078995e-05 2.60054315e-04 5.96211782e-06\n",
      " 3.17317612e-03 1.14829352e-07 3.78148725e-05 3.11641901e-04\n",
      " 1.85706042e-03 1.48456862e-03 8.75880950e-05 0.00000000e+00\n",
      " 9.08799588e-05 0.00000000e+00 0.00000000e+00 9.94942605e-05\n",
      " 1.85841201e-04 8.91517011e-04 3.66576352e-05 2.73858136e-03\n",
      " 1.98845005e-05 1.19103349e-03 4.59968385e-05 3.59844189e-04\n",
      " 0.00000000e+00 1.17174309e-04 1.13496688e-03 2.61902558e-05\n",
      " 7.88211050e-03 6.82241408e-04 1.26050005e-03 2.14226628e-03\n",
      " 4.61981017e-03 1.31967432e-03 6.39500350e-03 6.46263465e-03\n",
      " 6.12500043e-03 3.50366830e-03 8.37584863e-04 3.60391337e-03\n",
      " 4.10575677e-03 1.08826870e-03 6.21068816e-05 1.18586392e-03\n",
      " 9.43085149e-04 2.99376713e-04 2.45453509e-06 7.37646354e-04\n",
      " 6.44269720e-04 6.81117413e-05 0.00000000e+00 4.95690389e-05\n",
      " 4.33818590e-05 1.14159628e-06 4.32815218e-04 2.13983131e-03\n",
      " 1.85543156e-03 8.94033635e-04 0.00000000e+00 0.00000000e+00\n",
      " 1.50999135e-03 3.33687876e-03 3.24929439e-03 1.18111036e-03\n",
      " 1.14982237e-03 3.42209987e-03 3.28999418e-03 1.68919837e-03\n",
      " 1.62286994e-05 1.20521706e-05 1.84904274e-04 2.07856805e-03\n",
      " 2.26960085e-03 5.60130351e-04 2.89622702e-04 2.13035761e-03\n",
      " 2.07989134e-03 2.62538408e-04 0.00000000e+00 4.78145169e-04\n",
      " 2.81598829e-04 1.71418472e-05 0.00000000e+00 1.51555103e-05\n",
      " 2.36186960e-05 0.00000000e+00 0.00000000e+00 0.00000000e+00\n",
      " 1.52481525e-05 1.66902297e-05 0.00000000e+00 7.70990127e-05\n",
      " 5.32671994e-04 5.18863978e-04 8.41435228e-06 3.34736099e-07\n",
      " 3.55245288e-07 0.00000000e+00 0.00000000e+00 0.00000000e+00\n",
      " 3.92264730e-06 1.00473155e-01 4.31821879e-02 1.10968960e-02\n",
      " 1.02961767e-02 2.08057001e-02 1.92859047e-01 1.46736370e-02\n",
      " 2.84032866e-02 9.11042789e-03 3.21611534e-02]\n"
     ]
    }
   ],
   "source": [
    "print(rf.feature_importances_)"
   ]
  },
  {
   "cell_type": "code",
   "execution_count": 68,
   "metadata": {},
   "outputs": [
    {
     "data": {
      "text/plain": [
       "<matplotlib.axes._subplots.AxesSubplot at 0x2a08221bba8>"
      ]
     },
     "execution_count": 68,
     "metadata": {},
     "output_type": "execute_result"
    },
    {
     "data": {
      "image/png": "[encoded data removed]",
      "text/plain": [
       "<Figure size 432x288 with 1 Axes>"
      ]
     },
     "metadata": {},
     "output_type": "display_data"
    }
   ],
   "source": [
    "feat_importances = pd.Series(rf.feature_importances_, index=df.columns)\n",
    "feat_importances.nlargest(15).plot(kind='barh')"
   ]
  },
  {
   "cell_type": "code",
   "execution_count": null,
   "metadata": {},
   "outputs": [],
   "source": []
  },
  {
   "cell_type": "code",
   "execution_count": 42,
   "metadata": {},
   "outputs": [],
   "source": [
    "#decision_path(X_test)"
   ]
  },
  {
   "cell_type": "code",
   "execution_count": 29,
   "metadata": {},
   "outputs": [
    {
     "name": "stdout",
     "output_type": "stream",
     "text": [
      "Parameters currently in use:\n",
      "\n",
      "{'bootstrap': True,\n",
      " 'criterion': 'mse',\n",
      " 'max_depth': None,\n",
      " 'max_features': 'auto',\n",
      " 'max_leaf_nodes': None,\n",
      " 'min_impurity_decrease': 0.0,\n",
      " 'min_impurity_split': None,\n",
      " 'min_samples_leaf': 1,\n",
      " 'min_samples_split': 2,\n",
      " 'min_weight_fraction_leaf': 0.0,\n",
      " 'n_estimators': 10,\n",
      " 'n_jobs': 1,\n",
      " 'oob_score': False,\n",
      " 'random_state': None,\n",
      " 'verbose': 0,\n",
      " 'warm_start': False}\n"
     ]
    }
   ],
   "source": [
    "from pprint import pprint\n",
    "\n",
    "# Look at parameters used by our current base model forest\n",
    "print('Parameters currently in use:\\n')\n",
    "pprint(rf.get_params())"
   ]
  },
  {
   "cell_type": "markdown",
   "metadata": {},
   "source": [
    "## RandomizedSearchCV for RF"
   ]
  },
  {
   "cell_type": "code",
   "execution_count": 48,
   "metadata": {},
   "outputs": [
    {
     "name": "stdout",
     "output_type": "stream",
     "text": [
      "{'bootstrap': [True, False],\n",
      " 'max_depth': [10, 20, 30, 40, 50, 60, 70, 80, 90, 100, 110, None],\n",
      " 'max_features': ['auto', 'sqrt'],\n",
      " 'min_samples_leaf': [1, 2, 4],\n",
      " 'min_samples_split': [2, 5, 10],\n",
      " 'n_estimators': [200, 400, 600, 800, 1000, 1200, 1400, 1600, 1800, 2000]}\n"
     ]
    }
   ],
   "source": [
    "#Random Hyperparameter Grid - RandomizedSearchCV\n",
    "\n",
    "#To use RandomizedSearchCV, we first need to create a parameter grid to sample from during fitting\n",
    "\n",
    "from sklearn.model_selection import RandomizedSearchCV\n",
    "\n",
    "# Number of trees in random forest\n",
    "n_estimators = [int(x) for x in np.linspace(start = 200, stop = 2000, num = 10)]\n",
    "# Number of features to consider at every split\n",
    "max_features = ['auto', 'sqrt']\n",
    "# Maximum number of levels in tree\n",
    "max_depth = [int(x) for x in np.linspace(10, 110, num = 11)]\n",
    "max_depth.append(None)\n",
    "# Minimum number of samples required to split a node\n",
    "min_samples_split = [2, 5, 10]\n",
    "# Minimum number of samples required at each leaf node\n",
    "min_samples_leaf = [1, 2, 4]\n",
    "# Method of selecting samples for training each tree\n",
    "bootstrap = [True, False]\n",
    "\n",
    "# Create the random grid\n",
    "random_grid = {'n_estimators': n_estimators,\n",
    "               'max_features': max_features,\n",
    "               'max_depth': max_depth,\n",
    "               'min_samples_split': min_samples_split,\n",
    "               'min_samples_leaf': min_samples_leaf,\n",
    "               'bootstrap': bootstrap}\n",
    "\n",
    "pprint(random_grid)"
   ]
  },
  {
   "cell_type": "code",
   "execution_count": 49,
   "metadata": {},
   "outputs": [
    {
     "data": {
      "text/plain": [
       "RandomizedSearchCV(cv=3, error_score='raise',\n",
       "          estimator=RandomForestRegressor(bootstrap=True, criterion='mse', max_depth=None,\n",
       "           max_features='auto', max_leaf_nodes=None,\n",
       "           min_impurity_decrease=0.0, min_impurity_split=None,\n",
       "           min_samples_leaf=1, min_samples_split=2,\n",
       "           min_weight_fraction_leaf=0.0, n_estimators=10, n_jobs=1,\n",
       "           oob_score=False, random_state=None, verbose=0, warm_start=False),\n",
       "          fit_params=None, iid=True, n_iter=1, n_jobs=4,\n",
       "          param_distributions={'n_estimators': [200, 400, 600, 800, 1000, 1200, 1400, 1600, 1800, 2000], 'max_features': ['auto', 'sqrt'], 'max_depth': [10, 20, 30, 40, 50, 60, 70, 80, 90, 100, 110, None], 'min_samples_split': [2, 5, 10], 'min_samples_leaf': [1, 2, 4], 'bootstrap': [True, False]},\n",
       "          pre_dispatch='2*n_jobs', random_state=2000, refit=True,\n",
       "          return_train_score='warn', scoring=None, verbose=False)"
      ]
     },
     "execution_count": 49,
     "metadata": {},
     "output_type": "execute_result"
    }
   ],
   "source": [
    "#guess run for 1hr; actual 40 min\n",
    "# Use the random grid to search for best hyperparameters\n",
    "\n",
    "rf = RandomForestRegressor()\n",
    "# Random search of parameters, using 3 fold cross validation, \n",
    "# search across 100? different combinations, and (use all available cores-n job =-1)\n",
    "rf_random = RandomizedSearchCV(estimator = rf, param_distributions = random_grid, n_iter = 1, cv = 3, verbose=False, random_state=2000, n_jobs = 4)\n",
    "\n",
    "# Fit the random search model\n",
    "rf_random.fit(X_train, y_train)"
   ]
  },
  {
   "cell_type": "code",
   "execution_count": 50,
   "metadata": {},
   "outputs": [
    {
     "data": {
      "text/plain": [
       "{'n_estimators': 1800,\n",
       " 'min_samples_split': 10,\n",
       " 'min_samples_leaf': 1,\n",
       " 'max_features': 'sqrt',\n",
       " 'max_depth': 50,\n",
       " 'bootstrap': False}"
      ]
     },
     "execution_count": 50,
     "metadata": {},
     "output_type": "execute_result"
    }
   ],
   "source": [
    "#view the best parameters from fitting the random search:\n",
    "rf_random.best_params_\n",
    "\n",
    "#{'n_estimators': 1800,\n",
    "# 'min_samples_split': 10,\n",
    "# 'min_samples_leaf': 1,\n",
    "# 'max_features': 'sqrt',\n",
    "# 'max_depth': 50,\n",
    "# 'bootstrap': False}"
   ]
  },
  {
   "cell_type": "code",
   "execution_count": 65,
   "metadata": {},
   "outputs": [],
   "source": [
    "#\n",
    "rf_best = RandomForestRegressor(  random_state = 2000, min_samples_split=10,min_samples_leaf=1,\n",
    "                                max_features='sqrt', max_depth=50, bootstrap = False,\n",
    "                                n_estimators = 1800, verbose = False, n_jobs = 4)\n",
    "rf_best.fit(X_train_scaled,y_train)\n",
    "\n",
    "preds = rf_best.predict(X_test_scaled)"
   ]
  },
  {
   "cell_type": "code",
   "execution_count": 67,
   "metadata": {},
   "outputs": [
    {
     "data": {
      "text/plain": [
       "5.7084283580293445"
      ]
     },
     "execution_count": 67,
     "metadata": {},
     "output_type": "execute_result"
    }
   ],
   "source": [
    "#metrics.mean_squared_error\n",
    "mean_squared_error(y_test, preds)"
   ]
  },
  {
   "cell_type": "code",
   "execution_count": 55,
   "metadata": {},
   "outputs": [
    {
     "name": "stdout",
     "output_type": "stream",
     "text": [
      "Improvement of 85.03%.\n"
     ]
    }
   ],
   "source": [
    "# mse decrease after parameter tuning\n",
    "random_mse = 5.835765214548177\n",
    "base_mse = 38.996052590205174\n",
    "\n",
    "print('Improvement of {:0.2f}%.'.format( 100 * (base_mse - random_mse) / base_mse))\n",
    "#Improvement of 85.03%. afater parameters tuning"
   ]
  },
  {
   "cell_type": "code",
   "execution_count": 66,
   "metadata": {},
   "outputs": [
    {
     "data": {
      "text/plain": [
       "<matplotlib.axes._subplots.AxesSubplot at 0x2a0811edef0>"
      ]
     },
     "execution_count": 66,
     "metadata": {},
     "output_type": "execute_result"
    },
    {
     "data": {
      "image/png": "[encoded data removed]",
      "text/plain": [
       "<Figure size 432x288 with 1 Axes>"
      ]
     },
     "metadata": {},
     "output_type": "display_data"
    }
   ],
   "source": [
    "feat_importances = pd.Series(rf_best.feature_importances_, index=df.columns)\n",
    "feat_importances.nlargest(15).plot(kind='barh')"
   ]
  },
  {
   "cell_type": "markdown",
   "metadata": {},
   "source": [
    "## XGBoost  Regressor"
   ]
  },
  {
   "cell_type": "code",
   "execution_count": 64,
   "metadata": {},
   "outputs": [],
   "source": [
    "\n",
    "# XGBoost baseline model\n",
    "\n",
    "import xgboost as xgb\n",
    "\n",
    "#XGBOOST transform data into DMatrix format for modeling\n",
    "dtrain = xgb.DMatrix(X_train_scaled, y_train)\n",
    "dvalid = xgb.DMatrix(X_test_scaled, y_test)\n",
    "type(dtrain)\n",
    "\n",
    "#XGBOOST parameters 1\n",
    "MAX_ROUNDS = 1000\n",
    "EARLY_STOP = 50\n",
    "OPT_ROUNDS = 1000\n",
    "VERBOSE_EVAL = 50\n",
    "RANDOM_STATE = 2000\n",
    "\n",
    "\n",
    "# XGBoost Parameters 2\n",
    "params = {}\n",
    "#params['objective'] = 'binary:logistic'\n",
    "#params['objective'] = 'multi:softmax'\n",
    "params['objective'] = 'reg:linear'\n",
    "#params['objective'] = \"reg:squarederror\"\n",
    "params['eta'] = 0.039\n",
    "params['silent'] = True\n",
    "params['max_depth'] = 2\n",
    "params['subsample'] = 0.8\n",
    "params['colsample_bytree'] = 0.9\n",
    "params['eval_metric'] = 'rmse'\n",
    "params['random_state'] = RANDOM_STATE\n",
    "\n",
    "watchlist = [(dtrain, 'train'), (dvalid, 'valid')]\n",
    "\n"
   ]
  },
  {
   "cell_type": "code",
   "execution_count": 68,
   "metadata": {},
   "outputs": [
    {
     "name": "stdout",
     "output_type": "stream",
     "text": [
      "[0]\ttrain-rmse:5.02045\tvalid-rmse:5.0569\n",
      "Multiple eval metrics have been passed: 'valid-rmse' will be used for early stopping.\n",
      "\n",
      "Will train until valid-rmse hasn't improved in 50 rounds.\n",
      "[50]\ttrain-rmse:2.77213\tvalid-rmse:2.81082\n",
      "Stopping. Best iteration:\n",
      "[0]\ttrain-rmse:5.02045\tvalid-rmse:5.0569\n",
      "\n"
     ]
    }
   ],
   "source": [
    "#Wall time: 5.84 s\n",
    "#%%time\n",
    "xgb_reg = xgb.train(params,\n",
    "                   dtrain,\n",
    "                   MAX_ROUNDS,\n",
    "                   watchlist,\n",
    "                   early_stopping_rounds = EARLY_STOP,\n",
    "                   maximize = True,\n",
    "                   verbose_eval = VERBOSE_EVAL)\n",
    "\n",
    "#[0]\ttrain-rmse:5.02045\tvalid-rmse:5.0569"
   ]
  },
  {
   "cell_type": "code",
   "execution_count": 70,
   "metadata": {},
   "outputs": [
    {
     "name": "stdout",
     "output_type": "stream",
     "text": [
      "XGBoost_reg - mean_squared_error:  7.900710644325338\n"
     ]
    }
   ],
   "source": [
    "preds = xgb_reg.predict(dvalid)\n",
    "print('XGBoost_reg - mean_squared_error: ', mean_squared_error(y_test, preds))"
   ]
  },
  {
   "cell_type": "markdown",
   "metadata": {},
   "source": [
    "## RandomizedSearchCV for XGBoost"
   ]
  },
  {
   "cell_type": "code",
   "execution_count": 26,
   "metadata": {},
   "outputs": [],
   "source": [
    "def timer(start_time=None):\n",
    "    if not start_time:\n",
    "        start_time = datetime.now()\n",
    "        return start_time\n",
    "    elif start_time:\n",
    "        thour, temp_sec = divmod((datetime.now() - start_time).total_seconds(), 3600)\n",
    "        tmin, tsec = divmod(temp_sec, 60)\n",
    "        print('\\n Time taken: %i hours %i minutes and %s seconds.' % (thour, tmin, round(tsec, 2)))"
   ]
  },
  {
   "cell_type": "code",
   "execution_count": 27,
   "metadata": {},
   "outputs": [],
   "source": [
    "# A parameter grid for XGBoost\n",
    "#at least include the parameters already included in the baseline model for chance to find one better than base model.\n",
    "params = {\n",
    "        'min_child_weight': [1, 5],\n",
    "        'gamma': [0.5, 1, 2],\n",
    "        'subsample': [0.6, 0.8],\n",
    "        'colsample_bytree': [0.6, 0.9],\n",
    "        'max_depth': [2, 5]\n",
    "        }\n"
   ]
  },
  {
   "cell_type": "code",
   "execution_count": 28,
   "metadata": {},
   "outputs": [],
   "source": [
    "from xgboost import XGBRegressor\n",
    "\n",
    "xgb = XGBRegressor(learning_rate=0.02, n_estimators=600, objective='reg:linear',\n",
    "                    silent=True, nthread=1)\n"
   ]
  },
  {
   "cell_type": "code",
   "execution_count": 30,
   "metadata": {},
   "outputs": [
    {
     "name": "stdout",
     "output_type": "stream",
     "text": [
      "Fitting 3 folds for each of 3 candidates, totalling 9 fits\n",
      "[Parallel(n_jobs=4)]: Done   1 tasks      | elapsed:  7.7min\n",
      "[Parallel(n_jobs=4)]: Done   2 tasks      | elapsed: 14.0min\n",
      "[Parallel(n_jobs=4)]: Done   3 out of   9 | elapsed: 16.5min remaining: 33.0min\n",
      "[Parallel(n_jobs=4)]: Done   4 out of   9 | elapsed: 16.5min remaining: 20.7min\n",
      "[Parallel(n_jobs=4)]: Done   5 out of   9 | elapsed: 16.6min remaining: 13.3min\n",
      "[Parallel(n_jobs=4)]: Done   6 out of   9 | elapsed: 20.6min remaining: 10.3min\n",
      "[Parallel(n_jobs=4)]: Done   7 out of   9 | elapsed: 22.7min remaining:  6.5min\n",
      "[Parallel(n_jobs=4)]: Done   9 out of   9 | elapsed: 22.7min remaining:    0.0s\n",
      "[Parallel(n_jobs=4)]: Done   9 out of   9 | elapsed: 22.7min finished\n",
      "\n",
      " Time taken: 0 hours 34 minutes and 7.85 seconds.\n"
     ]
    }
   ],
   "source": [
    "# estimate runtime 40 mins\n",
    "# actual runtime 34 mins\n",
    "## grid search in a parallized fashion\n",
    "\n",
    "from sklearn.model_selection import StratifiedKFold\n",
    "from sklearn.model_selection import RandomizedSearchCV\n",
    "from datetime import datetime\n",
    "\n",
    "folds = 3\n",
    "param_comb = 3\n",
    "\n",
    "skf = StratifiedKFold(n_splits=folds, shuffle = True, random_state = 1001)\n",
    "\n",
    "random_search = RandomizedSearchCV(xgb, param_distributions=params, n_iter=param_comb, scoring='neg_mean_squared_error', n_jobs=4, cv=skf.split(X_train_scaled,y_train), verbose=50, random_state=2000)\n",
    "\n",
    "# Here we go\n",
    "start_time = timer(None) # timing starts from this point for \"start_time\" variable\n",
    "random_search.fit(X_train_scaled, y_train)\n",
    "timer(start_time) # timing ends here for \"start_time\" variable"
   ]
  },
  {
   "cell_type": "code",
   "execution_count": 31,
   "metadata": {},
   "outputs": [
    {
     "name": "stdout",
     "output_type": "stream",
     "text": [
      "\n",
      " Best estimator:\n",
      "XGBRegressor(base_score=0.5, booster='gbtree', colsample_bylevel=1,\n",
      "       colsample_bytree=0.6, gamma=2, learning_rate=0.02, max_delta_step=0,\n",
      "       max_depth=5, min_child_weight=1, missing=None, n_estimators=600,\n",
      "       n_jobs=1, nthread=1, objective='reg:linear', random_state=0,\n",
      "       reg_alpha=0, reg_lambda=1, scale_pos_weight=1, seed=None,\n",
      "       silent=True, subsample=0.6)\n",
      "\n",
      " Best normalized gini score for 3-fold search with 3 parameter combinations:\n",
      "-12.368728459275387\n",
      "\n",
      " Best hyperparameters:\n",
      "{'subsample': 0.6, 'min_child_weight': 1, 'max_depth': 5, 'gamma': 2, 'colsample_bytree': 0.6}\n"
     ]
    }
   ],
   "source": [
    "print('\\n Best estimator:')\n",
    "print(random_search.best_estimator_)\n",
    "print('\\n Best normalized gini score for %d-fold search with %d parameter combinations:' % (folds, param_comb))\n",
    "print(random_search.best_score_ * 2 - 1)\n",
    "print('\\n Best hyperparameters:')\n",
    "print(random_search.best_params_)"
   ]
  },
  {
   "cell_type": "code",
   "execution_count": 32,
   "metadata": {},
   "outputs": [
    {
     "name": "stdout",
     "output_type": "stream",
     "text": [
      "\n",
      " Time taken: 0 hours 14 minutes and 15.46 seconds.\n"
     ]
    }
   ],
   "source": [
    "#run for \n",
    "#evaulate the performance of the model best parameters\n",
    "# timer the training time\n",
    "start_time = timer(None)\n",
    "\n",
    "xgb_best = XGBRegressor(base_score=0.5, booster='gbtree', colsample_bylevel=1,\n",
    "       colsample_bytree=0.6, gamma=2, learning_rate=0.02, max_delta_step=0,\n",
    "       max_depth=5, min_child_weight=1, missing=None, n_estimators=600,\n",
    "       n_jobs=1, nthread=1, objective='reg:linear', random_state=0,\n",
    "       reg_alpha=0, reg_lambda=1, scale_pos_weight=1, seed=None,\n",
    "       silent=True, subsample=0.6)\n",
    "\n",
    "xgb_best.fit(X_train_scaled, y_train)\n",
    "\n",
    "timer(start_time)\n",
    "\n",
    "#training time"
   ]
  },
  {
   "cell_type": "code",
   "execution_count": 36,
   "metadata": {},
   "outputs": [
    {
     "name": "stdout",
     "output_type": "stream",
     "text": [
      "\n",
      " Time taken: 0 hours 0 minutes and 1.28 seconds.\n"
     ]
    }
   ],
   "source": [
    "# timer the testing time\n",
    "start_time = timer(None)\n",
    "preds = xgb_best.predict(X_test_scaled)\n",
    "timer(start_time)\n",
    "#testing time"
   ]
  },
  {
   "cell_type": "code",
   "execution_count": 39,
   "metadata": {},
   "outputs": [
    {
     "data": {
      "text/plain": [
       "array([3.391047 , 4.617516 , 3.0683405, 4.441312 , 3.9633236, 4.2513103,\n",
       "       3.6142383, 3.460537 , 5.2240133, 4.7343726], dtype=float32)"
      ]
     },
     "execution_count": 39,
     "metadata": {},
     "output_type": "execute_result"
    }
   ],
   "source": [
    "#predicted_time_in_hospital\n",
    "preds[:10]"
   ]
  },
  {
   "cell_type": "code",
   "execution_count": 37,
   "metadata": {},
   "outputs": [
    {
     "name": "stdout",
     "output_type": "stream",
     "text": [
      "XGBoost_reg - mean_squared_error:  5.585353165243333\n"
     ]
    }
   ],
   "source": [
    "\n",
    "print('XGBoost_reg - mean_squared_error: ', mean_squared_error(y_test, preds))"
   ]
  },
  {
   "cell_type": "code",
   "execution_count": 38,
   "metadata": {},
   "outputs": [
    {
     "name": "stdout",
     "output_type": "stream",
     "text": [
      "Improvement of 29.31%.\n"
     ]
    }
   ],
   "source": [
    "# mse decrease after parameter tuning\n",
    "random_mse = 5.585353165243333\n",
    "base_mse = 7.900710644325338\n",
    "\n",
    "print('Improvement of {:0.2f}%.'.format( 100 * (base_mse - random_mse) / base_mse))\n",
    "#Improvement of 29.31%. afater parameters tuning"
   ]
  },
  {
   "cell_type": "code",
   "execution_count": null,
   "metadata": {},
   "outputs": [],
   "source": [
    "# after parameters tuning\n",
    "# XGBoost_reg - mean_squared_error:  5.585353165243333\n",
    "#       RF_reg - mean_squared_error: 5.835765214548177"
   ]
  },
  {
   "cell_type": "code",
   "execution_count": null,
   "metadata": {},
   "outputs": [],
   "source": []
  },
  {
   "cell_type": "code",
   "execution_count": null,
   "metadata": {},
   "outputs": [],
   "source": []
  }
 ],
 "metadata": {
  "kernelspec": {
   "display_name": "Python 3",
   "language": "python",
   "name": "python3"
  },
  "language_info": {
   "codemirror_mode": {
    "name": "ipython",
    "version": 3
   },
   "file_extension": ".py",
   "mimetype": "text/x-python",
   "name": "python",
   "nbconvert_exporter": "python",
   "pygments_lexer": "ipython3",
   "version": "3.6.8"
  }
 },
 "nbformat": 4,
 "nbformat_minor": 2
}
