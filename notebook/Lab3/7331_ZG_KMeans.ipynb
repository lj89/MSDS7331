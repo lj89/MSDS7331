{
 "cells": [
  {
   "cell_type": "code",
   "execution_count": 20,
   "metadata": {},
   "outputs": [],
   "source": [
    "import pandas as pd\n",
    "import numpy as np\n",
    "import pandas_profiling\n",
    "import matplotlib.pyplot as plt\n",
    "get_ipython().run_line_magic('matplotlib', 'inline')\n",
    "import warnings\n",
    "warnings.filterwarnings(\"ignore\")\n",
    "import seaborn as sns\n",
    "from sklearn.linear_model import LogisticRegression\n",
    "from sklearn.model_selection import train_test_split\n",
    "from sklearn.metrics import accuracy_score\n",
    "from sklearn.metrics import f1_score\n",
    "from sklearn.metrics import roc_auc_score\n",
    "from sklearn.linear_model import SGDClassifier\n",
    "from sklearn.preprocessing import StandardScaler\n",
    "from sklearn.model_selection import StratifiedShuffleSplit \n",
    "from sklearn import metrics as mt\n",
    "from sklearn.metrics import roc_curve, auc\n",
    "import operator\n",
    "import sklearn.metrics as metrics\n",
    "from sklearn.neighbors import KNeighborsClassifier\n",
    "from sklearn.model_selection import StratifiedKFold\n",
    "from sklearn.decomposition import PCA \n",
    "from sklearn.pipeline import Pipeline\n",
    "from sklearn.model_selection import cross_val_score\n",
    "from sklearn.neighbors import KDTree\n",
    "from sklearn.cluster import KMeans\n",
    "from sklearn.cluster import MiniBatchKMeans"
   ]
  },
  {
   "cell_type": "code",
   "execution_count": 2,
   "metadata": {},
   "outputs": [
    {
     "name": "stdout",
     "output_type": "stream",
     "text": [
      "Done reading data.\n"
     ]
    }
   ],
   "source": [
    "directory = 'C:/githubrepo/7331_Project/data/'\n",
    "df_zg = pd.read_csv(directory + 'Diabetic_Cleaned.csv')\n",
    "print(\"Done reading data.\")"
   ]
  },
  {
   "cell_type": "code",
   "execution_count": 3,
   "metadata": {},
   "outputs": [],
   "source": [
    "ordinal = [\"age\", \"time_in_hospital\"]\n",
    "categorical = [\"race\", \"gender\", \"admission_type_id\", \"discharge_disposition_id\",\n",
    "               \"admission_source_id\", \"medical_specialty\", \"max_glu_serum\",\n",
    "               \"A1Cresult\", \"change\", \"diabetesMed\", \"diag_1_val\", \"diag_2_val\",\n",
    "               \"diag_3_val\", \"meds_increased\"]\n",
    "continuous = [\"num_lab_procedures\", \"num_procedures\", \"num_medications\",\n",
    "              \"number_outpatient\", \"number_emergency\", \"number_inpatient\",\n",
    "              \"number_diagnoses\", \"medication_count\"]\n",
    "lcontinuous = [\"lnum_lab_procedures\", \"lnum_procedures\", \"lnum_medications\",\n",
    "              \"lnumber_outpatient\", \"lnumber_emergency\", \"lnumber_inpatient\",\n",
    "              \"lnumber_diagnoses\", \"lmedication_count\"]\n",
    "medicines = [\"metformin\", \"repaglinide\", \"nateglinide\", \"chlorpropamide\",\n",
    "             \"glimepiride\", \"acetohexamide\", \"glipizide\", \"glyburide\", \"tolbutamide\",\n",
    "             \"pioglitazone\", \"rosiglitazone\", \"acarbose\", \"miglitol\", \"troglitazone\",\n",
    "             \"tolazamide\", \"insulin\", \"glyburide-metformin\", \"glipizide-metformin\",\n",
    "             \"metformin-rosiglitazone\", \"metformin-pioglitazone\"]\n",
    "response = [\"readmitted_tf\"]"
   ]
  },
  {
   "cell_type": "code",
   "execution_count": 4,
   "metadata": {},
   "outputs": [],
   "source": [
    "df_zg_ordinal = df_zg[ordinal]\n",
    "df_zg_categorical = df_zg[categorical]\n",
    "df_zg_continuous = df_zg[continuous]\n",
    "df_zg_lcontinuous = np.log(df_zg_continuous)\n",
    "df_zg_lcontinuous.columns = lcontinuous\n",
    "df_zg_medicines = df_zg[medicines]\n",
    "df_zg_response = df_zg[response]"
   ]
  },
  {
   "cell_type": "code",
   "execution_count": 5,
   "metadata": {},
   "outputs": [],
   "source": [
    "for i in range(0, 10):\n",
    "    val = \"[\" + str(i*10) + \"-\" + str((i+1)*10) + \")\"\n",
    "    df_zg_ordinal.loc[df_zg_ordinal['age'] == val, 'age'] = i"
   ]
  },
  {
   "cell_type": "code",
   "execution_count": 6,
   "metadata": {},
   "outputs": [
    {
     "name": "stdout",
     "output_type": "stream",
     "text": [
      "Done\n"
     ]
    }
   ],
   "source": [
    "df_zg_categorical['admission_type_id'] = df_zg_categorical['admission_type_id'].astype(object)\n",
    "df_zg_categorical['discharge_disposition_id'] = df_zg_categorical['discharge_disposition_id'].astype(object)\n",
    "df_zg_categorical['admission_source_id'] = df_zg_categorical['admission_source_id'].astype(object)\n",
    "df_zg_categorical['admission_type_id'] = df_zg_categorical['admission_type_id'].astype(object)\n",
    "df_zg_categorical['meds_increased'] = df_zg_categorical['meds_increased'].astype(object)\n",
    "#df_zg_response['readmitted_tf'] = df_zg_response['readmitted_tf'].astype(object)\n",
    "print(\"Done\")"
   ]
  },
  {
   "cell_type": "code",
   "execution_count": 7,
   "metadata": {},
   "outputs": [
    {
     "name": "stdout",
     "output_type": "stream",
     "text": [
      "Done\n"
     ]
    }
   ],
   "source": [
    "df_zg_x = pd.concat([df_zg_ordinal, df_zg_categorical, df_zg_continuous], axis = 1)\n",
    "df_zg_num_x = pd.concat([df_zg_ordinal, df_zg_continuous], axis = 1)\n",
    "df_zg_med_x = pd.concat([df_zg_ordinal, df_zg_categorical, df_zg_continuous, df_zg_medicines], axis = 1)\n",
    "df_zg_hot_x = pd.concat([df_zg_ordinal, pd.get_dummies(df_zg_categorical), df_zg_continuous], axis = 1)\n",
    "df_zg_hot_med_x = pd.concat([df_zg_ordinal, pd.get_dummies(df_zg_categorical), df_zg_continuous, pd.get_dummies(df_zg_medicines)], axis = 1)\n",
    "df_zg_y = df_zg_response\n",
    "print(\"Done\")"
   ]
  },
  {
   "cell_type": "markdown",
   "metadata": {},
   "source": [
    "## K-Means Test"
   ]
  },
  {
   "cell_type": "code",
   "execution_count": 14,
   "metadata": {},
   "outputs": [
    {
     "data": {
      "text/plain": [
       "((61059, 251), (40707, 251))"
      ]
     },
     "execution_count": 14,
     "metadata": {},
     "output_type": "execute_result"
    }
   ],
   "source": [
    "x_train, x_test, y_train, y_test = train_test_split(df_zg_hot_med_x, df_zg_y, test_size = 0.4, random_state = 7)\n",
    "\n",
    "#Print out the shapes of the train/valid/test sets\n",
    "x_train.shape, x_test.shape"
   ]
  },
  {
   "cell_type": "markdown",
   "metadata": {},
   "source": [
    "#### 1 - 11 clusters"
   ]
  },
  {
   "cell_type": "code",
   "execution_count": 18,
   "metadata": {},
   "outputs": [
    {
     "data": {
      "image/png": "[encoded data removed]",
      "text/plain": [
       "<Figure size 432x288 with 1 Axes>"
      ]
     },
     "metadata": {
      "needs_background": "light"
     },
     "output_type": "display_data"
    },
    {
     "name": "stdout",
     "output_type": "stream",
     "text": [
      "Wall time: 1min 18s\n"
     ]
    }
   ],
   "source": [
    "%%time\n",
    "# calculate distortion for a range of number of cluster\n",
    "distortions = []\n",
    "size = 11\n",
    "for i in range(1, le):\n",
    "    kmeans = KMeans(\n",
    "        n_clusters = i, init = 'random',\n",
    "        n_init = 10, n_jobs = -1)\n",
    "    kmeans.fit(x_train)\n",
    "    distortions.append(kmeans.inertia_)\n",
    "\n",
    "# plot\n",
    "plt.plot(range(1, size), distortions, marker = 'o')\n",
    "plt.xlabel('Number of clusters')\n",
    "plt.ylabel('Distortion')\n",
    "plt.show()"
   ]
  },
  {
   "cell_type": "markdown",
   "metadata": {},
   "source": [
    "#### Mini-batch 1 - 11 clusters"
   ]
  },
  {
   "cell_type": "code",
   "execution_count": 22,
   "metadata": {},
   "outputs": [
    {
     "data": {
      "image/png": "[encoded data removed]",
      "text/plain": [
       "<Figure size 432x288 with 1 Axes>"
      ]
     },
     "metadata": {
      "needs_background": "light"
     },
     "output_type": "display_data"
    },
    {
     "name": "stdout",
     "output_type": "stream",
     "text": [
      "Wall time: 10.9 s\n"
     ]
    }
   ],
   "source": [
    "%%time\n",
    "# calculate distortion for a range of number of cluster\n",
    "distortions = []\n",
    "size = 11\n",
    "for i in range(1, le):\n",
    "    kmeans = MiniBatchKMeans(n_clusters = i, batch_size = 10)\n",
    "    kmeans.fit(x_train)\n",
    "    distortions.append(kmeans.inertia_)\n",
    "\n",
    "# plot\n",
    "plt.plot(range(1, size), distortions, marker = 'o')\n",
    "plt.xlabel('Number of clusters')\n",
    "plt.ylabel('Distortion')\n",
    "plt.show()"
   ]
  },
  {
   "cell_type": "markdown",
   "metadata": {},
   "source": [
    "## NEXT"
   ]
  },
  {
   "cell_type": "code",
   "execution_count": 23,
   "metadata": {},
   "outputs": [
    {
     "data": {
      "text/plain": [
       "((61059, 184), (40707, 184))"
      ]
     },
     "execution_count": 23,
     "metadata": {},
     "output_type": "execute_result"
    }
   ],
   "source": [
    "x_train, x_test, y_train, y_test = train_test_split(df_zg_hot_x, df_zg_y, test_size = 0.4, random_state = 7)\n",
    "\n",
    "#Print out the shapes of the train/valid/test sets\n",
    "x_train.shape, x_test.shape"
   ]
  },
  {
   "cell_type": "markdown",
   "metadata": {},
   "source": [
    "#### 1-11"
   ]
  },
  {
   "cell_type": "code",
   "execution_count": 24,
   "metadata": {},
   "outputs": [
    {
     "data": {
      "image/png": "[encoded data removed]",
      "text/plain": [
       "<Figure size 432x288 with 1 Axes>"
      ]
     },
     "metadata": {
      "needs_background": "light"
     },
     "output_type": "display_data"
    },
    {
     "name": "stdout",
     "output_type": "stream",
     "text": [
      "Wall time: 1min 1s\n"
     ]
    }
   ],
   "source": [
    "%%time\n",
    "# calculate distortion for a range of number of cluster\n",
    "distortions = []\n",
    "size = 11\n",
    "for i in range(1, le):\n",
    "    kmeans = KMeans(\n",
    "        n_clusters = i, init = 'random',\n",
    "        n_init = 10, n_jobs = -1)\n",
    "    kmeans.fit(x_train)\n",
    "    distortions.append(kmeans.inertia_)\n",
    "\n",
    "# plot\n",
    "plt.plot(range(1, size), distortions, marker = 'o')\n",
    "plt.xlabel('Number of clusters')\n",
    "plt.ylabel('Distortion')\n",
    "plt.show()"
   ]
  },
  {
   "cell_type": "markdown",
   "metadata": {},
   "source": [
    "#### Mini-batch 1-11"
   ]
  },
  {
   "cell_type": "code",
   "execution_count": 25,
   "metadata": {},
   "outputs": [
    {
     "data": {
      "image/png": "[encoded data removed]",
      "text/plain": [
       "<Figure size 432x288 with 1 Axes>"
      ]
     },
     "metadata": {
      "needs_background": "light"
     },
     "output_type": "display_data"
    },
    {
     "name": "stdout",
     "output_type": "stream",
     "text": [
      "Wall time: 13.3 s\n"
     ]
    }
   ],
   "source": [
    "%%time\n",
    "# calculate distortion for a range of number of cluster\n",
    "distortions = []\n",
    "size = 11\n",
    "for i in range(1, le):\n",
    "    kmeans = MiniBatchKMeans(n_clusters = i, batch_size = 10)\n",
    "    kmeans.fit(x_train)\n",
    "    distortions.append(kmeans.inertia_)\n",
    "\n",
    "# plot\n",
    "plt.plot(range(1, size), distortions, marker = 'o')\n",
    "plt.xlabel('Number of clusters')\n",
    "plt.ylabel('Distortion')\n",
    "plt.show()"
   ]
  }
 ],
 "metadata": {
  "kernelspec": {
   "display_name": "Python 3",
   "language": "python",
   "name": "python3"
  },
  "language_info": {
   "codemirror_mode": {
    "name": "ipython",
    "version": 3
   },
   "file_extension": ".py",
   "mimetype": "text/x-python",
   "name": "python",
   "nbconvert_exporter": "python",
   "pygments_lexer": "ipython3",
   "version": "3.7.3"
  }
 },
 "nbformat": 4,
 "nbformat_minor": 2
}
