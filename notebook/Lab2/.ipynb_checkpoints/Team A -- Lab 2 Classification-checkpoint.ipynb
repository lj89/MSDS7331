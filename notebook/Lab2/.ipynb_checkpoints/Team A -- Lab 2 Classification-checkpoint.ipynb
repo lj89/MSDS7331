{
 "cells": [
  {
   "cell_type": "code",
   "execution_count": 5,
   "metadata": {},
   "outputs": [],
   "source": [
    "# All imports required for analysis are below\n",
    "from __future__ import print_function\n",
    "import pandas as pd\n",
    "import numpy as np\n",
    "import pandas_profiling\n",
    "import matplotlib.pyplot as plt\n",
    "get_ipython().run_line_magic('matplotlib', 'inline')\n",
    "import warnings\n",
    "warnings.filterwarnings(\"ignore\")\n",
    "import seaborn as sns\n",
    "import ipywidgets\n",
    "from ipywidgets import widgets as wd\n",
    "import sklearn\n",
    "from sklearn import svm\n",
    "from sklearn.svm import SVC\n",
    "from sklearn.model_selection import GridSearchCV, cross_val_score\n",
    "from sklearn import metrics as mt\n",
    "from sklearn import preprocessing\n",
    "from sklearn.model_selection import ShuffleSplit\n",
    "from sklearn.linear_model import LogisticRegression\n",
    "from sklearn.linear_model import SGDClassifier\n",
    "from sklearn.preprocessing import StandardScaler\n",
    "from sklearn.model_selection import StratifiedShuffleSplit\n",
    "from sklearn.model_selection import train_test_split\n",
    "from sklearn.metrics import accuracy_score\n",
    "from sklearn.metrics import f1_score\n",
    "from sklearn.metrics import roc_auc_score\n",
    "from sklearn.decomposition import PCA \n",
    "from sklearn.pipeline import Pipeline\n",
    "import sklearn.metrics as metrics\n",
    "from xgboost import XGBClassifier\n",
    "from sklearn.model_selection import StratifiedKFold\n",
    "from sklearn.model_selection import RandomizedSearchCV\n",
    "from datetime import datetime\n",
    "import glob\n",
    "import os\n",
    "# Functions for ROC Graphs\n",
    "#https://stackoverflow.com/questions/25009284/how-to-plot-roc-curve-in-python\n",
    "#probs is the result of a model.predict_proba(x_test) call\n",
    "\n",
    "#This function plots an ROC curve\n",
    "def rocCurvePlot(probs, y_test1):\n",
    "    # calculate the fpr and tpr for all thresholds of the classification\n",
    "    preds = probs[:,1]\n",
    "    fpr, tpr, threshold = metrics.roc_curve(y_test1, preds)\n",
    "    roc_auc = metrics.auc(fpr, tpr)\n",
    "\n",
    "    # method I: plt\n",
    "    import matplotlib.pyplot as plt\n",
    "    plt.title('Receiver Operating Characteristic')\n",
    "    plt.plot(fpr, tpr, 'b', label = 'AUC = %0.2f' % roc_auc)\n",
    "    plt.legend(loc = 'lower right')\n",
    "    plt.plot([0, 1], [0, 1],'r--')\n",
    "    plt.xlim([0, 1])\n",
    "    plt.ylim([0, 1])\n",
    "    plt.ylabel('True Positive Rate')\n",
    "    plt.xlabel('False Positive Rate')\n",
    "    plt.show()\n",
    "# A function to find the optimal cutoff point from ROC curve\n",
    "\n",
    "#https://stackoverflow.com/questions/28719067/roc-curve-and-cut-off-point-python\n",
    "def Find_Optimal_Cutoff(target, predicted):\n",
    "    \"\"\"Parameters:\n",
    "    target : Matrix with dependent or target data, where rows are observations\n",
    "    predicted : Matrix with predicted data, where rows are observations\n",
    "    ----------\n",
    "    Return: list type, with optimal cutoff value\n",
    "    \"\"\"\n",
    "    predicted = predicted[:,1]\n",
    "    fpr, tpr, threshold = metrics.roc_curve(target, predicted)\n",
    "    i = np.arange(len(tpr)) \n",
    "    roc = pd.DataFrame({'tf' : pd.Series(tpr-(1-fpr), index=i), 'threshold' : pd.Series(threshold, index=i)})\n",
    "    roc_t = roc.ix[(roc.tf-0).abs().argsort()[:1]]\n",
    "\n",
    "    return list(roc_t['threshold']) "
   ]
  },
  {
   "cell_type": "code",
   "execution_count": 31,
   "metadata": {},
   "outputs": [
    {
     "data": {
      "text/html": [
       "<link href='https://fonts.googleapis.com/css?family=Passion+One' rel='stylesheet' type='text/css'><style>div.attn { font-family: 'Helvetica Neue'; font-size: 30px; line-height: 40px; color: #FFFFFF; text-align: center; margin: 30px 0; border-width: 10px 0; border-style: solid; border-color: #5AAAAA; padding: 30px 0; background-color: #DDDDFF; }hr { border: 0; background-color: #ffffff; border-top: 1px solid black; }hr.major { border-top: 10px solid #5AAA5A; }hr.minor { border: none; background-color: #ffffff; border-top: 5px dotted #CC3333; }div.bubble { width: 65%; padding: 20px; background: #DDDDDD; border-radius: 15px; margin: 0 auto; font-style: italic; color: #f00; }em { color: #AAA; }div.c1{visibility:hidden;margin:0;height:0;}div.note{color:red;}</style>"
      ],
      "text/plain": [
       "<IPython.core.display.HTML object>"
      ]
     },
     "execution_count": 31,
     "metadata": {},
     "output_type": "execute_result"
    }
   ],
   "source": [
    "# Loading in HTML/CSS packages for use within the notebook\n",
    "from IPython.core.display import HTML\n",
    "HTML(\"<link href='https://fonts.googleapis.com/css?family=Passion+One' rel='stylesheet' type='text/css'><style>div.attn { font-family: 'Helvetica Neue'; font-size: 30px; line-height: 40px; color: #FFFFFF; text-align: center; margin: 30px 0; border-width: 10px 0; border-style: solid; border-color: #5AAAAA; padding: 30px 0; background-color: #DDDDFF; }hr { border: 0; background-color: #ffffff; border-top: 1px solid black; }hr.major { border-top: 10px solid #5AAA5A; }hr.minor { border: none; background-color: #ffffff; border-top: 5px dotted #CC3333; }div.bubble { width: 65%; padding: 20px; background: #DDDDDD; border-radius: 15px; margin: 0 auto; font-style: italic; color: #f00; }em { color: #AAA; }div.c1{visibility:hidden;margin:0;height:0;}div.note{color:red;}</style>\")"
   ]
  },
  {
   "cell_type": "markdown",
   "metadata": {},
   "source": [
    "# Lab Two: Classification\n",
    "### Group A: Mai Loan Tran, Lei Jiang, Zachary Gill, & Samantha Sprague"
   ]
  },
  {
   "cell_type": "markdown",
   "metadata": {},
   "source": [
    "## Table of Contents for Lab 2\n",
    "* <a href=\"#Introduction\">Introduction</a>\n",
    "* <a href=\"#CreateModels\">Data Preperation</a>\n",
    "* <a href=\"#ModelAdvantages\">Modeling and Evaluation</a>\n",
    "* <a href=\"#InterpretFeatureImportance\">Deployment</a>\n",
    "* <a href=\"#Exceptional Work\">Exceptional Work</a>\n",
    "* <a href=\"#References\">References</a>\n",
    "\n"
   ]
  },
  {
   "cell_type": "markdown",
   "metadata": {},
   "source": [
    "<a id=\"Introduction\"></a>\n",
    "## Introduction"
   ]
  },
  {
   "cell_type": "markdown",
   "metadata": {},
   "source": [
    "Diabetes is the leading cause of death in the world. Roughly 422 million people have diabetes. There are three major types of diabetes: type 1, type 2, and gestational diabetes. Type 2 is the most common type of diabetes, and is thought to be preventable! While the leading cause of death, with identification and proper management of diabetes most individuals can lead happy and healthy lives. The key to manageable diabetes is often early detection and proper treatment. \n",
    "\n",
    "The first task of this notebook will guide the reader through a comprehensive analysis that evaluates our ability to predict readmission to the hospital for diabetes using advanced classification techniques: KNN, Random Forest, SVM, and XG Boost. The second task in this notebook will provide deep analysis to predict the amount of time spent a patient spent in the hospital for their condition using effective regression techniques: KNN, Random Forest, and Linear Regression.  "
   ]
  },
  {
   "cell_type": "markdown",
   "metadata": {},
   "source": [
    "<a id=\"Data Preperation\"></a>\n",
    "## Data Preperation"
   ]
  },
  {
   "cell_type": "markdown",
   "metadata": {},
   "source": [
    "## **DP Requirement 1**:\n",
    "\n",
    "• Define and prepare your class variables. Use proper variable representations (int, float, one-hot, etc.). Use pre-processing methods (as needed) for dimensionality reduction, scaling, etc. Remove variables that are not needed/useful for the analysis."
   ]
  },
  {
   "cell_type": "markdown",
   "metadata": {},
   "source": [
    "**DP Answer 1**: The types of data manipulation varied heavily by task and technique. This makes logical sense as certain techniques have sensitivity to outliters and skew, while other models are non-parameteric and can perform without much feature engineering. Below the pre-processing techniques are described by technique and task. It should be noted this is the same dataset our team used for the MiniLab and extensive work was done to clean the data set prior to loading in the data. The techniques listed below are only representative of the tasks specifically asked for in this notebook, and do not delve into the EDA done prior to this lab. We will use insights gleaned from prior labs in order to make decisions and assupmtions in this lab (think: input variable distrubitions, etc). \n",
    "\n",
    "In summary, the KNN modeling technique leveraged several data pre-processing methods: PCA analysis, correlation evaluation, and t-statistic evaluation. \n",
    "\n",
    "The RF modeling technique.... #help\n",
    "\n",
    "The SVM modeling technique.. #help\n"
   ]
  },
  {
   "cell_type": "markdown",
   "metadata": {},
   "source": [
    "#### KNN Pre-processing for Task One and Task Two"
   ]
  },
  {
   "cell_type": "markdown",
   "metadata": {},
   "source": [
    "###### Pre-processing"
   ]
  },
  {
   "cell_type": "code",
   "execution_count": 32,
   "metadata": {},
   "outputs": [
    {
     "name": "stdout",
     "output_type": "stream",
     "text": [
      "Done reading data.\n"
     ]
    }
   ],
   "source": [
    "# Importing Cleaned Data\n",
    "directory = '/Users/samanthasprague/Downloads/'\n",
    "df_zg = pd.read_csv(directory + 'Diabetic_Cleaned.csv')\n",
    "print(\"Done reading data.\")"
   ]
  },
  {
   "cell_type": "code",
   "execution_count": 33,
   "metadata": {
    "collapsed": true
   },
   "outputs": [],
   "source": [
    "# Making lists of different types\n",
    "ordinal = [\"age\", \"time_in_hospital\"]\n",
    "categorical = [\"race\", \"gender\", \"admission_type_id\", \"discharge_disposition_id\",\n",
    "               \"admission_source_id\", \"medical_specialty\", \"max_glu_serum\",\n",
    "               \"A1Cresult\", \"change\", \"diabetesMed\", \"diag_1_val\", \"diag_2_val\",\n",
    "               \"diag_3_val\", \"meds_increased\"]\n",
    "continuous = [\"num_lab_procedures\", \"num_procedures\", \"num_medications\",\n",
    "              \"number_outpatient\", \"number_emergency\", \"number_inpatient\",\n",
    "              \"number_diagnoses\", \"medication_count\"]\n",
    "lcontinuous = [\"lnum_lab_procedures\", \"lnum_procedures\", \"lnum_medications\",\n",
    "              \"lnumber_outpatient\", \"lnumber_emergency\", \"lnumber_inpatient\",\n",
    "              \"lnumber_diagnoses\", \"lmedication_count\"]\n",
    "medicines = [\"metformin\", \"repaglinide\", \"nateglinide\", \"chlorpropamide\",\n",
    "             \"glimepiride\", \"acetohexamide\", \"glipizide\", \"glyburide\", \"tolbutamide\",\n",
    "             \"pioglitazone\", \"rosiglitazone\", \"acarbose\", \"miglitol\", \"troglitazone\",\n",
    "             \"tolazamide\", \"insulin\", \"glyburide-metformin\", \"glipizide-metformin\",\n",
    "             \"metformin-rosiglitazone\", \"metformin-pioglitazone\"]\n",
    "response = [\"readmitted_tf\"]"
   ]
  },
  {
   "cell_type": "code",
   "execution_count": 34,
   "metadata": {
    "collapsed": true
   },
   "outputs": [],
   "source": [
    "# Dataframes of each type of data\n",
    "df_zg_ordinal = df_zg[ordinal]\n",
    "df_zg_categorical = df_zg[categorical]\n",
    "df_zg_continuous = df_zg[continuous]\n",
    "df_zg_lcontinuous = np.log(df_zg_continuous)\n",
    "df_zg_lcontinuous.columns = lcontinuous\n",
    "df_zg_medicines = df_zg[medicines]\n",
    "df_zg_response = df_zg[response]"
   ]
  },
  {
   "cell_type": "code",
   "execution_count": 35,
   "metadata": {
    "collapsed": true
   },
   "outputs": [],
   "source": [
    "# Making age ordinal\n",
    "for i in range(0, 10):\n",
    "    val = \"[\" + str(i*10) + \"-\" + str((i+1)*10) + \")\"\n",
    "    df_zg_ordinal.loc[df_zg_ordinal['age'] == val, 'age'] = i"
   ]
  },
  {
   "cell_type": "code",
   "execution_count": 36,
   "metadata": {},
   "outputs": [
    {
     "name": "stdout",
     "output_type": "stream",
     "text": [
      "Done\n"
     ]
    }
   ],
   "source": [
    "# Making all necessary columns categorical\n",
    "df_zg_categorical['admission_type_id'] = df_zg_categorical['admission_type_id'].astype(object)\n",
    "df_zg_categorical['discharge_disposition_id'] = df_zg_categorical['discharge_disposition_id'].astype(object)\n",
    "df_zg_categorical['admission_source_id'] = df_zg_categorical['admission_source_id'].astype(object)\n",
    "df_zg_categorical['admission_type_id'] = df_zg_categorical['admission_type_id'].astype(object)\n",
    "df_zg_categorical['meds_increased'] = df_zg_categorical['meds_increased'].astype(object)\n",
    "#df_zg_response['readmitted_tf'] = df_zg_response['readmitted_tf'].astype(object)\n",
    "print(\"Done\")"
   ]
  },
  {
   "cell_type": "code",
   "execution_count": 45,
   "metadata": {
    "collapsed": true
   },
   "outputs": [],
   "source": [
    "# Making DiabetesMed Binary\n",
    "df_zg.diabetesMed[df_zg.diabetesMed == 'No'] = 0\n",
    "df_zg.diabetesMed[df_zg.diabetesMed == 'Yes'] = 1\n",
    "\n",
    "df_zg[\"diabetesMed\"] = df_zg[\"diabetesMed\"].astype(int)"
   ]
  },
  {
   "cell_type": "code",
   "execution_count": 37,
   "metadata": {},
   "outputs": [
    {
     "name": "stdout",
     "output_type": "stream",
     "text": [
      "Done\n"
     ]
    }
   ],
   "source": [
    "# Creating different data sets \n",
    "\n",
    "# Original Data (no medication)\n",
    "df_zg_x = pd.concat([df_zg_ordinal, df_zg_categorical, df_zg_continuous], axis = 1)\n",
    "# Just numerical values (with medications)\n",
    "df_zg_num_x = pd.concat([df_zg_ordinal, df_zg_continuous], axis = 1)\n",
    "# Original data (with medications) \n",
    "df_zg_med_x = pd.concat([df_zg_ordinal, df_zg_categorical, df_zg_continuous, df_zg_medicines], axis = 1)\n",
    "# One hot encoded dataset (no medications)\n",
    "df_zg_hot_x = pd.concat([df_zg_ordinal, pd.get_dummies(df_zg_categorical), df_zg_continuous], axis = 1)\n",
    "# One hot encoded (with medications)\n",
    "df_zg_hot_med_x = pd.concat([df_zg_ordinal, pd.get_dummies(df_zg_categorical), df_zg_continuous, pd.get_dummies(df_zg_medicines)], axis = 1)\n",
    "# Response variable\n",
    "df_zg_y = df_zg_response\n",
    "print(\"Done\")"
   ]
  },
  {
   "cell_type": "code",
   "execution_count": 38,
   "metadata": {
    "collapsed": true
   },
   "outputs": [],
   "source": [
    "# Function for setting up training, validation, and test sets\n",
    "def tvt_split(df_x, df_y, valid_size, t_size, seed):\n",
    "    #doing the math because we have to split 2 seperate times\n",
    "    valid_size = 100*valid_size/(100*(1-t_size))\n",
    "    #First splitting out the test set\n",
    "    x_train, x_test, y_train, y_test = train_test_split(df_x, df_y, test_size = t_size, random_state=seed)\n",
    "    #Splitting the training set into train/validate\n",
    "    x_train, x_valid, y_train, y_valid = train_test_split(x_train, y_train, test_size = valid_size, random_state=seed)\n",
    "\n",
    "    #Reseting allof the indices\n",
    "    x_train.reset_index()\n",
    "    y_train.reset_index()\n",
    "    x_test.reset_index()\n",
    "    y_test.reset_index()\n",
    "    x_valid.reset_index()\n",
    "    y_valid.reset_index()\n",
    "\n",
    "    return x_train, x_valid, x_test, y_train, y_valid, y_test"
   ]
  },
  {
   "cell_type": "markdown",
   "metadata": {},
   "source": [
    "###### T-statistic for Feature Evaluation"
   ]
  },
  {
   "cell_type": "code",
   "execution_count": 46,
   "metadata": {
    "collapsed": true
   },
   "outputs": [],
   "source": [
    "df = pd.concat([df_zg_hot_x, df_zg_response], axis = 1)\n",
    "df0 = df.loc[df['readmitted_tf'] == 0]\n",
    "df1 = df.loc[df['readmitted_tf'] == 1]\n",
    "df0 = df0.drop(['readmitted_tf'], axis=1)\n",
    "df1 = df1.drop(['readmitted_tf'], axis=1)\n",
    "\n",
    "df0_s = df0.std(axis = 0).to_frame().T\n",
    "df0_m = df0.mean(axis = 0).to_frame().T\n",
    "\n",
    "df1_s = df1.std(axis = 0).to_frame().T\n",
    "df1_m = df1.mean(axis = 0).to_frame().T\n",
    "\n",
    "df0_c = pd.concat([df0_m, df0_s])\n",
    "df1_c = pd.concat([df1_m, df1_s])\n",
    "\n",
    "df0_c = df0_c.reset_index()\n",
    "df1_c = df1_c.reset_index()"
   ]
  },
  {
   "cell_type": "code",
   "execution_count": 47,
   "metadata": {},
   "outputs": [
    {
     "data": {
      "text/html": [
       "<div>\n",
       "<style scoped>\n",
       "    .dataframe tbody tr th:only-of-type {\n",
       "        vertical-align: middle;\n",
       "    }\n",
       "\n",
       "    .dataframe tbody tr th {\n",
       "        vertical-align: top;\n",
       "    }\n",
       "\n",
       "    .dataframe thead th {\n",
       "        text-align: right;\n",
       "    }\n",
       "</style>\n",
       "<table border=\"1\" class=\"dataframe\">\n",
       "  <thead>\n",
       "    <tr style=\"text-align: right;\">\n",
       "      <th></th>\n",
       "      <th>0</th>\n",
       "    </tr>\n",
       "  </thead>\n",
       "  <tbody>\n",
       "    <tr>\n",
       "      <th>admission_source_id_22</th>\n",
       "      <td>1.000000</td>\n",
       "    </tr>\n",
       "    <tr>\n",
       "      <th>medical_specialty_Surgery-PlasticwithinHeadandNeck</th>\n",
       "      <td>1.000000</td>\n",
       "    </tr>\n",
       "    <tr>\n",
       "      <th>admission_source_id_25</th>\n",
       "      <td>1.000000</td>\n",
       "    </tr>\n",
       "    <tr>\n",
       "      <th>medical_specialty_Pediatrics-InfectiousDiseases</th>\n",
       "      <td>1.000000</td>\n",
       "    </tr>\n",
       "    <tr>\n",
       "      <th>medical_specialty_Resident</th>\n",
       "      <td>1.000000</td>\n",
       "    </tr>\n",
       "    <tr>\n",
       "      <th>medical_specialty_SportsMedicine</th>\n",
       "      <td>1.000000</td>\n",
       "    </tr>\n",
       "    <tr>\n",
       "      <th>medical_specialty_Pediatrics-AllergyandImmunology</th>\n",
       "      <td>1.000000</td>\n",
       "    </tr>\n",
       "    <tr>\n",
       "      <th>medical_specialty_Dermatology</th>\n",
       "      <td>1.000000</td>\n",
       "    </tr>\n",
       "    <tr>\n",
       "      <th>admission_source_id_10</th>\n",
       "      <td>1.000000</td>\n",
       "    </tr>\n",
       "    <tr>\n",
       "      <th>admission_type_id_7</th>\n",
       "      <td>0.775611</td>\n",
       "    </tr>\n",
       "    <tr>\n",
       "      <th>discharge_disposition_id_23</th>\n",
       "      <td>0.467821</td>\n",
       "    </tr>\n",
       "    <tr>\n",
       "      <th>discharge_disposition_id_7</th>\n",
       "      <td>0.436807</td>\n",
       "    </tr>\n",
       "    <tr>\n",
       "      <th>discharge_disposition_id_9</th>\n",
       "      <td>0.333055</td>\n",
       "    </tr>\n",
       "    <tr>\n",
       "      <th>number_inpatient</th>\n",
       "      <td>0.306291</td>\n",
       "    </tr>\n",
       "    <tr>\n",
       "      <th>number_emergency</th>\n",
       "      <td>0.261017</td>\n",
       "    </tr>\n",
       "    <tr>\n",
       "      <th>discharge_disposition_id_8</th>\n",
       "      <td>0.188192</td>\n",
       "    </tr>\n",
       "    <tr>\n",
       "      <th>discharge_disposition_id_11</th>\n",
       "      <td>0.175645</td>\n",
       "    </tr>\n",
       "    <tr>\n",
       "      <th>meds_increased_1</th>\n",
       "      <td>0.147315</td>\n",
       "    </tr>\n",
       "    <tr>\n",
       "      <th>number_outpatient</th>\n",
       "      <td>0.138056</td>\n",
       "    </tr>\n",
       "    <tr>\n",
       "      <th>discharge_disposition_id_1</th>\n",
       "      <td>0.119169</td>\n",
       "    </tr>\n",
       "    <tr>\n",
       "      <th>admission_type_id_3</th>\n",
       "      <td>0.118022</td>\n",
       "    </tr>\n",
       "    <tr>\n",
       "      <th>num_lab_procedures</th>\n",
       "      <td>0.107376</td>\n",
       "    </tr>\n",
       "    <tr>\n",
       "      <th>admission_source_id_7</th>\n",
       "      <td>0.106312</td>\n",
       "    </tr>\n",
       "    <tr>\n",
       "      <th>diabetesMed_No</th>\n",
       "      <td>0.105707</td>\n",
       "    </tr>\n",
       "    <tr>\n",
       "      <th>admission_source_id_2</th>\n",
       "      <td>0.101534</td>\n",
       "    </tr>\n",
       "    <tr>\n",
       "      <th>admission_type_id_2</th>\n",
       "      <td>0.093022</td>\n",
       "    </tr>\n",
       "    <tr>\n",
       "      <th>admission_source_id_1</th>\n",
       "      <td>0.092946</td>\n",
       "    </tr>\n",
       "    <tr>\n",
       "      <th>time_in_hospital</th>\n",
       "      <td>0.091539</td>\n",
       "    </tr>\n",
       "    <tr>\n",
       "      <th>admission_type_id_4</th>\n",
       "      <td>0.079546</td>\n",
       "    </tr>\n",
       "    <tr>\n",
       "      <th>num_medications</th>\n",
       "      <td>0.074199</td>\n",
       "    </tr>\n",
       "    <tr>\n",
       "      <th>...</th>\n",
       "      <td>...</td>\n",
       "    </tr>\n",
       "    <tr>\n",
       "      <th>medical_specialty_Anesthesiology</th>\n",
       "      <td>0.004978</td>\n",
       "    </tr>\n",
       "    <tr>\n",
       "      <th>max_glu_serum_None</th>\n",
       "      <td>0.004528</td>\n",
       "    </tr>\n",
       "    <tr>\n",
       "      <th>medical_specialty_Pediatrics-Hematology-Oncology</th>\n",
       "      <td>0.004498</td>\n",
       "    </tr>\n",
       "    <tr>\n",
       "      <th>discharge_disposition_id_17</th>\n",
       "      <td>0.004448</td>\n",
       "    </tr>\n",
       "    <tr>\n",
       "      <th>race_AfricanAmerican</th>\n",
       "      <td>0.004402</td>\n",
       "    </tr>\n",
       "    <tr>\n",
       "      <th>medical_specialty_Neurophysiology</th>\n",
       "      <td>0.004269</td>\n",
       "    </tr>\n",
       "    <tr>\n",
       "      <th>medical_specialty_Perinatology</th>\n",
       "      <td>0.004269</td>\n",
       "    </tr>\n",
       "    <tr>\n",
       "      <th>medical_specialty_Speech</th>\n",
       "      <td>0.004269</td>\n",
       "    </tr>\n",
       "    <tr>\n",
       "      <th>admission_source_id_14</th>\n",
       "      <td>0.004269</td>\n",
       "    </tr>\n",
       "    <tr>\n",
       "      <th>medical_specialty_Proctology</th>\n",
       "      <td>0.004269</td>\n",
       "    </tr>\n",
       "    <tr>\n",
       "      <th>medical_specialty_Psychiatry-Addictive</th>\n",
       "      <td>0.004269</td>\n",
       "    </tr>\n",
       "    <tr>\n",
       "      <th>medical_specialty_Psychology</th>\n",
       "      <td>0.004200</td>\n",
       "    </tr>\n",
       "    <tr>\n",
       "      <th>discharge_disposition_id_15</th>\n",
       "      <td>0.004110</td>\n",
       "    </tr>\n",
       "    <tr>\n",
       "      <th>medical_specialty_Radiology</th>\n",
       "      <td>0.003960</td>\n",
       "    </tr>\n",
       "    <tr>\n",
       "      <th>discharge_disposition_id_16</th>\n",
       "      <td>0.003803</td>\n",
       "    </tr>\n",
       "    <tr>\n",
       "      <th>medical_specialty_PhysicianNotFound</th>\n",
       "      <td>0.003803</td>\n",
       "    </tr>\n",
       "    <tr>\n",
       "      <th>medical_specialty_Surgery-Colon&amp;Rectal</th>\n",
       "      <td>0.003717</td>\n",
       "    </tr>\n",
       "    <tr>\n",
       "      <th>max_glu_serum_Norm</th>\n",
       "      <td>0.003638</td>\n",
       "    </tr>\n",
       "    <tr>\n",
       "      <th>medical_specialty_Oncology</th>\n",
       "      <td>0.003637</td>\n",
       "    </tr>\n",
       "    <tr>\n",
       "      <th>medical_specialty_Surgery-Plastic</th>\n",
       "      <td>0.003525</td>\n",
       "    </tr>\n",
       "    <tr>\n",
       "      <th>discharge_disposition_id_25</th>\n",
       "      <td>0.003513</td>\n",
       "    </tr>\n",
       "    <tr>\n",
       "      <th>diag_1_val_Other</th>\n",
       "      <td>0.003278</td>\n",
       "    </tr>\n",
       "    <tr>\n",
       "      <th>medical_specialty_Pediatrics-EmergencyMedicine</th>\n",
       "      <td>0.002498</td>\n",
       "    </tr>\n",
       "    <tr>\n",
       "      <th>medical_specialty_Pediatrics-Neurology</th>\n",
       "      <td>0.002284</td>\n",
       "    </tr>\n",
       "    <tr>\n",
       "      <th>diag_1_val_None</th>\n",
       "      <td>0.001791</td>\n",
       "    </tr>\n",
       "    <tr>\n",
       "      <th>medical_specialty_OutreachServices</th>\n",
       "      <td>0.001754</td>\n",
       "    </tr>\n",
       "    <tr>\n",
       "      <th>admission_source_id_3</th>\n",
       "      <td>0.001408</td>\n",
       "    </tr>\n",
       "    <tr>\n",
       "      <th>medical_specialty_Psychiatry-Child/Adolescent</th>\n",
       "      <td>0.001040</td>\n",
       "    </tr>\n",
       "    <tr>\n",
       "      <th>diag_1_val_Digestive</th>\n",
       "      <td>0.000904</td>\n",
       "    </tr>\n",
       "    <tr>\n",
       "      <th>medical_specialty_Rheumatology</th>\n",
       "      <td>0.000503</td>\n",
       "    </tr>\n",
       "  </tbody>\n",
       "</table>\n",
       "<p>184 rows × 1 columns</p>\n",
       "</div>"
      ],
      "text/plain": [
       "                                                           0\n",
       "admission_source_id_22                              1.000000\n",
       "medical_specialty_Surgery-PlasticwithinHeadandNeck  1.000000\n",
       "admission_source_id_25                              1.000000\n",
       "medical_specialty_Pediatrics-InfectiousDiseases     1.000000\n",
       "medical_specialty_Resident                          1.000000\n",
       "medical_specialty_SportsMedicine                    1.000000\n",
       "medical_specialty_Pediatrics-AllergyandImmunology   1.000000\n",
       "medical_specialty_Dermatology                       1.000000\n",
       "admission_source_id_10                              1.000000\n",
       "admission_type_id_7                                 0.775611\n",
       "discharge_disposition_id_23                         0.467821\n",
       "discharge_disposition_id_7                          0.436807\n",
       "discharge_disposition_id_9                          0.333055\n",
       "number_inpatient                                    0.306291\n",
       "number_emergency                                    0.261017\n",
       "discharge_disposition_id_8                          0.188192\n",
       "discharge_disposition_id_11                         0.175645\n",
       "meds_increased_1                                    0.147315\n",
       "number_outpatient                                   0.138056\n",
       "discharge_disposition_id_1                          0.119169\n",
       "admission_type_id_3                                 0.118022\n",
       "num_lab_procedures                                  0.107376\n",
       "admission_source_id_7                               0.106312\n",
       "diabetesMed_No                                      0.105707\n",
       "admission_source_id_2                               0.101534\n",
       "admission_type_id_2                                 0.093022\n",
       "admission_source_id_1                               0.092946\n",
       "time_in_hospital                                    0.091539\n",
       "admission_type_id_4                                 0.079546\n",
       "num_medications                                     0.074199\n",
       "...                                                      ...\n",
       "medical_specialty_Anesthesiology                    0.004978\n",
       "max_glu_serum_None                                  0.004528\n",
       "medical_specialty_Pediatrics-Hematology-Oncology    0.004498\n",
       "discharge_disposition_id_17                         0.004448\n",
       "race_AfricanAmerican                                0.004402\n",
       "medical_specialty_Neurophysiology                   0.004269\n",
       "medical_specialty_Perinatology                      0.004269\n",
       "medical_specialty_Speech                            0.004269\n",
       "admission_source_id_14                              0.004269\n",
       "medical_specialty_Proctology                        0.004269\n",
       "medical_specialty_Psychiatry-Addictive              0.004269\n",
       "medical_specialty_Psychology                        0.004200\n",
       "discharge_disposition_id_15                         0.004110\n",
       "medical_specialty_Radiology                         0.003960\n",
       "discharge_disposition_id_16                         0.003803\n",
       "medical_specialty_PhysicianNotFound                 0.003803\n",
       "medical_specialty_Surgery-Colon&Rectal              0.003717\n",
       "max_glu_serum_Norm                                  0.003638\n",
       "medical_specialty_Oncology                          0.003637\n",
       "medical_specialty_Surgery-Plastic                   0.003525\n",
       "discharge_disposition_id_25                         0.003513\n",
       "diag_1_val_Other                                    0.003278\n",
       "medical_specialty_Pediatrics-EmergencyMedicine      0.002498\n",
       "medical_specialty_Pediatrics-Neurology              0.002284\n",
       "diag_1_val_None                                     0.001791\n",
       "medical_specialty_OutreachServices                  0.001754\n",
       "admission_source_id_3                               0.001408\n",
       "medical_specialty_Psychiatry-Child/Adolescent       0.001040\n",
       "diag_1_val_Digestive                                0.000904\n",
       "medical_specialty_Rheumatology                      0.000503\n",
       "\n",
       "[184 rows x 1 columns]"
      ]
     },
     "execution_count": 47,
     "metadata": {},
     "output_type": "execute_result"
    }
   ],
   "source": [
    "stuffs = []\n",
    "for i in range(1,(len(df0_c.columns))):\n",
    "    t = abs(df0_c.iloc[0,i] - df1_c.iloc[0,i])/(df0_c.iloc[1,i] + df1_c.iloc[0,i])\n",
    "    stuffs.append(t)\n",
    "nm = df0_c.columns.drop(['index']).values\n",
    "df_c = pd.DataFrame(columns = nm)\n",
    "df_c.loc[0] = stuffs\n",
    "df_c.T.sort_values(by = 0, ascending = False)"
   ]
  },
  {
   "cell_type": "code",
   "execution_count": 48,
   "metadata": {
    "collapsed": true
   },
   "outputs": [],
   "source": [
    "# Creating dataframe of top 10 values for t-statistic \n",
    "nm = [\"admission_source_id\", \"medical_specialty\", \"admission_type_id\",\n",
    "      \"discharge_disposition_id\", \"number_inpatient\", \"number_emergency\",\n",
    "      \"meds_increased\", \"number_outpatient\", \"num_lab_procedures\", \"time_in_hospital\"]\n",
    "df_zg_minPCA = df_zg[nm]\n",
    "df_zg_minPCA = pd.get_dummies(df_zg_minPCA)\n",
    "\n",
    "scl = StandardScaler()\n",
    "df_zg_PCA_scl = scl.fit_transform(df_zg_minPCA)"
   ]
  },
  {
   "cell_type": "markdown",
   "metadata": {},
   "source": [
    "###### Correlation Evaluation for Feature Evaluation"
   ]
  },
  {
   "cell_type": "code",
   "execution_count": 49,
   "metadata": {},
   "outputs": [
    {
     "data": {
      "text/plain": [
       "discharge_disposition_id_11                         -0.118405\n",
       "discharge_disposition_id_1                          -0.116581\n",
       "meds_increased_0                                    -0.099734\n",
       "admission_type_id_3                                 -0.091221\n",
       "diabetesMed_No                                      -0.083035\n",
       "admission_source_id_1                               -0.077781\n",
       "admission_source_id_2                               -0.076590\n",
       "admission_type_id_4                                 -0.056889\n",
       "discharge_disposition_id_14                         -0.049028\n",
       "change_No                                           -0.046008\n",
       "discharge_disposition_id_13                         -0.044504\n",
       "race_Unspecified                                    -0.042900\n",
       "medical_specialty_ObstetricsandGynecology           -0.040739\n",
       "diag_3_val_None                                     -0.038082\n",
       "medical_specialty_Orthopedics-Reconstructive        -0.033022\n",
       "medical_specialty_Surgery-Cardiovascular/Thoracic   -0.031501\n",
       "medical_specialty_Surgery-Neuro                     -0.031378\n",
       "diag_1_val_Musculoskeletal                          -0.031374\n",
       "medical_specialty_Orthopedics                       -0.028303\n",
       "medical_specialty_Pediatrics-Endocrinology          -0.024597\n",
       "diag_1_val_Neoplasms                                -0.024576\n",
       "discharge_disposition_id_18                         -0.023340\n",
       "diag_2_val_Other                                    -0.023213\n",
       "admission_type_id_5                                 -0.021907\n",
       "diag_2_val_Injury                                   -0.021446\n",
       "medical_specialty_InternalMedicine                  -0.021123\n",
       "diag_2_val_None                                     -0.020642\n",
       "diag_2_val_Diabeties                                -0.020544\n",
       "A1Cresult_Norm                                      -0.019974\n",
       "gender_Male                                         -0.017980\n",
       "                                                       ...   \n",
       "admission_type_id_6                                  0.028701\n",
       "race_Caucasian                                       0.029207\n",
       "diag_1_val_Diabeties                                 0.029458\n",
       "age                                                  0.030403\n",
       "discharge_disposition_id_4                           0.031131\n",
       "discharge_disposition_id_5                           0.032469\n",
       "discharge_disposition_id_6                           0.032873\n",
       "admission_type_id_1                                  0.036188\n",
       "medical_specialty_Unspecified                        0.038505\n",
       "change_Ch                                            0.046008\n",
       "medication_count                                     0.051396\n",
       "discharge_disposition_id_8                           0.056425\n",
       "discharge_disposition_id_9                           0.059106\n",
       "admission_type_id_2                                  0.065573\n",
       "number_outpatient                                    0.082142\n",
       "diabetesMed_Yes                                      0.083035\n",
       "admission_source_id_7                                0.086005\n",
       "meds_increased_1                                     0.099734\n",
       "num_medications                                      0.105724\n",
       "number_diagnoses                                     0.112564\n",
       "admission_source_id_25                               0.113214\n",
       "time_in_hospital                                     0.114739\n",
       "admission_source_id_10                               0.116034\n",
       "number_emergency                                     0.121392\n",
       "num_lab_procedures                                   0.138102\n",
       "admission_type_id_7                                  0.151840\n",
       "discharge_disposition_id_7                           0.171097\n",
       "discharge_disposition_id_23                          0.172555\n",
       "number_inpatient                                     0.217194\n",
       "readmitted_tf                                        1.000000\n",
       "Name: readmitted_tf, Length: 185, dtype: float64"
      ]
     },
     "execution_count": 49,
     "metadata": {},
     "output_type": "execute_result"
    }
   ],
   "source": [
    "# Printing the correlation of all values to the response\n",
    "df_zg_corr = pd.concat([df_zg_ordinal, pd.get_dummies(df_zg_categorical), df_zg_continuous, df_zg_response], axis = 1)\n",
    "cors = df_zg_corr.corr()\n",
    "cors = cors.sort_values(by=['readmitted_tf'])\n",
    "cors.readmitted_tf"
   ]
  },
  {
   "cell_type": "code",
   "execution_count": 58,
   "metadata": {
    "collapsed": true
   },
   "outputs": [],
   "source": [
    "# Creating dataframe of all correlations >= |0.1|\n",
    "nm = [\"num_medications\", \"number_diagnoses\", \"admission_source_id\", \"time_in_hospital\",\n",
    "      \"meds_increased\", \"number_emergency\", \"num_lab_procedures\", \"admission_type_id\",\n",
    "      \"number_inpatient\", \"discharge_disposition_id\"]\n",
    "df_zg_minPCA = df_zg[nm]\n",
    "df_zg_minPCA = pd.get_dummies(df_zg_minPCA)\n",
    "\n",
    "scl = StandardScaler()\n",
    "df_zg_PCA_scl = scl.fit_transform(df_zg_minPCA)"
   ]
  },
  {
   "cell_type": "markdown",
   "metadata": {},
   "source": [
    "#### Random Forest Data Preperation"
   ]
  },
  {
   "cell_type": "code",
   "execution_count": null,
   "metadata": {
    "collapsed": true
   },
   "outputs": [],
   "source": [
    "#import the data\n",
    "directory = '/Users/samanthasprague/Downloads/'\n",
    "df = pd.read_csv(directory + 'Diabetic_Cleaned.csv')\n",
    "df_clean = df"
   ]
  },
  {
   "cell_type": "code",
   "execution_count": null,
   "metadata": {
    "collapsed": true
   },
   "outputs": [],
   "source": [
    "df_clean.info()"
   ]
  },
  {
   "cell_type": "code",
   "execution_count": null,
   "metadata": {
    "collapsed": true
   },
   "outputs": [],
   "source": [
    "#can also use binary encoder to achieve this\n",
    "df_clean.gender[df_clean.gender == 'Male'] = 0\n",
    "df_clean.gender[df_clean.gender == 'Female'] = 1\n",
    "\n",
    "df_clean[\"gender\"] = df_clean[\"gender\"].astype(int)"
   ]
  },
  {
   "cell_type": "code",
   "execution_count": null,
   "metadata": {
    "collapsed": true
   },
   "outputs": [],
   "source": [
    "#10 age groups; Ordinal encoding\n",
    "#feature density plot of age can help with answering the question like: does people older age tend to be readmitted?\n",
    "#can use map/apply function to achieve this\n",
    "\n",
    "df_clean.age[df_clean.age== '[0-10)'] = 1\n",
    "df_clean.age[df_clean.age== '[10-20)'] = 2\n",
    "df_clean.age[df_clean.age== '[20-30)'] = 3\n",
    "df_clean.age[df_clean.age== '[30-40)'] = 4\n",
    "df_clean.age[df_clean.age== '[40-50)'] = 5\n",
    "df_clean.age[df_clean.age== '[50-60)'] = 6\n",
    "df_clean.age[df_clean.age== '[60-70)'] = 7\n",
    "df_clean.age[df_clean.age== '[70-80)'] = 8\n",
    "df_clean.age[df_clean.age== '[80-90)'] = 9\n",
    "df_clean.age[df_clean.age== '[90-100)'] = 10\n",
    "\n",
    "df_clean[\"age\"] = df_clean[\"age\"].astype(int)"
   ]
  },
  {
   "cell_type": "code",
   "execution_count": null,
   "metadata": {
    "collapsed": true
   },
   "outputs": [],
   "source": [
    "#one hot encoding categorical variables\n",
    "\n",
    "#FE based on Feature Importance plot from LR model\n",
    "\n",
    "#add more important features: discharge_disposition_id, admission_source_id. I think they should be categorical, so I put them in dummy list\n",
    "#also include all medications\n",
    "\n",
    "dummiesList=[\"diag_1_val\",\"diag_2_val\",\"diag_3_val\",\"race\",\"A1Cresult\",\"admission_type\",\"admission_source\",\"discharge_disposition\",\n",
    "             \"diabetesMed\",\"medical_specialty\", \"max_glu_serum\", \"meds_increased\", \"insulin\",\n",
    "            \"metformin\", \"repaglinide\", \"nateglinide\", \"chlorpropamide\",\n",
    "             \"glimepiride\", \"acetohexamide\", \"glipizide\", \"glyburide\", \"tolbutamide\",\n",
    "             \"pioglitazone\", \"rosiglitazone\", \"acarbose\", \"miglitol\", \"troglitazone\",\n",
    "             \"tolazamide\", \"glyburide-metformin\", \"glipizide-metformin\",\n",
    "             \"metformin-rosiglitazone\", \"metformin-pioglitazone\"]\n",
    "df_clean_wDummies = pd.get_dummies(df_clean[dummiesList])"
   ]
  },
  {
   "cell_type": "code",
   "execution_count": null,
   "metadata": {
    "collapsed": true
   },
   "outputs": [],
   "source": [
    "#combine with numerical features we decide to use and target readmitted_tf\n",
    "NumFeatures=[\"num_lab_procedures\",\"num_procedures\",\"number_outpatient\",\"number_emergency\", \"number_inpatient\",\"num_medications\",\n",
    "             \"medication_count\",\"number_diagnoses\", \"gender\",\"age\",\"readmitted_tf\"]\n",
    "df_clean_wDummies= pd.concat((df_clean_wDummies, df_clean[NumFeatures]), axis=1)"
   ]
  },
  {
   "cell_type": "code",
   "execution_count": null,
   "metadata": {
    "collapsed": true
   },
   "outputs": [],
   "source": [
    "df_clean_wDummies.info()"
   ]
  },
  {
   "cell_type": "code",
   "execution_count": null,
   "metadata": {
    "collapsed": true
   },
   "outputs": [],
   "source": [
    "df_imputed=df_clean_wDummies\n",
    "\n",
    "\n",
    "from sklearn.model_selection import ShuffleSplit\n",
    "\n",
    "# we want to predict the X and y data as follows:\n",
    "if 'readmitted_tf' in df_imputed:\n",
    "    y = df_imputed['readmitted_tf'].values # get the labels we want\n",
    "    del df_imputed['readmitted_tf'] # get rid of the class label\n",
    "    X = df_imputed.values # use everything else to predict!\n",
    "\n",
    "    ## X and y are now numpy matrices, by calling 'values' on the pandas data frames we\n",
    "    #    have converted them into simple matrices to use with scikit learn\n",
    "    \n",
    "    \n",
    "# to use the cross validation object in scikit learn, we need to grab an instance\n",
    "#    of the object and set it up. This object will be able to split our data into \n",
    "#    training and testing splits\n",
    "num_cv_iterations = 3\n",
    "num_instances = len(y)\n",
    "cv_object = ShuffleSplit(n_splits=num_cv_iterations,\n",
    "                         test_size  = 0.2)\n",
    "                         \n",
    "print(cv_object)"
   ]
  },
  {
   "cell_type": "markdown",
   "metadata": {},
   "source": [
    "#### SVM Data Preperation"
   ]
  },
  {
   "cell_type": "code",
   "execution_count": 1,
   "metadata": {},
   "outputs": [],
   "source": [
    "#need \n",
    "#@ lei are you using the same data prep for all of your models? \n",
    "#should we combine SVM and RF? \n",
    "# did we do anything different for the regression prep?\n",
    "#i'm guessing we did because our target changed? did we normalize for\n",
    "#better results? "
   ]
  },
  {
   "cell_type": "markdown",
   "metadata": {},
   "source": [
    "## **DP Requirement 2**:\n",
    "\n",
    "• Describe the final dataset that is used for classification/regression (include a description of any newly formed variables you created). "
   ]
  },
  {
   "cell_type": "markdown",
   "metadata": {},
   "source": [
    "**DP Answer 2**: The final datasets with input variables and targets for this assignment depended not only on the task, but the technique being leveraged. Below you will find robust documentation on the features and target of each final model selected for that technique. "
   ]
  },
  {
   "cell_type": "markdown",
   "metadata": {},
   "source": [
    "#### Task One Dataset Description: Binary Classification on Readmittance"
   ]
  },
  {
   "cell_type": "markdown",
   "metadata": {},
   "source": [
    "##### KNN"
   ]
  },
  {
   "cell_type": "markdown",
   "metadata": {},
   "source": [
    "Based on the data preporation above 2 different KNN models were built: 1. KNN with full dataset, 2. KNN with top 10 variables from T-statistic, and lastly a KNN with top 10 input variables from coorelation to the repsonse. It was found that by using the top 10 variables from the coorelation to the response, we were able to achieve the best model in accuracy and AUC on the test set. This is discussed more below. The features for the final KNN reported here are: "
   ]
  },
  {
   "cell_type": "markdown",
   "metadata": {},
   "source": [
    "| Variable Name | Type |Definition |\n",
    "|---------------|------|-----------|\n",
    "| num_medications | Continous | New feature created, sum of count of medications per patient, per encounter|\n",
    "| number_diagnoses | Continous | Number of diagnoses entered in the system |\n",
    "| admission_source_id | Categorical | Source of admission |\n",
    "| time_in_hospital | Contious | Number of days between admission and discharge |\n",
    "| meds_increased | Flag | New feature created, identifies if there was change in the patient's diabetes medication |\n",
    "| number_emergency | Continous | Number of emergency visits in the year preceding the encouunter |\n",
    "| num_lab_procedures | Continous | Number of lab tested performed during encounter |\n",
    "| admission_type_id | Categorical | Type of admission in the hospital\n",
    "| number_inpatient | Continous | Number of inpatient visits in the year preceding the encounter\n",
    "| discharge_disposition_id | Categorical | Reason for discharge\n",
    "| readmitted | Flag | Target variable: either \"NO\", \"<30\" or \">30\""
   ]
  },
  {
   "cell_type": "markdown",
   "metadata": {},
   "source": [
    "##### Random Forest"
   ]
  },
  {
   "cell_type": "code",
   "execution_count": null,
   "metadata": {
    "collapsed": true
   },
   "outputs": [],
   "source": [
    "#need"
   ]
  },
  {
   "cell_type": "markdown",
   "metadata": {},
   "source": [
    "Tried full dataset, full dataset parameter tuning, feature important 13 variables (data frame minial) "
   ]
  },
  {
   "cell_type": "markdown",
   "metadata": {},
   "source": [
    "######  SVM"
   ]
  },
  {
   "cell_type": "code",
   "execution_count": null,
   "metadata": {
    "collapsed": true
   },
   "outputs": [],
   "source": [
    "#need"
   ]
  },
  {
   "cell_type": "markdown",
   "metadata": {},
   "source": [
    "#### Task Two Dataset Description: Regression on Time in Hospital "
   ]
  },
  {
   "cell_type": "markdown",
   "metadata": {},
   "source": [
    "######  KNN"
   ]
  },
  {
   "cell_type": "code",
   "execution_count": null,
   "metadata": {},
   "outputs": [],
   "source": [
    "#need"
   ]
  },
  {
   "cell_type": "markdown",
   "metadata": {},
   "source": [
    "###### Random Forest"
   ]
  },
  {
   "cell_type": "code",
   "execution_count": null,
   "metadata": {},
   "outputs": [],
   "source": [
    "#need"
   ]
  },
  {
   "cell_type": "markdown",
   "metadata": {},
   "source": [
    "######  Linear Regression"
   ]
  },
  {
   "cell_type": "code",
   "execution_count": null,
   "metadata": {},
   "outputs": [],
   "source": [
    "#need"
   ]
  },
  {
   "cell_type": "markdown",
   "metadata": {},
   "source": [
    "<a id=\"Modeling and Evaluation\"></a>\n",
    "## Modeling and Evaluation"
   ]
  },
  {
   "cell_type": "markdown",
   "metadata": {},
   "source": [
    "## **ME Requirement 1**:\n",
    "\n",
    "• Choose and explain your evaluation metrics that you will use (i.e., accuracy, precision, recall, F-measure, or any metric we have discussed). Why are the measure(s) appropriate for analyzing the results of your modeling? Give a detailed explanation\n",
    "backing up any assertions."
   ]
  },
  {
   "cell_type": "markdown",
   "metadata": {},
   "source": [
    "**ME Answer 1**: The best data scientists and engineers will use a combination of accuracy, precision, recall, F-measure, and AUC model evaluation metrics on the test and/or validation sets to determine the best model for the task. Depending on the problem the model is trying to solve (or the purpose for prediction) and the technique being used to solve the problem, a data scientist might lean on one metric over another.\n",
    "\n",
    "The University of San Fransico Data Institute put together a useful diagram that provides a useful summary of when data scientists and engineers may want to lean on one metric over another. (Figure 1) [6]"
   ]
  },
  {
   "cell_type": "code",
   "execution_count": 10,
   "metadata": {},
   "outputs": [
    {
     "data": {
      "image/png": "[encoded data removed]",
      "text/plain": [
       "<IPython.core.display.Image object>"
      ]
     },
     "execution_count": 10,
     "metadata": {},
     "output_type": "execute_result"
    }
   ],
   "source": [
    "from IPython.display import Image\n",
    "Image(filename='/Users/samanthasprague/Desktop/1.png')"
   ]
  },
  {
   "cell_type": "markdown",
   "metadata": {},
   "source": [
    "One generic example for classification models is the case of medical diagnosis. When building machine learning models for medical purposes, the precision of those models needs to be very high. Inappropriately diagnosing people that are healthy has a very dangerous outcome: inappropriate treatment, etc. And missing the diagnosis on unhealthy people, can also have a dangerous outcome: increase in pain/symptoms and potentially, death. By focusing on precision, the number of positive cases that are correctly identified, we minimize the false positives and can ensure we are focused on only diagnosising individuals we are confident are sick. \n",
    "\n",
    "On the contrary, when using machine learning models for prediction in the marketing space, the outcome of incorrectly classifing a potential customer does not particularly have a dangeorus outcome. At most, a company could spend more money and not see as much financial gain. Thus, precision is not a metric heavily used in marketing machine learning models, instead, these data scientists will focus on optimizing for the most insights, regardless of how high the false positive rate is. In this case, leveraging the F1-score which take into account both precision and recall. Maximizing this number will allow for the best model. [3]\n",
    "\n",
    "\n",
    "Both of these examples have been classification problems. The tables turn when we are looking to evaluate models for regression. Regression evaluation methods truly depend specifically on the task at hand. There is value to evaluating model performance with all the metrics above listed, but will be determined on a case by case basis. As always, a train and test split is your best way to validate or prevent a model from overfitting. Thus ensure to test these metrics against your test set when evaluating a model. \n",
    "\n",
    "Thus, based on our experience in the field and research, **task one will rely on AUC most heavily to determine best fit.** The reason for this is because we are trying to predict whether a patient will be readmitted to the hospital for diabetes. While this model does allow benefit for the medical field, the purpose is not to diagnose, but rather provide insight into future treatment or needs. There are multiple benefits to a model like this, from staffing and readmittance estimates, to proper diagnosis and follow up. By leveraging AUC, we provides an analysis that leverages the ROC curve, which provides is a visual representation of all classification thresholds. These metrics are insensitive to whether your predicted probablities are properly calibratied. [4] In order words, the ROC curve \"shows you how many correct positive classifications can be gained as you allow for more and more false positives. The perfect classifier that makes no mistakes would hit a true positive rate of 100% immediately, without incurring any false positives—this almost never happens in practice.\" [2] In addition, this is a useful metric for datasets with unbalanced classes. It is for these reasons, we will lean heavily on the AUC to compare models. The highter the AUC, the greater area under the (ROC) curve, and thus, the better at prediction the model will be.  \n",
    "\n",
    "**For task two, because our task is regression, MSE will be the metric we rely on most heavily to determine best fit.** MSE or mean squared error is the average of the squared errors, or in plain english the average squared difference between the predictions and actual outcomes. The reason we chose this is because it is much simplier to interpret. RSME was another potential option but is more complex and is biased toward higher diviations, in addition to not being robust to outliers. [6] We will also lean on adjusted $R^{2}$ to provide some insight while selecting the best regression models internal to the technique.  "
   ]
  },
  {
   "cell_type": "markdown",
   "metadata": {},
   "source": [
    "## **ME Requirement 2**:\n",
    "• Choose the method you will use for dividing your data into training and\n",
    "testing splits (i.e., are you using Stratified 10-fold cross validation? Why?). Explain why your chosen method is appropriate or use more than one method as appropriate."
   ]
  },
  {
   "cell_type": "markdown",
   "metadata": {},
   "source": [
    "**ME Answer 2**: The method used for dividing our data in training and testing splits was dependent on the task and techique leveraged. Below is the analysis done for each task and technique. "
   ]
  },
  {
   "cell_type": "markdown",
   "metadata": {},
   "source": [
    "#### Task One Training and Test Split: Binary Classification on Readmittance"
   ]
  },
  {
   "cell_type": "markdown",
   "metadata": {},
   "source": [
    "###### KNN"
   ]
  },
  {
   "cell_type": "markdown",
   "metadata": {},
   "source": [
    "Our complete dataset contained over 100k points. Thus, due to the amount of data points, the length of time it took to complete just one training cycle of a model took over 15+ minutes. Due to the processing limitations, we decided against leveraging cross validation within our KNN training as it took over 1 hr to run when attempted. However, we did leverage a train, test, and validation split. Model training was done on the train set. All parameter tuning done on the validation set. All formal model evlauation metrics were done on the test set."
   ]
  },
  {
   "cell_type": "code",
   "execution_count": null,
   "metadata": {
    "collapsed": true
   },
   "outputs": [],
   "source": [
    "%%time\n",
    "x_train, x_valid, x_test, y_train, y_valid, y_test = tvt_split(df_zg_minPCA, df_zg_y, 0.2, 0.2, 7)\n",
    "\n",
    "#Print out the shapes of the train/valid/test sets\n",
    "x_train.shape, x_valid.shape, x_test.shape\n",
    "\n",
    "#Create variables for just this operation\n",
    "x_t = x_train\n",
    "x_v = x_valid\n",
    "y_t = y_train\n",
    "y_v = y_valid\n",
    "y_tst = y_test\n",
    "\n",
    "# We will fill this with predictions\n",
    "yhat = np.zeros(y_v.shape)\n",
    "\n",
    "scl = StandardScaler()\n",
    "x_t = scl.fit_transform(x_train)\n",
    "x_v = scl.transform(x_valid)\n",
    "x_tst = scl.transform(x_test)"
   ]
  },
  {
   "cell_type": "markdown",
   "metadata": {},
   "source": [
    "###### Random Forest"
   ]
  },
  {
   "cell_type": "markdown",
   "metadata": {},
   "source": [
    "The random forest model leveraged a train and test split. We created the model on train set with 3-fold cross valudation. Performed parameter tuning on train, and did all model evaluation on the test set. "
   ]
  },
  {
   "cell_type": "code",
   "execution_count": null,
   "metadata": {
    "collapsed": true
   },
   "outputs": [],
   "source": [
    "## Training and Testing Split\n",
    "# okay, so run through the cross validation loop and set the training and testing variable for one single iteration\n",
    "for train_indices, test_indices in cv_object.split(X,y): \n",
    "    # I will create new variables here so that it is more obvious what \n",
    "    # the code is doing (you can compact this syntax and avoid duplicating memory,\n",
    "    # but it makes this code less readable)\n",
    "    X_train = X[train_indices]\n",
    "    y_train = y[train_indices]\n",
    "    \n",
    "    X_test = X[test_indices]\n",
    "    y_test = y[test_indices]"
   ]
  },
  {
   "cell_type": "code",
   "execution_count": null,
   "metadata": {
    "collapsed": true
   },
   "outputs": [],
   "source": [
    "    # we want to normalize the features based upon the mean and standard deviation of each column. \n",
    "# However, we do not want to accidentally use the testing data to find out the mean and std (this would be snooping)\n",
    "# to Make things easier, let's start by just using whatever was last stored in the variables:\n",
    "##    X_train , y_train , X_test, y_test (they were set in a for loop above)\n",
    "from sklearn.preprocessing import StandardScaler\n",
    "scl_obj = StandardScaler()\n",
    "\n",
    "scl_obj.fit(X_train)\n",
    "X_test_scaled = scl_obj.transform(X_test)\n",
    "\n",
    "X_train_scaled = scl_obj.transform(X_train) # apply to training\n",
    "X_test_scaled = scl_obj.transform(X_test) "
   ]
  },
  {
   "cell_type": "markdown",
   "metadata": {},
   "source": [
    "###### SVM"
   ]
  },
  {
   "cell_type": "markdown",
   "metadata": {},
   "source": [
    "The SVM model leveraged training and testing splits. The model was trained on the train set, parameter tunning was done on the train set, and model evaluation was done on the test set. "
   ]
  },
  {
   "cell_type": "code",
   "execution_count": null,
   "metadata": {
    "collapsed": true
   },
   "outputs": [],
   "source": [
    "#help, @ Lei did you use the same training and testing sets \n",
    "#for SVM and RF??????"
   ]
  },
  {
   "cell_type": "markdown",
   "metadata": {},
   "source": [
    "#### Task Two Training and Test Split: Regression on Time in Hospital"
   ]
  },
  {
   "cell_type": "markdown",
   "metadata": {},
   "source": [
    "###### KNN"
   ]
  },
  {
   "cell_type": "code",
   "execution_count": null,
   "metadata": {
    "collapsed": true
   },
   "outputs": [],
   "source": [
    "#need\n",
    "#@ zach did we use same training and testing sets?? \n",
    "#i assumed they changed because the target changed? i couldn't find it\n",
    "#in your notebook"
   ]
  },
  {
   "cell_type": "markdown",
   "metadata": {},
   "source": [
    "###### Random Forest"
   ]
  },
  {
   "cell_type": "code",
   "execution_count": null,
   "metadata": {
    "collapsed": true
   },
   "outputs": [],
   "source": [
    "#need"
   ]
  },
  {
   "cell_type": "markdown",
   "metadata": {},
   "source": [
    "###### Linear Regression"
   ]
  },
  {
   "cell_type": "code",
   "execution_count": null,
   "metadata": {
    "collapsed": true
   },
   "outputs": [],
   "source": [
    "#need"
   ]
  },
  {
   "cell_type": "markdown",
   "metadata": {},
   "source": [
    "## **ME Requirement 3**:\n",
    "• Create three different classification/regression models (e.g., random forest, KNN, and SVM) for each task. Two modeling techniques must be new (but the third could be SVM or logistic regression). Adjust parameters as appropriate to increase generalization performance using your chosen metric."
   ]
  },
  {
   "cell_type": "markdown",
   "metadata": {},
   "source": [
    "**ME Answer 3**: We created 3 different models per technique. The tasks are described below, and the models are seperated by task. Each model includes a base line, hyper-paramter tuning, and then the final model with the tuned paramters.  "
   ]
  },
  {
   "cell_type": "markdown",
   "metadata": {},
   "source": [
    "* Task One: Binary Classification of Readmittance (0 or 1)\n",
    "* Task Two: Regression on Time in Hospital "
   ]
  },
  {
   "cell_type": "markdown",
   "metadata": {},
   "source": [
    "#### Task One Model Creation: Binary Classification of Readmittance"
   ]
  },
  {
   "cell_type": "markdown",
   "metadata": {},
   "source": [
    "###### KNN"
   ]
  },
  {
   "cell_type": "code",
   "execution_count": null,
   "metadata": {
    "collapsed": true
   },
   "outputs": [],
   "source": [
    "%%time\n",
    "# get a handle to the classifier object, which defines the type\n",
    "clf = KNeighborsClassifier(n_neighbors = 27)\n",
    "clf.fit(x_t, y_t)"
   ]
  },
  {
   "cell_type": "code",
   "execution_count": null,
   "metadata": {
    "collapsed": true
   },
   "outputs": [],
   "source": [
    "%%time\n",
    "#Find the optimal cutoff point\n",
    "y_pred_cut = clf.predict_proba(x_t)\n",
    "cutoff = Find_Optimal_Cutoff(y_t, y_pred_cut)\n",
    "\n",
    "#Prediction\n",
    "#y_pred = model.predict(x_test_scaled)\n",
    "y_pred_probs = clf.predict_proba(x_v)\n",
    "y_pred = np.where(y_pred_probs >= cutoff, 1, 0)\n",
    "y_pred = y_pred[:,1]\n",
    "\n",
    "rocCurvePlot(y_pred_probs, y_v)\n",
    "\n",
    "\n",
    "#Accuracy metrics\n",
    "f1 = f1_score(y_v, y_pred, average = 'weighted')\n",
    "acc = accuracy_score(y_v, y_pred)\n",
    "roc = roc_auc_score(y_v, y_pred_probs[:,1])\n",
    "#roc = roc_auc_score(y_v, clf.predict_proba(x_v)[:,1])\n",
    "conf = mt.confusion_matrix(y_v, y_pred)\n",
    "print(\"F1:\", f1, \"ACC:\", acc, \"AUC:\", roc, \"\\nConfusion Matrix\\n\", conf)"
   ]
  },
  {
   "cell_type": "markdown",
   "metadata": {},
   "source": [
    "##### KNN Tuning on reduced set\n",
    "###### Testing 1-50 (odd values)\n",
    "Creates the model for each of the K's in that range and then saves the AUC for the train and validation sets."
   ]
  },
  {
   "cell_type": "code",
   "execution_count": null,
   "metadata": {
    "collapsed": true
   },
   "outputs": [],
   "source": [
    "%%time\n",
    "# creating odd list of K for KNN\n",
    "myList = list(range(1,50))\n",
    "# subsetting just the odd ones\n",
    "neighbors = filter(lambda x: x % 2 != 0, myList)\n",
    "\n",
    "# empty list that will hold cv scores\n",
    "scores = pd.DataFrame(columns = [\"K\", \"AUC_Train\", \"AUC_Valid\"])\n",
    "\n",
    "i = 0\n",
    "for k in neighbors:\n",
    "    clf = KNeighborsClassifier(n_neighbors = k)\n",
    "    clf.fit(x_t, y_t)\n",
    "\n",
    "    #AUC\n",
    "    auc_t = roc_auc_score(y_t, clf.predict_proba(x_t)[:,1])\n",
    "    auc_v = roc_auc_score(y_v, clf.predict_proba(x_v)[:,1])\n",
    "    scores.loc[i] = [k, auc_t, auc_v]\n",
    "    i = i+1"
   ]
  },
  {
   "cell_type": "markdown",
   "metadata": {},
   "source": [
    "###### Testing 50-70 (odd values)\n",
    "Creates the model for each of the K's in that range and then saves the AUC for the train and validation set."
   ]
  },
  {
   "cell_type": "code",
   "execution_count": null,
   "metadata": {
    "collapsed": true
   },
   "outputs": [],
   "source": [
    "%%time\n",
    "# creating odd list of K for KNN\n",
    "myList = list(range(50,70))\n",
    "# subsetting just the odd ones\n",
    "neighbors = filter(lambda x: x % 2 != 0, myList)\n",
    "\n",
    "# empty list that will hold cv scores\n",
    "scores1 = pd.DataFrame(columns = [\"K\", \"AUC_Train\", \"AUC_Valid\"])\n",
    "\n",
    "i = 0\n",
    "for k in neighbors:\n",
    "    clf = KNeighborsClassifier(n_neighbors = k)\n",
    "    clf.fit(x_t, y_t)\n",
    "\n",
    "    #AUC\n",
    "    auc_t = roc_auc_score(y_t, clf.predict_proba(x_t)[:,1])\n",
    "    auc_v = roc_auc_score(y_v, clf.predict_proba(x_v)[:,1])\n",
    "    scores1.loc[i] = [k, auc_t, auc_v]\n",
    "    i = i+1"
   ]
  },
  {
   "cell_type": "markdown",
   "metadata": {},
   "source": [
    "###### Plotting K's 1 - 70 (odd values)\n",
    "Using the validation set in order to see how large of a k to use. From the plot below we can see the they are asymptotically approaching 0.73. Because this is a large dataset (100k+ rows) we can use a little larger k and we will not run a big risk of overfitting. Based on the data below a K of 15 would be a good choice."
   ]
  },
  {
   "cell_type": "code",
   "execution_count": null,
   "metadata": {
    "collapsed": true
   },
   "outputs": [],
   "source": [
    "df_scores_0_70 = pd.concat([scores, scores1])\n",
    "df_scores_0_70.columns = [\"K\", \"AUC_Train\", \"AUC_Valid\"]\n",
    "\n",
    "plt.plot(df_scores_0_70.K, df_scores_0_70.AUC_Valid)\n",
    "plt.plot(df_scores_0_70.K, df_scores_0_70.AUC_Train)\n",
    "\n",
    "plt.xlabel('K') \n",
    "plt.ylabel('AUC') \n",
    "plt.legend()\n",
    "plt.title('Training vs Validation AUC') \n",
    "\n",
    "plt.show()"
   ]
  },
  {
   "cell_type": "markdown",
   "metadata": {},
   "source": [
    "###### KNN with the above parameters\n",
    "Now that we have tuned the values for K, we do the prediction on the test set. Below shows the ROC curve with all of the accuracy metrics and confusion matrix."
   ]
  },
  {
   "cell_type": "code",
   "execution_count": null,
   "metadata": {
    "collapsed": true
   },
   "outputs": [],
   "source": [
    "%%time\n",
    "clf = KNeighborsClassifier(n_neighbors = 15)\n",
    "clf.fit(x_t, y_t)"
   ]
  },
  {
   "cell_type": "code",
   "execution_count": null,
   "metadata": {
    "collapsed": true
   },
   "outputs": [],
   "source": [
    "%%time\n",
    "#Find the optimal cutoff point\n",
    "y_pred_cut = clf.predict_proba(x_t)\n",
    "cutoff = Find_Optimal_Cutoff(y_t, y_pred_cut)\n",
    "\n",
    "#Prediction\n",
    "y_pred_probs = clf.predict_proba(x_tst)\n",
    "y_pred = np.where(y_pred_probs >= cutoff, 1, 0)\n",
    "y_pred = y_pred[:,1]\n",
    "\n",
    "rocCurvePlot(y_pred_probs, y_tst)\n",
    "\n",
    "#Accuracy metrics\n",
    "f1 = f1_score(y_tst, y_pred, average = 'weighted')\n",
    "acc = accuracy_score(y_tst, y_pred)\n",
    "auc = roc_auc_score(y_tst, y_pred_probs[:,1])\n",
    "conf = mt.confusion_matrix(y_tst, y_pred)\n",
    "sens = conf[0,0]/(conf[0,0] + conf[0,1])\n",
    "spec = conf[1,1]/(conf[1,0] + conf[1,1])\n",
    "print(\"F1:\", round(f1,4), \"ACC:\", round(acc,4), \"AUC:\", round(auc,4))\n",
    "print(\"Specificity:\", round(spec, 4), \"Sensitivity:\", round(sens, 4))\n",
    "print(\"\\nConfusion Matrix\\n\", conf)"
   ]
  },
  {
   "cell_type": "markdown",
   "metadata": {},
   "source": [
    "###### Random Forest"
   ]
  },
  {
   "cell_type": "code",
   "execution_count": null,
   "metadata": {
    "collapsed": true
   },
   "outputs": [],
   "source": [
    "#first try, no optimized parameters. \n",
    "from sklearn.ensemble import RandomForestClassifier\n",
    "rf_clf = RandomForestClassifier( criterion = 'gini', \n",
    "                                n_estimators = 5, verbose = False)\n",
    "rf_clf.fit(X_train_scaled,y_train)\n",
    "\n",
    "preds = rf_clf.predict(X_test_scaled)\n",
    "    \n",
    "    \n",
    "print('Random Forest - roc_auc_score: ', roc_auc_score(y_test, preds))\n",
    "\n",
    "# Random Forest - roc_auc_score:  0.6324899400482888"
   ]
  },
  {
   "cell_type": "code",
   "execution_count": null,
   "metadata": {
    "collapsed": true
   },
   "outputs": [],
   "source": [
    "#run for 2 mins\n",
    "NUM_ESTIMATORS = 100\n",
    "NO_JOBS = 4\n",
    "RANDOM_STATE = 2000        \n",
    "        \n",
    "from sklearn.ensemble import RandomForestClassifier\n",
    "rf_clf = RandomForestClassifier(  random_state = RANDOM_STATE, criterion = 'gini', \n",
    "                                n_estimators = NUM_ESTIMATORS, verbose = False)\n",
    "rf_clf.fit(X_train_scaled,y_train)\n",
    "\n",
    "preds = rf_clf.predict(X_test_scaled)\n",
    "print('Random Forest - roc_auc_score: ', roc_auc_score(y_test, preds)) \n",
    "\n",
    "# Random Forest - roc_auc_score:  0.6708529023107371\n",
    "\n",
    "# Random Forest - roc_auc_score:  0.6745548227288356"
   ]
  },
  {
   "cell_type": "code",
   "execution_count": null,
   "metadata": {
    "collapsed": true
   },
   "outputs": [],
   "source": [
    "#Confusion Matrix\n",
    "cm = pd.crosstab(y_test, preds, rownames = ['Actual'], colnames = ['Predicted'])\n",
    "fig, (ax1) = plt.subplots(ncols = 1, figsize = (5, 5))\n",
    "sns.heatmap(cm, xticklabels = ['readmitted_0', 'readmitted_1'], yticklabels = ['readmitted_0', 'readmitted_1'], \n",
    "            annot = True, ax = ax1,\n",
    "            linewidths = .2, linecolor = 'Darkblue', cmap ='Blues')\n",
    "plt.title('confusion Matrix', fontsize = 14)\n",
    "plt.show()"
   ]
  },
  {
   "cell_type": "code",
   "execution_count": null,
   "metadata": {
    "collapsed": true
   },
   "outputs": [],
   "source": [
    "rf_clf.feature_importances_"
   ]
  },
  {
   "cell_type": "markdown",
   "metadata": {},
   "source": [
    "###### SVM"
   ]
  },
  {
   "cell_type": "code",
   "execution_count": null,
   "metadata": {
    "collapsed": true
   },
   "outputs": [],
   "source": [
    "# lets investigate SVMs on the data and play with the parameters and kernels\n",
    "#%%time\n",
    "#try run with all medications\n",
    "\n",
    "from sklearn.svm import SVC\n",
    "\n",
    "# train the model just as before\n",
    "svm_clf = SVC(C=0.5, kernel='rbf', degree=3, gamma='auto') # get object\n",
    "svm_clf.fit(X_train_scaled, y_train)  # train object\n",
    "\n",
    "y_hat = svm_clf.predict(X_test_scaled) # get test set precitions"
   ]
  },
  {
   "cell_type": "code",
   "execution_count": null,
   "metadata": {
    "collapsed": true
   },
   "outputs": [],
   "source": [
    "#get SVM ACC\n",
    "\n",
    "from sklearn import metrics as mt\n",
    "\n",
    "acc = mt.accuracy_score(y_test,y_hat)\n",
    "conf = mt.confusion_matrix(y_test,y_hat)\n",
    "\n",
    "print('SVM accuracy:', acc )\n",
    "print(conf)\n",
    "\n",
    "# SVM accuracy: 0.6815859290557139\n",
    "#acc is lower compare with svm model without med accuracy: 0.6822246241525007\n",
    "#run longer than svm model without med\n",
    "#but decide to keep these bc RF does not require the assumption of multicolinearity"
   ]
  },
  {
   "cell_type": "code",
   "execution_count": null,
   "metadata": {
    "collapsed": true
   },
   "outputs": [],
   "source": [
    "#get SVM AUC\n",
    "roc = roc_auc_score(y_test,y_hat)\n",
    "print('SVM AUC:', roc )\n",
    "\n",
    "#SVM AUC: 0.6658213006434637"
   ]
  },
  {
   "cell_type": "code",
   "execution_count": null,
   "metadata": {
    "collapsed": true
   },
   "outputs": [],
   "source": [
    "#SVM_SGD\n",
    "\n",
    "#SGD made SVM model train fast. this was done in seconds comparing with no SGD 14 mins run.\n",
    "from sklearn.model_selection import StratifiedShuffleSplit \n",
    "from sklearn import metrics as mt\n",
    "cv = StratifiedShuffleSplit( n_splits=1,test_size=0.5)\n",
    "# use some compact notation for creating a linear SVM classifier with stichastic descent\n",
    "from sklearn.linear_model import SGDClassifier\n",
    "\n",
    "regularize_const = 0.1\n",
    "iterations = 5\n",
    "svm_sgd = SGDClassifier(alpha=regularize_const,\n",
    "        fit_intercept=True, l1_ratio=0.0, learning_rate='optimal',\n",
    "        loss='hinge', n_iter=iterations, n_jobs=-1, penalty='l2')\n",
    "\n",
    "scl = StandardScaler()\n",
    "for train_idx, test_idx in cv.split(X,y):\n",
    "    svm_sgd.fit(scl.fit_transform(X[train_idx]),y[train_idx])\n",
    "    yhat = svm_sgd.predict(scl.transform(X[test_idx]))\n",
    "    \n",
    "    conf = mt.confusion_matrix(y[test_idx],yhat)\n",
    "    acc = mt.accuracy_score(y[test_idx],yhat)\n",
    "\n",
    "print('SVM_SGD:', acc)\n",
    "roc = roc_auc_score(y_test,y_hat)\n",
    "print('SVM AUC:', roc )\n",
    "\n",
    "# For Dummlist\n",
    "#dummiesList=[\"diag_1_val\",\"diag_2_val\",\"diag_3_val\",\"race\",\"A1Cresult\",\"admission_type\",\"admission_source\",\"discharge_disposition\",\n",
    "             #\"metformin\", \"repaglinide\", \"nateglinide\", \"chlorpropamide\",\n",
    "             #\"glimepiride\", \"acetohexamide\", \"glipizide\", \"glyburide\", \"tolbutamide\",\n",
    "             # \"pioglitazone\", \"rosiglitazone\", \"acarbose\", \"miglitol\", \"troglitazone\",\n",
    "             #\"tolazamide\", \"insulin\", \"glyburide-metformin\", \"glipizide-metformin\",\n",
    "             #\"metformin-rosiglitazone\", \"metformin-pioglitazone\"]\n",
    "#SVM_SGD: 0.6552679676905843 comparing without medications(only insulin included model) which had SVM_SGD: 0.655405538195468\n",
    "#only a slight increase so not worth including all medications for SVM\n",
    "\n",
    "\n"
   ]
  },
  {
   "cell_type": "markdown",
   "metadata": {},
   "source": [
    "#### Task Two Model Creation: Regression on Time in Hospital"
   ]
  },
  {
   "cell_type": "markdown",
   "metadata": {},
   "source": [
    "######  KNN"
   ]
  },
  {
   "cell_type": "code",
   "execution_count": null,
   "metadata": {
    "collapsed": true
   },
   "outputs": [],
   "source": [
    "%%time\n",
    "model = KNeighborsRegressor(n_neighbors = 5)\n",
    "model.fit(x_t, y_t)\n",
    "%%time\n",
    "\n",
    "#Find the optimal cutoff point\n",
    "y_pred = model.predict(x_tst)\n",
    "\n",
    "#Calculate the MSE\n",
    "error = mean_squared_error(y_tst, y_pred)\n",
    "\n",
    "#Printing the results\n",
    "print(\"MSE:\", error)\n",
    "\n",
    "%%time\n",
    "model = KNeighborsRegressor(n_neighbors = 9)\n",
    "model.fit(x_t, y_t)\n",
    "%%time\n",
    "#Find the optimal cutoff point\n",
    "y_pred = model.predict(x_tst)\n",
    "\n",
    "#Calculate the MSE\n",
    "error = mean_squared_error(y_tst, y_pred)\n",
    "\n",
    "#Printing the results\n",
    "print(\"MSE:\", error)"
   ]
  },
  {
   "cell_type": "markdown",
   "metadata": {},
   "source": [
    "######  Random Forest"
   ]
  },
  {
   "cell_type": "code",
   "execution_count": null,
   "metadata": {
    "collapsed": true
   },
   "outputs": [],
   "source": [
    "## Code to train a model and calc the R-sq \n",
    "## This iece of code trains a RandomForest Regressor \n",
    "if \"time_in_hospital\" in df.columns:\n",
    "    yData = df.time_in_hospital\n",
    "    del df[\"time_in_hospital\"]\n",
    "xData = df\n",
    "X_train, X_test, y_train, y_test = train_test_split(xData,yData)"
   ]
  },
  {
   "cell_type": "code",
   "execution_count": null,
   "metadata": {},
   "outputs": [],
   "source": [
    "    # we want to normalize the features based upon the mean and standard deviation of each column. \n",
    "# However, we do not want to accidentally use the testing data to find out the mean and std (this would be snooping)\n",
    "# to Make things easier, let's start by just using whatever was last stored in the variables:\n",
    "##    X_train , y_train , X_test, y_test (they were set in a for loop above)\n",
    "from sklearn.preprocessing import StandardScaler\n",
    "scl_obj = StandardScaler()\n",
    "\n",
    "scl_obj.fit(X_train)\n",
    "X_test_scaled = scl_obj.transform(X_test)\n",
    "\n",
    "X_train_scaled = scl_obj.transform(X_train) # apply to training\n",
    "X_test_scaled = scl_obj.transform(X_test) "
   ]
  },
  {
   "cell_type": "code",
   "execution_count": null,
   "metadata": {},
   "outputs": [],
   "source": [
    "#RF Regressor baseline model\n",
    "rf=RandomForestRegressor()\n",
    "rf.fit(X_train_scaled,y_train)"
   ]
  },
  {
   "cell_type": "code",
   "execution_count": null,
   "metadata": {},
   "outputs": [],
   "source": [
    "predicted_time_in_hospital = rf.predict(X_test)"
   ]
  },
  {
   "cell_type": "code",
   "execution_count": null,
   "metadata": {},
   "outputs": [],
   "source": [
    "predicted_time_in_hospital[:10]"
   ]
  },
  {
   "cell_type": "code",
   "execution_count": null,
   "metadata": {},
   "outputs": [],
   "source": [
    "#metrics.mean_squared_error\n",
    "mean_squared_error(y_test, predicted_time_in_hospital)"
   ]
  },
  {
   "cell_type": "code",
   "execution_count": null,
   "metadata": {},
   "outputs": [],
   "source": [
    "print(rf.feature_importances_)"
   ]
  },
  {
   "cell_type": "code",
   "execution_count": null,
   "metadata": {},
   "outputs": [],
   "source": [
    "feat_importances = pd.Series(rf.feature_importances_, index=df.columns)\n",
    "feat_importances.nlargest(15).plot(kind='barh')"
   ]
  },
  {
   "cell_type": "code",
   "execution_count": null,
   "metadata": {},
   "outputs": [],
   "source": [
    "from pprint import pprint\n",
    "\n",
    "# Look at parameters used by our current base model forest\n",
    "print('Parameters currently in use:\\n')\n",
    "pprint(rf.get_params())"
   ]
  },
  {
   "cell_type": "code",
   "execution_count": null,
   "metadata": {},
   "outputs": [],
   "source": [
    "#Random Hyperparameter Grid - RandomizedSearchCV\n",
    "\n",
    "#To use RandomizedSearchCV, we first need to create a parameter grid to sample from during fitting\n",
    "\n",
    "from sklearn.model_selection import RandomizedSearchCV\n",
    "\n",
    "# Number of trees in random forest\n",
    "n_estimators = [int(x) for x in np.linspace(start = 200, stop = 2000, num = 10)]\n",
    "# Number of features to consider at every split\n",
    "max_features = ['auto', 'sqrt']\n",
    "# Maximum number of levels in tree\n",
    "max_depth = [int(x) for x in np.linspace(10, 110, num = 11)]\n",
    "max_depth.append(None)\n",
    "# Minimum number of samples required to split a node\n",
    "min_samples_split = [2, 5, 10]\n",
    "# Minimum number of samples required at each leaf node\n",
    "min_samples_leaf = [1, 2, 4]\n",
    "# Method of selecting samples for training each tree\n",
    "bootstrap = [True, False]\n",
    "\n",
    "# Create the random grid\n",
    "random_grid = {'n_estimators': n_estimators,\n",
    "               'max_features': max_features,\n",
    "               'max_depth': max_depth,\n",
    "               'min_samples_split': min_samples_split,\n",
    "               'min_samples_leaf': min_samples_leaf,\n",
    "               'bootstrap': bootstrap}\n",
    "\n",
    "pprint(random_grid)"
   ]
  },
  {
   "cell_type": "code",
   "execution_count": null,
   "metadata": {},
   "outputs": [],
   "source": [
    "#guess run for 1hr; actual 40 min\n",
    "# Use the random grid to search for best hyperparameters\n",
    "\n",
    "rf = RandomForestRegressor()\n",
    "# Random search of parameters, using 3 fold cross validation, \n",
    "# search across 100? different combinations, and (use all available cores-n job =-1)\n",
    "rf_random = RandomizedSearchCV(estimator = rf, param_distributions = random_grid, n_iter = 1, cv = 3, verbose=False, random_state=2000, n_jobs = 4)\n",
    "\n",
    "# Fit the random search model\n",
    "rf_random.fit(X_train, y_train)"
   ]
  },
  {
   "cell_type": "code",
   "execution_count": null,
   "metadata": {},
   "outputs": [],
   "source": [
    "#view the best parameters from fitting the random search:\n",
    "rf_random.best_params_\n",
    "\n",
    "#{'n_estimators': 1800,\n",
    "# 'min_samples_split': 10,\n",
    "# 'min_samples_leaf': 1,\n",
    "# 'max_features': 'sqrt',\n",
    "# 'max_depth': 50,\n",
    "# 'bootstrap': False}"
   ]
  },
  {
   "cell_type": "code",
   "execution_count": null,
   "metadata": {},
   "outputs": [],
   "source": [
    "#\n",
    "rf_best = RandomForestRegressor(  random_state = 2000, min_samples_split=10,min_samples_leaf=1,\n",
    "                                max_features='sqrt', max_depth=50, bootstrap = False,\n",
    "                                n_estimators = 1800, verbose = False, n_jobs = 4)\n",
    "rf_best.fit(X_train_scaled,y_train)\n",
    "\n",
    "preds = rf_best.predict(X_test_scaled)"
   ]
  },
  {
   "cell_type": "code",
   "execution_count": null,
   "metadata": {},
   "outputs": [],
   "source": [
    "#metrics.mean_squared_error\n",
    "mean_squared_error(y_test, preds)"
   ]
  },
  {
   "cell_type": "code",
   "execution_count": null,
   "metadata": {},
   "outputs": [],
   "source": [
    "# mse decrease after parameter tuning\n",
    "random_mse = 5.835765214548177\n",
    "base_mse = 38.996052590205174\n",
    "\n",
    "print('Improvement of {:0.2f}%.'.format( 100 * (base_mse - random_mse) / base_mse))\n",
    "#Improvement of 85.03%. afater parameters tuning"
   ]
  },
  {
   "cell_type": "code",
   "execution_count": null,
   "metadata": {},
   "outputs": [],
   "source": [
    "feat_importances = pd.Series(rf_best.feature_importances_, index=df.columns)\n",
    "feat_importances.nlargest(15).plot(kind='barh')"
   ]
  },
  {
   "cell_type": "markdown",
   "metadata": {},
   "source": [
    "######  Linear Regression"
   ]
  },
  {
   "cell_type": "code",
   "execution_count": null,
   "metadata": {
    "collapsed": true
   },
   "outputs": [],
   "source": [
    "from sklearn.linear_model import LinearRegression\n",
    "linearRegressor = LinearRegression()\n",
    "\n",
    "linearRegressor.fit(X_train_scaled , y_train)\n",
    "\n",
    "from sklearn.metrics import mean_squared_error\n",
    "mean_squared_error(y_test, yPrediction)\n",
    "\n",
    "#MSE with draft features and no parameters tuning:\n",
    "#7.175072072572132"
   ]
  },
  {
   "cell_type": "markdown",
   "metadata": {},
   "source": [
    "## **ME Requirement 4**:\n",
    "\n",
    "• Analyze the results using your chosen method of evaluation. Use\n",
    "visualizations of the results to bolster the analysis. Explain any visuals and analyze why they are interesting to someone that might use this model."
   ]
  },
  {
   "cell_type": "markdown",
   "metadata": {},
   "source": [
    "**ME Answer 4**:"
   ]
  },
  {
   "cell_type": "markdown",
   "metadata": {},
   "source": [
    "#### Task One Evaluation: Binary Classification of Readmittance"
   ]
  },
  {
   "cell_type": "markdown",
   "metadata": {},
   "source": [
    "| Model Type | AUC | TP | TN | Accuracy |\n",
    "|------------|-----|----|----|----------|\n",
    "|KNN: Task One| 0.6958 | 0.6389 | 0.6342 | 0.6367 |\n",
    "|Random Forest: Task One| 0.6745| -- | -- | -- |\n",
    "|SVM: Task One| 0.6658 | -- | -- | -- |\n"
   ]
  },
  {
   "cell_type": "code",
   "execution_count": null,
   "metadata": {
    "collapsed": true
   },
   "outputs": [],
   "source": [
    "# help need visuals "
   ]
  },
  {
   "cell_type": "markdown",
   "metadata": {},
   "source": [
    "Out of all of the classifers KNN seems to provide the best AUC. "
   ]
  },
  {
   "cell_type": "markdown",
   "metadata": {},
   "source": [
    "#### Task Two Evaluation: Regression of Time in Hospital "
   ]
  },
  {
   "cell_type": "markdown",
   "metadata": {},
   "source": [
    "| Model Type | AUC | TP | TN | Accuracy |\n",
    "|------------|-----|----|----|----------|\n",
    "|Random Forest: Task Two| -- | -- | -- | -- |\n",
    "|: Task Two| -- | -- | -- | -- |\n",
    "|Logistic Regression: Task Two| -- | -- | -- | -- |"
   ]
  },
  {
   "cell_type": "code",
   "execution_count": null,
   "metadata": {
    "collapsed": true
   },
   "outputs": [],
   "source": [
    "# need help with visuals"
   ]
  },
  {
   "cell_type": "markdown",
   "metadata": {},
   "source": [
    "## **ME Requirement 5**:\n",
    "\n",
    "• Discuss the advantages of each model for each classification task, if any. If there are not advantages, explain why. Is any model better than another? Is the difference significant with 95% confidence? Use proper statistical comparison methods."
   ]
  },
  {
   "cell_type": "markdown",
   "metadata": {},
   "source": [
    "**ME Answer 5:** Discussed below are the advantages and disadvantages for each classifcation and/or regression technique used to solve to the two tasks. "
   ]
  },
  {
   "cell_type": "markdown",
   "metadata": {},
   "source": [
    "Advantages of KNN Classifer: "
   ]
  },
  {
   "cell_type": "markdown",
   "metadata": {},
   "source": [
    "* Robust to noisy training data [13]\n",
    "* Effective if the training data is large \n",
    "\n",
    "Some disadvantages is that it can be difficult to find the optimal value of K. The type of distance used in the KNN can be difficult to optimize. Lastly, computation costs of a KNN are high because each distanced needs to be calculated for all training samples. In our case, there were over 65k training samples. "
   ]
  },
  {
   "cell_type": "markdown",
   "metadata": {},
   "source": [
    "Advantages of Random Forest Classifer:"
   ]
  },
  {
   "cell_type": "markdown",
   "metadata": {},
   "source": [
    "* Provides an ensemble method \n",
    "* Reduction in overfitting by subsampling your data\n",
    "* Less variance, by creating multiple trees you reduce the variance of just one classifier. \n",
    "\n",
    "Some disadvantages are that random forrests are complex and therefore difficult to analyze. In addition, the computation time is expensive. "
   ]
  },
  {
   "cell_type": "markdown",
   "metadata": {},
   "source": [
    "Advantages of SVM Classifer: "
   ]
  },
  {
   "cell_type": "markdown",
   "metadata": {},
   "source": [
    "* SVMs can unlock complex relationships not always indentified with LRs \n",
    "* Has more parameters that allow for specific tuning \n",
    "* Has non-parametric option (RBF, aka the Kernel Trick) for increase in accuracy \n",
    "* See a large performance gain for training time when leveraging SGD \n",
    "* Can be used for many data types \n",
    "* Not as sensitive to outliers compared to LR\n",
    "* SVM has less predicition time because only points near the boundary make a difference"
   ]
  },
  {
   "cell_type": "markdown",
   "metadata": {},
   "source": [
    "Advantages of Linear Regression Regessor: "
   ]
  },
  {
   "cell_type": "markdown",
   "metadata": {},
   "source": [
    "* Fast to model\n",
    "* Useful when relationship isn't complex, and not a lot of data. \n",
    "* Simple to understand \n",
    "\n",
    "Downfalls are that the relationships of the target and input variables must be linear in order to produce good results. "
   ]
  },
  {
   "cell_type": "markdown",
   "metadata": {},
   "source": [
    "###### Statistical Evaluation"
   ]
  },
  {
   "cell_type": "markdown",
   "metadata": {},
   "source": [
    "Using the confidence interval method from an asyncronous video in Unit 7, section 5 of SMU's Data Mining course, Eric Larson covers a mathamtical way to perform a statistical comparison of multiple models. See the implementation of this method below. We will make an assumption that these models follow a binomial distribution, but will also assume that our binomial distribution is similar enough to a Gaussian distrobution so that we can leverage the Gaussian distrobution theories associated to confidence interval theory."
   ]
  },
  {
   "cell_type": "code",
   "execution_count": 9,
   "metadata": {},
   "outputs": [
    {
     "ename": "SyntaxError",
     "evalue": "invalid syntax (<ipython-input-9-acc2fb4048b2>, line 1)",
     "output_type": "error",
     "traceback": [
      "\u001b[0;36m  File \u001b[0;32m\"<ipython-input-9-acc2fb4048b2>\"\u001b[0;36m, line \u001b[0;32m1\u001b[0m\n\u001b[0;31m    M1 Acc = x1\u001b[0m\n\u001b[0m         ^\u001b[0m\n\u001b[0;31mSyntaxError\u001b[0m\u001b[0;31m:\u001b[0m invalid syntax\n"
     ]
    }
   ],
   "source": [
    "# Should N be the test set N? \n",
    "M1 - KNN Acc = x1 N= n1\n",
    "M2 - RF Acc = x2 N= n2\n",
    "M3 - SVM Acc = x3 N= n3"
   ]
  },
  {
   "cell_type": "code",
   "execution_count": null,
   "metadata": {
    "collapsed": true
   },
   "outputs": [],
   "source": [
    "e1 = x1/n1\n",
    "e2 = x2/n2\n",
    "e3 = x3/n3\n",
    "\n",
    "var(1)  = e1(1-e1) / n1\n",
    "\n",
    "var(2) = e2 (1-e2) / n2\n",
    "\n",
    "var(3) = e3 (1-e3) / n3"
   ]
  },
  {
   "cell_type": "markdown",
   "metadata": {},
   "source": [
    "Does this Gaussian distrobution include 0? \n",
    "$$N_{d}= (e1-e2, var1 + var 2)$$"
   ]
  },
  {
   "cell_type": "code",
   "execution_count": null,
   "metadata": {
    "collapsed": true
   },
   "outputs": [],
   "source": [
    "CI = [e1-e2]  +- (1.96) * sqrt(var1^2 + vars2^2)"
   ]
  },
  {
   "cell_type": "markdown",
   "metadata": {},
   "source": [
    "## **ME Requirement 6**:\n",
    "\n",
    "• Which attributes from your analysis are most important? Use proper methods discussed in class to evaluate the importance of different attributes. Discuss the results and hypothesize about why certain attributes are more important than others for a given classification task."
   ]
  },
  {
   "cell_type": "markdown",
   "metadata": {},
   "source": [
    "**ME Answer 6**: The attributes used for our analysis differed by task and technique. Discussed below are important features found in each analysis. "
   ]
  },
  {
   "cell_type": "markdown",
   "metadata": {},
   "source": [
    "#### Task One Feature Importance: Binary Classification of Readmittance"
   ]
  },
  {
   "cell_type": "markdown",
   "metadata": {},
   "source": [
    "###### KNN"
   ]
  },
  {
   "cell_type": "code",
   "execution_count": null,
   "metadata": {
    "collapsed": true
   },
   "outputs": [],
   "source": [
    "#need graphs "
   ]
  },
  {
   "cell_type": "markdown",
   "metadata": {},
   "source": [
    "###### Random Forest"
   ]
  },
  {
   "cell_type": "code",
   "execution_count": null,
   "metadata": {
    "collapsed": true
   },
   "outputs": [],
   "source": [
    "#need graphs"
   ]
  },
  {
   "cell_type": "markdown",
   "metadata": {},
   "source": [
    "###### SVM"
   ]
  },
  {
   "cell_type": "code",
   "execution_count": null,
   "metadata": {
    "collapsed": true
   },
   "outputs": [],
   "source": [
    "#need graphs"
   ]
  },
  {
   "cell_type": "markdown",
   "metadata": {},
   "source": [
    "#### Task Two Feature Importance: Regression of Time in Hospital"
   ]
  },
  {
   "cell_type": "markdown",
   "metadata": {},
   "source": [
    "###### KNN"
   ]
  },
  {
   "cell_type": "code",
   "execution_count": null,
   "metadata": {
    "collapsed": true
   },
   "outputs": [],
   "source": [
    "#need graphs"
   ]
  },
  {
   "cell_type": "markdown",
   "metadata": {},
   "source": [
    "###### Random Forest"
   ]
  },
  {
   "cell_type": "code",
   "execution_count": null,
   "metadata": {
    "collapsed": true
   },
   "outputs": [],
   "source": [
    "#need graphs"
   ]
  },
  {
   "cell_type": "markdown",
   "metadata": {},
   "source": [
    "###### Linear Regression"
   ]
  },
  {
   "cell_type": "code",
   "execution_count": null,
   "metadata": {
    "collapsed": true
   },
   "outputs": [],
   "source": [
    "#need graphs"
   ]
  },
  {
   "cell_type": "markdown",
   "metadata": {},
   "source": [
    "<a id=\"Deployment\"></a>\n",
    "## Deployment"
   ]
  },
  {
   "cell_type": "markdown",
   "metadata": {},
   "source": [
    "**Requirement**:\n",
    "    \n",
    "• How useful is your model for interested parties (i.e., the companies or\n",
    "organizations that might want to use it for prediction)? How would you measure the model's value if it was used by these parties? How would your deploy your model for interested parties? What other data should be collected? How often would the model need to be updated, etc.? "
   ]
  },
  {
   "cell_type": "markdown",
   "metadata": {},
   "source": [
    "**Answer**: \n",
    "\n",
    "Task One: Binary Classification of Readmittance\n",
    "* Purpose: The purpose of our model for task one is predict the likelihood a patient would be readmitted into the hospital. \n",
    "\n",
    "* Interested Party: We believe that all hospitals would be interested in a generalizable algorithm that could predict with high accuracy (or high AUC) the likelihood a patient would be readmitted into their facilitiaies. There are a couple of reasons for this: 1. outcomes from this model would allow for the abilitiy to help in forecasting occupancy and vacancy for their ER. This could be used when forecasting staff, budgeting for materials/applying for grants, and measuring employee efficiency. 2. Outcomes from this model could flag patients in their digital files that are higher risk and need extra care to avoid readmittance. \n",
    "\n",
    "* Value: For option 1, the model value could be measured by the increase in efficiency of ER operations (measuring the number of vacant beds, occupied beds, overfill, over time etc). Increase in efficency lends to the biproducts of better treatment of patients (and likely less readmittance) and better reviews of the hospital -- both of which can be measured. Another value of option 1 could be measuring the in the increase in grant money assigned to the hospital for upgrades, materials, etc. For option 2, in order to measure the model's value to the hospital, the readmittance rate could be measured over time, and if the readmittance rate declined we could provide a value to that decline by use of materials, time, etc.\n",
    "\n",
    "* Deploy: In order to deploy this model within the hospital network, we would need to deploy this on a system with access to patient data. In addition, model outputs would need to be consumed and posted to patient charts. Our outcomes could show as flags or popups on virtual patient systems. \n",
    "\n",
    "* Other Data: Other data that would be collected is prior patient history, patient temperature, good or bad flags as outcomes of labs. By collecting this information, the model could be retrained using the additional patient history and patient information which would lead to better results. Another interesting way to look at this data would be if we had a time component. The complexity would increase 10-fold, but the information gleaned could be useful. \n",
    "\n",
    "* Update Frequency: The model should be retrain when model evaluation metrics fall below 50% or guessing average. Depending on when this information was collected, a retrain should be conducted every 6 months with updated information. By retraining every 6 months, we would be able to keep up new medical advancements. For example, new labs could be leveraged that provide better accuracy, new medications with better responses could come to market, both of which can cause the population we are modeling to change, thus, needing a retrain. \n",
    "\n",
    "\n",
    "Task Two: Regression for Time in Hospital\n",
    "* Purpose: The purpose of our model for task two is to predict the amount of time a patient is going to spent in the hospital. \n",
    "\n",
    "* Interested Party: Similar to task one, the information gleaned from this prediction could aid in forecasting occupancy and vacancy. The same answers apply. Another, different use of this model could be for insurance companies. If an insurance company could predict the amount of time a patient is going to be in the hospital, they could estimate an approxiate value of the payout for the insurance claim.\n",
    "\n",
    "* Value: The value of this model output could be measured by first testing the % of difference from the estimated claim and the actual claim. By doing this, the insruance company can better forecast the amount each insuree will  cost, and the total cost for all insurees. This information may also be used in underwriting for life insurance, etc. \n",
    "\n",
    "* Deploy: This model would be more complicated to deploy because it would need information from the hospitals (and patients) prior to the insruance claim. Because of this, there could be two options: hospital to deploy and own the results of the model and sell to insurance companies. The other option is that the insurance company is able to buy access to the insuree's data (with insuree consent). If the hospital owns and deploys their own model and sells the outputs to the insurance company, the hospital would need to deploy the model on servers that have access to patient data. If the health insurnace company owns the model, they will need to find a way to consume the data from the hospital and store that information on their servers for processing. \n",
    "\n",
    "* Other Data: Other data to help add the regression model is similar to the data elements described above. Using prior insurnace claims and information could be helpful as well for this model. \n",
    "\n",
    "* Update Frequency: Update frequency is similar to the one explained above. Model evaluation metrics should be measured to identify when a retrain is necessary. "
   ]
  },
  {
   "cell_type": "markdown",
   "metadata": {},
   "source": [
    "<a id=\"Exceptional Work\"></a>\n",
    "## Exceptional Work"
   ]
  },
  {
   "cell_type": "markdown",
   "metadata": {},
   "source": [
    "**Requirements**: \n",
    "\n",
    "• You have free reign to provide additional modeling. One idea: grid search parameters in a parallelized fashion and visualize the performances across attributes. Which parameters are most significant for making a good model for each classification algorithm?"
   ]
  },
  {
   "cell_type": "markdown",
   "metadata": {},
   "source": [
    "**Answer**: For our exceptional work feature, we chose to build an XGBoost model for both task one and task two. Extensive research was done to properly train and tune the models. We found significant performance increases by leveraging this technique. See the outcomes below. "
   ]
  },
  {
   "cell_type": "markdown",
   "metadata": {},
   "source": [
    "#### XG Boost Research"
   ]
  },
  {
   "cell_type": "markdown",
   "metadata": {},
   "source": [
    "#### What is boosting?\n",
    "Boosting is an ML technique that iteratively combines a set of simple and not very accurate classifiers (referred to as \"weak\" classifiers) into a classifier with high accuracy (a \"strong\" classifier) by upweighting the examples that the model is currently misclassifying [9].\n",
    "\n",
    "As opposed to the bagging where trees are built parallelly, in boosting, the trees are built sequentially such that each subsequent tree aims to reduce the errors of the previous tree. Each tree learns from its predecessors and updates the residual errors. Hence, the tree that grows next in the sequence will learn from an updated version of the residuals [2].  \n",
    "1.\tFit a model to the data, F1(X)=Y\n",
    "2.\tFit a model to the residuals, h1(X) = Y - F1(X)\n",
    "3.\tCreate a new model, F2(X) = F1(X) + h1(X) [Note: F2 is boosted version of F1]\n",
    "and goes on… Fm(X) = F(m-1)(X) + h(m-1)(X)\n",
    "\n",
    "###### What is gradient descent?\n",
    "Gradient descent is a technique to minimize loss by computing the gradients of loss with respect to the model's parameters, conditioned on training data. Informally, gradient descent iteratively adjusts parameters, gradually finding the best combination of weights and bias to minimize loss [9].\n",
    "\n",
    "###### What is gradient boosting?\n",
    "Gradient boosting employs the gradient descent algorithm to minimize errors in sequential models. The major inefficiency in Gradient Boosting is that it creates one decision tree at a time. To overcome this, Tianqi Chen and Carlos Guestrin built A Scalable Tree Boosting System — XGBoost can be thought of as Gradient Boosting on steroids. It features parallelized tree building, cache-aware access, sparsity awareness, regularization, and weighted quantile sketch as some of its systems optimization and algorithmic enhancements [10].\n",
    "\n",
    "###### What is the difference between gradient boosting and adaboost?\n",
    "They differ on how they create the weak learners during the iterative process. At each iteration, adaptive boosting changes the sample distribution by modifying the weights attached to each of the instances. \n",
    "Gradient boosting doesn’t modify the sample distribution. Instead of training on a newly sample distribution, the weak learner trains on the remaining errors (so-called pseudo-residuals) of the strong learner [11].\n",
    "\n",
    "###### Learning rate\n",
    "Learning rate is a scalar used to train a model via gradient descent. During each iteration, the gradient descent algorithm multiplies the learning rate by the gradient. The resulting product is called the gradient step. Learning rate is a key hyperparameter [8].\n",
    "\n",
    "\n",
    "###### What is XGBoost?\n",
    "XGBoost is short for eXtreme gradient boosting. It is a library designed and optimized for boosted tree algorithms. XGBoost is a state-of-the-art a scalable end-to-end tree boosting system, and also have a novel sparsity-aware algorithm for sparse data [1]. It is a proven model in data science competition and hackathons for its accuracy, speed and scale [2].  For classification problems, XGBoost yield the similar or better accuracy with sk-learn but 10 x faster runtime [1].\n",
    "\n",
    "In XGBoost, we fit a model on the gradient of loss generated from the previous step. In XGBoost, we just modified our gradient boosting algorithm so that it works with any differentiable loss function [2].  \n",
    "\n",
    "###### How should I interpret XGBoost trees?\n",
    "You can interpret xgboost model by interpreting individual trees [7].\n",
    "\n",
    "\n",
    "###### Why does XGBoost perform better than SVM? \n",
    "In our project, we find SVM runs significantly longer than RF and XGBoost models, about 20 mins vs 2 mins vs 1 min. Also, the accuracy we got for these three models are:  XGBoost has around 0.75 auc while RF and SVM have similar auc of around 0.67 (see the comparison plot). RF actually has slightly higher auc than SVM.\n",
    "XGBoost is an ensamble method it uses many trees to take a decision so it gains power by repeating itself. SVM is a linear separator, when data is not linearly separable SVM needs a Kernel to project the data into a space where it can separate it, there lies its greatest strength and weakness, by being able to project data into a high dimensional space SVM can find a linear separation for almost any data but at the same time it needs to use a Kernel and we can argue that there's not a perfect kernel for every dataset [4].\n",
    "\n",
    "###### What makes xgboost run much faster than many other implementations of gradient boosting?\n",
    "XGBoost is designed for scale in as its initial goal. Memory optimization, Cache-line optimization, The improvement in terms of model itself, distributed version; push the limit of the tool to fully utilize the resources, so you can run more examples on single node; There is an external memory version, that allows you to store data in disk, without loading all of them in memory [5]."
   ]
  },
  {
   "cell_type": "markdown",
   "metadata": {},
   "source": [
    "#### XG Boost Classification"
   ]
  },
  {
   "cell_type": "code",
   "execution_count": 7,
   "metadata": {},
   "outputs": [
    {
     "ename": "NameError",
     "evalue": "name 'df_imputed' is not defined",
     "output_type": "error",
     "traceback": [
      "\u001b[0;31m---------------------------------------------------------------------------\u001b[0m",
      "\u001b[0;31mNameError\u001b[0m                                 Traceback (most recent call last)",
      "\u001b[0;32m<ipython-input-7-438d0a64b475>\u001b[0m in \u001b[0;36m<module>\u001b[0;34m\u001b[0m\n\u001b[1;32m      2\u001b[0m \u001b[0;34m\u001b[0m\u001b[0m\n\u001b[1;32m      3\u001b[0m \u001b[0;31m# we want to predict the X and y data as follows:\u001b[0m\u001b[0;34m\u001b[0m\u001b[0;34m\u001b[0m\u001b[0;34m\u001b[0m\u001b[0m\n\u001b[0;32m----> 4\u001b[0;31m \u001b[0;32mif\u001b[0m \u001b[0;34m'readmitted_tf'\u001b[0m \u001b[0;32min\u001b[0m \u001b[0mdf_imputed\u001b[0m\u001b[0;34m:\u001b[0m\u001b[0;34m\u001b[0m\u001b[0;34m\u001b[0m\u001b[0m\n\u001b[0m\u001b[1;32m      5\u001b[0m     \u001b[0my\u001b[0m \u001b[0;34m=\u001b[0m \u001b[0mdf_imputed\u001b[0m\u001b[0;34m[\u001b[0m\u001b[0;34m'readmitted_tf'\u001b[0m\u001b[0;34m]\u001b[0m\u001b[0;34m.\u001b[0m\u001b[0mvalues\u001b[0m \u001b[0;31m# get the labels we want\u001b[0m\u001b[0;34m\u001b[0m\u001b[0;34m\u001b[0m\u001b[0m\n\u001b[1;32m      6\u001b[0m     \u001b[0;32mdel\u001b[0m \u001b[0mdf_imputed\u001b[0m\u001b[0;34m[\u001b[0m\u001b[0;34m'readmitted_tf'\u001b[0m\u001b[0;34m]\u001b[0m \u001b[0;31m# get rid of the class label\u001b[0m\u001b[0;34m\u001b[0m\u001b[0;34m\u001b[0m\u001b[0m\n",
      "\u001b[0;31mNameError\u001b[0m: name 'df_imputed' is not defined"
     ]
    }
   ],
   "source": [
    "from sklearn.model_selection import ShuffleSplit\n",
    "\n",
    "# we want to predict the X and y data as follows:\n",
    "if 'readmitted_tf' in df_imputed:\n",
    "    y = df_imputed['readmitted_tf'].values # get the labels we want\n",
    "    del df_imputed['readmitted_tf'] # get rid of the class label\n",
    "    X = df_imputed.values # use everything else to predict!\n",
    "\n",
    "    ## X and y are now numpy matrices, by calling 'values' on the pandas data frames we\n",
    "    #    have converted them into simple matrices to use with scikit learn\n",
    "    \n",
    "    \n",
    "# to use the cross validation object in scikit learn, we need to grab an instance\n",
    "#    of the object and set it up. This object will be able to split our data into \n",
    "#    training and testing splits\n",
    "num_cv_iterations = 3\n",
    "num_instances = len(y)\n",
    "cv_object = ShuffleSplit(n_splits=num_cv_iterations,\n",
    "                         test_size  = 0.2)\n",
    "                         \n",
    "print(cv_object)"
   ]
  },
  {
   "cell_type": "code",
   "execution_count": null,
   "metadata": {
    "collapsed": true
   },
   "outputs": [],
   "source": [
    "## Training and Testing Split\n",
    "# okay, so run through the cross validation loop and set the training and testing variable for one single iteration\n",
    "for train_indices, test_indices in cv_object.split(X,y): \n",
    "    # I will create new variables here so that it is more obvious what \n",
    "    # the code is doing (you can compact this syntax and avoid duplicating memory,\n",
    "    # but it makes this code less readable)\n",
    "    X_train = X[train_indices]\n",
    "    y_train = y[train_indices]\n",
    "    \n",
    "    X_test = X[test_indices]\n",
    "    y_test = y[test_indices]\n",
    "    \n",
    "        # we want to normalize the features based upon the mean and standard deviation of each column. \n",
    "# However, we do not want to accidentally use the testing data to find out the mean and std (this would be snooping)\n",
    "# to Make things easier, let's start by just using whatever was last stored in the variables:\n",
    "##    X_train , y_train , X_test, y_test (they were set in a for loop above)\n",
    "from sklearn.preprocessing import StandardScaler\n",
    "scl_obj = StandardScaler()\n",
    "\n",
    "scl_obj.fit(X_train)\n",
    "X_test_scaled = scl_obj.transform(X_test)\n",
    "\n",
    "X_train_scaled = scl_obj.transform(X_train) # apply to training\n",
    "X_test_scaled = scl_obj.transform(X_test) "
   ]
  },
  {
   "cell_type": "code",
   "execution_count": null,
   "metadata": {
    "collapsed": true
   },
   "outputs": [],
   "source": [
    "import xgboost as xgb\n",
    "\n",
    "\n",
    "#XGBOOST parameters 1\n",
    "MAX_ROUNDS = 1000\n",
    "EARLY_STOP = 50\n",
    "OPT_ROUNDS = 1000\n",
    "VERBOSE_EVAL = 50\n",
    "RANDOM_STATE = 2000\n",
    "\n",
    "#XGBOOST transform data into DMatrix format for modeling\n",
    "dtrain = xgb.DMatrix(X_train_scaled, y_train)\n",
    "dvalid = xgb.DMatrix(X_test_scaled, y_test)\n",
    "type(dtrain)\n",
    "\n",
    "\n",
    "# XGBoost Parameters 2\n",
    "params = {}\n",
    "params['objective'] = 'binary:logistic'\n",
    "#params['objective'] = 'multi:softmax'\n",
    "#params['objective'] = 'reg:linear'\n",
    "params['eta'] = 0.039\n",
    "params['silent'] = True\n",
    "params['max_depth'] = 2\n",
    "params['subsample'] = 0.8\n",
    "params['colsample_bytree'] = 0.9\n",
    "params['eval_metric'] = 'auc'\n",
    "params['random_state'] = RANDOM_STATE\n",
    "\n",
    "watchlist = [(dtrain, 'train'), (dvalid, 'valid')]\n",
    "\n"
   ]
  },
  {
   "cell_type": "code",
   "execution_count": null,
   "metadata": {
    "collapsed": true
   },
   "outputs": [],
   "source": [
    "%%time\n",
    "xgb_clf = xgb.train(params,\n",
    "                   dtrain,\n",
    "                   MAX_ROUNDS,\n",
    "                   watchlist,\n",
    "                   early_stopping_rounds = EARLY_STOP,\n",
    "                   maximize = True,\n",
    "                   verbose_eval = VERBOSE_EVAL)\n",
    "\n",
    "\n",
    "#Wall time: 3min 48s\n",
    "#[999]\ttrain-auc:0.756217\tvalid-auc:0.748447"
   ]
  },
  {
   "cell_type": "code",
   "execution_count": null,
   "metadata": {
    "collapsed": true
   },
   "outputs": [],
   "source": [
    "preds = xgb_clf.predict(dvalid)\n",
    "print('XGBoost - roc_auc_score: ', roc_auc_score(y_test, preds))\n",
    "\n",
    "#XGBoost - roc_auc_score:  0.7484469077761282"
   ]
  },
  {
   "cell_type": "markdown",
   "metadata": {},
   "source": [
    "#### Hyperparameter Tuning - XGBoost\n",
    "\n",
    "https://www.kaggle.com/tilii7/hyperparameter-grid-search-with-xgboost\n",
    "\n",
    "We used both randomized search and grid search for RF models for comparsion purpose. To save time, we only run randomized search for XGBoost.\n",
    "\n",
    "In addition, due to the limited computation power on my personal computer, I only run on 3-fold validation and limited parameter sampling for a reasonable runtime like 0.5-1 hr. Otherwise, it will take very long time like 5-10 hrs to run. Therefore, this search does not produce a great score (actually worse than baseline model).\n",
    "\n",
    "Subsampling of 20% of our data also serves the purpose of save runtime. Plus, we found the results is similar with full dataset run."
   ]
  },
  {
   "cell_type": "code",
   "execution_count": null,
   "metadata": {
    "collapsed": true
   },
   "outputs": [],
   "source": [
    "#for the sake of time, subsample 20% of our data \n",
    "\n",
    "subsam_df_imputed=df_imputed.sample(frac=0.2)\n",
    "subsam_df_imputed.info()"
   ]
  },
  {
   "cell_type": "code",
   "execution_count": null,
   "metadata": {
    "collapsed": true
   },
   "outputs": [],
   "source": [
    "from sklearn.model_selection import ShuffleSplit\n",
    "\n",
    "# we want to predict the X and y data as follows:\n",
    "if 'readmitted_tf' in df_imputed:\n",
    "    y = df_imputed['readmitted_tf'].values # get the labels we want\n",
    "    del df_imputed['readmitted_tf'] # get rid of the class label\n",
    "    X = df_imputed.values # use everything else to predict!\n",
    "\n",
    "    ## X and y are now numpy matrices, by calling 'values' on the pandas data frames we\n",
    "    #    have converted them into simple matrices to use with scikit learn\n",
    "    \n",
    "    \n",
    "# to use the cross validation object in scikit learn, we need to grab an instance\n",
    "#    of the object and set it up. This object will be able to split our data into \n",
    "#    training and testing splits\n",
    "num_cv_iterations = 3\n",
    "num_instances = len(y)\n",
    "cv_object = ShuffleSplit(n_splits=num_cv_iterations,\n",
    "                         test_size  = 0.2)\n",
    "                         \n",
    "print(cv_object)"
   ]
  },
  {
   "cell_type": "code",
   "execution_count": null,
   "metadata": {
    "collapsed": true
   },
   "outputs": [],
   "source": [
    "## Training and Testing Split\n",
    "# okay, so run through the cross validation loop and set the training and testing variable for one single iteration\n",
    "for train_indices, test_indices in cv_object.split(X,y): \n",
    "    # I will create new variables here so that it is more obvious what \n",
    "    # the code is doing (you can compact this syntax and avoid duplicating memory,\n",
    "    # but it makes this code less readable)\n",
    "    X_train = X[train_indices]\n",
    "    y_train = y[train_indices]\n",
    "    \n",
    "    X_test = X[test_indices]\n",
    "    y_test = y[test_indices]\n",
    "\n",
    "    # we want to normalize the features based upon the mean and standard deviation of each column. \n",
    "# However, we do not want to accidentally use the testing data to find out the mean and std (this would be snooping)\n",
    "# to Make things easier, let's start by just using whatever was last stored in the variables:\n",
    "##    X_train , y_train , X_test, y_test (they were set in a for loop above)\n",
    "from sklearn.preprocessing import StandardScaler\n",
    "scl_obj = StandardScaler()\n",
    "\n",
    "scl_obj.fit(X_train)\n",
    "X_test_scaled = scl_obj.transform(X_test)\n",
    "\n",
    "X_train_scaled = scl_obj.transform(X_train) # apply to training\n",
    "X_test_scaled = scl_obj.transform(X_test) "
   ]
  },
  {
   "cell_type": "markdown",
   "metadata": {},
   "source": [
    "#### Randomized Search CV"
   ]
  },
  {
   "cell_type": "code",
   "execution_count": null,
   "metadata": {
    "collapsed": true
   },
   "outputs": [],
   "source": [
    "def timer(start_time=None):\n",
    "    if not start_time:\n",
    "        start_time = datetime.now()\n",
    "        return start_time\n",
    "    elif start_time:\n",
    "        thour, temp_sec = divmod((datetime.now() - start_time).total_seconds(), 3600)\n",
    "        tmin, tsec = divmod(temp_sec, 60)\n",
    "        print('\\n Time taken: %i hours %i minutes and %s seconds.' % (thour, tmin, round(tsec, 2)))"
   ]
  },
  {
   "cell_type": "code",
   "execution_count": null,
   "metadata": {
    "collapsed": true
   },
   "outputs": [],
   "source": [
    "# A parameter grid for XGBoost\n",
    "#at least include the parameters already included in the baseline model for chance to find one better than base model.\n",
    "params = {\n",
    "        'min_child_weight': [1, 5],\n",
    "        'gamma': [0.5, 1, 2],\n",
    "        'subsample': [0.6, 0.8],\n",
    "        'colsample_bytree': [0.6, 0.9],\n",
    "        'max_depth': [2, 5]\n",
    "        }\n",
    "### watch out for total number of created models \n",
    "###difference combination of the features. \n",
    "###Altogether, there are 2*2*2*2*2=32 settings."
   ]
  },
  {
   "cell_type": "code",
   "execution_count": null,
   "metadata": {
    "collapsed": true
   },
   "outputs": [],
   "source": [
    "from xgboost import XGBClassifier\n",
    "\n",
    "xgb = XGBClassifier(learning_rate=0.02, n_estimators=600, objective='binary:logistic',\n",
    "                    silent=True, nthread=1)"
   ]
  },
  {
   "cell_type": "code",
   "execution_count": null,
   "metadata": {
    "collapsed": true
   },
   "outputs": [],
   "source": [
    "# estimate runtime 40 mins\n",
    "# actual runtime 30 mins\n",
    "## grid search in a parallized fashion\n",
    "\n",
    "from sklearn.model_selection import StratifiedKFold\n",
    "from sklearn.model_selection import RandomizedSearchCV\n",
    "from datetime import datetime\n",
    "\n",
    "folds = 3\n",
    "param_comb = 3\n",
    "\n",
    "skf = StratifiedKFold(n_splits=folds, shuffle = True, random_state = 1001)\n",
    "\n",
    "random_search = RandomizedSearchCV(xgb, param_distributions=params, n_iter=param_comb, scoring='roc_auc', n_jobs=4, cv=skf.split(X_train_scaled,y_train), verbose=50, random_state=2000)\n",
    "\n",
    "# Here we go\n",
    "start_time = timer(None) # timing starts from this point for \"start_time\" variable\n",
    "random_search.fit(X_train_scaled, y_train)\n",
    "timer(start_time) # timing ends here for \"start_time\" variable"
   ]
  },
  {
   "cell_type": "code",
   "execution_count": null,
   "metadata": {
    "collapsed": true
   },
   "outputs": [],
   "source": [
    "print('\\n Best estimator:')\n",
    "print(random_search.best_estimator_)\n",
    "print('\\n Best normalized gini score for %d-fold search with %d parameter combinations:' % (folds, param_comb))\n",
    "print(random_search.best_score_ * 2 - 1)\n",
    "print('\\n Best hyperparameters:')\n",
    "print(random_search.best_params_)"
   ]
  },
  {
   "cell_type": "markdown",
   "metadata": {},
   "source": [
    "### Results - Best hyperparameters\n",
    "Best estimator:\n",
    "XGBClassifier(base_score=0.5, booster='gbtree', colsample_bylevel=1,\n",
    "       colsample_bytree=0.6, gamma=2, learning_rate=0.02, max_delta_step=0,\n",
    "       max_depth=5, min_child_weight=1, missing=None, n_estimators=600,\n",
    "       n_jobs=1, nthread=1, objective='binary:logistic', random_state=0,\n",
    "       reg_alpha=0, reg_lambda=1, scale_pos_weight=1, seed=None,\n",
    "       silent=True, subsample=0.6)\n",
    "\n",
    " Best normalized gini score for 3-fold search with 3 parameter combinations:\n",
    "0.5110818135734807\n",
    "\n",
    " Best hyperparameters:\n",
    "{'subsample': 0.6, 'min_child_weight': 1, 'max_depth': 5, 'gamma': 2, 'colsample_bytree': 0.6}"
   ]
  },
  {
   "cell_type": "code",
   "execution_count": null,
   "metadata": {
    "collapsed": true
   },
   "outputs": [],
   "source": [
    "#run for \n",
    "#evaulate the performance of the model best parameters\n",
    "# timer the training time\n",
    "start_time = timer(None)\n",
    "\n",
    "xgb_best = XGBClassifier(base_score=0.5, booster='gbtree', colsample_bylevel=1,\n",
    "       colsample_bytree=0.6, gamma=2, learning_rate=0.02, max_delta_step=0,\n",
    "       max_depth=5, min_child_weight=1, missing=None, n_estimators=600,\n",
    "       n_jobs=1, nthread=1, objective='binary:logistic', random_state=0,\n",
    "       reg_alpha=0, reg_lambda=1, scale_pos_weight=1, seed=None,\n",
    "       silent=True, subsample=0.6)\n",
    "\n",
    "xgb_best.fit(X_train_scaled, y_train)\n",
    "\n",
    "timer(start_time)"
   ]
  },
  {
   "cell_type": "code",
   "execution_count": null,
   "metadata": {
    "collapsed": true
   },
   "outputs": [],
   "source": [
    "# timer the testing time\n",
    "start_time = timer(None)\n",
    "preds = xgb_best.predict(X_test_scaled)\n",
    "timer(start_time)"
   ]
  },
  {
   "cell_type": "code",
   "execution_count": null,
   "metadata": {
    "collapsed": true
   },
   "outputs": [],
   "source": [
    "print('XGB - roc_auc_score: ', roc_auc_score(y_test, preds)) "
   ]
  },
  {
   "cell_type": "code",
   "execution_count": null,
   "metadata": {
    "collapsed": true
   },
   "outputs": [],
   "source": [
    "# The reason I want to keep both baseline model and refined model is to show the effect of Hyperparameter Tuning. \n",
    "# To see increase the AUC by what percentage.\n",
    "\n",
    "XGBrandom_accuracy = 0.677932172132421\n",
    "XGBbase_accuracy =0.748447\n",
    "\n",
    "print('Improvement of {:0.2f}%.'.format( 100 * (XGBrandom_accuracy - XGBbase_accuracy) / XGBbase_accuracy))"
   ]
  },
  {
   "cell_type": "markdown",
   "metadata": {},
   "source": [
    "Not surprisingly, this search does not produce a great score because of 3-fold validation and limited parameter sampling. The randomized grid search is only for demo purpose. We should provide a larger list of parameters in practice."
   ]
  },
  {
   "cell_type": "markdown",
   "metadata": {},
   "source": [
    "###### XG Boost Feature Performance"
   ]
  },
  {
   "cell_type": "code",
   "execution_count": null,
   "metadata": {
    "collapsed": true
   },
   "outputs": [],
   "source": [
    "fig, ax = plt.subplots(ncols = 1, figsize = (15, 25))\n",
    "xgb.plot_importance(xgb_clf, height = 0.5, title = 'Feature Importance - XGBoost', ax = ax, color = 'green')\n",
    "plt.show()"
   ]
  },
  {
   "cell_type": "markdown",
   "metadata": {},
   "source": [
    "###### XG Boost Evaluation of AUC's"
   ]
  },
  {
   "cell_type": "code",
   "execution_count": null,
   "metadata": {
    "collapsed": true
   },
   "outputs": [],
   "source": [
    "#histogram to compare auc of models\n",
    "#SVM AUC: 0.6658213006434637\n",
    "# Random Forest - roc_auc_score:  0.6745548227288356\n",
    "#XGBoost - roc_auc_score:  0.7516461447594301\n",
    "#KNN ?? say 0.7\n",
    "\n",
    "\n",
    "import numpy as np\n",
    "import pandas as pd\n",
    "import matplotlib.pyplot as plt\n",
    "\n",
    "# Bring some raw data.\n",
    "ROC_AUC_Scores = [0.6658, 0.6745, 0.7516, 0.7]\n",
    "\n",
    "# In my original code I create a series and run on that,\n",
    "# so for consistency I create a series from the list.\n",
    "freq_series = pd.Series.from_array(ROC_AUC_Scores)\n",
    "\n",
    "x_labels = [\"SVM\",\"RF\",\"XGBoost\",\"KNN\"]\n",
    "\n",
    "# Plot the figure.\n",
    "plt.figure(figsize=(12, 8))\n",
    "ax = freq_series.plot(kind='bar')\n",
    "ax.set_title('Model Comparsion _ basline models')\n",
    "ax.set_xlabel('Model Name')\n",
    "ax.set_ylabel('ROC_AUC_Score')\n",
    "ax.set_xticklabels(x_labels)\n",
    "\n",
    "\n",
    "def add_value_labels(ax, spacing=5):\n",
    "    \"\"\"Add labels to the end of each bar in a bar chart.\n",
    "\n",
    "    Arguments:\n",
    "        ax (matplotlib.axes.Axes): The matplotlib object containing the axes\n",
    "            of the plot to annotate.\n",
    "        spacing (int): The distance between the labels and the bars.\n",
    "    \"\"\"\n",
    "\n",
    "    # For each bar: Place a label\n",
    "    for rect in ax.patches:\n",
    "        # Get X and Y placement of label from rect.\n",
    "        y_value = rect.get_height()\n",
    "        x_value = rect.get_x() + rect.get_width() / 2\n",
    "\n",
    "        # Number of points between bar and label. Change to your liking.\n",
    "        space = spacing\n",
    "        # Vertical alignment for positive values\n",
    "        va = 'bottom'\n",
    "\n",
    "        # If value of bar is negative: Place label below bar\n",
    "        if y_value < 0:\n",
    "            # Invert space to place label below\n",
    "            space *= -1\n",
    "            # Vertically align label at top\n",
    "            va = 'top'\n",
    "\n",
    "        # Use Y value as label and format number with one decimal place\n",
    "        label = \"{:.4f}\".format(y_value)\n",
    "\n",
    "        # Create annotation\n",
    "        ax.annotate(\n",
    "            label,                      # Use `label` as label\n",
    "            (x_value, y_value),         # Place label at end of the bar\n",
    "            xytext=(0, space),          # Vertically shift label by `space`\n",
    "            textcoords=\"offset points\", # Interpret `xytext` as offset in points\n",
    "            ha='center',                # Horizontally center label\n",
    "            va=va)                      # Vertically align label differently for\n",
    "                                        # positive and negative values.\n",
    "\n",
    "\n",
    "# Call the function above. All the magic happens there.\n",
    "add_value_labels(ax)"
   ]
  },
  {
   "cell_type": "markdown",
   "metadata": {},
   "source": [
    "#### XG Boost Regression"
   ]
  },
  {
   "cell_type": "code",
   "execution_count": null,
   "metadata": {},
   "outputs": [],
   "source": [
    "\n",
    "# XGBoost baseline model\n",
    "\n",
    "import xgboost as xgb\n",
    "\n",
    "#XGBOOST transform data into DMatrix format for modeling\n",
    "dtrain = xgb.DMatrix(X_train_scaled, y_train)\n",
    "dvalid = xgb.DMatrix(X_test_scaled, y_test)\n",
    "type(dtrain)\n",
    "\n",
    "#XGBOOST parameters 1\n",
    "MAX_ROUNDS = 1000\n",
    "EARLY_STOP = 50\n",
    "OPT_ROUNDS = 1000\n",
    "VERBOSE_EVAL = 50\n",
    "RANDOM_STATE = 2000\n",
    "\n",
    "\n",
    "# XGBoost Parameters 2\n",
    "params = {}\n",
    "#params['objective'] = 'binary:logistic'\n",
    "#params['objective'] = 'multi:softmax'\n",
    "params['objective'] = 'reg:linear'\n",
    "#params['objective'] = \"reg:squarederror\"\n",
    "params['eta'] = 0.039\n",
    "params['silent'] = True\n",
    "params['max_depth'] = 2\n",
    "params['subsample'] = 0.8\n",
    "params['colsample_bytree'] = 0.9\n",
    "params['eval_metric'] = 'rmse'\n",
    "params['random_state'] = RANDOM_STATE\n",
    "\n",
    "watchlist = [(dtrain, 'train'), (dvalid, 'valid')]"
   ]
  },
  {
   "cell_type": "code",
   "execution_count": null,
   "metadata": {},
   "outputs": [],
   "source": [
    "#Wall time: 5.84 s\n",
    "#%%time\n",
    "xgb_reg = xgb.train(params,\n",
    "                   dtrain,\n",
    "                   MAX_ROUNDS,\n",
    "                   watchlist,\n",
    "                   early_stopping_rounds = EARLY_STOP,\n",
    "                   maximize = True,\n",
    "                   verbose_eval = VERBOSE_EVAL)\n",
    "\n",
    "#[0]\ttrain-rmse:5.02045\tvalid-rmse:5.0569"
   ]
  },
  {
   "cell_type": "code",
   "execution_count": null,
   "metadata": {},
   "outputs": [],
   "source": [
    "preds = xgb_reg.predict(dvalid)\n",
    "print('XGBoost_reg - mean_squared_error: ', mean_squared_error(y_test, preds))"
   ]
  },
  {
   "cell_type": "code",
   "execution_count": null,
   "metadata": {},
   "outputs": [],
   "source": [
    "def timer(start_time=None):\n",
    "    if not start_time:\n",
    "        start_time = datetime.now()\n",
    "        return start_time\n",
    "    elif start_time:\n",
    "        thour, temp_sec = divmod((datetime.now() - start_time).total_seconds(), 3600)\n",
    "        tmin, tsec = divmod(temp_sec, 60)\n",
    "        print('\\n Time taken: %i hours %i minutes and %s seconds.' % (thour, tmin, round(tsec, 2)))"
   ]
  },
  {
   "cell_type": "code",
   "execution_count": null,
   "metadata": {},
   "outputs": [],
   "source": [
    "# A parameter grid for XGBoost\n",
    "#at least include the parameters already included in the baseline model for chance to find one better than base model.\n",
    "params = {\n",
    "        'min_child_weight': [1, 5],\n",
    "        'gamma': [0.5, 1, 2],\n",
    "        'subsample': [0.6, 0.8],\n",
    "        'colsample_bytree': [0.6, 0.9],\n",
    "        'max_depth': [2, 5]\n",
    "        }"
   ]
  },
  {
   "cell_type": "code",
   "execution_count": null,
   "metadata": {},
   "outputs": [],
   "source": [
    "from xgboost import XGBRegressor\n",
    "\n",
    "xgb = XGBRegressor(learning_rate=0.02, n_estimators=600, objective='reg:linear',\n",
    "                    silent=True, nthread=1)"
   ]
  },
  {
   "cell_type": "code",
   "execution_count": null,
   "metadata": {},
   "outputs": [],
   "source": [
    "# estimate runtime 40 mins\n",
    "# actual runtime 34 mins\n",
    "## grid search in a parallized fashion\n",
    "\n",
    "from sklearn.model_selection import StratifiedKFold\n",
    "from sklearn.model_selection import RandomizedSearchCV\n",
    "from datetime import datetime\n",
    "\n",
    "folds = 3\n",
    "param_comb = 3\n",
    "\n",
    "skf = StratifiedKFold(n_splits=folds, shuffle = True, random_state = 1001)\n",
    "\n",
    "random_search = RandomizedSearchCV(xgb, param_distributions=params, n_iter=param_comb, scoring='neg_mean_squared_error', n_jobs=4, cv=skf.split(X_train_scaled,y_train), verbose=50, random_state=2000)\n",
    "\n",
    "# Here we go\n",
    "start_time = timer(None) # timing starts from this point for \"start_time\" variable\n",
    "random_search.fit(X_train_scaled, y_train)\n",
    "timer(start_time) # timing ends here for \"start_time\" variable"
   ]
  },
  {
   "cell_type": "code",
   "execution_count": null,
   "metadata": {},
   "outputs": [],
   "source": [
    "print('\\n Best estimator:')\n",
    "print(random_search.best_estimator_)\n",
    "print('\\n Best normalized gini score for %d-fold search with %d parameter combinations:' % (folds, param_comb))\n",
    "print(random_search.best_score_ * 2 - 1)\n",
    "print('\\n Best hyperparameters:')\n",
    "print(random_search.best_params_)"
   ]
  },
  {
   "cell_type": "code",
   "execution_count": null,
   "metadata": {},
   "outputs": [],
   "source": [
    "#run for \n",
    "#evaulate the performance of the model best parameters\n",
    "# timer the training time\n",
    "start_time = timer(None)\n",
    "\n",
    "xgb_best = XGBRegressor(base_score=0.5, booster='gbtree', colsample_bylevel=1,\n",
    "       colsample_bytree=0.6, gamma=2, learning_rate=0.02, max_delta_step=0,\n",
    "       max_depth=5, min_child_weight=1, missing=None, n_estimators=600,\n",
    "       n_jobs=1, nthread=1, objective='reg:linear', random_state=0,\n",
    "       reg_alpha=0, reg_lambda=1, scale_pos_weight=1, seed=None,\n",
    "       silent=True, subsample=0.6)\n",
    "\n",
    "xgb_best.fit(X_train_scaled, y_train)\n",
    "\n",
    "timer(start_time)\n",
    "\n",
    "#training time"
   ]
  },
  {
   "cell_type": "code",
   "execution_count": null,
   "metadata": {},
   "outputs": [],
   "source": [
    "# timer the testing time\n",
    "start_time = timer(None)\n",
    "preds = xgb_best.predict(X_test_scaled)\n",
    "timer(start_time)\n",
    "#testing time"
   ]
  },
  {
   "cell_type": "code",
   "execution_count": null,
   "metadata": {},
   "outputs": [],
   "source": [
    "#predicted_time_in_hospital\n",
    "preds[:10]"
   ]
  },
  {
   "cell_type": "code",
   "execution_count": null,
   "metadata": {},
   "outputs": [],
   "source": [
    "\n",
    "print('XGBoost_reg - mean_squared_error: ', mean_squared_error(y_test, preds))"
   ]
  },
  {
   "cell_type": "code",
   "execution_count": null,
   "metadata": {},
   "outputs": [],
   "source": [
    "# mse decrease after parameter tuning\n",
    "random_mse = 5.585353165243333\n",
    "base_mse = 7.900710644325338\n",
    "\n",
    "print('Improvement of {:0.2f}%.'.format( 100 * (base_mse - random_mse) / base_mse))\n",
    "#Improvement of 29.31%. afater parameters tuning"
   ]
  },
  {
   "cell_type": "code",
   "execution_count": null,
   "metadata": {},
   "outputs": [],
   "source": [
    "# after parameters tuning\n",
    "# XGBoost_reg - mean_squared_error:  5.585353165243333\n",
    "#       RF_reg - mean_squared_error: 5.835765214548177"
   ]
  },
  {
   "cell_type": "code",
   "execution_count": null,
   "metadata": {
    "collapsed": true
   },
   "outputs": [],
   "source": [
    "#histogram to compare MSE of models\n",
    "# LR 7.175072072572132\n",
    "#KNN ?? say 5.6\n",
    "\n",
    "# XGBoost_reg - mean_squared_error:  5.585353165243333\n",
    "#       RF_reg - mean_squared_error: 5.835765214548177\n",
    "\n",
    "\n",
    "import numpy as np\n",
    "import pandas as pd\n",
    "import matplotlib.pyplot as plt\n",
    "\n",
    "# Bring some raw data.\n",
    "ModelMSEs = [7.175072072572132, 5.835765214548177, 5.585353165243333, 5.6]\n",
    "\n",
    "# In my original code I create a series and run on that,\n",
    "# so for consistency I create a series from the list.\n",
    "freq_series = pd.Series.from_array(ModelMSEs)\n",
    "\n",
    "x_labels = [\"LR\",\"RF\",\"XGBoost\",\"KNN\"]\n",
    "\n",
    "# Plot the figure.\n",
    "plt.figure(figsize=(12, 8))\n",
    "ax = freq_series.plot(kind='bar')\n",
    "ax.set_title('Model Comparsion _ basline models')\n",
    "ax.set_xlabel('Model Name')\n",
    "ax.set_ylabel('mean_squared_error(MSE)')\n",
    "ax.set_xticklabels(x_labels)\n",
    "\n",
    "\n",
    "def add_value_labels(ax, spacing=5):\n",
    "    \"\"\"Add labels to the end of each bar in a bar chart.\n",
    "\n",
    "    Arguments:\n",
    "        ax (matplotlib.axes.Axes): The matplotlib object containing the axes\n",
    "            of the plot to annotate.\n",
    "        spacing (int): The distance between the labels and the bars.\n",
    "    \"\"\"\n",
    "\n",
    "    # For each bar: Place a label\n",
    "    for rect in ax.patches:\n",
    "        # Get X and Y placement of label from rect.\n",
    "        y_value = rect.get_height()\n",
    "        x_value = rect.get_x() + rect.get_width() / 2\n",
    "\n",
    "        # Number of points between bar and label. Change to your liking.\n",
    "        space = spacing\n",
    "        # Vertical alignment for positive values\n",
    "        va = 'bottom'\n",
    "\n",
    "        # If value of bar is negative: Place label below bar\n",
    "        if y_value < 0:\n",
    "            # Invert space to place label below\n",
    "            space *= -1\n",
    "            # Vertically align label at top\n",
    "            va = 'top'\n",
    "\n",
    "        # Use Y value as label and format number with one decimal place\n",
    "        label = \"{:.4f}\".format(y_value)\n",
    "\n",
    "        # Create annotation\n",
    "        ax.annotate(\n",
    "            label,                      # Use `label` as label\n",
    "            (x_value, y_value),         # Place label at end of the bar\n",
    "            xytext=(0, space),          # Vertically shift label by `space`\n",
    "            textcoords=\"offset points\", # Interpret `xytext` as offset in points\n",
    "            ha='center',                # Horizontally center label\n",
    "            va=va)                      # Vertically align label differently for\n",
    "                                        # positive and negative values.\n",
    "\n",
    "\n",
    "# Call the function above. All the magic happens there.\n",
    "add_value_labels(ax)"
   ]
  },
  {
   "cell_type": "markdown",
   "metadata": {},
   "source": [
    "<a id=\"References\"></a>\n",
    "## References"
   ]
  },
  {
   "cell_type": "markdown",
   "metadata": {},
   "source": [
    "[1] Tavish Srivastava. Analytics Vidhya. Webiste. https://www.analyticsvidhya.com/blog/2016/02/7-important-model-evaluation-error-metrics/\n",
    "\n",
    "[2] Alice Zheng. OReilly. Website. https://www.oreilly.com/ideas/evaluating-machine-learning-models/page/3/evaluation-metrics\n",
    "\n",
    "[3] Shruti Saxena. Towards Data Science. Website. https://towardsdatascience.com/precision-vs-recall-386cf9f89488\n",
    "\n",
    "[4] Kevin Markham. Data School. Website.\n",
    "https://www.dataschool.io/roc-curves-and-auc-explained/\n",
    "\n",
    "[5] George Seif. Towards Data Science. Website. https://towardsdatascience.com/selecting-the-best-machine-learning-algorithm-for-your-regression-problem-20c330bad4ef\n",
    "\n",
    "[6] Alvira Swalin. Medium. USF-Data Science. Website. https://medium.com/usf-msds/choosing-the-right-metric-for-machine-learning-models-part-1-a99d7d7414e4\n",
    "\n",
    "[7] Chen et al 2016. XGBoost: A Scalable Tree Boosting System https://www.kdd.org/kdd2016/papers/files/rfp0697-chenAemb.pdf\n",
    "\n",
    "[8] Website. https://medium.com/@pushkarmandot/how-exactly-xgboost-works-a320d9b8aeef\n",
    "\n",
    "[9] Google. Website. https://developers.google.com/machine-learning/glossary\n",
    "\n",
    "[10] LICDN Media. Website. https://media.licdn.com/dms/document/C4D1FAQF_5vlXos139Q/feedshare-document-pdf-analyzed/0?e=1561834800&v=beta&t=GuChwPbOqD4OZz3vKAvfF81lRmtycXS6dooNNHeafTw \n",
    "\n",
    "[11] Read the Docs. Website. https://xgboost.readthedocs.io/en/latest/python/ \n",
    "\n",
    "[12] Github. Website. https://github.com/dmlc/xgboost/tree/master/python-package\n",
    "\n",
    "[13] Kardi Teknomo, PhD. Evoledu.  https://people.revoledu.com/kardi/tutorial/KNN/Strength%20and%20Weakness.htm"
   ]
  }
 ],
 "metadata": {
  "kernelspec": {
   "display_name": "Python 3",
   "language": "python",
   "name": "python3"
  },
  "language_info": {
   "codemirror_mode": {
    "name": "ipython",
    "version": 3
   },
   "file_extension": ".py",
   "mimetype": "text/x-python",
   "name": "python",
   "nbconvert_exporter": "python",
   "pygments_lexer": "ipython3",
   "version": "3.6.8"
  }
 },
 "nbformat": 4,
 "nbformat_minor": 2
}
