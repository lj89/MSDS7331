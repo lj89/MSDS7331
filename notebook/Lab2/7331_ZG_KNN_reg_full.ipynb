{
 "cells": [
  {
   "cell_type": "code",
   "execution_count": 55,
   "metadata": {},
   "outputs": [],
   "source": [
    "import pandas as pd\n",
    "import numpy as np\n",
    "import pandas_profiling\n",
    "import matplotlib.pyplot as plt\n",
    "get_ipython().run_line_magic('matplotlib', 'inline')\n",
    "import warnings\n",
    "warnings.filterwarnings(\"ignore\")\n",
    "import seaborn as sns\n",
    "from sklearn.linear_model import LogisticRegression\n",
    "from sklearn.model_selection import train_test_split\n",
    "from sklearn.metrics import accuracy_score\n",
    "from sklearn.metrics import f1_score\n",
    "from sklearn.metrics import roc_auc_score\n",
    "from sklearn.linear_model import SGDClassifier\n",
    "from sklearn.preprocessing import StandardScaler\n",
    "from sklearn.model_selection import StratifiedShuffleSplit \n",
    "from sklearn import metrics as mt\n",
    "from sklearn.metrics import roc_curve, auc\n",
    "import operator\n",
    "import sklearn.metrics as metrics\n",
    "from sklearn.neighbors import KNeighborsClassifier\n",
    "from sklearn.model_selection import StratifiedKFold\n",
    "from sklearn.decomposition import PCA \n",
    "from sklearn.pipeline import Pipeline\n",
    "from sklearn.model_selection import cross_val_score\n",
    "from sklearn.neighbors import KDTree\n",
    "from sklearn.neighbors import KNeighborsRegressor\n",
    "from sklearn.metrics import mean_squared_error "
   ]
  },
  {
   "cell_type": "markdown",
   "metadata": {},
   "source": [
    "### Functions for ROC stuff"
   ]
  },
  {
   "cell_type": "code",
   "execution_count": 56,
   "metadata": {},
   "outputs": [],
   "source": [
    "#https://stackoverflow.com/questions/25009284/how-to-plot-roc-curve-in-python\n",
    "#probs is the result of a model.predict_proba(x_test) call\n",
    "\n",
    "#This function plots an ROC curve\n",
    "def rocCurvePlot(probs, y_test1):\n",
    "    # calculate the fpr and tpr for all thresholds of the classification\n",
    "    preds = probs[:,1]\n",
    "    fpr, tpr, threshold = metrics.roc_curve(y_test1, preds)\n",
    "    roc_auc = metrics.auc(fpr, tpr)\n",
    "\n",
    "    # method I: plt\n",
    "    import matplotlib.pyplot as plt\n",
    "    plt.title('Receiver Operating Characteristic')\n",
    "    plt.plot(fpr, tpr, 'b', label = 'AUC = %0.2f' % roc_auc)\n",
    "    plt.legend(loc = 'lower right')\n",
    "    plt.plot([0, 1], [0, 1],'r--')\n",
    "    plt.xlim([0, 1])\n",
    "    plt.ylim([0, 1])\n",
    "    plt.ylabel('True Positive Rate')\n",
    "    plt.xlabel('False Positive Rate')\n",
    "    plt.show()\n",
    "# A function to find the optimal cutoff point from ROC curve\n",
    "\n",
    "#https://stackoverflow.com/questions/28719067/roc-curve-and-cut-off-point-python\n",
    "def Find_Optimal_Cutoff(target, predicted):\n",
    "    \"\"\"Parameters:\n",
    "    target : Matrix with dependent or target data, where rows are observations\n",
    "    predicted : Matrix with predicted data, where rows are observations\n",
    "    ----------\n",
    "    Return: list type, with optimal cutoff value\n",
    "    \"\"\"\n",
    "    predicted = predicted[:,1]\n",
    "    fpr, tpr, threshold = metrics.roc_curve(target, predicted)\n",
    "    i = np.arange(len(tpr)) \n",
    "    roc = pd.DataFrame({'tf' : pd.Series(tpr-(1-fpr), index=i), 'threshold' : pd.Series(threshold, index=i)})\n",
    "    roc_t = roc.ix[(roc.tf-0).abs().argsort()[:1]]\n",
    "\n",
    "    return list(roc_t['threshold']) "
   ]
  },
  {
   "cell_type": "markdown",
   "metadata": {},
   "source": [
    "### Import the data"
   ]
  },
  {
   "cell_type": "code",
   "execution_count": 57,
   "metadata": {},
   "outputs": [
    {
     "name": "stdout",
     "output_type": "stream",
     "text": [
      "Done reading data.\n"
     ]
    }
   ],
   "source": [
    "directory = 'C:/githubrepo/7331_Project/data/'\n",
    "df_zg = pd.read_csv(directory + 'Diabetic_Cleaned.csv')\n",
    "print(\"Done reading data.\")"
   ]
  },
  {
   "cell_type": "markdown",
   "metadata": {},
   "source": [
    "### Makes lists of the different types"
   ]
  },
  {
   "cell_type": "code",
   "execution_count": 58,
   "metadata": {},
   "outputs": [],
   "source": [
    "ordinal = [\"age\"]\n",
    "categorical = [\"race\", \"gender\", \"admission_type_id\", \"discharge_disposition_id\",\n",
    "               \"admission_source_id\", \"medical_specialty\", \"max_glu_serum\",\n",
    "               \"A1Cresult\", \"change\", \"diabetesMed\", \"diag_1_val\", \"diag_2_val\",\n",
    "               \"diag_3_val\", \"meds_increased\", \"readmitted_tf\"]\n",
    "continuous = [\"num_lab_procedures\", \"num_procedures\", \"num_medications\",\n",
    "              \"number_outpatient\", \"number_emergency\", \"number_inpatient\",\n",
    "              \"number_diagnoses\", \"medication_count\"]\n",
    "lcontinuous = [\"lnum_lab_procedures\", \"lnum_procedures\", \"lnum_medications\",\n",
    "              \"lnumber_outpatient\", \"lnumber_emergency\", \"lnumber_inpatient\",\n",
    "              \"lnumber_diagnoses\", \"lmedication_count\"]\n",
    "medicines = [\"metformin\", \"repaglinide\", \"nateglinide\", \"chlorpropamide\",\n",
    "             \"glimepiride\", \"acetohexamide\", \"glipizide\", \"glyburide\", \"tolbutamide\",\n",
    "             \"pioglitazone\", \"rosiglitazone\", \"acarbose\", \"miglitol\", \"troglitazone\",\n",
    "             \"tolazamide\", \"insulin\", \"glyburide-metformin\", \"glipizide-metformin\",\n",
    "             \"metformin-rosiglitazone\", \"metformin-pioglitazone\"]\n",
    "response = [\"time_in_hospital\"]"
   ]
  },
  {
   "cell_type": "markdown",
   "metadata": {},
   "source": [
    "### Dataframes of each type of data"
   ]
  },
  {
   "cell_type": "code",
   "execution_count": 59,
   "metadata": {},
   "outputs": [],
   "source": [
    "df_zg_ordinal = df_zg[ordinal]\n",
    "df_zg_categorical = df_zg[categorical]\n",
    "df_zg_continuous = df_zg[continuous]\n",
    "df_zg_lcontinuous = np.log(df_zg_continuous)\n",
    "df_zg_lcontinuous.columns = lcontinuous\n",
    "df_zg_medicines = df_zg[medicines]\n",
    "df_zg_response = df_zg[response]"
   ]
  },
  {
   "cell_type": "markdown",
   "metadata": {},
   "source": [
    "### Make Age ordinal"
   ]
  },
  {
   "cell_type": "code",
   "execution_count": 60,
   "metadata": {},
   "outputs": [],
   "source": [
    "for i in range(0, 10):\n",
    "    val = \"[\" + str(i*10) + \"-\" + str((i+1)*10) + \")\"\n",
    "    df_zg_ordinal.loc[df_zg_ordinal['age'] == val, 'age'] = i"
   ]
  },
  {
   "cell_type": "markdown",
   "metadata": {},
   "source": [
    "### Making all categorical columns categorical"
   ]
  },
  {
   "cell_type": "code",
   "execution_count": 61,
   "metadata": {},
   "outputs": [
    {
     "name": "stdout",
     "output_type": "stream",
     "text": [
      "Done\n"
     ]
    }
   ],
   "source": [
    "df_zg_categorical['admission_type_id'] = df_zg_categorical['admission_type_id'].astype(object)\n",
    "df_zg_categorical['discharge_disposition_id'] = df_zg_categorical['discharge_disposition_id'].astype(object)\n",
    "df_zg_categorical['admission_source_id'] = df_zg_categorical['admission_source_id'].astype(object)\n",
    "df_zg_categorical['admission_type_id'] = df_zg_categorical['admission_type_id'].astype(object)\n",
    "df_zg_categorical['meds_increased'] = df_zg_categorical['meds_increased'].astype(int)\n",
    "#df_zg_response['readmitted_tf'] = df_zg_response['readmitted_tf'].astype(object)\n",
    "print(\"Done\")"
   ]
  },
  {
   "cell_type": "code",
   "execution_count": 62,
   "metadata": {},
   "outputs": [
    {
     "name": "stdout",
     "output_type": "stream",
     "text": [
      "Done\n"
     ]
    }
   ],
   "source": [
    "df_zg_x = pd.concat([df_zg_ordinal, df_zg_categorical, df_zg_continuous], axis = 1)\n",
    "df_zg_num_x = pd.concat([df_zg_ordinal, df_zg_continuous], axis = 1)\n",
    "df_zg_med_x = pd.concat([df_zg_ordinal, df_zg_categorical, df_zg_continuous, df_zg_medicines], axis = 1)\n",
    "df_zg_hot_x = pd.concat([df_zg_ordinal, pd.get_dummies(df_zg_categorical), df_zg_continuous], axis = 1)\n",
    "df_zg_hot_med_x = pd.concat([df_zg_ordinal, pd.get_dummies(df_zg_categorical), df_zg_continuous, pd.get_dummies(df_zg_medicines)], axis = 1)\n",
    "df_zg_y = df_zg_response\n",
    "print(\"Done\")"
   ]
  },
  {
   "cell_type": "markdown",
   "metadata": {},
   "source": [
    "### Function for setting up the training, validation, and test sets"
   ]
  },
  {
   "cell_type": "code",
   "execution_count": 63,
   "metadata": {},
   "outputs": [],
   "source": [
    "def tvt_split(df_x, df_y, valid_size, t_size, seed):\n",
    "    #doing the math because we have to split 2 seperate times\n",
    "    valid_size = 100*valid_size/(100*(1-t_size))\n",
    "    #First splitting out the test set\n",
    "    x_train, x_test, y_train, y_test = train_test_split(df_x, df_y, test_size = t_size, random_state=seed)\n",
    "    #Splitting the training set into train/validate\n",
    "    x_train, x_valid, y_train, y_valid = train_test_split(x_train, y_train, test_size = valid_size, random_state=seed)\n",
    "\n",
    "    #Reseting allof the indices\n",
    "    x_train.reset_index()\n",
    "    y_train.reset_index()\n",
    "    x_test.reset_index()\n",
    "    y_test.reset_index()\n",
    "    x_valid.reset_index()\n",
    "    y_valid.reset_index()\n",
    "\n",
    "    return x_train, x_valid, x_test, y_train, y_valid, y_test"
   ]
  },
  {
   "cell_type": "markdown",
   "metadata": {},
   "source": [
    "# KNN with full model"
   ]
  },
  {
   "cell_type": "markdown",
   "metadata": {},
   "source": [
    "### Do the split again, just for safety"
   ]
  },
  {
   "cell_type": "code",
   "execution_count": 65,
   "metadata": {},
   "outputs": [
    {
     "name": "stdout",
     "output_type": "stream",
     "text": [
      "Wall time: 696 ms\n"
     ]
    }
   ],
   "source": [
    "%%time\n",
    "x_train, x_valid, x_test, y_train, y_valid, y_test = tvt_split(df_zg_hot_x, df_zg_y, 0.2, 0.2, 7)\n",
    "\n",
    "#Print out the shapes of the train/valid/test sets\n",
    "x_train.shape, x_valid.shape, x_test.shape\n",
    "\n",
    "#Create variables for just this operation\n",
    "x_t = x_train\n",
    "x_v = x_valid\n",
    "y_t = y_train\n",
    "y_v = y_valid\n",
    "y_tst = y_test\n",
    "\n",
    "# We will fill this with predictions\n",
    "yhat = np.zeros(y_v.shape)\n",
    "\n",
    "scl = StandardScaler()\n",
    "x_t = scl.fit_transform(x_train)\n",
    "x_v = scl.transform(x_valid)\n",
    "x_tst = scl.transform(x_test)"
   ]
  },
  {
   "cell_type": "markdown",
   "metadata": {},
   "source": [
    "# KNN Tuning on full model"
   ]
  },
  {
   "cell_type": "markdown",
   "metadata": {},
   "source": [
    "### Testing 1-20 (odd values)\n",
    "Creates the model for each of the K's in that range and then saves the AUC for the train and validation sets."
   ]
  },
  {
   "cell_type": "code",
   "execution_count": 66,
   "metadata": {
    "scrolled": true
   },
   "outputs": [
    {
     "name": "stdout",
     "output_type": "stream",
     "text": [
      "1\n",
      "3\n",
      "5\n",
      "7\n",
      "9\n",
      "11\n",
      "13\n",
      "15\n",
      "17\n",
      "19\n",
      "Wall time: 2h 28min 15s\n"
     ]
    }
   ],
   "source": [
    "%%time\n",
    "#https://www.analyticsvidhya.com/blog/2018/08/k-nearest-neighbor-introduction-regression-python/\n",
    "# creating odd list of K for KNN\n",
    "myList = list(range(1,20))\n",
    "# subsetting just the odd ones\n",
    "neighbors = filter(lambda x: x % 2 != 0, myList)\n",
    "\n",
    "# empty list that will hold cv scores\n",
    "scores = pd.DataFrame(columns = [\"K\", \"MSE_Train\", \"MSE_Valid\"])\n",
    "\n",
    "i = 0\n",
    "for k in neighbors:\n",
    "    clf = KNeighborsRegressor(n_neighbors = k)\n",
    "    clf.fit(x_t, y_t)\n",
    "\n",
    "    #AUC\n",
    "    mse_t = mean_squared_error(y_t, clf.predict(x_t))\n",
    "    mse_v = mean_squared_error(y_v, clf.predict(x_v))\n",
    "    scores.loc[i] = [k, mse_t, mse_v]\n",
    "    i = i+1\n",
    "    print(k)"
   ]
  },
  {
   "cell_type": "markdown",
   "metadata": {},
   "source": [
    "### Plotting K's 1 - 20 (odd values)\n",
    "Using the validation set in order to see how large of a k to use. From the plot below we can see the they are asymptotically approaching 6.8. Because this is a large dataset (100k+ rows) we can use a little larger k and will not run a large risk of overfitting. Based on the data below a K of 9 would be a good choice."
   ]
  },
  {
   "cell_type": "code",
   "execution_count": 67,
   "metadata": {},
   "outputs": [
    {
     "data": {
      "image/png": "[encoded data removed]",
      "text/plain": [
       "<Figure size 432x288 with 1 Axes>"
      ]
     },
     "metadata": {
      "needs_background": "light"
     },
     "output_type": "display_data"
    }
   ],
   "source": [
    "df_scores_0_70 = scores\n",
    "#df_scores_0_70 = pd.concat([scores, scores1])\n",
    "df_scores_0_70.columns = [\"K\", \"MSE_Train\", \"MSE_Valid\"]\n",
    "\n",
    "plt.plot(df_scores_0_70.K, df_scores_0_70.MSE_Valid)\n",
    "plt.plot(df_scores_0_70.K, df_scores_0_70.MSE_Train)\n",
    "\n",
    "plt.xlabel('K') \n",
    "plt.ylabel('MSE') \n",
    "plt.legend()\n",
    "plt.title('Training vs Validation MSE') \n",
    "\n",
    "plt.show()"
   ]
  },
  {
   "cell_type": "markdown",
   "metadata": {},
   "source": [
    "### KNN with the above parameters\n",
    "Now that we have tuned the values for K, we do the prediction on the test set. Below shows the MSE."
   ]
  },
  {
   "cell_type": "code",
   "execution_count": 68,
   "metadata": {},
   "outputs": [
    {
     "name": "stdout",
     "output_type": "stream",
     "text": [
      "Wall time: 6.05 s\n"
     ]
    }
   ],
   "source": [
    "%%time\n",
    "model = KNeighborsRegressor(n_neighbors = 5)\n",
    "model.fit(x_t, y_t)"
   ]
  },
  {
   "cell_type": "code",
   "execution_count": 69,
   "metadata": {},
   "outputs": [
    {
     "name": "stdout",
     "output_type": "stream",
     "text": [
      "MSE: 8.390877468802202\n",
      "Wall time: 3min 47s\n"
     ]
    }
   ],
   "source": [
    "%%time\n",
    "#Find the optimal cutoff point\n",
    "y_pred = model.predict(x_tst)\n",
    "\n",
    "#Calculate the MSE\n",
    "error = mean_squared_error(y_tst, y_pred)\n",
    "\n",
    "#Printing the results\n",
    "print(\"MSE:\", error)"
   ]
  }
 ],
 "metadata": {
  "kernelspec": {
   "display_name": "Python 3",
   "language": "python",
   "name": "python3"
  },
  "language_info": {
   "codemirror_mode": {
    "name": "ipython",
    "version": 3
   },
   "file_extension": ".py",
   "mimetype": "text/x-python",
   "name": "python",
   "nbconvert_exporter": "python",
   "pygments_lexer": "ipython3",
   "version": "3.7.3"
  }
 },
 "nbformat": 4,
 "nbformat_minor": 2
}
