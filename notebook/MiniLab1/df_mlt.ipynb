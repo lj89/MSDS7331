{
 "cells": [
  {
   "cell_type": "code",
   "execution_count": 2,
   "metadata": {},
   "outputs": [],
   "source": [
    "#diabetes df\n",
    "import pandas as pd\n",
    "import numpy as np\n",
    "import pandas_profiling\n",
    "import matplotlib.pyplot as plt\n",
    "get_ipython().run_line_magic('matplotlib', 'inline')\n",
    "import warnings # current version of seaborn generates a bunch of warnings that we'll ignore\n",
    "warnings.filterwarnings(\"ignore\")\n",
    "import seaborn as sns\n",
    "import sklearn\n",
    "from sklearn import svm\n",
    "from sklearn.svm import SVC\n",
    "from sklearn.model_selection import GridSearchCV, cross_val_score\n",
    "from sklearn import metrics as mt\n",
    "from sklearn import preprocessing\n",
    "from sklearn.model_selection import ShuffleSplit\n",
    "from sklearn.linear_model import LogisticRegression\n",
    "from sklearn.linear_model import SGDClassifier\n",
    "from sklearn.preprocessing import StandardScaler\n",
    "from sklearn.model_selection import StratifiedShuffleSplit\n",
    "from sklearn.model_selection import train_test_split\n",
    "from sklearn.metrics import accuracy_score\n",
    "from sklearn.metrics import f1_score\n",
    "from sklearn.metrics import roc_auc_score\n",
    "from sklearn.pipeline import Pipeline"
   ]
  },
  {
   "cell_type": "code",
   "execution_count": 3,
   "metadata": {},
   "outputs": [
    {
     "name": "stdout",
     "output_type": "stream",
     "text": [
      "Finished loading data\n"
     ]
    }
   ],
   "source": [
    "df_mlt = pd.read_csv('/Users/mtran/Documents/SMUDataSciences/2019-Summer/MiniLab/Diabetic_Cleaned.csv')\n",
    "print(\"Finished loading data\")"
   ]
  },
  {
   "cell_type": "code",
   "execution_count": 4,
   "metadata": {},
   "outputs": [],
   "source": [
    "#make dataframes for each column\n",
    "ordinal = [\"age\", \"time_in_hospital\"]\n",
    "categorical = [\"race\", \"gender\", \"admission_type_id\", \"discharge_disposition_id\", \"admission_source_id\", \"medical_specialty\", \"max_glu_serum\", \"A1Cresult\", \"change\", \"diabetesMed\", \"diag_1_val\", \"diag_2_val\", \"diag_3_val\", \"meds_increased\"]\n",
    "continuous = [\"num_lab_procedures\", \"num_procedures\", \"num_medications\", \"number_outpatient\", \"number_emergency\", \"number_inpatient\", \"number_diagnoses\", \"medication_count\"]\n",
    "medicines = [\"metformin\", \"repaglinide\", \"nateglinide\", \"chlorpropamide\", \"glimepiride\", \"acetohexamide\", \"glipizide\", \"glyburide\", \"tolbutamide\", \"pioglitazone\", \"rosiglitazone\", \"acarbose\", \"miglitol\", \"troglitazone\", \"tolazamide\", \"insulin\", \"glyburide-metformin\", \"glipizide-metformin\", \"metformin-rosiglitazone\", \"metformin-pioglitazone\"]\n",
    "response = [\"readmitted_tf\"]"
   ]
  },
  {
   "cell_type": "code",
   "execution_count": 5,
   "metadata": {},
   "outputs": [],
   "source": [
    "df_mlt_ordinal = df_mlt[ordinal]\n",
    "df_mlt_categorical = df_mlt[categorical]\n",
    "df_mlt_continuous = df_mlt[continuous]\n",
    "df_mlt_medicines = df_mlt[medicines]\n",
    "df_mlt_response = df_mlt[response]"
   ]
  },
  {
   "cell_type": "code",
   "execution_count": 6,
   "metadata": {},
   "outputs": [],
   "source": [
    "#Make age ordinal\n",
    "for i in range(0, 10):\n",
    "    val = \"[\" + str(i*10) + \"-\" + str((i+1)*10) + \")\"\n",
    "    df_mlt_ordinal.loc[df_mlt_ordinal['age'] == val, 'age'] = i"
   ]
  },
  {
   "cell_type": "code",
   "execution_count": 7,
   "metadata": {},
   "outputs": [
    {
     "name": "stdout",
     "output_type": "stream",
     "text": [
      "Done\n"
     ]
    }
   ],
   "source": [
    "#Make all categorical columns categorical\n",
    "df_mlt_categorical['admission_type_id'] = df_mlt_categorical['admission_type_id'].astype(object)\n",
    "df_mlt_categorical['discharge_disposition_id'] = df_mlt_categorical['discharge_disposition_id'].astype(object)\n",
    "df_mlt_categorical['admission_source_id'] = df_mlt_categorical['admission_source_id'].astype(object)\n",
    "df_mlt_categorical['admission_type_id'] = df_mlt_categorical['admission_type_id'].astype(object)\n",
    "df_mlt_categorical['meds_increased'] = df_mlt_categorical['meds_increased'].astype(object)\n",
    "print(\"Done\")"
   ]
  },
  {
   "cell_type": "code",
   "execution_count": 8,
   "metadata": {},
   "outputs": [
    {
     "name": "stdout",
     "output_type": "stream",
     "text": [
      "Done\n"
     ]
    }
   ],
   "source": [
    "#Creating X and Y dataframes\n",
    "df_mlt_x = pd.concat([df_mlt_ordinal, df_mlt_categorical, df_mlt_continuous], axis = 1)\n",
    "df_mlt_med_x = pd.concat([df_mlt_ordinal, df_mlt_categorical, df_mlt_continuous, df_mlt_medicines], axis = 1)\n",
    "df_mlt_hot_x = pd.concat([df_mlt_ordinal, pd.get_dummies(df_mlt_categorical), df_mlt_continuous], axis = 1)\n",
    "df_mlt_hot_med_x = pd.concat([df_mlt_ordinal, pd.get_dummies(df_mlt_categorical), df_mlt_continuous, pd.get_dummies(df_mlt_medicines)], axis = 1)\n",
    "df_mlt_y = df_mlt_response\n",
    "print(\"Done\")"
   ]
  },
  {
   "cell_type": "code",
   "execution_count": 10,
   "metadata": {},
   "outputs": [
    {
     "data": {
      "text/plain": [
       "((81412, 184), (20354, 184))"
      ]
     },
     "execution_count": 10,
     "metadata": {},
     "output_type": "execute_result"
    }
   ],
   "source": [
    "#Setting up training and test sets where x DOES NOT include medications\n",
    "x_train, x_test, y_train, y_test = train_test_split(df_mlt_hot_x, df_mlt_y, test_size = 0.2, random_state=7)\n",
    "#x_train.reset_index()\n",
    "#y_train.reset_index()\n",
    "#x_test.reset_index()\n",
    "#y_test.reset_index()\n",
    "x_train.shape, x_test.shape"
   ]
  },
  {
   "cell_type": "code",
   "execution_count": 11,
   "metadata": {},
   "outputs": [
    {
     "name": "stderr",
     "output_type": "stream",
     "text": [
      "C:\\Users\\mtran\\AppData\\Local\\Continuum\\anaconda3\\envs\\DS7331_Python3.5R\\lib\\site-packages\\sklearn\\utils\\validation.py:752: DataConversionWarning: A column-vector y was passed when a 1d array was expected. Please change the shape of y to (n_samples, ), for example using ravel().\n",
      "  y = column_or_1d(y, warn=True)\n"
     ]
    },
    {
     "name": "stdout",
     "output_type": "stream",
     "text": [
      "Wall time: 12.5 s\n"
     ]
    }
   ],
   "source": [
    "%%time\n",
    "#Model 1: Logistic Regression where x DOES NOT include medications\n",
    "#Sets up the object with different learning parameters and constants\n",
    "model1 = LogisticRegression(penalty='l2', C=1.0, class_weight=None)\n",
    "model1.fit(x_train, y_train)"
   ]
  },
  {
   "cell_type": "code",
   "execution_count": 12,
   "metadata": {},
   "outputs": [
    {
     "name": "stdout",
     "output_type": "stream",
     "text": [
      "Model 1 - F1 Score: 0.6665252283540175\n",
      "Model 1 - Accuracy: 0.6761815859290558\n",
      "Model 1 - ROC: 0.7414110274351416\n"
     ]
    }
   ],
   "source": [
    "#Model 1: Prediction where x DOES NOT include medications\n",
    "y_pred1 = model1.predict(x_test)\n",
    "\n",
    "#Accuracy metrics\n",
    "#Explains F1 score as function of Precision and Recall\n",
    "#https://towardsdatascience.com/accuracy-precision-recall-or-f1-331fb37c5cb9\n",
    "f1 = f1_score(y_test, y_pred1, average = 'weighted')\n",
    "#Explains accuracy value\n",
    "#https://skymind.ai/wiki/accuracy-precision-recall-f1\n",
    "acc = accuracy_score(y_test, y_pred1)\n",
    "#Explains how to read ROC value\n",
    "#http://gim.unmc.edu/dxtests/roc3.htm\n",
    "roc = roc_auc_score(y_test, model1.predict_proba(x_test)[:,1])\n",
    "print(\"Model 1 - F1 Score:\",f1)\n",
    "print(\"Model 1 - Accuracy:\",acc)\n",
    "print(\"Model 1 - ROC:\",roc)"
   ]
  },
  {
   "cell_type": "code",
   "execution_count": 13,
   "metadata": {},
   "outputs": [
    {
     "data": {
      "text/plain": [
       "((81412, 251), (20354, 251))"
      ]
     },
     "execution_count": 13,
     "metadata": {},
     "output_type": "execute_result"
    }
   ],
   "source": [
    "#Model 2: Setting up training and test sets where x DOES include medications\n",
    "x_train, x_test, y_train, y_test = train_test_split(df_mlt_hot_med_x, df_mlt_y, test_size = 0.2, random_state=7)\n",
    "x_train.shape, x_test.shape"
   ]
  },
  {
   "cell_type": "code",
   "execution_count": 14,
   "metadata": {},
   "outputs": [
    {
     "name": "stderr",
     "output_type": "stream",
     "text": [
      "C:\\Users\\mtran\\AppData\\Local\\Continuum\\anaconda3\\envs\\DS7331_Python3.5R\\lib\\site-packages\\sklearn\\utils\\validation.py:752: DataConversionWarning: A column-vector y was passed when a 1d array was expected. Please change the shape of y to (n_samples, ), for example using ravel().\n",
      "  y = column_or_1d(y, warn=True)\n"
     ]
    },
    {
     "data": {
      "text/plain": [
       "LogisticRegression(C=1.0, class_weight=None, dual=False, fit_intercept=True,\n",
       "          intercept_scaling=1, max_iter=100, multi_class='warn',\n",
       "          n_jobs=None, penalty='l2', random_state=None, solver='warn',\n",
       "          tol=0.0001, verbose=0, warm_start=False)"
      ]
     },
     "execution_count": 14,
     "metadata": {},
     "output_type": "execute_result"
    }
   ],
   "source": [
    "#Model 2: Logistic Regression where x DOES include medications\n",
    "#Sets up the object with different learning parameters and constants\n",
    "model2 = LogisticRegression(penalty='l2', C=1.0, class_weight=None)\n",
    "model2.fit(x_train, y_train)"
   ]
  },
  {
   "cell_type": "code",
   "execution_count": 15,
   "metadata": {},
   "outputs": [
    {
     "name": "stdout",
     "output_type": "stream",
     "text": [
      "Model 2 - F1 Score: 0.6660412565430712\n",
      "Model 2 - Accuracy: 0.6752972388719662\n",
      "Model 2 - ROC: 0.7419343116089305\n"
     ]
    }
   ],
   "source": [
    "#Model 2: Prediction where x DOES include medications\n",
    "y_pred2 = model2.predict(x_test)\n",
    "\n",
    "#Accuracy metrics\n",
    "#Explains F1 score as function of Precision and Recall\n",
    "#https://towardsdatascience.com/accuracy-precision-recall-or-f1-331fb37c5cb9\n",
    "f1 = f1_score(y_test, y_pred2, average = 'weighted')\n",
    "#Explains accuracy value\n",
    "#https://skymind.ai/wiki/accuracy-precision-recall-f1\n",
    "acc = accuracy_score(y_test, y_pred2)\n",
    "#Explains how to read ROC value\n",
    "#http://gim.unmc.edu/dxtests/roc3.htm\n",
    "roc = roc_auc_score(y_test, model2.predict_proba(x_test)[:,1])\n",
    "print(\"Model 2 - F1 Score:\",f1)\n",
    "print(\"Model 2 - Accuracy:\",acc)\n",
    "print(\"Model 2 - ROC:\",roc)"
   ]
  },
  {
   "cell_type": "code",
   "execution_count": 16,
   "metadata": {},
   "outputs": [
    {
     "name": "stderr",
     "output_type": "stream",
     "text": [
      "C:\\Users\\mtran\\AppData\\Local\\Continuum\\anaconda3\\envs\\DS7331_Python3.5R\\lib\\site-packages\\sklearn\\preprocessing\\data.py:617: DataConversionWarning: Data with input dtype uint8, int64 were all converted to float64 by StandardScaler.\n",
      "  return self.partial_fit(X, y)\n",
      "C:\\Users\\mtran\\AppData\\Local\\Continuum\\anaconda3\\envs\\DS7331_Python3.5R\\lib\\site-packages\\ipykernel_launcher.py:6: DataConversionWarning: Data with input dtype uint8, int64 were all converted to float64 by StandardScaler.\n",
      "  \n",
      "C:\\Users\\mtran\\AppData\\Local\\Continuum\\anaconda3\\envs\\DS7331_Python3.5R\\lib\\site-packages\\ipykernel_launcher.py:7: DataConversionWarning: Data with input dtype uint8, int64 were all converted to float64 by StandardScaler.\n",
      "  import sys\n",
      "C:\\Users\\mtran\\AppData\\Local\\Continuum\\anaconda3\\envs\\DS7331_Python3.5R\\lib\\site-packages\\sklearn\\utils\\validation.py:752: DataConversionWarning: A column-vector y was passed when a 1d array was expected. Please change the shape of y to (n_samples, ), for example using ravel().\n",
      "  y = column_or_1d(y, warn=True)\n"
     ]
    },
    {
     "name": "stdout",
     "output_type": "stream",
     "text": [
      "Model 3 - Accuracy: 0.6752972388719662 \n",
      "Confusion Matrix\n",
      " [[8993 1976]\n",
      " [4633 4752]]\n",
      "discharge_disposition_id_11 has weight of -0.8702271095203993\n",
      "discharge_disposition_id_14 has weight of -0.17892145514780444\n",
      "discharge_disposition_id_13 has weight of -0.1254620264976738\n",
      "admission_source_id_2 has weight of -0.11633068178312078\n",
      "admission_type_id_4 has weight of -0.1084907569720228\n",
      "admission_type_id_3 has weight of -0.10231465135334027\n",
      "admission_source_id_1 has weight of -0.08626716276123939\n",
      "medical_specialty_InternalMedicine has weight of -0.07639696917733496\n",
      "medical_specialty_Surgery-Cardiovascular/Thoracic has weight of -0.07540366772246755\n",
      "admission_source_id_4 has weight of -0.06671542504108534\n",
      "admission_source_id_6 has weight of -0.06291962967517713\n",
      "admission_type_id_1 has weight of -0.06189753237494815\n",
      "medical_specialty_Orthopedics-Reconstructive has weight of -0.05816551798797815\n",
      "admission_source_id_17 has weight of -0.05472110369488204\n",
      "medical_specialty_ObstetricsandGynecology has weight of -0.04917144106912905\n",
      "discharge_disposition_id_19 has weight of -0.04880553415652365\n",
      "num_procedures has weight of -0.0483218541538595\n",
      "discharge_disposition_id_3 has weight of -0.045258379015269294\n",
      "discharge_disposition_id_18 has weight of -0.04419969459096487\n",
      "medical_specialty_Surgery-Neuro has weight of -0.04151840569412695\n",
      "medical_specialty_DCPTEAM has weight of -0.0402848274439033\n",
      "race_Unspecified has weight of -0.039890297564707536\n",
      "admission_source_id_9 has weight of -0.039096224016796244\n",
      "diag_3_val_Neoplasms has weight of -0.038417824528670055\n",
      "admission_source_id_5 has weight of -0.03641867757788119\n",
      "diag_2_val_Injury has weight of -0.03504330471690788\n",
      "discharge_disposition_id_25 has weight of -0.03424410481638636\n",
      "admission_type_id_5 has weight of -0.03402485147787568\n",
      "diabetesMed_No has weight of -0.03368661720181599\n",
      "diag_1_val_Neoplasms has weight of -0.033306259684025195\n",
      "medical_specialty_Pediatrics-Endocrinology has weight of -0.031182847953721695\n",
      "diag_2_val_Other has weight of -0.031067222718290197\n",
      "medical_specialty_Cardiology has weight of -0.03092818312797039\n",
      "discharge_disposition_id_22 has weight of -0.02543670209548486\n",
      "diag_1_val_Genitourinary has weight of -0.024935847236323742\n",
      "race_Asian has weight of -0.02398282341622554\n",
      "diag_1_val_Injury has weight of -0.023537490938614892\n",
      "medical_specialty_Speech has weight of -0.022698317868678052\n",
      "diag_3_val_Injury has weight of -0.02262186365746875\n",
      "discharge_disposition_id_20 has weight of -0.02177647500177641\n",
      "A1Cresult_Norm has weight of -0.0216680984484804\n",
      "medical_specialty_Proctology has weight of -0.02090667668970076\n",
      "medical_specialty_Neurophysiology has weight of -0.02047405956904221\n",
      "admission_source_id_14 has weight of -0.019389089800826376\n",
      "medical_specialty_Perinatology has weight of -0.01934942491324043\n",
      "medical_specialty_Endocrinology has weight of -0.018299844535481384\n",
      "race_Other has weight of -0.017676230859301378\n",
      "medical_specialty_Surgery-Cardiovascular has weight of -0.01753355382794776\n",
      "meds_increased_0 has weight of -0.017471213720373264\n",
      "diag_2_val_Digestive has weight of -0.016732984874007505\n",
      "medical_specialty_Neurology has weight of -0.01653494454178268\n",
      "gender_Male has weight of -0.01628978487267604\n",
      "race_Hispanic has weight of -0.014970306259113985\n",
      "medical_specialty_PhysicalMedicineandRehabilitation has weight of -0.013724427187974318\n",
      "max_glu_serum_Norm has weight of -0.013593285350389927\n",
      "medical_specialty_Surgeon has weight of -0.012361586264023672\n",
      "A1Cresult_>7 has weight of -0.012358456963093161\n",
      "medical_specialty_Surgery-Thoracic has weight of -0.011636910699260216\n",
      "medical_specialty_Orthopedics has weight of -0.010921156289990802\n",
      "medical_specialty_Gynecology has weight of -0.010912826974396037\n",
      "medical_specialty_Obstetrics has weight of -0.010365413070333259\n",
      "diag_2_val_None has weight of -0.009907602186395872\n",
      "discharge_disposition_id_2 has weight of -0.009518519223113722\n",
      "medical_specialty_Otolaryngology has weight of -0.008728298150269657\n",
      "medical_specialty_Oncology has weight of -0.008699879206130174\n",
      "admission_type_id_8 has weight of -0.008195082307000936\n",
      "medical_specialty_Pediatrics has weight of -0.007875726300543224\n",
      "diag_3_val_Musculoskeletal has weight of -0.007418125300844341\n",
      "discharge_disposition_id_24 has weight of -0.007254729733423597\n",
      "diag_3_val_Other has weight of -0.00724653216875014\n",
      "diag_1_val_None has weight of -0.007112830625068339\n",
      "medical_specialty_Pediatrics-Hematology-Oncology has weight of -0.00677041711766376\n",
      "medical_specialty_Anesthesiology has weight of -0.006655193170387434\n",
      "medical_specialty_Endocrinology-Metabolism has weight of -0.006496717594665813\n",
      "medical_specialty_Pulmonology has weight of -0.005710599002171635\n",
      "medical_specialty_Surgery-Maxillofacial has weight of -0.005433996650084424\n",
      "diag_2_val_Genitourinary has weight of -0.005281834168605498\n",
      "diag_1_val_Digestive has weight of -0.005155831311928928\n",
      "medical_specialty_Urology has weight of -0.005002055890928676\n",
      "medical_specialty_Radiology has weight of -0.004879713276960024\n",
      "discharge_disposition_id_17 has weight of -0.0047468307397974955\n",
      "admission_source_id_8 has weight of -0.0047429486890628305\n",
      "diag_3_val_None has weight of -0.004657640322206808\n",
      "medical_specialty_Anesthesiology-Pediatric has weight of -0.004323193545271448\n",
      "max_glu_serum_None has weight of -0.003839859640098602\n",
      "change_Ch has weight of -0.0035961496630499547\n",
      "medical_specialty_Obsterics&Gynecology-GynecologicOnco has weight of -0.003338839466283294\n",
      "medical_specialty_Psychiatry has weight of -0.00283985766767661\n",
      "diag_2_val_Musculoskeletal has weight of -0.0022942079210511936\n",
      "discharge_disposition_id_1 has weight of -0.001882766651121443\n",
      "medical_specialty_Pediatrics-Neurology has weight of -0.0018589072543168277\n",
      "max_glu_serum_>200 has weight of -0.0012261853958423954\n",
      "A1Cresult_>8 has weight of -0.0008759092473438893\n",
      "medical_specialty_Rheumatology has weight of -0.0006772919961171435\n",
      "medical_specialty_Psychology has weight of -6.885760377480719e-05\n",
      "medical_specialty_Pediatrics-EmergencyMedicine has weight of 0.0\n",
      "medical_specialty_Psychiatry-Addictive has weight of 0.0\n",
      "discharge_disposition_id_27 has weight of 0.00020079393001875523\n",
      "diag_1_val_Other has weight of 0.00035657086109824686\n",
      "time_in_hospital has weight of 0.00037960253735720207\n",
      "race_AfricanAmerican has weight of 0.0004268203904559618\n",
      "discharge_disposition_id_10 has weight of 0.0008167562417488329\n",
      "medical_specialty_Ophthalmology has weight of 0.000942871374500785\n",
      "diag_2_val_Respiratory has weight of 0.0011716953298973876\n",
      "diag_2_val_Neoplasms has weight of 0.0015279431698208687\n",
      "medical_specialty_Surgery-Pediatric has weight of 0.0015293224349139025\n",
      "discharge_disposition_id_15 has weight of 0.0018867054075574611\n",
      "discharge_disposition_id_28 has weight of 0.0024327446228933603\n",
      "medical_specialty_Surgery-Plastic has weight of 0.0025570974405875373\n",
      "medical_specialty_OutreachServices has weight of 0.00286110624740219\n",
      "medical_specialty_Surgery-Colon&Rectal has weight of 0.0029125515577831493\n",
      "diag_1_val_Musculoskeletal has weight of 0.0030710792353070247\n",
      "medical_specialty_SurgicalSpecialty has weight of 0.003229315258229827\n",
      "change_No has weight of 0.0035961496630431823\n",
      "medical_specialty_Hematology has weight of 0.0050175216374314675\n",
      "diag_3_val_Respiratory has weight of 0.005483664834962582\n",
      "medical_specialty_InfectiousDiseases has weight of 0.0055199131728568985\n",
      "medical_specialty_Psychiatry-Child/Adolescent has weight of 0.005733953353682396\n",
      "medical_specialty_Dentistry has weight of 0.007013106892795535\n",
      "diag_3_val_Circulatory has weight of 0.007135437893131694\n",
      "admission_source_id_3 has weight of 0.0071594754528845565\n",
      "discharge_disposition_id_12 has weight of 0.007301719231831545\n",
      "medical_specialty_Surgery-General has weight of 0.0076879027788346104\n",
      "medical_specialty_Pediatrics-CriticalCare has weight of 0.008491639178045263\n",
      "discharge_disposition_id_16 has weight of 0.008810277700323863\n",
      "medical_specialty_Cardiology-Pediatric has weight of 0.009156665675619648\n",
      "medical_specialty_Osteopath has weight of 0.009171372708918605\n",
      "medical_specialty_AllergyandImmunology has weight of 0.009416412366114516\n",
      "medical_specialty_Pathology has weight of 0.00951599084360487\n",
      "diag_1_val_Respiratory has weight of 0.00961302503671145\n",
      "medical_specialty_Hospitalist has weight of 0.010042312843105108\n",
      "medical_specialty_Family/GeneralPractice has weight of 0.010469821738947383\n",
      "diag_3_val_Digestive has weight of 0.010802966888850048\n",
      "medical_specialty_PhysicianNotFound has weight of 0.010862156675117885\n",
      "medical_specialty_Pediatrics-Pulmonology has weight of 0.011954601425526987\n",
      "admission_source_id_22 has weight of 0.01238717260422382\n",
      "medical_specialty_Hematology/Oncology has weight of 0.012572443082720767\n",
      "medical_specialty_Surgery-Vascular has weight of 0.014383711274469337\n",
      "medical_specialty_Podiatry has weight of 0.01447531338851091\n",
      "diag_1_val_Circulatory has weight of 0.015557411337363103\n",
      "medical_specialty_Radiologist has weight of 0.015652132626361885\n",
      "medical_specialty_Gastroenterology has weight of 0.016164244164606826\n",
      "admission_source_id_20 has weight of 0.01617584503596968\n",
      "gender_Female has weight of 0.01628978487267604\n",
      "discharge_disposition_id_4 has weight of 0.017228724737319286\n",
      "meds_increased_1 has weight of 0.01747121372037266\n",
      "diag_2_val_Circulatory has weight of 0.01890321650903301\n",
      "A1Cresult_None has weight of 0.01945649165339153\n",
      "medication_count has weight of 0.019704512008595812\n",
      "medical_specialty_SportsMedicine has weight of 0.022684307288377368\n",
      "medical_specialty_Dermatology has weight of 0.023572112413718996\n",
      "medical_specialty_Surgery-PlasticwithinHeadandNeck has weight of 0.023774210382396098\n",
      "diag_3_val_Diabeties has weight of 0.023837009407101994\n",
      "diag_3_val_Genitourinary has weight of 0.024184977897762406\n",
      "medical_specialty_Resident has weight of 0.02428709672207223\n",
      "medical_specialty_Pediatrics-InfectiousDiseases has weight of 0.024506979954454392\n",
      "race_Caucasian has weight of 0.02728234923463225\n",
      "max_glu_serum_>300 has weight of 0.028499692303457738\n",
      "diag_2_val_Diabeties has weight of 0.032046354943223165\n",
      "medical_specialty_Nephrology has weight of 0.0328327823309371\n",
      "diabetesMed_Yes has weight of 0.03368661720181918\n",
      "medical_specialty_Pediatrics-AllergyandImmunology has weight of 0.037533520848031424\n",
      "discharge_disposition_id_5 has weight of 0.04255135603290829\n",
      "discharge_disposition_id_6 has weight of 0.04349994469254319\n",
      "medical_specialty_Emergency/Trauma has weight of 0.04371915041974652\n",
      "diag_1_val_Diabeties has weight of 0.047097974675015315\n",
      "admission_type_id_2 has weight of 0.04997233228720426\n",
      "admission_source_id_7 has weight of 0.056009056450844696\n",
      "age has weight of 0.07051141850410422\n",
      "medical_specialty_Unspecified has weight of 0.07131074745295739\n",
      "discharge_disposition_id_8 has weight of 0.09161369897965647\n",
      "num_medications has weight of 0.09240077174912825\n",
      "admission_type_id_6 has weight of 0.10033363378461205\n",
      "num_lab_procedures has weight of 0.10541316642504357\n",
      "number_outpatient has weight of 0.12362293943483704\n",
      "discharge_disposition_id_9 has weight of 0.1450355362437525\n",
      "number_diagnoses has weight of 0.17159776972202115\n",
      "number_emergency has weight of 0.24422525287672117\n",
      "discharge_disposition_id_7 has weight of 0.3378261305918264\n",
      "discharge_disposition_id_23 has weight of 0.35942286824679853\n",
      "number_inpatient has weight of 0.450973633081601\n",
      "admission_source_id_25 has weight of 0.49621976611197377\n",
      "admission_source_id_10 has weight of 0.5057168009068713\n",
      "admission_type_id_7 has weight of 0.6096753088617688\n"
     ]
    }
   ],
   "source": [
    "#Model 3 - Normalize features\n",
    "#Scale attributes by training set\n",
    "scl_obj = StandardScaler()\n",
    "scl_obj.fit(x_train)\n",
    "\n",
    "x_train_scaled = scl_obj.transform(x_train) # apply to training\n",
    "x_test_scaled = scl_obj.transform(x_test)\n",
    "\n",
    "#Train the model just as before\n",
    "lr_clf = LogisticRegression(penalty='l2', C=0.05) \n",
    "lr_clf.fit(x_train_scaled,y_train)\n",
    "\n",
    "#Get test set predictions\n",
    "y_pred3 = lr_clf.predict(x_test_scaled)\n",
    "\n",
    "acc = mt.accuracy_score(y_test,y_pred3)\n",
    "conf = mt.confusion_matrix(y_test,y_pred3)\n",
    "print('Model 3 - Accuracy:', acc, '\\nConfusion Matrix\\n', conf)\n",
    "\n",
    "#Sort these attributes and spit them out\n",
    "zip_vars = zip(lr_clf.coef_.T,df_mlt_hot_x.columns) # combine attributes\n",
    "zip_vars = sorted(zip_vars)\n",
    "for coef, name in zip_vars:\n",
    "    print(name, 'has weight of', coef[0]) # now print them out\n"
   ]
  },
  {
   "cell_type": "code",
   "execution_count": 17,
   "metadata": {},
   "outputs": [
    {
     "name": "stderr",
     "output_type": "stream",
     "text": [
      "C:\\Users\\mtran\\AppData\\Local\\Continuum\\anaconda3\\envs\\DS7331_Python3.5R\\lib\\site-packages\\sklearn\\preprocessing\\data.py:617: DataConversionWarning: Data with input dtype uint8, int64 were all converted to float64 by StandardScaler.\n",
      "  return self.partial_fit(X, y)\n",
      "C:\\Users\\mtran\\AppData\\Local\\Continuum\\anaconda3\\envs\\DS7331_Python3.5R\\lib\\site-packages\\sklearn\\base.py:462: DataConversionWarning: Data with input dtype uint8, int64 were all converted to float64 by StandardScaler.\n",
      "  return self.fit(X, **fit_params).transform(X)\n",
      "C:\\Users\\mtran\\AppData\\Local\\Continuum\\anaconda3\\envs\\DS7331_Python3.5R\\lib\\site-packages\\sklearn\\linear_model\\stochastic_gradient.py:130: DeprecationWarning: n_iter parameter is deprecated in 0.19 and will be removed in 0.21. Use max_iter and tol instead.\n",
      "  DeprecationWarning)\n",
      "C:\\Users\\mtran\\AppData\\Local\\Continuum\\anaconda3\\envs\\DS7331_Python3.5R\\lib\\site-packages\\sklearn\\utils\\validation.py:752: DataConversionWarning: A column-vector y was passed when a 1d array was expected. Please change the shape of y to (n_samples, ), for example using ravel().\n",
      "  y = column_or_1d(y, warn=True)\n"
     ]
    },
    {
     "name": "stdout",
     "output_type": "stream",
     "text": [
      "Model 4 - F1 Score: 0.6544941824792816\n",
      "Model 4 - Accuracy: 0.6670924633978579 \n",
      "Confusion Matrix\n",
      " [[9151 1818]\n",
      " [4958 4427]]\n"
     ]
    },
    {
     "name": "stderr",
     "output_type": "stream",
     "text": [
      "C:\\Users\\mtran\\AppData\\Local\\Continuum\\anaconda3\\envs\\DS7331_Python3.5R\\lib\\site-packages\\ipykernel_launcher.py:13: DataConversionWarning: Data with input dtype uint8, int64 were all converted to float64 by StandardScaler.\n",
      "  del sys.path[0]\n"
     ]
    }
   ],
   "source": [
    "#Model 4: Logistic Regression with SGD\n",
    "#https://scikit-learn.org/stable/modules/generated/sklearn.linear_model.SGDClassifier.html#sklearn.linear_model.SGDClassifier\n",
    "#https://scikit-learn.org/stable/modules/generated/sklearn.linear_model.LogisticRegression.html\n",
    "regularize_const = 0.1\n",
    "iterations = 3\n",
    "\n",
    "log_sgd = SGDClassifier(alpha = regularize_const,\n",
    "        fit_intercept = True, l1_ratio = 0.0, learning_rate = 'optimal',\n",
    "        loss = 'log', n_iter = iterations, n_jobs = -1, penalty = 'l2')\n",
    "\n",
    "scl = StandardScaler()\n",
    "log_sgd.fit(scl.fit_transform(x_train), y_train)\n",
    "y_pred4 = log_sgd.predict(scl.transform(x_test))\n",
    "conf = mt.confusion_matrix(y_test, y_pred4)\n",
    "acc = mt.accuracy_score(y_test, y_pred4)\n",
    "f1 = f1_score(y_test, y_pred4, average = 'weighted')\n",
    "\n",
    "print(\"Model 4 - F1 Score:\", f1)\n",
    "print(\"Model 4 - Accuracy:\", acc, '\\nConfusion Matrix\\n', conf)"
   ]
  },
  {
   "cell_type": "code",
   "execution_count": null,
   "metadata": {},
   "outputs": [],
   "source": []
  }
 ],
 "metadata": {
  "kernelspec": {
   "display_name": "Python 3",
   "language": "python",
   "name": "python3"
  },
  "language_info": {
   "codemirror_mode": {
    "name": "ipython",
    "version": 3
   },
   "file_extension": ".py",
   "mimetype": "text/x-python",
   "name": "python",
   "nbconvert_exporter": "python",
   "pygments_lexer": "ipython3",
   "version": "3.5.6"
  }
 },
 "nbformat": 4,
 "nbformat_minor": 2
}
