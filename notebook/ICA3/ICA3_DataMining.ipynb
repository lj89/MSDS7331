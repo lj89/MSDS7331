{
 "cells": [
  {
   "cell_type": "code",
   "execution_count": 10,
   "metadata": {},
   "outputs": [
    {
     "data": {
      "text/html": [
       "<link href='https://fonts.googleapis.com/css?family=Passion+One' rel='stylesheet' type='text/css'><style>div.attn { font-family: 'Helvetica Neue'; font-size: 30px; line-height: 40px; color: #FFFFFF; text-align: center; margin: 30px 0; border-width: 10px 0; border-style: solid; border-color: #5AAAAA; padding: 30px 0; background-color: #DDDDFF; }hr { border: 0; background-color: #ffffff; border-top: 1px solid black; }hr.major { border-top: 10px solid #5AAA5A; }hr.minor { border: none; background-color: #ffffff; border-top: 5px dotted #CC3333; }div.bubble { width: 65%; padding: 20px; background: #DDDDDD; border-radius: 15px; margin: 0 auto; font-style: italic; color: #f00; }em { color: #AAA; }div.c1{visibility:hidden;margin:0;height:0;}div.note{color:red;}</style>"
      ],
      "text/plain": [
       "<IPython.core.display.HTML object>"
      ]
     },
     "execution_count": 10,
     "metadata": {},
     "output_type": "execute_result"
    }
   ],
   "source": [
    "#  Ebnable HTML/CSS \n",
    "from IPython.core.display import HTML\n",
    "HTML(\"<link href='https://fonts.googleapis.com/css?family=Passion+One' rel='stylesheet' type='text/css'><style>div.attn { font-family: 'Helvetica Neue'; font-size: 30px; line-height: 40px; color: #FFFFFF; text-align: center; margin: 30px 0; border-width: 10px 0; border-style: solid; border-color: #5AAAAA; padding: 30px 0; background-color: #DDDDFF; }hr { border: 0; background-color: #ffffff; border-top: 1px solid black; }hr.major { border-top: 10px solid #5AAA5A; }hr.minor { border: none; background-color: #ffffff; border-top: 5px dotted #CC3333; }div.bubble { width: 65%; padding: 20px; background: #DDDDDD; border-radius: 15px; margin: 0 auto; font-style: italic; color: #f00; }em { color: #AAA; }div.c1{visibility:hidden;margin:0;height:0;}div.note{color:red;}</style>\")"
   ]
  },
  {
   "cell_type": "markdown",
   "metadata": {},
   "source": [
    "___\n",
    "Enter Team Member Names here (double click to edit):\n",
    "\n",
    "- Name 1: Zackary Gill\n",
    "- Name 2: Mai Loan Tran\n",
    "- Name 3: Samantha Sprague\n",
    "- Name 4: Lei Jiang\n",
    "\n",
    "\n",
    "________\n",
    "\n",
    "# In Class Assignment Three\n",
    "In the following assignment you will be asked to fill in python code and derivations for a number of different problems. Please read all instructions carefully and turn in the rendered notebook (or HTML of the rendered notebook)  before the end of class.\n",
    "\n",
    "<a id=\"top\"></a>\n",
    "## Contents\n",
    "* <a href=\"#Loading\">Loading the Data</a>\n",
    "* <a href=\"#distance\">Measuring Distances</a>\n",
    "* <a href=\"#KNN\">K-Nearest Neighbors</a>\n",
    "* <a href=\"#naive\">Naive Bayes</a>\n",
    "\n",
    "________________________________________________________________________________________________________\n",
    "<a id=\"Loading\"></a>\n",
    "<a href=\"#top\">Back to Top</a>\n",
    "## Downloading the Document Data\n",
    "Please run the following code to read in the \"20 newsgroups\" dataset from sklearn's data loading module."
   ]
  },
  {
   "cell_type": "code",
   "execution_count": 32,
   "metadata": {},
   "outputs": [
    {
     "name": "stdout",
     "output_type": "stream",
     "text": [
      "features shape: (11314, 130107)\n",
      "target shape: (11314,)\n",
      "range of target: 0 19\n",
      "Data type is <class 'scipy.sparse.csr.csr_matrix'> 0.1214353154362896 % of the data is non-zero\n"
     ]
    }
   ],
   "source": [
    "from __future__ import print_function\n",
    "from sklearn.datasets import fetch_20newsgroups_vectorized\n",
    "import numpy as np\n",
    "\n",
    "# this takes about 30 seconds to compute, read the next section while this downloads\n",
    "ds = fetch_20newsgroups_vectorized(subset='train')\n",
    "\n",
    "# this holds the continuous feature data (which is tfidf)\n",
    "print('features shape:', ds.data.shape) # there are ~11000 instances and ~130k features per instance\n",
    "print('target shape:', ds.target.shape) \n",
    "print('range of target:', np.min(ds.target),np.max(ds.target))\n",
    "print('Data type is', type(ds.data), float(ds.data.nnz)/(ds.data.shape[0]*ds.data.shape[1])*100, '% of the data is non-zero')"
   ]
  },
  {
   "cell_type": "markdown",
   "metadata": {},
   "source": [
    "## Understanding the Dataset\n",
    "Look at the description for the 20 newsgroups dataset at http://qwone.com/~jason/20Newsgroups/. You have just downloaded the \"vectorized\" version of the dataset, which means all the words inside the articles have gone through a transformation that binned them into 130 thousand features related to the words in them.  \n",
    "\n",
    "**Question Set 1**:\n",
    "- How many instances are in the dataset? \n",
    "- What does each instance represent? \n",
    "- How many classes are in the dataset and what does each class represent?\n",
    "- Would you expect a classifier trained on this data would generalize to documents written in the past week? Why or why not?\n",
    "- Is the data represented as a sparse or dense matrix?"
   ]
  },
  {
   "cell_type": "markdown",
   "metadata": {},
   "source": [
    "___\n",
    "Enter your answer here:\n",
    "\n",
    "- 11314 instances in the dataset.\n",
    "- Each instance represents an article that have had the words be binned.\n",
    "- There are 20 classes in the dataset, with each corresponding to a different topic.\n",
    "- I would expect this to work on articles of subjects that are have been around a long time and have well established terminology, but not well on the ones that are more trendy.\n",
    "- The data is sparse because as seen above 88% of it is zero.\n"
   ]
  },
  {
   "cell_type": "markdown",
   "metadata": {},
   "source": [
    "___\n",
    "<a id=\"distance\"></a>\n",
    "<a href=\"#top\">Back to Top</a>\n",
    "## Measures of Distance\n",
    "In the following block of code, we isolate three instances from the dataset. The instance \"`a`\" is from the group *computer graphics*, \"`b`\" is from from the group *recreation autos*, and \"`c`\" is from group *recreation motorcycle*. **Exercise for part 2**: Calculate the: \n",
    "- (1) Euclidean distance\n",
    "- (2) Cosine distance \n",
    "- (3) Jaccard similarity \n",
    "\n",
    "between each pair of instances using the imported functions below. Remember that the Jaccard similarity is only for binary valued vectors, so convert vectors to binary using a threshold. \n",
    "\n",
    "**Question for part 2**: Which distance seems more appropriate to use for this data? **Why**?"
   ]
  },
  {
   "cell_type": "code",
   "execution_count": 35,
   "metadata": {},
   "outputs": [
    {
     "name": "stdout",
     "output_type": "stream",
     "text": [
      "Instance A is from class comp.graphics\n",
      "Instance B is from class rec.autos\n",
      "Instance C is from class rec.motorcycles\n",
      "\n",
      "\n",
      "Euclidean Distance\n",
      " ab: 1.0985184671870858 ac: 1.1891405425398234 bc: 0.9177794226661624\n",
      "Cosine Distance\n",
      " ab: 0.6033714113755322 ac: 0.7070276149559529 bc: 0.4211595343347173\n",
      "Jaccard Dissimilarity (vectors should be boolean values)\n",
      " ab: 1.0 ac: 1.0 bc: 0.0\n",
      "\n",
      "\n",
      "The most appropriate distance is...\n",
      "Cosine is the best because it gives a scaled distance between the groups.\n",
      "As you can see groups B and C are quite similar (which is reflected in the values),\n",
      "and AB, AC are significantly larger which indicates a large dissimilarity.\n"
     ]
    }
   ],
   "source": [
    "from scipy.spatial.distance import cosine\n",
    "from scipy.spatial.distance import euclidean\n",
    "from scipy.spatial.distance import jaccard\n",
    "import numpy as np\n",
    "\n",
    "# get first instance (comp)\n",
    "idx = 550\n",
    "a = ds.data[idx].todense()\n",
    "a_class = ds.target_names[ds.target[idx]]\n",
    "print('Instance A is from class', a_class)\n",
    "\n",
    "# get second instance (autos)\n",
    "idx = 4000\n",
    "b = ds.data[idx].todense()\n",
    "b_class = ds.target_names[ds.target[idx]]\n",
    "print('Instance B is from class', b_class)\n",
    "\n",
    "# get third instance (motorcycle)\n",
    "idx = 7000\n",
    "c = ds.data[idx].todense()\n",
    "c_class = ds.target_names[ds.target[idx]]\n",
    "print('Instance C is from class', c_class)\n",
    "\n",
    "# Enter distance comparison below for each pair of vectors:\n",
    "p = 'Placeholder'\n",
    "print('\\n\\nEuclidean Distance\\n ab:', euclidean(a, b), 'ac:', euclidean(a, c), 'bc:',euclidean(b, c))\n",
    "print('Cosine Distance\\n ab:', cosine(a,b), 'ac:', cosine(a,c), 'bc:', cosine(b,c))\n",
    "a1 = np.where(a > 0.5, 1, 0)\n",
    "b1 = np.where(b > 0.5, 1, 0)\n",
    "c1 = np.where(c > 0.5, 1, 0)\n",
    "print('Jaccard Dissimilarity (vectors should be boolean values)\\n ab:', jaccard(a1,b1), 'ac:', jaccard(a1,c1), 'bc:', jaccard(b1,c1))\n",
    "\n",
    "print('\\n\\nThe most appropriate distance is...')\n",
    "print(\"\"\"Cosine is the best because it gives a scaled distance between the groups.\n",
    "As you can see groups B and C are quite similar (which is reflected in the values),\n",
    "and AB, AC are significantly larger which indicates a large dissimilarity.\"\"\")"
   ]
  },
  {
   "cell_type": "markdown",
   "metadata": {},
   "source": [
    "___\n",
    "# Start of Live Session Assignment\n",
    "___\n",
    "<a id=\"KNN\"></a>\n",
    "<a href=\"#top\">Back to Top</a>\n",
    "## Using scikit-learn with KNN\n",
    "Now let's use stratified cross validation with a holdout set to train a KNN model in `scikit-learn`. Use the example below to train a KNN classifier. The documentation for `KNeighborsClassifier` is here: http://scikit-learn.org/stable/modules/generated/sklearn.neighbors.KNeighborsClassifier.html  \n",
    "\n",
    "**Exercise for part 3**: Use the code below to test what value of `n_neighbors` works best for the given data. *Note: do NOT change the metric to be anything other than `'euclidean'`. Other distance functions are not optimized for the amount of data we are working with.* \n",
    "\n",
    "**Question for part 3**: What is the accuracy of the best classifier you can create for this data (by changing only the `n_neighbors` parameter)? "
   ]
  },
  {
   "cell_type": "code",
   "execution_count": 34,
   "metadata": {},
   "outputs": [
    {
     "name": "stdout",
     "output_type": "stream",
     "text": [
      "K: 1 ACC: 0.5865299628778504\n",
      "K: 3 ACC: 0.5184726887042602\n",
      "K: 5 ACC: 0.4908962347534029\n",
      "K: 7 ACC: 0.47427965352660423\n",
      "K: 9 ACC: 0.4610217429733074\n",
      "Accuracy of classifier with 1 neighbors is: 0.59\n"
     ]
    }
   ],
   "source": [
    "from sklearn.model_selection import StratifiedShuffleSplit\n",
    "from sklearn.neighbors import KNeighborsClassifier\n",
    "from sklearn.metrics import accuracy_score\n",
    "from IPython.html import widgets \n",
    "from sklearn.model_selection import train_test_split\n",
    "\n",
    "#cv = StratifiedShuffleSplit(ds.target, n_iter = 1, test_size = 0.5, train_size=0.5)\n",
    "#cv = StratifiedShuffleSplit(ds.target, n_iter = 1, test_size = 0.5, train_size=0.5)\n",
    "\n",
    "# fill in the training and testing data and save as separate variables\n",
    "#for trainidx, testidx in cv:\n",
    "    # note that these are sparse matrices\n",
    "#    X_train = ds.data[trainidx] \n",
    "#    X_test = ds.data[testidx] \n",
    "#    y_train = ds.target[trainidx]\n",
    "#    y_test = ds.target[testidx]\n",
    "\n",
    "# TO THE GRADER:\n",
    "# We tried to run the exact code, but we are using Python 3.5 which caused it to not work\n",
    "# and so we used this code from our project for KNN\n",
    "#-------------------------------------------------------------------------------\n",
    "X_train, X_test, y_train, y_test = train_test_split(ds.data, ds.target, test_size = 0.5, random_state=7)\n",
    "myList = list(range(1,10))\n",
    "# subsetting just the odd ones\n",
    "neighbors = filter(lambda x: x % 2 != 0, myList)\n",
    "\n",
    "K = 0\n",
    "acc = -1\n",
    "for k in neighbors:\n",
    "    clf = KNeighborsClassifier(n_neighbors = k, weights = 'uniform', metric = 'euclidean')\n",
    "    clf.fit(X_train, y_train)\n",
    "    yhat = clf.predict(X_test)\n",
    "    acc1 = accuracy_score(y_test, yhat)\n",
    "    print(\"K:\", k, \"ACC:\", acc1)\n",
    "    if acc1 > acc:\n",
    "        acc = acc1\n",
    "        K = k\n",
    "\n",
    "print('Accuracy of classifier with %d neighbors is: %.2f'%(K,acc))\n"
   ]
  },
  {
   "cell_type": "markdown",
   "metadata": {},
   "source": [
    "The best accuracy is 0.59 with 1 neighbor."
   ]
  },
  {
   "cell_type": "markdown",
   "metadata": {},
   "source": [
    "**Question for part 3**: With sparse data, does the use of a KDTree representation make sense? Why or Why not?"
   ]
  },
  {
   "cell_type": "markdown",
   "metadata": {},
   "source": [
    "Enter your answer below:\n",
    "\n",
    "Using a KDTree does not make sense for this data because a KDTree does not work with a large number of dimensions, which makes the density of the data sparse. In the case of this dataset we have both a large number of dimensions paired with sparse data. This makes the tree too large and computationally intensive.\n",
    "___"
   ]
  },
  {
   "cell_type": "markdown",
   "metadata": {
    "collapsed": true
   },
   "source": [
    "_____\n",
    "## KNN extensions - Centroids\n",
    "Now lets look at a very closely related classifier to KNN, called nearest centroid. In this classifier (which is more appropriate for big data scenarios and sparse data), the training step is used to calculate the centroids for each class. These centroids are saved. Unknown attributes, at prediction time, only need to have distances calculated for each saved centroid, drastically decreasing the time required for a prediction. \n",
    "\n",
    "**Exercise for part 4**: Use the template code below to create a nearest centroid classifier. Test which metric has the best cross validated performance: Euclidean, Cosine, or Manhattan. In `scikit-learn` you can see the documentation for NearestCentroid here: \n",
    "- http://scikit-learn.org/stable/modules/generated/sklearn.neighbors.NearestCentroid.html#sklearn.neighbors.NearestCentroid\n",
    "\n",
    "and for supported distance metrics here:\n",
    "- http://scikit-learn.org/stable/modules/generated/sklearn.metrics.pairwise.distance_metrics.html#sklearn.metrics.pairwise.distance_metrics"
   ]
  },
  {
   "cell_type": "code",
   "execution_count": 39,
   "metadata": {},
   "outputs": [
    {
     "name": "stderr",
     "output_type": "stream",
     "text": [
      "C:\\ProgramData\\Anaconda3\\envs\\DS7331_35r\\lib\\site-packages\\sklearn\\neighbors\\nearest_centroid.py:141: UserWarning: Averaging for metrics other than euclidean and manhattan not supported. The average is set to be the mean.\n",
      "  warnings.warn(\"Averaging for metrics other than \"\n"
     ]
    },
    {
     "name": "stdout",
     "output_type": "stream",
     "text": [
      "EL2.ACC: 0.4071062400565671\n",
      "E.ACC: 0.4071062400565671\n"
     ]
    },
    {
     "name": "stderr",
     "output_type": "stream",
     "text": [
      "C:\\ProgramData\\Anaconda3\\envs\\DS7331_35r\\lib\\site-packages\\sklearn\\neighbors\\nearest_centroid.py:141: UserWarning: Averaging for metrics other than euclidean and manhattan not supported. The average is set to be the mean.\n",
      "  warnings.warn(\"Averaging for metrics other than \"\n"
     ]
    },
    {
     "name": "stdout",
     "output_type": "stream",
     "text": [
      "C.ACC: 0.49248718401979846\n",
      "M.ACC: 0.17765600141417712\n"
     ]
    },
    {
     "name": "stderr",
     "output_type": "stream",
     "text": [
      "C:\\ProgramData\\Anaconda3\\envs\\DS7331_35r\\lib\\site-packages\\sklearn\\neighbors\\nearest_centroid.py:141: UserWarning: Averaging for metrics other than euclidean and manhattan not supported. The average is set to be the mean.\n",
      "  warnings.warn(\"Averaging for metrics other than \"\n"
     ]
    },
    {
     "name": "stdout",
     "output_type": "stream",
     "text": [
      "ML1.ACC: 0.3128866890578045\n",
      "The best distance metric is: Cosine 0.49\n"
     ]
    }
   ],
   "source": [
    "from sklearn.neighbors.nearest_centroid import NearestCentroid\n",
    "\n",
    "# the parameters for the nearest centroid metric to test are:\n",
    "#    l1, l2, and cosine (all are optimized)\n",
    "\n",
    "cv = StratifiedShuffleSplit(n_splits=1, train_size=0.5, test_size = 0.5)\n",
    "for train, test in cv.split(ds.data, ds.target):\n",
    "    X_train = ds.data[train] \n",
    "    X_test = ds.data[test] \n",
    "    y_train = ds.target[train]\n",
    "    y_test = ds.target[test]\n",
    "\n",
    "    clf = NearestCentroid(metric='l2')\n",
    "    clf.fit(X_train, y_train)\n",
    "    yhat = clf.predict(X_test)\n",
    "    print ('EL2.ACC:', accuracy_score(y_test, yhat))\n",
    "\n",
    "    clf = NearestCentroid(metric='euclidean')\n",
    "    clf.fit(X_train, y_train)\n",
    "    yhat = clf.predict(X_test)\n",
    "    print ('E.ACC:', accuracy_score(y_test, yhat))\n",
    "\n",
    "    clf = NearestCentroid(metric='cosine')\n",
    "    clf.fit(X_train, y_train)\n",
    "    yhat = clf.predict(X_test)\n",
    "    print ('C.ACC:', accuracy_score(y_test, yhat))\n",
    "\n",
    "    clf = NearestCentroid(metric='manhattan')\n",
    "    clf.fit(X_train, y_train)\n",
    "    yhat = clf.predict(X_test)\n",
    "    print ('M.ACC:', accuracy_score(y_test, yhat))\n",
    "\n",
    "    clf = NearestCentroid(metric='l1')\n",
    "    clf.fit(X_train, y_train)\n",
    "    yhat = clf.predict(X_test)\n",
    "    print ('ML1.ACC:', accuracy_score(y_test, yhat))\n",
    "    \n",
    "# fill in your code here\n",
    "print('The best distance metric (one with the highest accuracy): Cosine 0.49')"
   ]
  },
  {
   "cell_type": "markdown",
   "metadata": {},
   "source": [
    "___\n",
    "<a id=\"naive\"></a>\n",
    "<a href=\"#top\">Back to Top</a>\n",
    "## Naive Bayes Classification\n",
    "Now let's look at the use of the Naive Bayes classifier. The 20 newsgroups dataset has 20 classes and about 130,000 features per instance. Recall that the Naive Bayes classifer calculates a posterior distribution for each possible class. Each posterior distribution is a multiplication of many conditional distributions: \n",
    "\n",
    "$${\\arg \\max}_{j} \\left(p(class=j)\\prod_{i} p(attribute=i|class=j) \\right)$$\n",
    "\n",
    "where $p(class=j)$ is the prior and $p(attribute=i|class=j)$ is the conditional probability.\n",
    "\n",
    "**Question for part 5**: With this many classes and features, how many different conditional probabilities need to be parameterized? How many priors need to be parameterized?"
   ]
  },
  {
   "cell_type": "markdown",
   "metadata": {},
   "source": [
    "Enter you answer here:\n",
    "- There are 20 classes and 130107 features which means there are [20*130107 = 2,602,140] conditional probabilities.\n",
    "- 20 priors need to be parameterized because there are 20 classes."
   ]
  },
  {
   "cell_type": "code",
   "execution_count": 42,
   "metadata": {},
   "outputs": [
    {
     "data": {
      "text/plain": [
       "2602140"
      ]
     },
     "execution_count": 42,
     "metadata": {},
     "output_type": "execute_result"
    }
   ],
   "source": [
    "# Use this space for any calculations you might want to do\n",
    "# Number of classes times the number of features\n",
    "20*130107"
   ]
  },
  {
   "cell_type": "markdown",
   "metadata": {},
   "source": [
    "___\n",
    "## Naive Bayes in Scikit-learn\n",
    "Scikit has several implementations of the Naive Bayes classifier: `GaussianNB`, `MultinomialNB`, and `BernoulliNB`. Look at the documentation here: http://scikit-learn.org/stable/modules/naive_bayes.html Take a look at each implementation and then answer this question: \n",
    "\n",
    "**Questions for part 6**: \n",
    "- If the instances contain mostly continuous attributes, would it be better to use Gaussian Naive Bayes, Multinomial Naive Bayes, or Bernoulli? And Why? \n",
    "- What if the data is sparse, does this change your answer? Why or Why not?"
   ]
  },
  {
   "cell_type": "markdown",
   "metadata": {},
   "source": [
    "Enter you answer here:\n",
    "\n",
    "- Multinomial Naive Bayes is mostly used for text classification, using counts of data. Bernoulli requires each attribute to be a binary classification (which is not continuous). Gaussian does not have either of these requirements and instead assumes the data has a normal distribution. Based on this Gaussian would be the best choice.\n",
    "- No I would not change to Bernoulli because of the same reasons listed above. I would switch to Multinomial Naive Bayes because it has the smoothing parameter that works well with sparse data.\n",
    "\n",
    "___"
   ]
  },
  {
   "cell_type": "markdown",
   "metadata": {},
   "source": [
    "## Naive Bayes Comparison\n",
    "For the final section of this notebook let's compare the performance of Naive Bayes for document classification. Look at the parameters for `MultinomialNB`, and `BernoulliNB` (especially `alpha` and `binarize`). \n",
    "\n",
    "**Exercise for part 7**: Using the example code below, change the parameters for each classifier and see how accurate you can make the classifiers on the test set. \n",
    "\n",
    "**Question for part 7**: Why are these implementations so fast to train? What does the `'alpha'` value control in these models (*i.e.*, how does it change the parameterizations)? "
   ]
  },
  {
   "cell_type": "code",
   "execution_count": 48,
   "metadata": {
    "scrolled": true
   },
   "outputs": [
    {
     "name": "stdout",
     "output_type": "stream",
     "text": [
      "Bernoulli:\n"
     ]
    },
    {
     "name": "stderr",
     "output_type": "stream",
     "text": [
      "C:\\ProgramData\\Anaconda3\\envs\\DS7331_35r\\lib\\site-packages\\sklearn\\naive_bayes.py:480: UserWarning: alpha too small will result in numeric errors, setting alpha = 1.0e-10\n",
      "  'setting alpha = %.1e' % _ALPHA_MIN)\n",
      "C:\\ProgramData\\Anaconda3\\envs\\DS7331_35r\\lib\\site-packages\\sklearn\\naive_bayes.py:480: UserWarning: alpha too small will result in numeric errors, setting alpha = 1.0e-10\n",
      "  'setting alpha = %.1e' % _ALPHA_MIN)\n"
     ]
    },
    {
     "name": "stdout",
     "output_type": "stream",
     "text": [
      "Alpha: 0.0 Binarize: 0.0 ACC: 0.8516881739437865\n",
      "Alpha: 0.0 Binarize: 0.1 ACC: 0.6765069824995581\n"
     ]
    },
    {
     "name": "stderr",
     "output_type": "stream",
     "text": [
      "C:\\ProgramData\\Anaconda3\\envs\\DS7331_35r\\lib\\site-packages\\sklearn\\naive_bayes.py:480: UserWarning: alpha too small will result in numeric errors, setting alpha = 1.0e-10\n",
      "  'setting alpha = %.1e' % _ALPHA_MIN)\n"
     ]
    },
    {
     "name": "stdout",
     "output_type": "stream",
     "text": [
      "Alpha: 0.0 Binarize: 0.2 ACC: 0.3523068764362736\n"
     ]
    },
    {
     "name": "stderr",
     "output_type": "stream",
     "text": [
      "C:\\ProgramData\\Anaconda3\\envs\\DS7331_35r\\lib\\site-packages\\sklearn\\naive_bayes.py:480: UserWarning: alpha too small will result in numeric errors, setting alpha = 1.0e-10\n",
      "  'setting alpha = %.1e' % _ALPHA_MIN)\n",
      "C:\\ProgramData\\Anaconda3\\envs\\DS7331_35r\\lib\\site-packages\\sklearn\\naive_bayes.py:480: UserWarning: alpha too small will result in numeric errors, setting alpha = 1.0e-10\n",
      "  'setting alpha = %.1e' % _ALPHA_MIN)\n"
     ]
    },
    {
     "name": "stdout",
     "output_type": "stream",
     "text": [
      "Alpha: 0.0 Binarize: 0.30000000000000004 ACC: 0.16475163514230157\n",
      "Alpha: 0.0 Binarize: 0.4 ACC: 0.09245182959165635\n",
      "Alpha: 0.1 Binarize: 0.0 ACC: 0.7947675446349656\n",
      "Alpha: 0.1 Binarize: 0.1 ACC: 0.6222379353013965\n",
      "Alpha: 0.1 Binarize: 0.2 ACC: 0.23864238995934242\n",
      "Alpha: 0.1 Binarize: 0.30000000000000004 ACC: 0.09757822167226445\n",
      "Alpha: 0.1 Binarize: 0.4 ACC: 0.0618702492487184\n",
      "Alpha: 0.2 Binarize: 0.0 ACC: 0.7673678628248188\n",
      "Alpha: 0.2 Binarize: 0.1 ACC: 0.5156443344528903\n",
      "Alpha: 0.2 Binarize: 0.2 ACC: 0.14194802899063108\n",
      "Alpha: 0.2 Binarize: 0.30000000000000004 ACC: 0.06434505921866714\n",
      "Alpha: 0.2 Binarize: 0.4 ACC: 0.052324553650344705\n",
      "Alpha: 0.30000000000000004 Binarize: 0.0 ACC: 0.7443874845324376\n",
      "Alpha: 0.30000000000000004 Binarize: 0.1 ACC: 0.4180661127806258\n",
      "Alpha: 0.30000000000000004 Binarize: 0.2 ACC: 0.09598727240586884\n",
      "Alpha: 0.30000000000000004 Binarize: 0.30000000000000004 ACC: 0.05409227505745095\n",
      "Alpha: 0.30000000000000004 Binarize: 0.4 ACC: 0.05091037652465971\n",
      "Alpha: 0.4 Binarize: 0.0 ACC: 0.716987802722291\n",
      "Alpha: 0.4 Binarize: 0.1 ACC: 0.32826586529962876\n",
      "Alpha: 0.4 Binarize: 0.2 ACC: 0.0707088562842496\n",
      "Alpha: 0.4 Binarize: 0.30000000000000004 ACC: 0.051440692946791586\n",
      "Alpha: 0.4 Binarize: 0.4 ACC: 0.05073360438394909\n",
      "Multinomial:\n"
     ]
    },
    {
     "name": "stderr",
     "output_type": "stream",
     "text": [
      "C:\\ProgramData\\Anaconda3\\envs\\DS7331_35r\\lib\\site-packages\\sklearn\\naive_bayes.py:480: UserWarning: alpha too small will result in numeric errors, setting alpha = 1.0e-10\n",
      "  'setting alpha = %.1e' % _ALPHA_MIN)\n"
     ]
    },
    {
     "name": "stdout",
     "output_type": "stream",
     "text": [
      "Alpha: 0.0 ACC: 0.8596429202757645\n",
      "Alpha: 0.1 ACC: 0.8241117199929291\n",
      "Alpha: 0.2 ACC: 0.798302987449178\n",
      "Alpha: 0.30000000000000004 ACC: 0.7756761534382182\n",
      "Alpha: 0.4 ACC: 0.7560544458193389\n",
      "For Bernoulli the most accurate was with Alpha of 0 and Binarize of 0, ACC: 0.85\n",
      "For Multinomial the most accurate was with Alpha of 0, ACC: 0.86\n",
      "These classifiers are so fast because... the dataset is sparse (lots of zeros).\n",
      "The alpha values control... the additive smoothing parameter.\n"
     ]
    }
   ],
   "source": [
    "from sklearn.naive_bayes import MultinomialNB\n",
    "from sklearn.naive_bayes import BernoulliNB\n",
    "\n",
    "X_train, X_test, y_train, y_test = train_test_split(ds.data, ds.target, test_size = 0.5, random_state=7)\n",
    "\n",
    "somerange1 = range(0, 5, 1)\n",
    "somerange2 = range(0, 5, 1)\n",
    "\n",
    "print(\"Bernoulli:\")\n",
    "for a in somerange1:\n",
    "    for b in somerange2:\n",
    "        clf_bnb = BernoulliNB(alpha=a*0.1, binarize=b*0.1)\n",
    "        clf_bnb.fit(X_train, y_train)\n",
    "        yhat_bnb = clf_bnb.predict(X_test)\n",
    "        print(\"Alpha:\", a*0.1, \"Binarize:\", b*0.1, \"ACC:\", accuracy_score(y_test, yhat_bnb))\n",
    "print(\"Multinomial:\")\n",
    "for a in somerange1:\n",
    "    clf_mnb = MultinomialNB(alpha=a*0.1)\n",
    "    clf_mnb.fit(X_train, y_train)\n",
    "    yhat_mnb = clf_mnb.predict(X_test)\n",
    "    print(\"Alpha:\", a*0.1, \"ACC:\", accuracy_score(y_test, yhat_mnb))\n",
    "\n",
    "print(\"For Bernoulli the most accurate was with Alpha of 0 and Binarize of 0, ACC: 0.85\")\n",
    "print(\"For Multinomial the most accurate was with Alpha of 0, ACC: 0.86\")\n",
    "print('These classifiers are so fast because...', \"the dataset is sparse (lots of zeros).\")\n",
    "print('The alpha values control...', \"the additive smoothing parameter.\")\n",
    "#Explain why alpha = 0 is the best, based on sparse... etc.\n",
    "\n",
    "#If we don't have very many examples of a class, we don't necessarily want to trust that class.\n",
    "#we are trying to make a class not have a zero probability."
   ]
  },
  {
   "cell_type": "markdown",
   "metadata": {
    "collapsed": true
   },
   "source": [
    "________________________________________________________________________________________________________\n",
    "\n",
    "That's all! Please **upload your rendered notebook to blackboard** and please include **team member names** in the notebook submission."
   ]
  },
  {
   "cell_type": "code",
   "execution_count": null,
   "metadata": {
    "collapsed": true
   },
   "outputs": [],
   "source": []
  }
 ],
 "metadata": {
  "kernelspec": {
   "display_name": "Python 3",
   "language": "python",
   "name": "python3"
  },
  "language_info": {
   "codemirror_mode": {
    "name": "ipython",
    "version": 3
   },
   "file_extension": ".py",
   "mimetype": "text/x-python",
   "name": "python",
   "nbconvert_exporter": "python",
   "pygments_lexer": "ipython3",
   "version": "3.7.3"
  }
 },
 "nbformat": 4,
 "nbformat_minor": 1
}
