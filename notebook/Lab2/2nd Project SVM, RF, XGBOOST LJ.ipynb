{
 "cells": [
  {
   "cell_type": "code",
   "execution_count": 2,
   "metadata": {},
   "outputs": [],
   "source": [
    "import pandas as pd\n",
    "import numpy as np\n",
    "import pandas_profiling\n",
    "import matplotlib.pyplot as plt\n",
    "get_ipython().run_line_magic('matplotlib', 'inline')\n",
    "import warnings # current version of seaborn generates a bunch of warnings that we'll ignore\n",
    "warnings.filterwarnings(\"ignore\")\n",
    "import seaborn as sns\n",
    "\n",
    "from sklearn.model_selection import train_test_split\n",
    "from sklearn.svm import SVC\n",
    "from sklearn.metrics import roc_auc_score\n",
    "\n",
    "#this code below is to make %%time magic work\n",
    "import glob\n",
    "import os\n",
    "from __future__ import print_function\n",
    "#this code above is to make %%time magic work"
   ]
  },
  {
   "cell_type": "code",
   "execution_count": 3,
   "metadata": {},
   "outputs": [],
   "source": [
    "#import the data\n",
    "directory = 'C:/Users/N1110/Desktop/7331_Project/data/'\n",
    "df = pd.read_csv(directory + 'Diabetes_tmp_Cleaned.csv')\n",
    "df_clean = df\n",
    "df_clean.replace('?', np.nan, inplace=True)"
   ]
  },
  {
   "cell_type": "code",
   "execution_count": 4,
   "metadata": {},
   "outputs": [
    {
     "name": "stdout",
     "output_type": "stream",
     "text": [
      "<class 'pandas.core.frame.DataFrame'>\n",
      "RangeIndex: 101766 entries, 0 to 101765\n",
      "Data columns (total 51 columns):\n",
      "encounter_id                101766 non-null int64\n",
      "patient_nbr                 101766 non-null int64\n",
      "race                        101766 non-null object\n",
      "gender                      101766 non-null object\n",
      "age                         101766 non-null object\n",
      "admission_type_id           101766 non-null int64\n",
      "discharge_disposition_id    101766 non-null int64\n",
      "admission_source_id         101766 non-null int64\n",
      "time_in_hospital            101766 non-null int64\n",
      "medical_specialty           101766 non-null object\n",
      "num_lab_procedures          101766 non-null int64\n",
      "num_procedures              101766 non-null int64\n",
      "num_medications             101766 non-null int64\n",
      "number_outpatient           101766 non-null int64\n",
      "number_emergency            101766 non-null int64\n",
      "number_inpatient            101766 non-null int64\n",
      "number_diagnoses            101766 non-null int64\n",
      "max_glu_serum               101766 non-null object\n",
      "A1Cresult                   101766 non-null object\n",
      "metformin                   101766 non-null object\n",
      "repaglinide                 101766 non-null object\n",
      "nateglinide                 101766 non-null object\n",
      "chlorpropamide              101766 non-null object\n",
      "glimepiride                 101766 non-null object\n",
      "acetohexamide               101766 non-null object\n",
      "glipizide                   101766 non-null object\n",
      "glyburide                   101766 non-null object\n",
      "tolbutamide                 101766 non-null object\n",
      "pioglitazone                101766 non-null object\n",
      "rosiglitazone               101766 non-null object\n",
      "acarbose                    101766 non-null object\n",
      "miglitol                    101766 non-null object\n",
      "troglitazone                101766 non-null object\n",
      "tolazamide                  101766 non-null object\n",
      "insulin                     101766 non-null object\n",
      "glyburide-metformin         101766 non-null object\n",
      "glipizide-metformin         101766 non-null object\n",
      "metformin-rosiglitazone     101766 non-null object\n",
      "metformin-pioglitazone      101766 non-null object\n",
      "change                      101766 non-null object\n",
      "diabetesMed                 101766 non-null object\n",
      "readmitted                  101766 non-null object\n",
      "diag_1_val                  101766 non-null object\n",
      "diag_2_val                  101766 non-null object\n",
      "diag_3_val                  101766 non-null object\n",
      "readmitted_tf               101766 non-null int64\n",
      "medication_count            101766 non-null int64\n",
      "admission_source            95783 non-null object\n",
      "discharge_disposition       98086 non-null object\n",
      "admission_type              97684 non-null object\n",
      "meds_increased              101766 non-null int64\n",
      "dtypes: int64(16), object(35)\n",
      "memory usage: 39.6+ MB\n"
     ]
    }
   ],
   "source": [
    "df_clean.info()"
   ]
  },
  {
   "cell_type": "code",
   "execution_count": 5,
   "metadata": {},
   "outputs": [],
   "source": [
    "#can also use binary encoder to achieve this\n",
    "df_clean.gender[df_clean.gender == 'Male'] = 0\n",
    "df_clean.gender[df_clean.gender == 'Female'] = 1\n",
    "\n",
    "df_clean[\"gender\"] = df_clean[\"gender\"].astype(int)"
   ]
  },
  {
   "cell_type": "code",
   "execution_count": 6,
   "metadata": {},
   "outputs": [],
   "source": [
    "#10 age groups; Ordinal encoding\n",
    "#feature density plot of age can help with answering the question like: does people older age tend to be readmitted?\n",
    "#can use map/apply function to achieve this\n",
    "\n",
    "df_clean.age[df_clean.age== '[0-10)'] = 1\n",
    "df_clean.age[df_clean.age== '[10-20)'] = 2\n",
    "df_clean.age[df_clean.age== '[20-30)'] = 3\n",
    "df_clean.age[df_clean.age== '[30-40)'] = 4\n",
    "df_clean.age[df_clean.age== '[40-50)'] = 5\n",
    "df_clean.age[df_clean.age== '[50-60)'] = 6\n",
    "df_clean.age[df_clean.age== '[60-70)'] = 7\n",
    "df_clean.age[df_clean.age== '[70-80)'] = 8\n",
    "df_clean.age[df_clean.age== '[80-90)'] = 9\n",
    "df_clean.age[df_clean.age== '[90-100)'] = 10\n",
    "\n",
    "df_clean[\"age\"] = df_clean[\"age\"].astype(int)"
   ]
  },
  {
   "cell_type": "code",
   "execution_count": 7,
   "metadata": {},
   "outputs": [],
   "source": [
    "#one hot encoding categorical variables\n",
    "\n",
    "#FE based on Feature Importance plot from LR model\n",
    "\n",
    "#add more important features: discharge_disposition_id, admission_source_id. I think they should be categorical, so I put them in dummy list\n",
    "#also include all medications\n",
    "\n",
    "dummiesList=[\"diag_1_val\",\"diag_2_val\",\"diag_3_val\",\"race\",\"A1Cresult\",\"admission_type\",\"admission_source\",\"discharge_disposition\",\n",
    "             \"meds_increased\",\"diabetesMed\",\"medical_specialty\", \"max_glu_serum\", \"meds_increased\", \"insulin\",\n",
    "            \"metformin\", \"repaglinide\", \"nateglinide\", \"chlorpropamide\",\n",
    "             \"glimepiride\", \"acetohexamide\", \"glipizide\", \"glyburide\", \"tolbutamide\",\n",
    "             \"pioglitazone\", \"rosiglitazone\", \"acarbose\", \"miglitol\", \"troglitazone\",\n",
    "             \"tolazamide\", \"glyburide-metformin\", \"glipizide-metformin\",\n",
    "             \"metformin-rosiglitazone\", \"metformin-pioglitazone\"]\n",
    "df_clean_wDummies = pd.get_dummies(df_clean[dummiesList])"
   ]
  },
  {
   "cell_type": "code",
   "execution_count": 8,
   "metadata": {},
   "outputs": [],
   "source": [
    "#combine with numerical features we decide to use and target readmitted_tf\n",
    "NumFeatures=[\"num_lab_procedures\",\"num_procedures\",\"number_outpatient\",\"number_emergency\", \"number_inpatient\",\"num_medications\",\n",
    "             \"medication_count\",\"number_diagnoses\", \"gender\",\"age\",\"readmitted_tf\"]\n",
    "df_clean_wDummies= pd.concat((df_clean_wDummies, df_clean[NumFeatures]), axis=1)"
   ]
  },
  {
   "cell_type": "code",
   "execution_count": 9,
   "metadata": {},
   "outputs": [
    {
     "name": "stdout",
     "output_type": "stream",
     "text": [
      "<class 'pandas.core.frame.DataFrame'>\n",
      "RangeIndex: 101766 entries, 0 to 101765\n",
      "Columns: 245 entries, meds_increased to readmitted_tf\n",
      "dtypes: int32(2), int64(11), uint8(232)\n",
      "memory usage: 31.8 MB\n"
     ]
    }
   ],
   "source": [
    "df_clean_wDummies.info()"
   ]
  },
  {
   "cell_type": "code",
   "execution_count": 10,
   "metadata": {},
   "outputs": [
    {
     "name": "stdout",
     "output_type": "stream",
     "text": [
      "ShuffleSplit(n_splits=3, random_state=None, test_size=0.2, train_size=None)\n"
     ]
    }
   ],
   "source": [
    "df_imputed=df_clean_wDummies\n",
    "\n",
    "\n",
    "from sklearn.model_selection import ShuffleSplit\n",
    "\n",
    "# we want to predict the X and y data as follows:\n",
    "if 'readmitted_tf' in df_imputed:\n",
    "    y = df_imputed['readmitted_tf'].values # get the labels we want\n",
    "    del df_imputed['readmitted_tf'] # get rid of the class label\n",
    "    X = df_imputed.values # use everything else to predict!\n",
    "\n",
    "    ## X and y are now numpy matrices, by calling 'values' on the pandas data frames we\n",
    "    #    have converted them into simple matrices to use with scikit learn\n",
    "    \n",
    "    \n",
    "# to use the cross validation object in scikit learn, we need to grab an instance\n",
    "#    of the object and set it up. This object will be able to split our data into \n",
    "#    training and testing splits\n",
    "num_cv_iterations = 3\n",
    "num_instances = len(y)\n",
    "cv_object = ShuffleSplit(n_splits=num_cv_iterations,\n",
    "                         test_size  = 0.2)\n",
    "                         \n",
    "print(cv_object)"
   ]
  },
  {
   "cell_type": "code",
   "execution_count": 11,
   "metadata": {},
   "outputs": [],
   "source": [
    "## Training and Testing Split\n",
    "# okay, so run through the cross validation loop and set the training and testing variable for one single iteration\n",
    "for train_indices, test_indices in cv_object.split(X,y): \n",
    "    # I will create new variables here so that it is more obvious what \n",
    "    # the code is doing (you can compact this syntax and avoid duplicating memory,\n",
    "    # but it makes this code less readable)\n",
    "    X_train = X[train_indices]\n",
    "    y_train = y[train_indices]\n",
    "    \n",
    "    X_test = X[test_indices]\n",
    "    y_test = y[test_indices]"
   ]
  },
  {
   "cell_type": "code",
   "execution_count": 12,
   "metadata": {},
   "outputs": [
    {
     "name": "stderr",
     "output_type": "stream",
     "text": [
      "C:\\Users\\N1110\\Anaconda3\\lib\\site-packages\\sklearn\\utils\\validation.py:475: DataConversionWarning: Data with input dtype int64 was converted to float64 by StandardScaler.\n",
      "  warnings.warn(msg, DataConversionWarning)\n",
      "C:\\Users\\N1110\\Anaconda3\\lib\\site-packages\\sklearn\\utils\\validation.py:475: DataConversionWarning: Data with input dtype int64 was converted to float64 by StandardScaler.\n",
      "  warnings.warn(msg, DataConversionWarning)\n",
      "C:\\Users\\N1110\\Anaconda3\\lib\\site-packages\\sklearn\\utils\\validation.py:475: DataConversionWarning: Data with input dtype int64 was converted to float64 by StandardScaler.\n",
      "  warnings.warn(msg, DataConversionWarning)\n",
      "C:\\Users\\N1110\\Anaconda3\\lib\\site-packages\\sklearn\\utils\\validation.py:475: DataConversionWarning: Data with input dtype int64 was converted to float64 by StandardScaler.\n",
      "  warnings.warn(msg, DataConversionWarning)\n"
     ]
    }
   ],
   "source": [
    "    # we want to normalize the features based upon the mean and standard deviation of each column. \n",
    "# However, we do not want to accidentally use the testing data to find out the mean and std (this would be snooping)\n",
    "# to Make things easier, let's start by just using whatever was last stored in the variables:\n",
    "##    X_train , y_train , X_test, y_test (they were set in a for loop above)\n",
    "from sklearn.preprocessing import StandardScaler\n",
    "scl_obj = StandardScaler()\n",
    "\n",
    "scl_obj.fit(X_train)\n",
    "X_test_scaled = scl_obj.transform(X_test)\n",
    "\n",
    "X_train_scaled = scl_obj.transform(X_train) # apply to training\n",
    "X_test_scaled = scl_obj.transform(X_test) "
   ]
  },
  {
   "cell_type": "code",
   "execution_count": 23,
   "metadata": {},
   "outputs": [],
   "source": [
    "# lets investigate SVMs on the data and play with the parameters and kernels\n",
    "#%%time\n",
    "#try run with all medications\n",
    "\n",
    "from sklearn.svm import SVC\n",
    "\n",
    "# train the model just as before\n",
    "svm_clf = SVC(C=0.5, kernel='rbf', degree=3, gamma='auto') # get object\n",
    "svm_clf.fit(X_train_scaled, y_train)  # train object\n",
    "\n",
    "y_hat = svm_clf.predict(X_test_scaled) # get test set precitions"
   ]
  },
  {
   "cell_type": "code",
   "execution_count": 24,
   "metadata": {},
   "outputs": [
    {
     "name": "stdout",
     "output_type": "stream",
     "text": [
      "SVM accuracy: 0.6815859290557139\n",
      "[[9512 1464]\n",
      " [5017 4361]]\n"
     ]
    }
   ],
   "source": [
    "#get SVM ACC\n",
    "\n",
    "from sklearn import metrics as mt\n",
    "\n",
    "acc = mt.accuracy_score(y_test,y_hat)\n",
    "conf = mt.confusion_matrix(y_test,y_hat)\n",
    "\n",
    "print('SVM accuracy:', acc )\n",
    "print(conf)\n",
    "\n",
    "# SVM accuracy: 0.6815859290557139\n",
    "#acc is lower compare with svm model without med accuracy: 0.6822246241525007\n",
    "#run longer than svm model without med\n",
    "#but decide to keep these bc RF does not require the assumption of multicolinearity"
   ]
  },
  {
   "cell_type": "code",
   "execution_count": 25,
   "metadata": {},
   "outputs": [
    {
     "ename": "AttributeError",
     "evalue": "predict_proba is not available when  probability=False",
     "output_type": "error",
     "traceback": [
      "\u001b[1;31m---------------------------------------------------------------------------\u001b[0m",
      "\u001b[1;31mAttributeError\u001b[0m                            Traceback (most recent call last)",
      "\u001b[1;32m<ipython-input-25-3f7f16ab2739>\u001b[0m in \u001b[0;36m<module>\u001b[1;34m()\u001b[0m\n\u001b[0;32m      1\u001b[0m \u001b[1;31m#get SVM AUC\u001b[0m\u001b[1;33m\u001b[0m\u001b[1;33m\u001b[0m\u001b[0m\n\u001b[1;32m----> 2\u001b[1;33m \u001b[0mroc\u001b[0m \u001b[1;33m=\u001b[0m \u001b[0mroc_auc_score\u001b[0m\u001b[1;33m(\u001b[0m\u001b[0my_test\u001b[0m\u001b[1;33m,\u001b[0m \u001b[0msvm_clf\u001b[0m\u001b[1;33m.\u001b[0m\u001b[0mpredict_proba\u001b[0m\u001b[1;33m(\u001b[0m\u001b[0mX_test_scaled\u001b[0m\u001b[1;33m)\u001b[0m\u001b[1;33m[\u001b[0m\u001b[1;33m:\u001b[0m\u001b[1;33m,\u001b[0m\u001b[1;36m1\u001b[0m\u001b[1;33m]\u001b[0m\u001b[1;33m)\u001b[0m\u001b[1;33m\u001b[0m\u001b[0m\n\u001b[0m\u001b[0;32m      3\u001b[0m \u001b[0mprint\u001b[0m\u001b[1;33m(\u001b[0m\u001b[1;34m'SVM AUC:'\u001b[0m\u001b[1;33m,\u001b[0m \u001b[0mroc\u001b[0m \u001b[1;33m)\u001b[0m\u001b[1;33m\u001b[0m\u001b[0m\n",
      "\u001b[1;32m~\\Anaconda3\\lib\\site-packages\\sklearn\\svm\\base.py\u001b[0m in \u001b[0;36mpredict_proba\u001b[1;34m(self)\u001b[0m\n\u001b[0;32m    588\u001b[0m         \u001b[0mdatasets\u001b[0m\u001b[1;33m.\u001b[0m\u001b[1;33m\u001b[0m\u001b[0m\n\u001b[0;32m    589\u001b[0m         \"\"\"\n\u001b[1;32m--> 590\u001b[1;33m         \u001b[0mself\u001b[0m\u001b[1;33m.\u001b[0m\u001b[0m_check_proba\u001b[0m\u001b[1;33m(\u001b[0m\u001b[1;33m)\u001b[0m\u001b[1;33m\u001b[0m\u001b[0m\n\u001b[0m\u001b[0;32m    591\u001b[0m         \u001b[1;32mreturn\u001b[0m \u001b[0mself\u001b[0m\u001b[1;33m.\u001b[0m\u001b[0m_predict_proba\u001b[0m\u001b[1;33m\u001b[0m\u001b[0m\n\u001b[0;32m    592\u001b[0m \u001b[1;33m\u001b[0m\u001b[0m\n",
      "\u001b[1;32m~\\Anaconda3\\lib\\site-packages\\sklearn\\svm\\base.py\u001b[0m in \u001b[0;36m_check_proba\u001b[1;34m(self)\u001b[0m\n\u001b[0;32m    555\u001b[0m     \u001b[1;32mdef\u001b[0m \u001b[0m_check_proba\u001b[0m\u001b[1;33m(\u001b[0m\u001b[0mself\u001b[0m\u001b[1;33m)\u001b[0m\u001b[1;33m:\u001b[0m\u001b[1;33m\u001b[0m\u001b[0m\n\u001b[0;32m    556\u001b[0m         \u001b[1;32mif\u001b[0m \u001b[1;32mnot\u001b[0m \u001b[0mself\u001b[0m\u001b[1;33m.\u001b[0m\u001b[0mprobability\u001b[0m\u001b[1;33m:\u001b[0m\u001b[1;33m\u001b[0m\u001b[0m\n\u001b[1;32m--> 557\u001b[1;33m             raise AttributeError(\"predict_proba is not available when \"\n\u001b[0m\u001b[0;32m    558\u001b[0m                                  \" probability=False\")\n\u001b[0;32m    559\u001b[0m         \u001b[1;32mif\u001b[0m \u001b[0mself\u001b[0m\u001b[1;33m.\u001b[0m\u001b[0m_impl\u001b[0m \u001b[1;32mnot\u001b[0m \u001b[1;32min\u001b[0m \u001b[1;33m(\u001b[0m\u001b[1;34m'c_svc'\u001b[0m\u001b[1;33m,\u001b[0m \u001b[1;34m'nu_svc'\u001b[0m\u001b[1;33m)\u001b[0m\u001b[1;33m:\u001b[0m\u001b[1;33m\u001b[0m\u001b[0m\n",
      "\u001b[1;31mAttributeError\u001b[0m: predict_proba is not available when  probability=False"
     ]
    }
   ],
   "source": [
    "#wrong\n",
    "#get SVM AUC\n",
    "#roc = roc_auc_score(y_test, svm_clf.predict_proba(X_test_scaled)[:,1])\n",
    "#print('SVM AUC:', roc )"
   ]
  },
  {
   "cell_type": "code",
   "execution_count": 26,
   "metadata": {},
   "outputs": [
    {
     "name": "stdout",
     "output_type": "stream",
     "text": [
      "SVM AUC: 0.6658213006434637\n"
     ]
    }
   ],
   "source": [
    "#get SVM AUC\n",
    "roc = roc_auc_score(y_test,y_hat)\n",
    "print('SVM AUC:', roc )\n",
    "\n",
    "#SVM AUC: 0.6658213006434637"
   ]
  },
  {
   "cell_type": "code",
   "execution_count": 28,
   "metadata": {},
   "outputs": [
    {
     "ename": "AttributeError",
     "evalue": "predict_proba is not available when  probability=False",
     "output_type": "error",
     "traceback": [
      "\u001b[1;31m---------------------------------------------------------------------------\u001b[0m",
      "\u001b[1;31mAttributeError\u001b[0m                            Traceback (most recent call last)",
      "\u001b[1;32m<ipython-input-28-27b3b2ca0c5b>\u001b[0m in \u001b[0;36m<module>\u001b[1;34m()\u001b[0m\n\u001b[0;32m      2\u001b[0m \u001b[0mget_ipython\u001b[0m\u001b[1;33m(\u001b[0m\u001b[1;33m)\u001b[0m\u001b[1;33m.\u001b[0m\u001b[0mrun_line_magic\u001b[0m\u001b[1;33m(\u001b[0m\u001b[1;34m'matplotlib'\u001b[0m\u001b[1;33m,\u001b[0m \u001b[1;34m'inline'\u001b[0m\u001b[1;33m)\u001b[0m\u001b[1;33m\u001b[0m\u001b[0m\n\u001b[0;32m      3\u001b[0m \u001b[1;33m\u001b[0m\u001b[0m\n\u001b[1;32m----> 4\u001b[1;33m \u001b[0my_hat_probs\u001b[0m \u001b[1;33m=\u001b[0m \u001b[0msvm_clf\u001b[0m\u001b[1;33m.\u001b[0m\u001b[0mpredict_proba\u001b[0m\u001b[1;33m(\u001b[0m\u001b[0mX_test\u001b[0m\u001b[1;33m)\u001b[0m\u001b[1;33m\u001b[0m\u001b[0m\n\u001b[0m\u001b[0;32m      5\u001b[0m \u001b[0my_hat\u001b[0m \u001b[1;33m=\u001b[0m \u001b[0mnp\u001b[0m\u001b[1;33m.\u001b[0m\u001b[0mwhere\u001b[0m\u001b[1;33m(\u001b[0m\u001b[0my_hat_probs\u001b[0m \u001b[1;33m>=\u001b[0m \u001b[0mcutoff\u001b[0m\u001b[1;33m,\u001b[0m \u001b[1;36m1\u001b[0m\u001b[1;33m,\u001b[0m \u001b[1;36m0\u001b[0m\u001b[1;33m)\u001b[0m\u001b[1;33m\u001b[0m\u001b[0m\n\u001b[0;32m      6\u001b[0m \u001b[0my_hat\u001b[0m \u001b[1;33m=\u001b[0m \u001b[0my_hat\u001b[0m\u001b[1;33m[\u001b[0m\u001b[1;33m:\u001b[0m\u001b[1;33m,\u001b[0m\u001b[1;36m1\u001b[0m\u001b[1;33m]\u001b[0m\u001b[1;33m\u001b[0m\u001b[0m\n",
      "\u001b[1;32m~\\Anaconda3\\lib\\site-packages\\sklearn\\svm\\base.py\u001b[0m in \u001b[0;36mpredict_proba\u001b[1;34m(self)\u001b[0m\n\u001b[0;32m    588\u001b[0m         \u001b[0mdatasets\u001b[0m\u001b[1;33m.\u001b[0m\u001b[1;33m\u001b[0m\u001b[0m\n\u001b[0;32m    589\u001b[0m         \"\"\"\n\u001b[1;32m--> 590\u001b[1;33m         \u001b[0mself\u001b[0m\u001b[1;33m.\u001b[0m\u001b[0m_check_proba\u001b[0m\u001b[1;33m(\u001b[0m\u001b[1;33m)\u001b[0m\u001b[1;33m\u001b[0m\u001b[0m\n\u001b[0m\u001b[0;32m    591\u001b[0m         \u001b[1;32mreturn\u001b[0m \u001b[0mself\u001b[0m\u001b[1;33m.\u001b[0m\u001b[0m_predict_proba\u001b[0m\u001b[1;33m\u001b[0m\u001b[0m\n\u001b[0;32m    592\u001b[0m \u001b[1;33m\u001b[0m\u001b[0m\n",
      "\u001b[1;32m~\\Anaconda3\\lib\\site-packages\\sklearn\\svm\\base.py\u001b[0m in \u001b[0;36m_check_proba\u001b[1;34m(self)\u001b[0m\n\u001b[0;32m    555\u001b[0m     \u001b[1;32mdef\u001b[0m \u001b[0m_check_proba\u001b[0m\u001b[1;33m(\u001b[0m\u001b[0mself\u001b[0m\u001b[1;33m)\u001b[0m\u001b[1;33m:\u001b[0m\u001b[1;33m\u001b[0m\u001b[0m\n\u001b[0;32m    556\u001b[0m         \u001b[1;32mif\u001b[0m \u001b[1;32mnot\u001b[0m \u001b[0mself\u001b[0m\u001b[1;33m.\u001b[0m\u001b[0mprobability\u001b[0m\u001b[1;33m:\u001b[0m\u001b[1;33m\u001b[0m\u001b[0m\n\u001b[1;32m--> 557\u001b[1;33m             raise AttributeError(\"predict_proba is not available when \"\n\u001b[0m\u001b[0;32m    558\u001b[0m                                  \" probability=False\")\n\u001b[0;32m    559\u001b[0m         \u001b[1;32mif\u001b[0m \u001b[0mself\u001b[0m\u001b[1;33m.\u001b[0m\u001b[0m_impl\u001b[0m \u001b[1;32mnot\u001b[0m \u001b[1;32min\u001b[0m \u001b[1;33m(\u001b[0m\u001b[1;34m'c_svc'\u001b[0m\u001b[1;33m,\u001b[0m \u001b[1;34m'nu_svc'\u001b[0m\u001b[1;33m)\u001b[0m\u001b[1;33m:\u001b[0m\u001b[1;33m\u001b[0m\u001b[0m\n",
      "\u001b[1;31mAttributeError\u001b[0m: predict_proba is not available when  probability=False"
     ]
    }
   ],
   "source": [
    "import matplotlib.pyplot as plt\n",
    "get_ipython().run_line_magic('matplotlib', 'inline')\n",
    "\n",
    "y_hat_probs = svm_clf.predict_proba(X_test)\n",
    "y_hat = np.where(y_hat_probs >= cutoff, 1, 0)\n",
    "y_hat = y_hat[:,1]\n",
    "    \n",
    "rocCurvePlot(y_hat_probs, y_test)"
   ]
  },
  {
   "cell_type": "code",
   "execution_count": 13,
   "metadata": {},
   "outputs": [
    {
     "name": "stderr",
     "output_type": "stream",
     "text": [
      "C:\\Users\\N1110\\Anaconda3\\lib\\site-packages\\sklearn\\utils\\validation.py:475: DataConversionWarning: Data with input dtype int64 was converted to float64 by StandardScaler.\n",
      "  warnings.warn(msg, DataConversionWarning)\n",
      "C:\\Users\\N1110\\Anaconda3\\lib\\site-packages\\sklearn\\utils\\validation.py:475: DataConversionWarning: Data with input dtype int64 was converted to float64 by StandardScaler.\n",
      "  warnings.warn(msg, DataConversionWarning)\n"
     ]
    },
    {
     "name": "stdout",
     "output_type": "stream",
     "text": [
      "SVM_SGD: 0.6600043236444392\n"
     ]
    },
    {
     "name": "stderr",
     "output_type": "stream",
     "text": [
      "C:\\Users\\N1110\\Anaconda3\\lib\\site-packages\\sklearn\\utils\\validation.py:475: DataConversionWarning: Data with input dtype int64 was converted to float64 by StandardScaler.\n",
      "  warnings.warn(msg, DataConversionWarning)\n"
     ]
    }
   ],
   "source": [
    "#SVM_SGD\n",
    "\n",
    "#SGD made SVM model train fast. this was done in seconds comparing with no SGD 14 mins run.\n",
    "from sklearn.model_selection import StratifiedShuffleSplit \n",
    "from sklearn import metrics as mt\n",
    "cv = StratifiedShuffleSplit( n_splits=1,test_size=0.5)\n",
    "# use some compact notation for creating a linear SVM classifier with stichastic descent\n",
    "from sklearn.linear_model import SGDClassifier\n",
    "\n",
    "regularize_const = 0.1\n",
    "iterations = 5\n",
    "svm_sgd = SGDClassifier(alpha=regularize_const,\n",
    "        fit_intercept=True, l1_ratio=0.0, learning_rate='optimal',\n",
    "        loss='hinge', n_iter=iterations, n_jobs=-1, penalty='l2')\n",
    "\n",
    "scl = StandardScaler()\n",
    "for train_idx, test_idx in cv.split(X,y):\n",
    "    svm_sgd.fit(scl.fit_transform(X[train_idx]),y[train_idx])\n",
    "    yhat = svm_sgd.predict(scl.transform(X[test_idx]))\n",
    "    \n",
    "    conf = mt.confusion_matrix(y[test_idx],yhat)\n",
    "    acc = mt.accuracy_score(y[test_idx],yhat)\n",
    "\n",
    "print('SVM_SGD:', acc)\n",
    "\n",
    "# For Dummlist\n",
    "#dummiesList=[\"diag_1_val\",\"diag_2_val\",\"diag_3_val\",\"race\",\"A1Cresult\",\"admission_type\",\"admission_source\",\"discharge_disposition\",\n",
    "             #\"metformin\", \"repaglinide\", \"nateglinide\", \"chlorpropamide\",\n",
    "             #\"glimepiride\", \"acetohexamide\", \"glipizide\", \"glyburide\", \"tolbutamide\",\n",
    "             # \"pioglitazone\", \"rosiglitazone\", \"acarbose\", \"miglitol\", \"troglitazone\",\n",
    "             #\"tolazamide\", \"insulin\", \"glyburide-metformin\", \"glipizide-metformin\",\n",
    "             #\"metformin-rosiglitazone\", \"metformin-pioglitazone\"]\n",
    "#SVM_SGD: 0.6552679676905843 comparing without medications(only insulin included model) which had SVM_SGD: 0.655405538195468\n",
    "#only a slight increase so not worth including all medications for SVM\n",
    "\n"
   ]
  },
  {
   "cell_type": "markdown",
   "metadata": {},
   "source": [
    "#dummiesList=[\"diag_1_val\",\"diag_2_val\",\"diag_3_val\",\"race\",\"A1Cresult\",\"admission_type\",\"admission_source\",\"discharge_disposition\",\n",
    "             \"meds_increased\",\"diabetesMed\",\"medical_specialty\", \"max_glu_serum\", \"meds_increased\",\n",
    "             \"metformin\", \"repaglinide\", \"nateglinide\", \"chlorpropamide\",\n",
    "             \"glimepiride\", \"acetohexamide\", \"glipizide\", \"glyburide\", \"tolbutamide\",\n",
    "             \"pioglitazone\", \"rosiglitazone\", \"acarbose\", \"miglitol\", \"troglitazone\",\n",
    "             \"tolazamide\", \"insulin\", \"glyburide-metformin\", \"glipizide-metformin\",\n",
    "             \"metformin-rosiglitazone\", \"metformin-pioglitazone\"]\n",
    "                \n",
    "#combine with numerical features we decide to use and target readmitted_tf\n",
    "NumFeatures=[\"num_lab_procedures\",\"num_procedures\",\"number_outpatient\",\"number_emergency\", \"number_inpatient\",\"num_medications\",\n",
    "             \"medication_count\",\"number_diagnoses\", \"gender\",\"age\",\"readmitted_tf\"]\n",
    "df_clean_wDummies= pd.concat((df_clean_wDummies, df_clean[NumFeatures]), axis=1)                \n",
    "\n",
    "#SVM_SGD: 0.6608690525322799\n",
    "increased a little bit with more features.\n",
    "\n",
    "\n",
    "no medication except insulin\n",
    "\n",
    "SVM_SGD: 0.6600436295029775\n",
    "\n"
   ]
  },
  {
   "cell_type": "code",
   "execution_count": null,
   "metadata": {},
   "outputs": [],
   "source": []
  },
  {
   "cell_type": "code",
   "execution_count": 93,
   "metadata": {},
   "outputs": [
    {
     "name": "stdout",
     "output_type": "stream",
     "text": [
      "Random Forest - roc_auc_score:  0.626858813237543\n"
     ]
    }
   ],
   "source": [
    "#first try, no optimized parameters. do not use\n",
    "from sklearn.ensemble import RandomForestClassifier\n",
    "rf_clf = RandomForestClassifier( criterion = 'gini', \n",
    "                                n_estimators = 5, verbose = False)\n",
    "rf_clf.fit(X_train_scaled,y_train)\n",
    "\n",
    "preds = rf_clf.predict(X_test_scaled)\n",
    "    \n",
    "    \n",
    "print('Random Forest - roc_auc_score: ', roc_auc_score(y_test, preds))\n",
    "\n",
    "# Random Forest - roc_auc_score:  0.6324899400482888"
   ]
  },
  {
   "cell_type": "markdown",
   "metadata": {},
   "source": [
    "##RF\n",
    "RandomForestClassifier(bootstrap=True, class_weight=None, criterion='gini',\n",
    "            max_depth=None, max_features='auto', max_leaf_nodes=None,\n",
    "            min_impurity_decrease=0.0, min_impurity_split=None,\n",
    "            min_samples_leaf=1, min_samples_split=2,\n",
    "            min_weight_fraction_leaf=0.0, n_estimators=5, n_jobs=1,\n",
    "            oob_score=False, random_state=None, verbose=False,\n",
    "            warm_start=False)"
   ]
  },
  {
   "cell_type": "code",
   "execution_count": 14,
   "metadata": {},
   "outputs": [
    {
     "name": "stdout",
     "output_type": "stream",
     "text": [
      "Random Forest - roc_auc_score:  0.6745548227288356\n"
     ]
    }
   ],
   "source": [
    "#run for 2 mins\n",
    "NUM_ESTIMATORS = 100\n",
    "NO_JOBS = 4\n",
    "RANDOM_STATE = 2000        \n",
    "        \n",
    "from sklearn.ensemble import RandomForestClassifier\n",
    "rf_clf = RandomForestClassifier(  random_state = RANDOM_STATE, criterion = 'gini', \n",
    "                                n_estimators = NUM_ESTIMATORS, verbose = False)\n",
    "rf_clf.fit(X_train_scaled,y_train)\n",
    "\n",
    "preds = rf_clf.predict(X_test_scaled)\n",
    "print('Random Forest - roc_auc_score: ', roc_auc_score(y_test, preds)) \n",
    "\n",
    "# Random Forest - roc_auc_score:  0.6708529023107371\n",
    "\n",
    "# Random Forest - roc_auc_score:  0.6745548227288356"
   ]
  },
  {
   "cell_type": "code",
   "execution_count": 95,
   "metadata": {},
   "outputs": [
    {
     "data": {
      "image/png": "[encoded data removed]",
      "text/plain": [
       "<Figure size 360x360 with 2 Axes>"
      ]
     },
     "metadata": {},
     "output_type": "display_data"
    }
   ],
   "source": [
    "#Confusion Matrix\n",
    "cm = pd.crosstab(y_test, preds, rownames = ['Actual'], colnames = ['Predicted'])\n",
    "fig, (ax1) = plt.subplots(ncols = 1, figsize = (5, 5))\n",
    "sns.heatmap(cm, xticklabels = ['readmitted_0', 'readmitted_1'], yticklabels = ['readmitted_0', 'readmitted_1'], \n",
    "            annot = True, ax = ax1,\n",
    "            linewidths = .2, linecolor = 'Darkblue', cmap ='Blues')\n",
    "plt.title('confusion Matrix', fontsize = 14)\n",
    "plt.show()"
   ]
  },
  {
   "cell_type": "code",
   "execution_count": 96,
   "metadata": {},
   "outputs": [
    {
     "data": {
      "text/plain": [
       "array([4.03832872e-03, 3.67430317e-03, 1.23185328e-02, 6.60332777e-03,\n",
       "       7.65750458e-03, 5.37814102e-03, 6.05754745e-03, 4.08908968e-03,\n",
       "       9.30376862e-03, 2.75525305e-05, 6.37524721e-03, 9.36047324e-03,\n",
       "       1.33903457e-02, 8.38167593e-03, 4.63664406e-03, 7.44555264e-03,\n",
       "       2.93841509e-03, 2.29828345e-03, 1.11432596e-02, 3.89687986e-04,\n",
       "       7.83729076e-03, 8.66797011e-03, 1.36687714e-02, 1.02533602e-02,\n",
       "       4.79097372e-03, 6.56136732e-03, 2.63615022e-03, 2.56424748e-03,\n",
       "       1.11517302e-02, 1.27159825e-03, 9.65654301e-03, 7.12714922e-03,\n",
       "       9.61077359e-03, 9.46533980e-04, 1.06907506e-02, 2.46478577e-03,\n",
       "       1.97332880e-03, 2.52502410e-03, 3.93810293e-03, 5.90437644e-03,\n",
       "       8.97944186e-03, 4.81814061e-03, 9.12878430e-03, 9.00758241e-03,\n",
       "       7.01210167e-03, 3.04419967e-03, 3.11926059e-04, 1.00818586e-02,\n",
       "       7.48310255e-03, 1.00938537e-02, 1.08777461e-05, 8.76849500e-03,\n",
       "       1.22343025e-06, 3.37472191e-04, 1.36583720e-04, 3.48346913e-04,\n",
       "       1.07783980e-02, 3.44452717e-03, 9.26863867e-04, 2.98877671e-03,\n",
       "       3.00460693e-03, 3.74369788e-03, 7.82353566e-07, 7.58327848e-04,\n",
       "       1.38974846e-02, 1.57005857e-03, 7.68640753e-03, 5.74155089e-06,\n",
       "       1.42524652e-02, 1.16054432e-04, 2.18240503e-03, 2.68863470e-03,\n",
       "       1.97679606e-03, 8.11796660e-04, 7.55598560e-03, 9.41278856e-05,\n",
       "       2.53232977e-05, 1.81891952e-04, 1.37033495e-05, 1.10345073e-02,\n",
       "       1.00318616e-05, 4.08958759e-06, 1.39938909e-03, 1.53439226e-03,\n",
       "       1.39623743e-02, 1.27581785e-05, 1.28182457e-03, 1.48425246e-05,\n",
       "       6.07923975e-03, 5.51755669e-03, 1.79008383e-05, 1.97128701e-05,\n",
       "       5.06286549e-05, 5.15293941e-03, 1.53727374e-05, 1.39784654e-05,\n",
       "       7.35758880e-06, 0.00000000e+00, 5.69348813e-03, 2.40584017e-04,\n",
       "       4.62808796e-06, 6.43467808e-03, 1.10804487e-03, 8.72945833e-05,\n",
       "       1.49397087e-04, 4.16473290e-04, 1.46944359e-04, 8.64456993e-05,\n",
       "       8.51915086e-03, 2.32435245e-03, 2.99217543e-04, 0.00000000e+00,\n",
       "       4.89741812e-05, 1.60512635e-05, 9.60828986e-04, 5.45408407e-04,\n",
       "       1.14290005e-04, 1.36678937e-03, 1.50933128e-03, 1.14015637e-04,\n",
       "       2.21943754e-04, 3.44627620e-05, 3.86617865e-05, 5.05230325e-04,\n",
       "       7.28422961e-06, 1.14233011e-04, 7.63245039e-06, 2.09198412e-04,\n",
       "       1.02948386e-05, 7.28762666e-06, 2.67387757e-05, 8.56117588e-05,\n",
       "       1.66793078e-06, 5.00690584e-04, 1.61544948e-05, 2.19458253e-04,\n",
       "       2.92438470e-07, 1.22197273e-03, 5.33945077e-06, 1.54306964e-05,\n",
       "       2.33112287e-04, 1.39439430e-03, 1.66576272e-03, 1.45854385e-04,\n",
       "       8.63579578e-06, 3.10182862e-05, 0.00000000e+00, 5.00629637e-06,\n",
       "       7.59859060e-05, 1.91654718e-04, 1.04843244e-03, 3.47813190e-05,\n",
       "       3.46427408e-03, 2.91762678e-05, 6.76189800e-04, 1.74271691e-05,\n",
       "       9.03972688e-05, 0.00000000e+00, 1.79782914e-04, 8.98463148e-04,\n",
       "       8.44709213e-05, 1.26950166e-02, 9.90371331e-04, 1.62920267e-03,\n",
       "       1.48001678e-03, 3.48259048e-03, 2.27293699e-03, 8.70762367e-03,\n",
       "       9.39940058e-03, 8.27762299e-03, 4.77985226e-03, 8.23631361e-04,\n",
       "       7.06079019e-03, 6.75517467e-03, 9.81838268e-04, 7.14949938e-05,\n",
       "       1.72272496e-03, 1.60946795e-03, 1.08150859e-04, 2.25590243e-05,\n",
       "       9.25041558e-04, 9.02003070e-04, 4.38372433e-05, 2.58462249e-06,\n",
       "       1.92786986e-04, 1.58884736e-04, 1.70303045e-05, 3.46066291e-04,\n",
       "       4.09400863e-03, 3.79419112e-03, 4.23420703e-04, 2.49366333e-06,\n",
       "       1.86263537e-06, 9.20558170e-04, 6.65212052e-03, 6.28790426e-03,\n",
       "       7.65933384e-04, 9.99246011e-04, 6.03730545e-03, 5.71021388e-03,\n",
       "       8.54975974e-04, 3.65528423e-05, 3.77546761e-05, 2.31149579e-04,\n",
       "       4.95889216e-03, 4.87244088e-03, 3.18266907e-04, 1.94212380e-04,\n",
       "       4.54582005e-03, 4.39963287e-03, 2.46482627e-04, 3.63221942e-06,\n",
       "       4.79531926e-04, 4.85034693e-04, 1.53017297e-05, 2.82831619e-06,\n",
       "       5.19705989e-05, 4.81924753e-05, 2.13660606e-06, 8.10178638e-06,\n",
       "       6.89284159e-06, 6.27000966e-05, 5.62416319e-05, 2.88476852e-06,\n",
       "       7.92310402e-06, 9.14490115e-04, 9.31079207e-04, 8.62144983e-06,\n",
       "       2.56372015e-05, 2.79122575e-05, 1.93165548e-06, 2.74245008e-07,\n",
       "       0.00000000e+00, 0.00000000e+00, 7.46778159e-02, 3.50677342e-02,\n",
       "       1.70376789e-02, 1.67841788e-02, 4.37617024e-02, 6.59813090e-02,\n",
       "       1.94258706e-02, 3.63471994e-02, 1.67783575e-02, 4.12936452e-02])"
      ]
     },
     "execution_count": 96,
     "metadata": {},
     "output_type": "execute_result"
    }
   ],
   "source": [
    "rf_clf.feature_importances_"
   ]
  },
  {
   "cell_type": "code",
   "execution_count": 81,
   "metadata": {},
   "outputs": [
    {
     "ename": "ValueError",
     "evalue": "arrays must all be same length",
     "output_type": "error",
     "traceback": [
      "\u001b[1;31m---------------------------------------------------------------------------\u001b[0m",
      "\u001b[1;31mValueError\u001b[0m                                Traceback (most recent call last)",
      "\u001b[1;32m<ipython-input-81-deea4675ad5b>\u001b[0m in \u001b[0;36m<module>\u001b[1;34m()\u001b[0m\n\u001b[0;32m      1\u001b[0m \u001b[1;31m# Feature Importance\u001b[0m\u001b[1;33m\u001b[0m\u001b[1;33m\u001b[0m\u001b[0m\n\u001b[1;32m----> 2\u001b[1;33m \u001b[0mtmp\u001b[0m \u001b[1;33m=\u001b[0m \u001b[0mpd\u001b[0m\u001b[1;33m.\u001b[0m\u001b[0mDataFrame\u001b[0m\u001b[1;33m(\u001b[0m\u001b[1;33m{\u001b[0m\u001b[1;34m'Feature'\u001b[0m \u001b[1;33m:\u001b[0m \u001b[0mpredictors\u001b[0m\u001b[1;33m,\u001b[0m \u001b[1;34m'Feature importance'\u001b[0m \u001b[1;33m:\u001b[0m \u001b[0mrf_clf\u001b[0m\u001b[1;33m.\u001b[0m\u001b[0mfeature_importances_\u001b[0m\u001b[1;33m}\u001b[0m\u001b[1;33m)\u001b[0m\u001b[1;33m\u001b[0m\u001b[0m\n\u001b[0m\u001b[0;32m      3\u001b[0m \u001b[0mtmp\u001b[0m \u001b[1;33m=\u001b[0m \u001b[0mtmp\u001b[0m\u001b[1;33m.\u001b[0m\u001b[0msort_values\u001b[0m\u001b[1;33m(\u001b[0m\u001b[0mby\u001b[0m \u001b[1;33m=\u001b[0m \u001b[1;34m'Feature importance'\u001b[0m\u001b[1;33m,\u001b[0m \u001b[0mascending\u001b[0m \u001b[1;33m=\u001b[0m \u001b[1;32mFalse\u001b[0m\u001b[1;33m)\u001b[0m\u001b[1;33m\u001b[0m\u001b[0m\n\u001b[0;32m      4\u001b[0m \u001b[0mplt\u001b[0m\u001b[1;33m.\u001b[0m\u001b[0mfigure\u001b[0m\u001b[1;33m(\u001b[0m\u001b[0mfigsize\u001b[0m \u001b[1;33m=\u001b[0m \u001b[1;33m(\u001b[0m\u001b[1;36m7\u001b[0m\u001b[1;33m,\u001b[0m \u001b[1;36m4\u001b[0m\u001b[1;33m)\u001b[0m\u001b[1;33m)\u001b[0m\u001b[1;33m\u001b[0m\u001b[0m\n\u001b[0;32m      5\u001b[0m \u001b[0mplt\u001b[0m\u001b[1;33m.\u001b[0m\u001b[0mtitle\u001b[0m\u001b[1;33m(\u001b[0m\u001b[1;34m'Feature Importance'\u001b[0m\u001b[1;33m,\u001b[0m \u001b[0mfontsize\u001b[0m \u001b[1;33m=\u001b[0m \u001b[1;36m14\u001b[0m\u001b[1;33m)\u001b[0m\u001b[1;33m\u001b[0m\u001b[0m\n",
      "\u001b[1;32m~\\Anaconda3\\lib\\site-packages\\pandas\\core\\frame.py\u001b[0m in \u001b[0;36m__init__\u001b[1;34m(self, data, index, columns, dtype, copy)\u001b[0m\n\u001b[0;32m    346\u001b[0m                                  dtype=dtype, copy=copy)\n\u001b[0;32m    347\u001b[0m         \u001b[1;32melif\u001b[0m \u001b[0misinstance\u001b[0m\u001b[1;33m(\u001b[0m\u001b[0mdata\u001b[0m\u001b[1;33m,\u001b[0m \u001b[0mdict\u001b[0m\u001b[1;33m)\u001b[0m\u001b[1;33m:\u001b[0m\u001b[1;33m\u001b[0m\u001b[0m\n\u001b[1;32m--> 348\u001b[1;33m             \u001b[0mmgr\u001b[0m \u001b[1;33m=\u001b[0m \u001b[0mself\u001b[0m\u001b[1;33m.\u001b[0m\u001b[0m_init_dict\u001b[0m\u001b[1;33m(\u001b[0m\u001b[0mdata\u001b[0m\u001b[1;33m,\u001b[0m \u001b[0mindex\u001b[0m\u001b[1;33m,\u001b[0m \u001b[0mcolumns\u001b[0m\u001b[1;33m,\u001b[0m \u001b[0mdtype\u001b[0m\u001b[1;33m=\u001b[0m\u001b[0mdtype\u001b[0m\u001b[1;33m)\u001b[0m\u001b[1;33m\u001b[0m\u001b[0m\n\u001b[0m\u001b[0;32m    349\u001b[0m         \u001b[1;32melif\u001b[0m \u001b[0misinstance\u001b[0m\u001b[1;33m(\u001b[0m\u001b[0mdata\u001b[0m\u001b[1;33m,\u001b[0m \u001b[0mma\u001b[0m\u001b[1;33m.\u001b[0m\u001b[0mMaskedArray\u001b[0m\u001b[1;33m)\u001b[0m\u001b[1;33m:\u001b[0m\u001b[1;33m\u001b[0m\u001b[0m\n\u001b[0;32m    350\u001b[0m             \u001b[1;32mimport\u001b[0m \u001b[0mnumpy\u001b[0m\u001b[1;33m.\u001b[0m\u001b[0mma\u001b[0m\u001b[1;33m.\u001b[0m\u001b[0mmrecords\u001b[0m \u001b[1;32mas\u001b[0m \u001b[0mmrecords\u001b[0m\u001b[1;33m\u001b[0m\u001b[0m\n",
      "\u001b[1;32m~\\Anaconda3\\lib\\site-packages\\pandas\\core\\frame.py\u001b[0m in \u001b[0;36m_init_dict\u001b[1;34m(self, data, index, columns, dtype)\u001b[0m\n\u001b[0;32m    457\u001b[0m             \u001b[0marrays\u001b[0m \u001b[1;33m=\u001b[0m \u001b[1;33m[\u001b[0m\u001b[0mdata\u001b[0m\u001b[1;33m[\u001b[0m\u001b[0mk\u001b[0m\u001b[1;33m]\u001b[0m \u001b[1;32mfor\u001b[0m \u001b[0mk\u001b[0m \u001b[1;32min\u001b[0m \u001b[0mkeys\u001b[0m\u001b[1;33m]\u001b[0m\u001b[1;33m\u001b[0m\u001b[0m\n\u001b[0;32m    458\u001b[0m \u001b[1;33m\u001b[0m\u001b[0m\n\u001b[1;32m--> 459\u001b[1;33m         \u001b[1;32mreturn\u001b[0m \u001b[0m_arrays_to_mgr\u001b[0m\u001b[1;33m(\u001b[0m\u001b[0marrays\u001b[0m\u001b[1;33m,\u001b[0m \u001b[0mdata_names\u001b[0m\u001b[1;33m,\u001b[0m \u001b[0mindex\u001b[0m\u001b[1;33m,\u001b[0m \u001b[0mcolumns\u001b[0m\u001b[1;33m,\u001b[0m \u001b[0mdtype\u001b[0m\u001b[1;33m=\u001b[0m\u001b[0mdtype\u001b[0m\u001b[1;33m)\u001b[0m\u001b[1;33m\u001b[0m\u001b[0m\n\u001b[0m\u001b[0;32m    460\u001b[0m \u001b[1;33m\u001b[0m\u001b[0m\n\u001b[0;32m    461\u001b[0m     \u001b[1;32mdef\u001b[0m \u001b[0m_init_ndarray\u001b[0m\u001b[1;33m(\u001b[0m\u001b[0mself\u001b[0m\u001b[1;33m,\u001b[0m \u001b[0mvalues\u001b[0m\u001b[1;33m,\u001b[0m \u001b[0mindex\u001b[0m\u001b[1;33m,\u001b[0m \u001b[0mcolumns\u001b[0m\u001b[1;33m,\u001b[0m \u001b[0mdtype\u001b[0m\u001b[1;33m=\u001b[0m\u001b[1;32mNone\u001b[0m\u001b[1;33m,\u001b[0m \u001b[0mcopy\u001b[0m\u001b[1;33m=\u001b[0m\u001b[1;32mFalse\u001b[0m\u001b[1;33m)\u001b[0m\u001b[1;33m:\u001b[0m\u001b[1;33m\u001b[0m\u001b[0m\n",
      "\u001b[1;32m~\\Anaconda3\\lib\\site-packages\\pandas\\core\\frame.py\u001b[0m in \u001b[0;36m_arrays_to_mgr\u001b[1;34m(arrays, arr_names, index, columns, dtype)\u001b[0m\n\u001b[0;32m   7313\u001b[0m     \u001b[1;31m# figure out the index, if necessary\u001b[0m\u001b[1;33m\u001b[0m\u001b[1;33m\u001b[0m\u001b[0m\n\u001b[0;32m   7314\u001b[0m     \u001b[1;32mif\u001b[0m \u001b[0mindex\u001b[0m \u001b[1;32mis\u001b[0m \u001b[1;32mNone\u001b[0m\u001b[1;33m:\u001b[0m\u001b[1;33m\u001b[0m\u001b[0m\n\u001b[1;32m-> 7315\u001b[1;33m         \u001b[0mindex\u001b[0m \u001b[1;33m=\u001b[0m \u001b[0mextract_index\u001b[0m\u001b[1;33m(\u001b[0m\u001b[0marrays\u001b[0m\u001b[1;33m)\u001b[0m\u001b[1;33m\u001b[0m\u001b[0m\n\u001b[0m\u001b[0;32m   7316\u001b[0m \u001b[1;33m\u001b[0m\u001b[0m\n\u001b[0;32m   7317\u001b[0m     \u001b[1;31m# don't force copy because getting jammed in an ndarray anyway\u001b[0m\u001b[1;33m\u001b[0m\u001b[1;33m\u001b[0m\u001b[0m\n",
      "\u001b[1;32m~\\Anaconda3\\lib\\site-packages\\pandas\\core\\frame.py\u001b[0m in \u001b[0;36mextract_index\u001b[1;34m(data)\u001b[0m\n\u001b[0;32m   7359\u001b[0m             \u001b[0mlengths\u001b[0m \u001b[1;33m=\u001b[0m \u001b[0mlist\u001b[0m\u001b[1;33m(\u001b[0m\u001b[0mset\u001b[0m\u001b[1;33m(\u001b[0m\u001b[0mraw_lengths\u001b[0m\u001b[1;33m)\u001b[0m\u001b[1;33m)\u001b[0m\u001b[1;33m\u001b[0m\u001b[0m\n\u001b[0;32m   7360\u001b[0m             \u001b[1;32mif\u001b[0m \u001b[0mlen\u001b[0m\u001b[1;33m(\u001b[0m\u001b[0mlengths\u001b[0m\u001b[1;33m)\u001b[0m \u001b[1;33m>\u001b[0m \u001b[1;36m1\u001b[0m\u001b[1;33m:\u001b[0m\u001b[1;33m\u001b[0m\u001b[0m\n\u001b[1;32m-> 7361\u001b[1;33m                 \u001b[1;32mraise\u001b[0m \u001b[0mValueError\u001b[0m\u001b[1;33m(\u001b[0m\u001b[1;34m'arrays must all be same length'\u001b[0m\u001b[1;33m)\u001b[0m\u001b[1;33m\u001b[0m\u001b[0m\n\u001b[0m\u001b[0;32m   7362\u001b[0m \u001b[1;33m\u001b[0m\u001b[0m\n\u001b[0;32m   7363\u001b[0m             \u001b[1;32mif\u001b[0m \u001b[0mhave_dicts\u001b[0m\u001b[1;33m:\u001b[0m\u001b[1;33m\u001b[0m\u001b[0m\n",
      "\u001b[1;31mValueError\u001b[0m: arrays must all be same length"
     ]
    }
   ],
   "source": [
    "# Feature Importance\n",
    "tmp = pd.DataFrame({'Feature' : predictors, 'Feature importance' : rf_clf.feature_importances_})\n",
    "tmp = tmp.sort_values(by = 'Feature importance', ascending = False)\n",
    "plt.figure(figsize = (7, 4))\n",
    "plt.title('Feature Importance', fontsize = 14)\n",
    "s = sns.barplot(x = 'Feature', y = 'Feature importance', data = tmp)\n",
    "s.set_xticklabels(s.get_xticklabels(), rotation = 90)\n",
    "plt.show()"
   ]
  },
  {
   "cell_type": "code",
   "execution_count": 80,
   "metadata": {},
   "outputs": [],
   "source": [
    "predictors = [\"num_lab_procedures\",\"num_procedures\",\"number_outpatient\",\"number_emergency\", \"number_inpatient\",\"num_medications\",\n",
    "             \"medication_count\",\"number_diagnoses\", \"gender\",\"age\"]"
   ]
  },
  {
   "cell_type": "code",
   "execution_count": 15,
   "metadata": {},
   "outputs": [
    {
     "data": {
      "text/plain": [
       "xgboost.core.DMatrix"
      ]
     },
     "execution_count": 15,
     "metadata": {},
     "output_type": "execute_result"
    }
   ],
   "source": [
    "import xgboost as xgb\n",
    "\n",
    "\n",
    "#XGBOOST\n",
    "MAX_ROUNDS = 1000\n",
    "EARLY_STOP = 50\n",
    "OPT_ROUNDS = 1000\n",
    "VERBOSE_EVAL = 50\n",
    "\n",
    "# XGBoost\n",
    "dtrain = xgb.DMatrix(X_train_scaled, y_train)\n",
    "dvalid = xgb.DMatrix(X_test_scaled, y_test)\n",
    "type(dtrain)"
   ]
  },
  {
   "cell_type": "code",
   "execution_count": 16,
   "metadata": {},
   "outputs": [],
   "source": [
    "# XGBoost Parameters\n",
    "params = {}\n",
    "params['objective'] = 'binary:logistic'\n",
    "#params['objective'] = 'multi:softmax'\n",
    "#params['objective'] = 'reg:linear'\n",
    "params['eta'] = 0.039\n",
    "params['silent'] = True\n",
    "params['max_depth'] = 2\n",
    "params['subsample'] = 0.8\n",
    "params['colsample_bytree'] = 0.9\n",
    "params['eval_metric'] = 'auc'\n",
    "params['random_state'] = RANDOM_STATE\n",
    "\n",
    "watchlist = [(dtrain, 'train'), (dvalid, 'valid')]"
   ]
  },
  {
   "cell_type": "code",
   "execution_count": 17,
   "metadata": {},
   "outputs": [
    {
     "name": "stdout",
     "output_type": "stream",
     "text": [
      "[0]\ttrain-auc:0.628738\tvalid-auc:0.632381\n",
      "Multiple eval metrics have been passed: 'valid-auc' will be used for early stopping.\n",
      "\n",
      "Will train until valid-auc hasn't improved in 50 rounds.\n",
      "[50]\ttrain-auc:0.713596\tvalid-auc:0.714809\n",
      "[100]\ttrain-auc:0.723154\tvalid-auc:0.723677\n",
      "[150]\ttrain-auc:0.730313\tvalid-auc:0.730179\n",
      "[200]\ttrain-auc:0.734796\tvalid-auc:0.734343\n",
      "[250]\ttrain-auc:0.737534\tvalid-auc:0.736758\n",
      "[300]\ttrain-auc:0.740371\tvalid-auc:0.739263\n",
      "[350]\ttrain-auc:0.742701\tvalid-auc:0.741329\n",
      "[400]\ttrain-auc:0.744322\tvalid-auc:0.74287\n",
      "[450]\ttrain-auc:0.746178\tvalid-auc:0.744448\n",
      "[500]\ttrain-auc:0.747637\tvalid-auc:0.745587\n",
      "[550]\ttrain-auc:0.748767\tvalid-auc:0.746554\n",
      "[600]\ttrain-auc:0.749989\tvalid-auc:0.747433\n",
      "[650]\ttrain-auc:0.750924\tvalid-auc:0.748119\n",
      "[700]\ttrain-auc:0.751813\tvalid-auc:0.748864\n",
      "[750]\ttrain-auc:0.75263\tvalid-auc:0.749431\n",
      "[800]\ttrain-auc:0.75341\tvalid-auc:0.750107\n",
      "[850]\ttrain-auc:0.754086\tvalid-auc:0.750557\n",
      "[900]\ttrain-auc:0.754666\tvalid-auc:0.750913\n",
      "[950]\ttrain-auc:0.75539\tvalid-auc:0.751357\n",
      "[999]\ttrain-auc:0.755902\tvalid-auc:0.751646\n"
     ]
    }
   ],
   "source": [
    "xgb_clf = xgb.train(params,\n",
    "                   dtrain,\n",
    "                   MAX_ROUNDS,\n",
    "                   watchlist,\n",
    "                   early_stopping_rounds = EARLY_STOP,\n",
    "                   maximize = True,\n",
    "                   verbose_eval = VERBOSE_EVAL)"
   ]
  },
  {
   "cell_type": "code",
   "execution_count": 19,
   "metadata": {},
   "outputs": [
    {
     "name": "stdout",
     "output_type": "stream",
     "text": [
      "XGBoost - roc_auc_score:  0.7516461447594301\n"
     ]
    }
   ],
   "source": [
    "preds = xgb_clf.predict(dvalid)\n",
    "print('XGBoost - roc_auc_score: ', roc_auc_score(y_test, preds))\n",
    "\n",
    "#XGBoost - roc_auc_score:  0.7516461447594301"
   ]
  },
  {
   "cell_type": "code",
   "execution_count": 22,
   "metadata": {},
   "outputs": [
    {
     "data": {
      "image/png": "[encoded data removed]",
      "text/plain": [
       "<Figure size 1080x720 with 1 Axes>"
      ]
     },
     "metadata": {},
     "output_type": "display_data"
    }
   ],
   "source": [
    "fig, ax = plt.subplots(ncols = 1, figsize = (15, 10))\n",
    "xgb.plot_importance(xgb_clf, height = 0.5, title = 'Feature Importance - XGBoost', ax = ax, color = 'green')\n",
    "plt.show()"
   ]
  },
  {
   "cell_type": "code",
   "execution_count": 33,
   "metadata": {},
   "outputs": [
    {
     "data": {
      "image/png": "[encoded data removed]",
      "text/plain": [
       "<Figure size 864x576 with 1 Axes>"
      ]
     },
     "metadata": {},
     "output_type": "display_data"
    }
   ],
   "source": [
    "#histogram to compare auc of models\n",
    "#SVM AUC: 0.6658213006434637\n",
    "# Random Forest - roc_auc_score:  0.6745548227288356\n",
    "#XGBoost - roc_auc_score:  0.7516461447594301\n",
    "#KNN ?? say 0.7\n",
    "\n",
    "\n",
    "import numpy as np\n",
    "import pandas as pd\n",
    "import matplotlib.pyplot as plt\n",
    "\n",
    "# Bring some raw data.\n",
    "ROC_AUC_Scores = [0.6658, 0.6745, 0.7516, 0.7]\n",
    "\n",
    "# In my original code I create a series and run on that,\n",
    "# so for consistency I create a series from the list.\n",
    "freq_series = pd.Series.from_array(ROC_AUC_Scores)\n",
    "\n",
    "x_labels = [\"SVM\",\"RF\",\"XGBoost\",\"KNN\"]\n",
    "\n",
    "# Plot the figure.\n",
    "plt.figure(figsize=(12, 8))\n",
    "ax = freq_series.plot(kind='bar')\n",
    "ax.set_title('Model Comparsion _ basline models')\n",
    "ax.set_xlabel('Model Name')\n",
    "ax.set_ylabel('ROC_AUC_Score')\n",
    "ax.set_xticklabels(x_labels)\n",
    "\n",
    "\n",
    "def add_value_labels(ax, spacing=5):\n",
    "    \"\"\"Add labels to the end of each bar in a bar chart.\n",
    "\n",
    "    Arguments:\n",
    "        ax (matplotlib.axes.Axes): The matplotlib object containing the axes\n",
    "            of the plot to annotate.\n",
    "        spacing (int): The distance between the labels and the bars.\n",
    "    \"\"\"\n",
    "\n",
    "    # For each bar: Place a label\n",
    "    for rect in ax.patches:\n",
    "        # Get X and Y placement of label from rect.\n",
    "        y_value = rect.get_height()\n",
    "        x_value = rect.get_x() + rect.get_width() / 2\n",
    "\n",
    "        # Number of points between bar and label. Change to your liking.\n",
    "        space = spacing\n",
    "        # Vertical alignment for positive values\n",
    "        va = 'bottom'\n",
    "\n",
    "        # If value of bar is negative: Place label below bar\n",
    "        if y_value < 0:\n",
    "            # Invert space to place label below\n",
    "            space *= -1\n",
    "            # Vertically align label at top\n",
    "            va = 'top'\n",
    "\n",
    "        # Use Y value as label and format number with one decimal place\n",
    "        label = \"{:.4f}\".format(y_value)\n",
    "\n",
    "        # Create annotation\n",
    "        ax.annotate(\n",
    "            label,                      # Use `label` as label\n",
    "            (x_value, y_value),         # Place label at end of the bar\n",
    "            xytext=(0, space),          # Vertically shift label by `space`\n",
    "            textcoords=\"offset points\", # Interpret `xytext` as offset in points\n",
    "            ha='center',                # Horizontally center label\n",
    "            va=va)                      # Vertically align label differently for\n",
    "                                        # positive and negative values.\n",
    "\n",
    "\n",
    "# Call the function above. All the magic happens there.\n",
    "add_value_labels(ax)"
   ]
  },
  {
   "cell_type": "code",
   "execution_count": null,
   "metadata": {},
   "outputs": [],
   "source": []
  },
  {
   "cell_type": "code",
   "execution_count": null,
   "metadata": {},
   "outputs": [],
   "source": []
  }
 ],
 "metadata": {
  "kernelspec": {
   "display_name": "Python 3",
   "language": "python",
   "name": "python3"
  },
  "language_info": {
   "codemirror_mode": {
    "name": "ipython",
    "version": 3
   },
   "file_extension": ".py",
   "mimetype": "text/x-python",
   "name": "python",
   "nbconvert_exporter": "python",
   "pygments_lexer": "ipython3",
   "version": "3.6.5"
  }
 },
 "nbformat": 4,
 "nbformat_minor": 2
}
