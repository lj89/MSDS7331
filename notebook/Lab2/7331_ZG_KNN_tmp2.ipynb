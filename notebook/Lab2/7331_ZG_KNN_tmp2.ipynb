{
 "cells": [
  {
   "cell_type": "code",
   "execution_count": 1,
   "metadata": {},
   "outputs": [],
   "source": [
    "import pandas as pd\n",
    "import numpy as np\n",
    "import pandas_profiling\n",
    "import matplotlib.pyplot as plt\n",
    "get_ipython().run_line_magic('matplotlib', 'inline')\n",
    "import warnings\n",
    "warnings.filterwarnings(\"ignore\")\n",
    "import seaborn as sns\n",
    "from sklearn.linear_model import LogisticRegression\n",
    "from sklearn.model_selection import train_test_split\n",
    "from sklearn.metrics import accuracy_score\n",
    "from sklearn.metrics import f1_score\n",
    "from sklearn.metrics import roc_auc_score\n",
    "from sklearn.linear_model import SGDClassifier\n",
    "from sklearn.preprocessing import StandardScaler\n",
    "from sklearn.model_selection import StratifiedShuffleSplit \n",
    "from sklearn import metrics as mt\n",
    "from sklearn.metrics import roc_curve, auc\n",
    "import operator\n",
    "import sklearn.metrics as metrics\n",
    "from sklearn.neighbors import KNeighborsClassifier\n",
    "from sklearn.model_selection import StratifiedKFold\n",
    "from sklearn.decomposition import PCA \n",
    "from sklearn.pipeline import Pipeline\n",
    "from sklearn.model_selection import cross_val_score\n",
    "from sklearn.neighbors import KDTree"
   ]
  },
  {
   "cell_type": "markdown",
   "metadata": {},
   "source": [
    "### Functions for ROC stuff"
   ]
  },
  {
   "cell_type": "code",
   "execution_count": 2,
   "metadata": {},
   "outputs": [],
   "source": [
    "#https://stackoverflow.com/questions/25009284/how-to-plot-roc-curve-in-python\n",
    "#probs is the result of a model.predict_proba(x_test) call\n",
    "\n",
    "#This function plots an ROC curve\n",
    "def rocCurvePlot(probs, y_test1):\n",
    "    # calculate the fpr and tpr for all thresholds of the classification\n",
    "    preds = probs[:,1]\n",
    "    fpr, tpr, threshold = metrics.roc_curve(y_test1, preds)\n",
    "    roc_auc = metrics.auc(fpr, tpr)\n",
    "\n",
    "    # method I: plt\n",
    "    import matplotlib.pyplot as plt\n",
    "    plt.title('Receiver Operating Characteristic')\n",
    "    plt.plot(fpr, tpr, 'b', label = 'AUC = %0.2f' % roc_auc)\n",
    "    plt.legend(loc = 'lower right')\n",
    "    plt.plot([0, 1], [0, 1],'r--')\n",
    "    plt.xlim([0, 1])\n",
    "    plt.ylim([0, 1])\n",
    "    plt.ylabel('True Positive Rate')\n",
    "    plt.xlabel('False Positive Rate')\n",
    "    plt.show()\n",
    "# A function to find the optimal cutoff point from ROC curve\n",
    "\n",
    "#https://stackoverflow.com/questions/28719067/roc-curve-and-cut-off-point-python\n",
    "def Find_Optimal_Cutoff(target, predicted):\n",
    "    \"\"\"Parameters:\n",
    "    target : Matrix with dependent or target data, where rows are observations\n",
    "    predicted : Matrix with predicted data, where rows are observations\n",
    "    ----------\n",
    "    Return: list type, with optimal cutoff value\n",
    "    \"\"\"\n",
    "    predicted = predicted[:,1]\n",
    "    fpr, tpr, threshold = metrics.roc_curve(target, predicted)\n",
    "    i = np.arange(len(tpr)) \n",
    "    roc = pd.DataFrame({'tf' : pd.Series(tpr-(1-fpr), index=i), 'threshold' : pd.Series(threshold, index=i)})\n",
    "    roc_t = roc.ix[(roc.tf-0).abs().argsort()[:1]]\n",
    "\n",
    "    return list(roc_t['threshold']) "
   ]
  },
  {
   "cell_type": "markdown",
   "metadata": {},
   "source": [
    "### Import the data"
   ]
  },
  {
   "cell_type": "code",
   "execution_count": 3,
   "metadata": {},
   "outputs": [
    {
     "name": "stdout",
     "output_type": "stream",
     "text": [
      "Done reading data.\n"
     ]
    }
   ],
   "source": [
    "directory = 'C:/githubrepo/7331_Project/data/'\n",
    "df_zg = pd.read_csv(directory + 'Diabetic_Cleaned.csv')\n",
    "print(\"Done reading data.\")"
   ]
  },
  {
   "cell_type": "markdown",
   "metadata": {},
   "source": [
    "### Makes lists of the different types"
   ]
  },
  {
   "cell_type": "code",
   "execution_count": 4,
   "metadata": {},
   "outputs": [],
   "source": [
    "ordinal = [\"age\", \"time_in_hospital\"]\n",
    "categorical = [\"race\", \"gender\", \"admission_type_id\", \"discharge_disposition_id\",\n",
    "               \"admission_source_id\", \"medical_specialty\", \"max_glu_serum\",\n",
    "               \"A1Cresult\", \"change\", \"diabetesMed\", \"diag_1_val\", \"diag_2_val\",\n",
    "               \"diag_3_val\", \"meds_increased\"]\n",
    "continuous = [\"num_lab_procedures\", \"num_procedures\", \"num_medications\",\n",
    "              \"number_outpatient\", \"number_emergency\", \"number_inpatient\",\n",
    "              \"number_diagnoses\", \"medication_count\"]\n",
    "lcontinuous = [\"lnum_lab_procedures\", \"lnum_procedures\", \"lnum_medications\",\n",
    "              \"lnumber_outpatient\", \"lnumber_emergency\", \"lnumber_inpatient\",\n",
    "              \"lnumber_diagnoses\", \"lmedication_count\"]\n",
    "medicines = [\"metformin\", \"repaglinide\", \"nateglinide\", \"chlorpropamide\",\n",
    "             \"glimepiride\", \"acetohexamide\", \"glipizide\", \"glyburide\", \"tolbutamide\",\n",
    "             \"pioglitazone\", \"rosiglitazone\", \"acarbose\", \"miglitol\", \"troglitazone\",\n",
    "             \"tolazamide\", \"insulin\", \"glyburide-metformin\", \"glipizide-metformin\",\n",
    "             \"metformin-rosiglitazone\", \"metformin-pioglitazone\"]\n",
    "response = [\"readmitted_tf\"]"
   ]
  },
  {
   "cell_type": "markdown",
   "metadata": {},
   "source": [
    "### Dataframes of each type of data"
   ]
  },
  {
   "cell_type": "code",
   "execution_count": 5,
   "metadata": {},
   "outputs": [],
   "source": [
    "df_zg_ordinal = df_zg[ordinal]\n",
    "df_zg_categorical = df_zg[categorical]\n",
    "df_zg_continuous = df_zg[continuous]\n",
    "df_zg_lcontinuous = np.log(df_zg_continuous)\n",
    "df_zg_lcontinuous.columns = lcontinuous\n",
    "df_zg_medicines = df_zg[medicines]\n",
    "df_zg_response = df_zg[response]"
   ]
  },
  {
   "cell_type": "markdown",
   "metadata": {},
   "source": [
    "### Make Age ordinal"
   ]
  },
  {
   "cell_type": "code",
   "execution_count": 6,
   "metadata": {},
   "outputs": [],
   "source": [
    "for i in range(0, 10):\n",
    "    val = \"[\" + str(i*10) + \"-\" + str((i+1)*10) + \")\"\n",
    "    df_zg_ordinal.loc[df_zg_ordinal['age'] == val, 'age'] = i"
   ]
  },
  {
   "cell_type": "markdown",
   "metadata": {},
   "source": [
    "### Making all categorical columns categorical"
   ]
  },
  {
   "cell_type": "code",
   "execution_count": 7,
   "metadata": {},
   "outputs": [
    {
     "name": "stdout",
     "output_type": "stream",
     "text": [
      "Done\n"
     ]
    }
   ],
   "source": [
    "df_zg_categorical['admission_type_id'] = df_zg_categorical['admission_type_id'].astype(object)\n",
    "df_zg_categorical['discharge_disposition_id'] = df_zg_categorical['discharge_disposition_id'].astype(object)\n",
    "df_zg_categorical['admission_source_id'] = df_zg_categorical['admission_source_id'].astype(object)\n",
    "df_zg_categorical['admission_type_id'] = df_zg_categorical['admission_type_id'].astype(object)\n",
    "df_zg_categorical['meds_increased'] = df_zg_categorical['meds_increased'].astype(object)\n",
    "#df_zg_response['readmitted_tf'] = df_zg_response['readmitted_tf'].astype(object)\n",
    "print(\"Done\")"
   ]
  },
  {
   "cell_type": "code",
   "execution_count": 8,
   "metadata": {},
   "outputs": [
    {
     "name": "stdout",
     "output_type": "stream",
     "text": [
      "Done\n"
     ]
    }
   ],
   "source": [
    "df_zg_x = pd.concat([df_zg_ordinal, df_zg_categorical, df_zg_continuous], axis = 1)\n",
    "df_zg_num_x = pd.concat([df_zg_ordinal, df_zg_continuous], axis = 1)\n",
    "df_zg_med_x = pd.concat([df_zg_ordinal, df_zg_categorical, df_zg_continuous, df_zg_medicines], axis = 1)\n",
    "df_zg_hot_x = pd.concat([df_zg_ordinal, pd.get_dummies(df_zg_categorical), df_zg_continuous], axis = 1)\n",
    "df_zg_hot_med_x = pd.concat([df_zg_ordinal, pd.get_dummies(df_zg_categorical), df_zg_continuous, pd.get_dummies(df_zg_medicines)], axis = 1)\n",
    "df_zg_y = df_zg_response\n",
    "print(\"Done\")"
   ]
  },
  {
   "cell_type": "markdown",
   "metadata": {},
   "source": [
    "### Function for setting up the training, validation, and test sets"
   ]
  },
  {
   "cell_type": "code",
   "execution_count": 9,
   "metadata": {},
   "outputs": [],
   "source": [
    "def tvt_split(df_x, df_y, valid_size, t_size, seed):\n",
    "    #doing the math because we have to split 2 seperate times\n",
    "    valid_size = 100*valid_size/(100*(1-t_size))\n",
    "    #First splitting out the test set\n",
    "    x_train, x_test, y_train, y_test = train_test_split(df_x, df_y, test_size = t_size, random_state=seed)\n",
    "    #Splitting the training set into train/validate\n",
    "    x_train, x_valid, y_train, y_valid = train_test_split(x_train, y_train, test_size = valid_size, random_state=seed)\n",
    "\n",
    "    #Reseting allof the indices\n",
    "    x_train.reset_index()\n",
    "    y_train.reset_index()\n",
    "    x_test.reset_index()\n",
    "    y_test.reset_index()\n",
    "    x_valid.reset_index()\n",
    "    y_valid.reset_index()\n",
    "\n",
    "    return x_train, x_valid, x_test, y_train, y_valid, y_test"
   ]
  },
  {
   "cell_type": "code",
   "execution_count": 10,
   "metadata": {},
   "outputs": [
    {
     "data": {
      "text/plain": [
       "((61059, 251), (20353, 251), (20354, 251))"
      ]
     },
     "execution_count": 10,
     "metadata": {},
     "output_type": "execute_result"
    }
   ],
   "source": [
    "x_train, x_valid, x_test, y_train, y_valid, y_test = tvt_split(df_zg_hot_med_x, df_zg_y, 0.2, 0.2, 7)\n",
    "\n",
    "#Print out the shapes of the train/valid/test sets\n",
    "x_train.shape, x_valid.shape, x_test.shape"
   ]
  },
  {
   "cell_type": "markdown",
   "metadata": {},
   "source": [
    "# KNN - ...JK not yet"
   ]
  },
  {
   "cell_type": "code",
   "execution_count": 12,
   "metadata": {},
   "outputs": [
    {
     "name": "stderr",
     "output_type": "stream",
     "text": [
      "C:\\ProgramData\\Anaconda3\\envs\\DS7331_35r\\lib\\site-packages\\sklearn\\preprocessing\\data.py:645: DataConversionWarning: Data with input dtype uint8, int64 were all converted to float64 by StandardScaler.\n",
      "  return self.partial_fit(X, y)\n"
     ]
    },
    {
     "name": "stdout",
     "output_type": "stream",
     "text": [
      "Wall time: 875 ms\n"
     ]
    },
    {
     "name": "stderr",
     "output_type": "stream",
     "text": [
      "C:\\ProgramData\\Anaconda3\\envs\\DS7331_35r\\lib\\site-packages\\sklearn\\base.py:464: DataConversionWarning: Data with input dtype uint8, int64 were all converted to float64 by StandardScaler.\n",
      "  return self.fit(X, **fit_params).transform(X)\n",
      "C:\\ProgramData\\Anaconda3\\envs\\DS7331_35r\\lib\\site-packages\\ipykernel_launcher.py:12: DataConversionWarning: Data with input dtype uint8, int64 were all converted to float64 by StandardScaler.\n",
      "  if sys.path[0] == '':\n",
      "C:\\ProgramData\\Anaconda3\\envs\\DS7331_35r\\lib\\site-packages\\ipykernel_launcher.py:13: DataConversionWarning: Data with input dtype uint8, int64 were all converted to float64 by StandardScaler.\n",
      "  del sys.path[0]\n"
     ]
    }
   ],
   "source": [
    "%%time\n",
    "#Create variables for just this operation\n",
    "x_t = x_train\n",
    "x_v = x_valid\n",
    "y_t = y_train\n",
    "y_v = y_valid\n",
    "\n",
    "# We will fill this with predictions\n",
    "yhat = np.zeros(y_v.shape)\n",
    "\n",
    "scl = StandardScaler()\n",
    "x_t = scl.fit_transform(x_train)\n",
    "x_v = scl.transform(x_valid)\n",
    "x_tst = scl.transform(x_test)"
   ]
  },
  {
   "cell_type": "markdown",
   "metadata": {},
   "source": [
    "### PCA on scaled values"
   ]
  },
  {
   "cell_type": "code",
   "execution_count": 31,
   "metadata": {},
   "outputs": [
    {
     "data": {
      "text/plain": [
       "[<matplotlib.lines.Line2D at 0x1cf40985a20>]"
      ]
     },
     "execution_count": 31,
     "metadata": {},
     "output_type": "execute_result"
    },
    {
     "data": {
      "image/png": "[encoded data removed]",
      "text/plain": [
       "<Figure size 432x288 with 1 Axes>"
      ]
     },
     "metadata": {
      "needs_background": "light"
     },
     "output_type": "display_data"
    }
   ],
   "source": [
    "#Maximum number of components to show\n",
    "comp = 50\n",
    "pca = PCA(n_components = comp)\n",
    "pca.fit(x_t)\n",
    "\n",
    "#The amount of variance that each PC explains\n",
    "var = pca.explained_variance_ratio_\n",
    "\n",
    "#Cumulative Variance explains\n",
    "var1 = np.cumsum(np.round(pca.explained_variance_ratio_, decimals=4)*100)\n",
    "\n",
    "#Making there be lots of ticks on the x axis\n",
    "plt.xticks(np.arange(0, comp+1, 2.0))\n",
    "plt.plot(var1)"
   ]
  },
  {
   "cell_type": "markdown",
   "metadata": {},
   "source": [
    "### PCA just looking at first 3"
   ]
  },
  {
   "cell_type": "code",
   "execution_count": 37,
   "metadata": {},
   "outputs": [
    {
     "data": {
      "text/plain": [
       "<matplotlib.axes._subplots.AxesSubplot at 0x1cf40ad1ef0>"
      ]
     },
     "execution_count": 37,
     "metadata": {},
     "output_type": "execute_result"
    },
    {
     "data": {
      "image/png": "[encoded data removed]",
      "text/plain": [
       "<Figure size 432x288 with 1 Axes>"
      ]
     },
     "metadata": {
      "needs_background": "light"
     },
     "output_type": "display_data"
    }
   ],
   "source": [
    "pca1 = PCA(n_components = 3)\n",
    "principalComponents = pca1.fit_transform(x_t)\n",
    "principalDf = pd.DataFrame(data = principalComponents, columns = ['PC1', 'PC2', 'PC3'])\n",
    "\n",
    "#Creating the dataframe for the scree plot\n",
    "x_t_scree = pd.DataFrame( {'Variance Explained':pca1.explained_variance_ratio_,'PC':['PC1','PC2','PC3']} )\n",
    "sns.barplot(x = 'PC', y = \"Variance Explained\", data = x_t_scree)"
   ]
  },
  {
   "cell_type": "markdown",
   "metadata": {},
   "source": [
    "### Amount of correlation, after doing hot encoding, sorted"
   ]
  },
  {
   "cell_type": "code",
   "execution_count": 13,
   "metadata": {
    "scrolled": true
   },
   "outputs": [
    {
     "data": {
      "text/plain": [
       "discharge_disposition_id_11                         -0.118405\n",
       "discharge_disposition_id_1                          -0.116581\n",
       "meds_increased_0                                    -0.099734\n",
       "admission_type_id_3                                 -0.091221\n",
       "diabetesMed_No                                      -0.083035\n",
       "admission_source_id_1                               -0.077781\n",
       "admission_source_id_2                               -0.076590\n",
       "admission_type_id_4                                 -0.056889\n",
       "discharge_disposition_id_14                         -0.049028\n",
       "change_No                                           -0.046008\n",
       "discharge_disposition_id_13                         -0.044504\n",
       "race_Unspecified                                    -0.042900\n",
       "medical_specialty_ObstetricsandGynecology           -0.040739\n",
       "diag_3_val_None                                     -0.038082\n",
       "medical_specialty_Orthopedics-Reconstructive        -0.033022\n",
       "medical_specialty_Surgery-Cardiovascular/Thoracic   -0.031501\n",
       "medical_specialty_Surgery-Neuro                     -0.031378\n",
       "diag_1_val_Musculoskeletal                          -0.031374\n",
       "medical_specialty_Orthopedics                       -0.028303\n",
       "medical_specialty_Pediatrics-Endocrinology          -0.024597\n",
       "diag_1_val_Neoplasms                                -0.024576\n",
       "discharge_disposition_id_18                         -0.023340\n",
       "diag_2_val_Other                                    -0.023213\n",
       "admission_type_id_5                                 -0.021907\n",
       "diag_2_val_Injury                                   -0.021446\n",
       "medical_specialty_InternalMedicine                  -0.021123\n",
       "diag_2_val_None                                     -0.020642\n",
       "diag_2_val_Diabeties                                -0.020544\n",
       "A1Cresult_Norm                                      -0.019974\n",
       "gender_Male                                         -0.017980\n",
       "                                                       ...   \n",
       "admission_type_id_6                                  0.028701\n",
       "race_Caucasian                                       0.029207\n",
       "diag_1_val_Diabeties                                 0.029458\n",
       "age                                                  0.030403\n",
       "discharge_disposition_id_4                           0.031131\n",
       "discharge_disposition_id_5                           0.032469\n",
       "discharge_disposition_id_6                           0.032873\n",
       "admission_type_id_1                                  0.036188\n",
       "medical_specialty_Unspecified                        0.038505\n",
       "change_Ch                                            0.046008\n",
       "medication_count                                     0.051396\n",
       "discharge_disposition_id_8                           0.056425\n",
       "discharge_disposition_id_9                           0.059106\n",
       "admission_type_id_2                                  0.065573\n",
       "number_outpatient                                    0.082142\n",
       "diabetesMed_Yes                                      0.083035\n",
       "admission_source_id_7                                0.086005\n",
       "meds_increased_1                                     0.099734\n",
       "num_medications                                      0.105724\n",
       "number_diagnoses                                     0.112564\n",
       "admission_source_id_25                               0.113214\n",
       "time_in_hospital                                     0.114739\n",
       "admission_source_id_10                               0.116034\n",
       "number_emergency                                     0.121392\n",
       "num_lab_procedures                                   0.138102\n",
       "admission_type_id_7                                  0.151840\n",
       "discharge_disposition_id_7                           0.171097\n",
       "discharge_disposition_id_23                          0.172555\n",
       "number_inpatient                                     0.217194\n",
       "readmitted_tf                                        1.000000\n",
       "Name: readmitted_tf, Length: 185, dtype: float64"
      ]
     },
     "execution_count": 13,
     "metadata": {},
     "output_type": "execute_result"
    }
   ],
   "source": [
    "df_zg_corr = pd.concat([df_zg_ordinal, pd.get_dummies(df_zg_categorical), df_zg_continuous, df_zg_response], axis = 1)\n",
    "cors = df_zg_corr.corr()\n",
    "cors = cors.sort_values(by=['readmitted_tf'])\n",
    "cors.readmitted_tf"
   ]
  },
  {
   "cell_type": "markdown",
   "metadata": {},
   "source": [
    "### Make dataframe of columns that had correlation >= |0.1|"
   ]
  },
  {
   "cell_type": "code",
   "execution_count": 14,
   "metadata": {},
   "outputs": [
    {
     "name": "stderr",
     "output_type": "stream",
     "text": [
      "C:\\ProgramData\\Anaconda3\\envs\\DS7331_35r\\lib\\site-packages\\sklearn\\preprocessing\\data.py:645: DataConversionWarning: Data with input dtype int64 were all converted to float64 by StandardScaler.\n",
      "  return self.partial_fit(X, y)\n",
      "C:\\ProgramData\\Anaconda3\\envs\\DS7331_35r\\lib\\site-packages\\sklearn\\base.py:464: DataConversionWarning: Data with input dtype int64 were all converted to float64 by StandardScaler.\n",
      "  return self.fit(X, **fit_params).transform(X)\n"
     ]
    }
   ],
   "source": [
    "nm = [\"num_medications\", \"number_diagnoses\", \"admission_source_id\", \"time_in_hospital\",\n",
    "      \"admission_source_id\", \"number_emergency\", \"num_lab_procedures\", \"admission_type_id\",\n",
    "      \"number_inpatient\", \"discharge_disposition_id\"]\n",
    "df_zg_minPCA = df_zg[nm]\n",
    "df_zg_minPCA = pd.get_dummies(df_zg_minPCA)\n",
    "\n",
    "scl = StandardScaler()\n",
    "df_zg_PCA_scl = scl.fit_transform(df_zg_minPCA)"
   ]
  },
  {
   "cell_type": "markdown",
   "metadata": {},
   "source": [
    "### Do PCA on that smaller dataset"
   ]
  },
  {
   "cell_type": "code",
   "execution_count": 15,
   "metadata": {},
   "outputs": [
    {
     "data": {
      "text/plain": [
       "[<matplotlib.lines.Line2D at 0x21c8082abe0>]"
      ]
     },
     "execution_count": 15,
     "metadata": {},
     "output_type": "execute_result"
    },
    {
     "data": {
      "image/png": "[encoded data removed]",
      "text/plain": [
       "<Figure size 432x288 with 1 Axes>"
      ]
     },
     "metadata": {
      "needs_background": "light"
     },
     "output_type": "display_data"
    }
   ],
   "source": [
    "#Maximum number of components to show\n",
    "comp = 10\n",
    "pca = PCA()\n",
    "pca.fit(df_zg_PCA_scl)\n",
    "\n",
    "#The amount of variance that each PC explains\n",
    "var = pca.explained_variance_ratio_\n",
    "\n",
    "#Cumulative Variance explains\n",
    "var1 = np.cumsum(np.round(pca.explained_variance_ratio_, decimals=4)*100)\n",
    "\n",
    "#Making there be lots of ticks on the x axis\n",
    "plt.xticks(np.arange(0, comp+1, 2.0))\n",
    "plt.plot(var1)"
   ]
  },
  {
   "cell_type": "markdown",
   "metadata": {},
   "source": [
    "# KNN with variables based on correlation >= |0.1|"
   ]
  },
  {
   "cell_type": "markdown",
   "metadata": {},
   "source": [
    "### Do the split again, just for safety"
   ]
  },
  {
   "cell_type": "code",
   "execution_count": 48,
   "metadata": {},
   "outputs": [
    {
     "name": "stdout",
     "output_type": "stream",
     "text": [
      "Wall time: 55.8 ms\n"
     ]
    },
    {
     "name": "stderr",
     "output_type": "stream",
     "text": [
      "C:\\ProgramData\\Anaconda3\\envs\\DS7331_35r\\lib\\site-packages\\sklearn\\preprocessing\\data.py:645: DataConversionWarning: Data with input dtype int64 were all converted to float64 by StandardScaler.\n",
      "  return self.partial_fit(X, y)\n",
      "C:\\ProgramData\\Anaconda3\\envs\\DS7331_35r\\lib\\site-packages\\sklearn\\base.py:464: DataConversionWarning: Data with input dtype int64 were all converted to float64 by StandardScaler.\n",
      "  return self.fit(X, **fit_params).transform(X)\n",
      "C:\\ProgramData\\Anaconda3\\envs\\DS7331_35r\\lib\\site-packages\\ipykernel_launcher.py:18: DataConversionWarning: Data with input dtype int64 were all converted to float64 by StandardScaler.\n",
      "C:\\ProgramData\\Anaconda3\\envs\\DS7331_35r\\lib\\site-packages\\ipykernel_launcher.py:19: DataConversionWarning: Data with input dtype int64 were all converted to float64 by StandardScaler.\n"
     ]
    }
   ],
   "source": [
    "%%time\n",
    "x_train, x_valid, x_test, y_train, y_valid, y_test = tvt_split(df_zg_minPCA, df_zg_y, 0.2, 0.2, 7)\n",
    "\n",
    "#Print out the shapes of the train/valid/test sets\n",
    "x_train.shape, x_valid.shape, x_test.shape\n",
    "\n",
    "#Create variables for just this operation\n",
    "x_t = x_train\n",
    "x_v = x_valid\n",
    "y_t = y_train\n",
    "y_v = y_valid\n",
    "y_tst = y_test\n",
    "\n",
    "# We will fill this with predictions\n",
    "yhat = np.zeros(y_v.shape)\n",
    "\n",
    "scl = StandardScaler()\n",
    "x_t = scl.fit_transform(x_train)\n",
    "x_v = scl.transform(x_valid)\n",
    "x_tst = scl.transform(x_test)"
   ]
  },
  {
   "cell_type": "markdown",
   "metadata": {
    "scrolled": true
   },
   "source": [
    "### Doing the KNN"
   ]
  },
  {
   "cell_type": "code",
   "execution_count": 61,
   "metadata": {},
   "outputs": [
    {
     "name": "stderr",
     "output_type": "stream",
     "text": [
      "C:\\ProgramData\\Anaconda3\\envs\\DS7331_35r\\lib\\site-packages\\ipykernel_launcher.py:3: DataConversionWarning: A column-vector y was passed when a 1d array was expected. Please change the shape of y to (n_samples, ), for example using ravel().\n",
      "  This is separate from the ipykernel package so we can avoid doing imports until\n"
     ]
    },
    {
     "name": "stdout",
     "output_type": "stream",
     "text": [
      "Wall time: 3.02 s\n"
     ]
    }
   ],
   "source": [
    "%%time\n",
    "# get a handle to the classifier object, which defines the type\n",
    "clf = KNeighborsClassifier(n_neighbors = 27)\n",
    "clf.fit(x_t, y_t)"
   ]
  },
  {
   "cell_type": "code",
   "execution_count": 62,
   "metadata": {},
   "outputs": [
    {
     "data": {
      "image/png": "[encoded data removed]",
      "text/plain": [
       "<Figure size 432x288 with 1 Axes>"
      ]
     },
     "metadata": {
      "needs_background": "light"
     },
     "output_type": "display_data"
    },
    {
     "name": "stdout",
     "output_type": "stream",
     "text": [
      "F1: 0.6453246913559881 ACC: 0.6447698128040092 AUC: 0.7067714813237308 \n",
      "Confusion Matrix\n",
      " [[7101 3914]\n",
      " [3316 6022]]\n",
      "Wall time: 18.7 s\n"
     ]
    }
   ],
   "source": [
    "%%time\n",
    "#Find the optimal cutoff point\n",
    "y_pred_cut = clf.predict_proba(x_t)\n",
    "cutoff = Find_Optimal_Cutoff(y_t, y_pred_cut)\n",
    "\n",
    "#Prediction\n",
    "#y_pred = model.predict(x_test_scaled)\n",
    "y_pred_probs = clf.predict_proba(x_v)\n",
    "y_pred = np.where(y_pred_probs >= cutoff, 1, 0)\n",
    "y_pred = y_pred[:,1]\n",
    "\n",
    "rocCurvePlot(y_pred_probs, y_v)\n",
    "\n",
    "#Accuracy metrics\n",
    "f1 = f1_score(y_v, y_pred, average = 'weighted')\n",
    "acc = accuracy_score(y_v, y_pred)\n",
    "roc = roc_auc_score(y_v, y_pred_probs[:,1])\n",
    "#roc = roc_auc_score(y_v, clf.predict_proba(x_v)[:,1])\n",
    "conf = mt.confusion_matrix(y_v, y_pred)\n",
    "print(\"F1:\", f1, \"ACC:\", acc, \"AUC:\", roc, \"\\nConfusion Matrix\\n\", conf)"
   ]
  },
  {
   "cell_type": "code",
   "execution_count": null,
   "metadata": {},
   "outputs": [],
   "source": []
  },
  {
   "cell_type": "markdown",
   "metadata": {},
   "source": [
    "# KNN Tuning on reduced set"
   ]
  },
  {
   "cell_type": "markdown",
   "metadata": {},
   "source": [
    "### Testing 1-50 (odd values)\n",
    "Creates the model for each of the K's in that range and then saves the AUC for the train and validation sets."
   ]
  },
  {
   "cell_type": "code",
   "execution_count": null,
   "metadata": {
    "scrolled": true
   },
   "outputs": [],
   "source": [
    "%%time\n",
    "# creating odd list of K for KNN\n",
    "myList = list(range(1,50))\n",
    "# subsetting just the odd ones\n",
    "neighbors = filter(lambda x: x % 2 != 0, myList)\n",
    "\n",
    "# empty list that will hold cv scores\n",
    "scores = pd.DataFrame(columns = [\"K\", \"AUC_Train\", \"AUC_Valid\"])\n",
    "\n",
    "i = 0\n",
    "for k in neighbors:\n",
    "    clf = KNeighborsClassifier(n_neighbors = k)\n",
    "    clf.fit(x_t, y_t)\n",
    "\n",
    "    #AUC\n",
    "    auc_t = roc_auc_score(y_t, clf.predict_proba(x_t)[:,1])\n",
    "    auc_v = roc_auc_score(y_v, clf.predict_proba(x_v)[:,1])\n",
    "    scores.loc[i] = [k, auc_t, auc_v]\n",
    "    i = i+1"
   ]
  },
  {
   "cell_type": "markdown",
   "metadata": {},
   "source": [
    "### Testing 50-70 (odd values)\n",
    "Creates the model for each of the K's in that range and then saves the AUC for the train and validation set."
   ]
  },
  {
   "cell_type": "code",
   "execution_count": null,
   "metadata": {
    "scrolled": true
   },
   "outputs": [],
   "source": [
    "%%time\n",
    "# creating odd list of K for KNN\n",
    "myList = list(range(50,70))\n",
    "# subsetting just the odd ones\n",
    "neighbors = filter(lambda x: x % 2 != 0, myList)\n",
    "\n",
    "# empty list that will hold cv scores\n",
    "scores1 = pd.DataFrame(columns = [\"K\", \"AUC_Train\", \"AUC_Valid\"])\n",
    "\n",
    "i = 0\n",
    "for k in neighbors:\n",
    "    clf = KNeighborsClassifier(n_neighbors = k)\n",
    "    clf.fit(x_t, y_t)\n",
    "\n",
    "    #AUC\n",
    "    auc_t = roc_auc_score(y_t, clf.predict_proba(x_t)[:,1])\n",
    "    auc_v = roc_auc_score(y_v, clf.predict_proba(x_v)[:,1])\n",
    "    scores1.loc[i] = [k, auc_t, auc_v]\n",
    "    i = i+1"
   ]
  },
  {
   "cell_type": "markdown",
   "metadata": {},
   "source": [
    "### Plotting K's 1 - 70 (odd values)\n",
    "Using the validation set in order to see how large of a k to use. From the plot below we can see the they are asymptotically approaching 0.73. Because this is a large dataset (100k+ rows) we can use a little larger k and we will not run a big risk of overfitting. Based on the data below a K of 15 would be a good choice."
   ]
  },
  {
   "cell_type": "code",
   "execution_count": 45,
   "metadata": {},
   "outputs": [
    {
     "data": {
      "image/png": "[encoded data removed]",
      "text/plain": [
       "<Figure size 432x288 with 1 Axes>"
      ]
     },
     "metadata": {
      "needs_background": "light"
     },
     "output_type": "display_data"
    }
   ],
   "source": [
    "df_scores_0_70 = pd.concat([scores, scores1])\n",
    "df_scores_0_70.columns = [\"K\", \"AUC_Train\", \"AUC_Valid\"]\n",
    "\n",
    "plt.plot(df_scores_0_70.K, df_scores_0_70.AUC_Valid)\n",
    "plt.plot(df_scores_0_70.K, df_scores_0_70.AUC_Train)\n",
    "\n",
    "plt.xlabel('K') \n",
    "plt.ylabel('AUC') \n",
    "plt.legend()\n",
    "plt.title('Training vs Validation AUC') \n",
    "\n",
    "plt.show()"
   ]
  },
  {
   "cell_type": "markdown",
   "metadata": {},
   "source": [
    "### KNN with the above parameters\n",
    "Now that we have tuned the values for K, we do the prediction on the test set. Below shows the ROC curve with all of the accuracy metrics and confusion matrix."
   ]
  },
  {
   "cell_type": "code",
   "execution_count": 46,
   "metadata": {},
   "outputs": [
    {
     "name": "stderr",
     "output_type": "stream",
     "text": [
      "C:\\ProgramData\\Anaconda3\\envs\\DS7331_35r\\lib\\site-packages\\ipykernel_launcher.py:2: DataConversionWarning: A column-vector y was passed when a 1d array was expected. Please change the shape of y to (n_samples, ), for example using ravel().\n",
      "  \n"
     ]
    },
    {
     "name": "stdout",
     "output_type": "stream",
     "text": [
      "Wall time: 2.77 s\n"
     ]
    }
   ],
   "source": [
    "%%time\n",
    "clf = KNeighborsClassifier(n_neighbors = 15)\n",
    "clf.fit(x_t, y_t)"
   ]
  },
  {
   "cell_type": "code",
   "execution_count": 56,
   "metadata": {},
   "outputs": [
    {
     "data": {
      "image/png": "[encoded data removed]",
      "text/plain": [
       "<Figure size 432x288 with 1 Axes>"
      ]
     },
     "metadata": {
      "needs_background": "light"
     },
     "output_type": "display_data"
    },
    {
     "name": "stdout",
     "output_type": "stream",
     "text": [
      "F1: 0.6372 ACC: 0.6367 AUC: 0.6958\n",
      "Specificity: 0.6342 Sensitivity: 0.6389\n",
      "\n",
      "Confusion Matrix\n",
      " [[7008 3961]\n",
      " [3433 5952]]\n",
      "Wall time: 13 s\n"
     ]
    }
   ],
   "source": [
    "%%time\n",
    "#Find the optimal cutoff point\n",
    "y_pred_cut = clf.predict_proba(x_t)\n",
    "cutoff = Find_Optimal_Cutoff(y_t, y_pred_cut)\n",
    "\n",
    "#Prediction\n",
    "y_pred_probs = clf.predict_proba(x_tst)\n",
    "y_pred = np.where(y_pred_probs >= cutoff, 1, 0)\n",
    "y_pred = y_pred[:,1]\n",
    "\n",
    "rocCurvePlot(y_pred_probs, y_tst)\n",
    "\n",
    "#Accuracy metrics\n",
    "f1 = f1_score(y_tst, y_pred, average = 'weighted')\n",
    "acc = accuracy_score(y_tst, y_pred)\n",
    "auc = roc_auc_score(y_tst, y_pred_probs[:,1])\n",
    "conf = mt.confusion_matrix(y_tst, y_pred)\n",
    "sens = conf[0,0]/(conf[0,0] + conf[0,1])\n",
    "spec = conf[1,1]/(conf[1,0] + conf[1,1])\n",
    "print(\"F1:\", round(f1,4), \"ACC:\", round(acc,4), \"AUC:\", round(auc,4))\n",
    "print(\"Specificity:\", round(spec, 4), \"Sensitivity:\", round(sens, 4))\n",
    "print(\"\\nConfusion Matrix\\n\", conf)"
   ]
  }
 ],
 "metadata": {
  "kernelspec": {
   "display_name": "Python 3",
   "language": "python",
   "name": "python3"
  },
  "language_info": {
   "codemirror_mode": {
    "name": "ipython",
    "version": 3
   },
   "file_extension": ".py",
   "mimetype": "text/x-python",
   "name": "python",
   "nbconvert_exporter": "python",
   "pygments_lexer": "ipython3",
   "version": "3.7.3"
  }
 },
 "nbformat": 4,
 "nbformat_minor": 2
}
